{
 "cells": [
  {
   "cell_type": "markdown",
   "id": "a1b76a5a",
   "metadata": {},
   "source": [
    "# Exceptions\n",
    " - Not all data is guaranteed to match our assumptions\n",
    " - When a section of python code cannot be executed an exception will be thrown\n",
    " - If this is an anticipated error we might catch that exception\n",
    " - We can also create our own Exceptions when values are not what they should be\n",
    "\n",
    "The general syntax is:\n",
    "```python\n",
    "try:\n",
    "    statement()\n",
    "except ExceptionType:\n",
    "    handling_statement()\n",
    "```\n"
   ]
  },
  {
   "cell_type": "markdown",
   "id": "2dddbc2a",
   "metadata": {},
   "source": [
    "# Say we wanted to implement the average by ourselves\n",
    "\n",
    "##  Introduction to exceptions"
   ]
  },
  {
   "cell_type": "code",
   "execution_count": null,
   "id": "be1d09a2",
   "metadata": {},
   "outputs": [
    {
     "name": "stdout",
     "output_type": "stream",
     "text": [
      "2.5\n"
     ]
    },
    {
     "ename": "ZeroDivisionError",
     "evalue": "division by zero",
     "output_type": "error",
     "traceback": [
      "\u001b[31m---------------------------------------------------------------------------\u001b[39m",
      "\u001b[31mZeroDivisionError\u001b[39m                         Traceback (most recent call last)",
      "\u001b[36mCell\u001b[39m\u001b[36m \u001b[39m\u001b[32mIn[2]\u001b[39m\u001b[32m, line 5\u001b[39m\n\u001b[32m      2\u001b[39m     \u001b[38;5;28;01mreturn\u001b[39;00m \u001b[38;5;28msum\u001b[39m(numbers) / \u001b[38;5;28mlen\u001b[39m(numbers)\n\u001b[32m      4\u001b[39m \u001b[38;5;28mprint\u001b[39m(average([\u001b[32m1\u001b[39m,\u001b[32m2\u001b[39m,\u001b[32m3\u001b[39m,\u001b[32m4\u001b[39m]))\n\u001b[32m----> \u001b[39m\u001b[32m5\u001b[39m \u001b[38;5;28mprint\u001b[39m(\u001b[43maverage\u001b[49m\u001b[43m(\u001b[49m\u001b[43m[\u001b[49m\u001b[43m]\u001b[49m\u001b[43m)\u001b[49m)\n",
      "\u001b[36mCell\u001b[39m\u001b[36m \u001b[39m\u001b[32mIn[2]\u001b[39m\u001b[32m, line 2\u001b[39m, in \u001b[36maverage\u001b[39m\u001b[34m(numbers)\u001b[39m\n\u001b[32m      1\u001b[39m \u001b[38;5;28;01mdef\u001b[39;00m\u001b[38;5;250m \u001b[39m\u001b[34maverage\u001b[39m(numbers):\n\u001b[32m----> \u001b[39m\u001b[32m2\u001b[39m     \u001b[38;5;28;01mreturn\u001b[39;00m \u001b[38;5;28;43msum\u001b[39;49m\u001b[43m(\u001b[49m\u001b[43mnumbers\u001b[49m\u001b[43m)\u001b[49m\u001b[43m \u001b[49m\u001b[43m/\u001b[49m\u001b[43m \u001b[49m\u001b[38;5;28;43mlen\u001b[39;49m\u001b[43m(\u001b[49m\u001b[43mnumbers\u001b[49m\u001b[43m)\u001b[49m\n",
      "\u001b[31mZeroDivisionError\u001b[39m: division by zero"
     ]
    }
   ],
   "source": [
    "def naive_average(numbers):\n",
    "    return sum(numbers) / len(numbers)\n",
    "\n",
    "print(naive_average([1,2,3,4]))\n",
    "print(naive_average([]))\n",
    "\n",
    "# create safe average\n",
    "def safe_average(numbers):\n",
    "    try:\n",
    "        return sum(numbers) / len(numbers)\n",
    "    except ZeroDivisionError:\n",
    "        return 0\n",
    "    except Exception as e:\n",
    "        raise ValueError(\"An error occurred while calculating the average\") from e\n",
    "\n",
    "print(safe_average([1,2,3,4]))\n",
    "print(safe_average([]))\n"
   ]
  },
  {
   "cell_type": "markdown",
   "id": "5fe809bc",
   "metadata": {},
   "source": [
    "## Reraising Meaningful exceptions"
   ]
  },
  {
   "cell_type": "code",
   "execution_count": 16,
   "id": "2ab256b3",
   "metadata": {},
   "outputs": [
    {
     "name": "stdout",
     "output_type": "stream",
     "text": [
      "25.1\n"
     ]
    },
    {
     "ename": "ValueError",
     "evalue": "Determining maximum: Could not convert '2020-05-21' to float at index 2",
     "output_type": "error",
     "traceback": [
      "\u001b[31m---------------------------------------------------------------------------\u001b[39m",
      "\u001b[31mValueError\u001b[39m                                Traceback (most recent call last)",
      "\u001b[36mCell\u001b[39m\u001b[36m \u001b[39m\u001b[32mIn[16]\u001b[39m\u001b[32m, line 19\u001b[39m, in \u001b[36minformative_parsed_max\u001b[39m\u001b[34m(values)\u001b[39m\n\u001b[32m     18\u001b[39m \u001b[38;5;28;01mtry\u001b[39;00m:\n\u001b[32m---> \u001b[39m\u001b[32m19\u001b[39m     parsed_value = \u001b[38;5;28;43mfloat\u001b[39;49m\u001b[43m(\u001b[49m\u001b[43mvalue\u001b[49m\u001b[43m)\u001b[49m\n\u001b[32m     20\u001b[39m     \u001b[38;5;28;01mif\u001b[39;00m max_value \u001b[38;5;129;01mis\u001b[39;00m \u001b[38;5;28;01mNone\u001b[39;00m \u001b[38;5;129;01mor\u001b[39;00m parsed_value > max_value:\n",
      "\u001b[31mValueError\u001b[39m: could not convert string to float: '2020-05-21'",
      "\nThe above exception was the direct cause of the following exception:\n",
      "\u001b[31mValueError\u001b[39m                                Traceback (most recent call last)",
      "\u001b[36mCell\u001b[39m\u001b[36m \u001b[39m\u001b[32mIn[16]\u001b[39m\u001b[32m, line 27\u001b[39m\n\u001b[32m     24\u001b[39m     \u001b[38;5;28;01mreturn\u001b[39;00m max_value\n\u001b[32m     26\u001b[39m \u001b[38;5;28mprint\u001b[39m(informative_parsed_max(temperatures))\n\u001b[32m---> \u001b[39m\u001b[32m27\u001b[39m \u001b[38;5;28mprint\u001b[39m(\u001b[43minformative_parsed_max\u001b[49m\u001b[43m(\u001b[49m\u001b[43mtemperatures_with_error\u001b[49m\u001b[43m)\u001b[49m)\n",
      "\u001b[36mCell\u001b[39m\u001b[36m \u001b[39m\u001b[32mIn[16]\u001b[39m\u001b[32m, line 23\u001b[39m, in \u001b[36minformative_parsed_max\u001b[39m\u001b[34m(values)\u001b[39m\n\u001b[32m     21\u001b[39m             max_value = parsed_value\n\u001b[32m     22\u001b[39m     \u001b[38;5;28;01mexcept\u001b[39;00m \u001b[38;5;167;01mValueError\u001b[39;00m \u001b[38;5;28;01mas\u001b[39;00m e:\n\u001b[32m---> \u001b[39m\u001b[32m23\u001b[39m         \u001b[38;5;28;01mraise\u001b[39;00m \u001b[38;5;167;01mValueError\u001b[39;00m(\u001b[33mf\u001b[39m\u001b[33m\"\u001b[39m\u001b[33mDetermining maximum: Could not convert \u001b[39m\u001b[33m'\u001b[39m\u001b[38;5;132;01m{\u001b[39;00mvalue\u001b[38;5;132;01m}\u001b[39;00m\u001b[33m'\u001b[39m\u001b[33m to float at index \u001b[39m\u001b[38;5;132;01m{\u001b[39;00mi\u001b[38;5;132;01m}\u001b[39;00m\u001b[33m\"\u001b[39m) \u001b[38;5;28;01mfrom\u001b[39;00m\u001b[38;5;250m \u001b[39m\u001b[34;01me\u001b[39;00m\n\u001b[32m     24\u001b[39m \u001b[38;5;28;01mreturn\u001b[39;00m max_value\n",
      "\u001b[31mValueError\u001b[39m: Determining maximum: Could not convert '2020-05-21' to float at index 2"
     ]
    }
   ],
   "source": [
    "def naive_parsed_max(values):\n",
    "    max_value = None\n",
    "    for value in values:\n",
    "        parsed_value = float(value)\n",
    "        if max_value is None or parsed_value > max_value:\n",
    "            max_value = parsed_value\n",
    "    return max_value\n",
    "\n",
    "temperatures = [\"23.5\", \"25.1\", \"22.8\", \"24.0\"]\n",
    "#print(naive_parsed_max(temperatures))\n",
    "\n",
    "temperatures_with_error = [\"23.5\", \"25.1\", \"2020-05-21\", \"24.0\"]\n",
    "#print(naive_parsed_max(temperatures_with_error))\n",
    "\n",
    "def informative_parsed_max(values):\n",
    "    max_value = None\n",
    "    for i, value in enumerate(values):\n",
    "        try:\n",
    "            parsed_value = float(value)\n",
    "            if max_value is None or parsed_value > max_value:\n",
    "                max_value = parsed_value\n",
    "        except ValueError as e:\n",
    "            raise ValueError(f\"Determining maximum: Could not convert '{value}' to float at index {i}\") from e\n",
    "    return max_value\n",
    "\n",
    "print(informative_parsed_max(temperatures))\n",
    "print(informative_parsed_max(temperatures_with_error))\n"
   ]
  },
  {
   "cell_type": "markdown",
   "id": "af7ad157",
   "metadata": {},
   "source": [
    "# Raising exceptions for invalid values"
   ]
  },
  {
   "cell_type": "code",
   "execution_count": 17,
   "id": "ce84566d",
   "metadata": {},
   "outputs": [
    {
     "name": "stdout",
     "output_type": "stream",
     "text": [
      "98100.0\n",
      "-49050.0\n",
      "98100.0\n"
     ]
    },
    {
     "ename": "ValueError",
     "evalue": "Water depth cannot be negative",
     "output_type": "error",
     "traceback": [
      "\u001b[31m---------------------------------------------------------------------------\u001b[39m",
      "\u001b[31mValueError\u001b[39m                                Traceback (most recent call last)",
      "\u001b[36mCell\u001b[39m\u001b[36m \u001b[39m\u001b[32mIn[17]\u001b[39m\u001b[32m, line 20\u001b[39m\n\u001b[32m     17\u001b[39m     \u001b[38;5;28;01mreturn\u001b[39;00m pressure\n\u001b[32m     19\u001b[39m \u001b[38;5;28mprint\u001b[39m(water_pressure(\u001b[32m10\u001b[39m))\n\u001b[32m---> \u001b[39m\u001b[32m20\u001b[39m \u001b[38;5;28mprint\u001b[39m(\u001b[43mwater_pressure\u001b[49m\u001b[43m(\u001b[49m\u001b[43m-\u001b[49m\u001b[32;43m5\u001b[39;49m\u001b[43m)\u001b[49m)\n",
      "\u001b[36mCell\u001b[39m\u001b[36m \u001b[39m\u001b[32mIn[17]\u001b[39m\u001b[32m, line 13\u001b[39m, in \u001b[36mwater_pressure\u001b[39m\u001b[34m(depth_m)\u001b[39m\n\u001b[32m     11\u001b[39m \u001b[38;5;28;01mdef\u001b[39;00m\u001b[38;5;250m \u001b[39m\u001b[34mwater_pressure\u001b[39m(depth_m):\n\u001b[32m     12\u001b[39m     \u001b[38;5;28;01mif\u001b[39;00m depth_m < \u001b[32m0\u001b[39m:\n\u001b[32m---> \u001b[39m\u001b[32m13\u001b[39m         \u001b[38;5;28;01mraise\u001b[39;00m \u001b[38;5;167;01mValueError\u001b[39;00m(\u001b[33m\"\u001b[39m\u001b[33mWater depth cannot be negative\u001b[39m\u001b[33m\"\u001b[39m)\n\u001b[32m     14\u001b[39m     g = \u001b[32m9.81\u001b[39m  \u001b[38;5;66;03m# acceleration due to gravity in m/s^2\u001b[39;00m\n\u001b[32m     15\u001b[39m     density = \u001b[32m1000\u001b[39m  \u001b[38;5;66;03m# density of water in kg/m^3\u001b[39;00m\n",
      "\u001b[31mValueError\u001b[39m: Water depth cannot be negative"
     ]
    }
   ],
   "source": [
    "def naive_water_pressure(depth_m):\n",
    "    g = 9.81  # acceleration due to gravity in m/s^2\n",
    "    density = 1000  # density of water in kg/m^3\n",
    "    pressure = density * g * depth_m\n",
    "    return pressure\n",
    "\n",
    "print(naive_water_pressure(10))\n",
    "print(naive_water_pressure(-5))\n",
    "\n",
    "# implement non-naive version\n",
    "def water_pressure(depth_m):\n",
    "    if depth_m < 0:\n",
    "        raise ValueError(\"Water depth cannot be negative\")\n",
    "    g = 9.81  # acceleration due to gravity in m/s^2\n",
    "    density = 1000  # density of water in kg/m^3\n",
    "    pressure = density * g * depth_m\n",
    "    return pressure\n",
    "\n",
    "print(water_pressure(10))\n",
    "print(water_pressure(-5))\n"
   ]
  },
  {
   "cell_type": "markdown",
   "id": "9ab85b9c",
   "metadata": {},
   "source": [
    "# Custom Exceptions\n",
    "Custom exceptions allow us to raise/catch a specific error"
   ]
  },
  {
   "cell_type": "code",
   "execution_count": null,
   "id": "c45f2e4d",
   "metadata": {},
   "outputs": [
    {
     "name": "stdout",
     "output_type": "stream",
     "text": [
      "0\n"
     ]
    },
    {
     "name": "stderr",
     "output_type": "stream",
     "text": [
      "/tmp/ipykernel_41080/213398417.py:14: UserWarning: Negative radius input, using 0 instead\n",
      "  warnings.warn(\"Negative radius input, using 0 instead\")\n"
     ]
    }
   ],
   "source": [
    "import warnings\n",
    "class NegativeRadiusError(ValueError):\n",
    "    pass\n",
    "\n",
    "def circle_area_from_input():\n",
    "    radius = float(input(\"Enter radius: \"))\n",
    "    if radius < 0:\n",
    "        raise NegativeRadiusError(\"Radius cannot be negative\")\n",
    "    return 3.14159 * radius**2\n",
    "\n",
    "try:\n",
    "    area = circle_area_from_input()\n",
    "except NegativeRadiusError as e:\n",
    "    warnings.warn(\"Radius input was negative, using 0 instead\")\n",
    "    area = 0\n",
    "print(area)\n",
    "\n"
   ]
  },
  {
   "cell_type": "markdown",
   "id": "2d4c8375",
   "metadata": {},
   "source": [
    "## If something should always be executed we can use `finally`"
   ]
  },
  {
   "cell_type": "code",
   "execution_count": 25,
   "id": "4e2d5301",
   "metadata": {},
   "outputs": [
    {
     "name": "stdout",
     "output_type": "stream",
     "text": [
      "Calculation took 0.000698 seconds\n",
      "Calculation took 0.000001 seconds\n"
     ]
    },
    {
     "ename": "ValueError",
     "evalue": "n must be positive",
     "output_type": "error",
     "traceback": [
      "\u001b[31m---------------------------------------------------------------------------\u001b[39m",
      "\u001b[31mValueError\u001b[39m                                Traceback (most recent call last)",
      "\u001b[36mCell\u001b[39m\u001b[36m \u001b[39m\u001b[32mIn[25]\u001b[39m\u001b[32m, line 19\u001b[39m\n\u001b[32m     17\u001b[39m \u001b[38;5;66;03m# Test\u001b[39;00m\n\u001b[32m     18\u001b[39m slow_calculation(\u001b[32m10000\u001b[39m)  \u001b[38;5;66;03m# Success - time logged\u001b[39;00m\n\u001b[32m---> \u001b[39m\u001b[32m19\u001b[39m \u001b[43mslow_calculation\u001b[49m\u001b[43m(\u001b[49m\u001b[43m-\u001b[49m\u001b[32;43m5\u001b[39;49m\u001b[43m)\u001b[49m     \u001b[38;5;66;03m# Fails - time still logged\u001b[39;00m\n",
      "\u001b[36mCell\u001b[39m\u001b[36m \u001b[39m\u001b[32mIn[25]\u001b[39m\u001b[32m, line 8\u001b[39m, in \u001b[36mslow_calculation\u001b[39m\u001b[34m(n)\u001b[39m\n\u001b[32m      5\u001b[39m \u001b[38;5;28;01mtry\u001b[39;00m:\n\u001b[32m      6\u001b[39m     \u001b[38;5;66;03m# Some complex calculation\u001b[39;00m\n\u001b[32m      7\u001b[39m     \u001b[38;5;28;01mif\u001b[39;00m n < \u001b[32m0\u001b[39m:\n\u001b[32m----> \u001b[39m\u001b[32m8\u001b[39m         \u001b[38;5;28;01mraise\u001b[39;00m \u001b[38;5;167;01mValueError\u001b[39;00m(\u001b[33m\"\u001b[39m\u001b[33mn must be positive\u001b[39m\u001b[33m\"\u001b[39m)\n\u001b[32m     10\u001b[39m     result = \u001b[38;5;28msum\u001b[39m(i**\u001b[32m2\u001b[39m \u001b[38;5;28;01mfor\u001b[39;00m i \u001b[38;5;129;01min\u001b[39;00m \u001b[38;5;28mrange\u001b[39m(n))\n\u001b[32m     11\u001b[39m     \u001b[38;5;28;01mreturn\u001b[39;00m result\n",
      "\u001b[31mValueError\u001b[39m: n must be positive"
     ]
    }
   ],
   "source": [
    "import time\n",
    "\n",
    "def slow_calculation(n):\n",
    "    start_time = time.time()\n",
    "    try:\n",
    "        # Some complex calculation\n",
    "        if n < 0:\n",
    "            raise ValueError(\"n must be positive\")\n",
    "        \n",
    "        result = sum(i**2 for i in range(n))\n",
    "        return result\n",
    "    finally:\n",
    "        # Always log the execution time\n",
    "        elapsed = time.time() - start_time\n",
    "        print(f\"Calculation took {elapsed:.6f} seconds\")\n",
    "\n",
    "# Test\n",
    "slow_calculation(10000)  # Success - time logged\n",
    "slow_calculation(-5)     # Fails - time still logged"
   ]
  },
  {
   "cell_type": "markdown",
   "id": "5d77ceea",
   "metadata": {},
   "source": []
  }
 ],
 "metadata": {
  "kernelspec": {
   "display_name": "teaching_data_analysis",
   "language": "python",
   "name": "python3"
  },
  "language_info": {
   "codemirror_mode": {
    "name": "ipython",
    "version": 3
   },
   "file_extension": ".py",
   "mimetype": "text/x-python",
   "name": "python",
   "nbconvert_exporter": "python",
   "pygments_lexer": "ipython3",
   "version": "3.13.2"
  }
 },
 "nbformat": 4,
 "nbformat_minor": 5
}
