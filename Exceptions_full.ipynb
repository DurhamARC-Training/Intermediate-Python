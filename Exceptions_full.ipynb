{
 "cells": [
  {
   "cell_type": "markdown",
   "id": "a1b76a5a",
   "metadata": {
    "editable": true,
    "slideshow": {
     "slide_type": "slide"
    },
    "tags": []
   },
   "source": [
    "# Exceptions\n",
    " - Not all data is guaranteed to match our assumptions\n",
    " - When a section of python code cannot be executed an exception will be thrown\n",
    " - If this is an anticipated error we might catch that exception\n",
    " - We can also create our own Exceptions when values are not what they should be\n",
    "\n",
    "The general syntax is:\n",
    "```python\n",
    "try:\n",
    "    statement()\n",
    "except ExceptionType:\n",
    "    handling_statement()\n",
    "```\n"
   ]
  },
  {
   "cell_type": "markdown",
   "id": "05a38988",
   "metadata": {
    "editable": true,
    "slideshow": {
     "slide_type": "notes"
    },
    "tags": []
   },
   "source": [
    "<ins>Notes:</ins>\n",
    " - We are using indented blocks again\n",
    "   - All statements in the try block will be executed one by one\n",
    "   - If one fails, the interpreter checks whether an except block with a matching exception type exists and execute the code in there\n",
    "   - We can have multiple except blocks with different exception types\n",
    " - We can leave out the exception type to catch all exceptions. This can easily lead to incorrect exception handling, when our assumption where the error comes from is wrong."
   ]
  },
  {
   "cell_type": "markdown",
   "id": "2dddbc2a",
   "metadata": {
    "editable": true,
    "slideshow": {
     "slide_type": "slide"
    },
    "tags": []
   },
   "source": [
    "##  Exceptions often are used for known edge cases \n"
   ]
  },
  {
   "cell_type": "code",
   "execution_count": null,
   "id": "be1d09a2",
   "metadata": {
    "editable": true,
    "remove_code": "after:# Modify the function to make an empty list return 0",
    "slideshow": {
     "slide_type": ""
    },
    "tags": []
   },
   "outputs": [],
   "source": [
    "def average(numbers):\n",
    "    return sum(numbers) / len(numbers)\n",
    "\n",
    "print(average([1,2,3,4]))\n",
    "print(average([]))\n",
    "\n",
    "# Modify the function to make an empty list return 0\n",
    "def average_result(numbers):\n",
    "    try:\n",
    "        return sum(numbers) / len(numbers)\n",
    "    except ZeroDivisionError:\n",
    "        return 0"
   ]
  },
  {
   "cell_type": "markdown",
   "id": "c03ad534",
   "metadata": {
    "editable": true,
    "slideshow": {
     "slide_type": "notes"
    },
    "tags": []
   },
   "source": [
    "<ins>Notes:</ins>\n",
    "- Do __not__ write out the function again, modify the original function to look like the result function\n",
    "- Demonstrate that you can catch the exception with a bare except\n",
    "- Change the function to use the `ZeroDivisionError` explicitely, to avoid catching errors we do not mean to catch"
   ]
  },
  {
   "cell_type": "markdown",
   "id": "5fe809bc",
   "metadata": {
    "editable": true,
    "slideshow": {
     "slide_type": "slide"
    },
    "tags": []
   },
   "source": [
    "## Reraising Meaningful exceptions"
   ]
  },
  {
   "cell_type": "code",
   "execution_count": null,
   "id": "2ab256b3",
   "metadata": {
    "editable": true,
    "remove_code": "after:# Modify function to list the index and content of the entry that caused the error",
    "slideshow": {
     "slide_type": ""
    },
    "tags": []
   },
   "outputs": [],
   "source": [
    "def parsed_max(values):\n",
    "    max_value = None\n",
    "    for value in values:\n",
    "        parsed_value = float(value)\n",
    "        if max_value is None or parsed_value > max_value:\n",
    "            max_value = parsed_value\n",
    "    return max_value\n",
    "\n",
    "temperatures = [\"23.5\", \"25.1\", \"22.8\", \"24.0\"]\n",
    "print(parsed_max(temperatures))\n",
    "\n",
    "temperatures_with_error = [\"23.5\", \"25.1\", \"2020-05-21\", \"24.0\"]\n",
    "print(parsed_max(temperatures_with_error))\n",
    "\n",
    "# Modify function to list the index and content of the entry that caused the error\n",
    "def parsed_max_result(values):\n",
    "    max_value = None\n",
    "    for i, value in enumerate(values):\n",
    "        try:\n",
    "            parsed_value = float(value)\n",
    "            if max_value is None or parsed_value > max_value:\n",
    "                max_value = parsed_value\n",
    "        except ValueError as e:\n",
    "            raise ValueError(f\"Determining maximum: Could not convert '{value}' to float at index {i}\") from e\n",
    "    return max_value\n"
   ]
  },
  {
   "cell_type": "markdown",
   "id": "a39534cd",
   "metadata": {
    "editable": true,
    "slideshow": {
     "slide_type": "notes"
    },
    "tags": []
   },
   "source": [
    "<ins>Notes:</ins>\n",
    "- Do __not__ write out the function again, modify the original function to look like the result function\n",
    "- Using the from keyword we can add an exception to the error stack.\n",
    "- This can be used to give additional information, that makes the error source in the input easily traceable"
   ]
  },
  {
   "cell_type": "markdown",
   "id": "af7ad157",
   "metadata": {
    "editable": true,
    "slideshow": {
     "slide_type": "slide"
    },
    "tags": []
   },
   "source": [
    "# Raising exceptions for invalid values"
   ]
  },
  {
   "cell_type": "code",
   "execution_count": null,
   "id": "ce84566d",
   "metadata": {
    "editable": true,
    "remove_code": "after:# Modify function to check for negative depth",
    "slideshow": {
     "slide_type": ""
    },
    "tags": []
   },
   "outputs": [],
   "source": [
    "def water_pressure(depth_m):\n",
    "    g = 9.81  # acceleration due to gravity in m/s^2\n",
    "    density = 1000  # density of water in kg/m^3\n",
    "    pressure = density * g * depth_m\n",
    "    return pressure\n",
    "\n",
    "print(water_pressure(10))\n",
    "print(water_pressure(-5))\n",
    "\n",
    "# Modify function to check for negative depth\n",
    "def water_pressure_result(depth_m):\n",
    "    if depth_m < 0:\n",
    "        raise ValueError(\"Water depth cannot be negative\")\n",
    "    g = 9.81  # acceleration due to gravity in m/s^2\n",
    "    density = 1000  # density of water in kg/m^3\n",
    "    pressure = density * g * depth_m\n",
    "    return pressure\n"
   ]
  },
  {
   "cell_type": "markdown",
   "id": "cc03ae4e",
   "metadata": {
    "editable": true,
    "slideshow": {
     "slide_type": "notes"
    },
    "tags": []
   },
   "source": [
    "<ins>Notes:</ins>\n",
    "- Do __not__ write out the function again, modify the original function to look like the result function\n",
    "- It is good practice to have these checks early in a function. Nobody likes to be 10h into a script execution to then fail a validation"
   ]
  },
  {
   "cell_type": "markdown",
   "id": "2d4c8375",
   "metadata": {
    "editable": true,
    "slideshow": {
     "slide_type": "slide"
    },
    "tags": []
   },
   "source": [
    "## The `finally` block will always be executed, either after code execution or after the failure\n",
    "\n",
    "```python\n",
    "try:\n",
    "    statement()\n",
    "except ExceptionType:\n",
    "    # this block does not need to be here\n",
    "    handle_error()\n",
    "finally:\n",
    "    always_execute()\n",
    "```\n",
    "\n"
   ]
  },
  {
   "cell_type": "code",
   "execution_count": null,
   "id": "4e2d5301",
   "metadata": {
    "editable": true,
    "remove_code": "after:# Modify function to always include the timing",
    "slideshow": {
     "slide_type": ""
    },
    "tags": []
   },
   "outputs": [],
   "source": [
    "import time\n",
    "\n",
    "def timed_calculation(n):\n",
    "    start_time = time.time()\n",
    "    # Some complex calculation\n",
    "    if n < 0:\n",
    "        raise ValueError(\"n must be positive\")\n",
    "    \n",
    "    result = sum(i**2 for i in range(n))\n",
    "    elapsed = time.time() - start_time\n",
    "    print(f\"Calculation took {elapsed:.6f} seconds\")\n",
    "\n",
    "    return result\n",
    "\n",
    "# Test\n",
    "timed_calculation(10000)\n",
    "timed_calculation(-5)\n",
    "\n",
    "# Modify function to always include the timing\n",
    "\n",
    "def timed_calculation_result(n):\n",
    "    start_time = time.time()\n",
    "    try:\n",
    "        # Some complex calculation\n",
    "        if n < 0:\n",
    "            raise ValueError(\"n must be positive\")\n",
    "        \n",
    "        result = sum(i**2 for i in range(n))\n",
    "        return result\n",
    "    finally:\n",
    "        # Always log the execution time\n",
    "        elapsed = time.time() - start_time\n",
    "        print(f\"Calculation took {elapsed:.6f} seconds\")"
   ]
  },
  {
   "cell_type": "markdown",
   "id": "6ae019e8",
   "metadata": {
    "editable": true,
    "slideshow": {
     "slide_type": "notes"
    },
    "tags": []
   },
   "source": [
    "<ins>Notes:</ins>\n",
    "- Do __not__ write out the function again, modify the original function to look like the result function\n",
    "- Finally is often used in clean up operations."
   ]
  },
  {
   "cell_type": "markdown",
   "id": "5d77ceea",
   "metadata": {
    "editable": true,
    "slideshow": {
     "slide_type": "slide"
    },
    "tags": []
   },
   "source": [
    "## Best Practice:\n",
    "If a value or input can occur that makes our script fail or produce a non-sensical result, we should try to (in that order)\n",
    " - Implement an alternative approach that works (possibly using except)\n",
    " - (Re-)raise an exception\n",
    "   - If something has to fail, make it fail early. This might means non-sensical values but also values that would make a later statement fail.\n",
    "   - Validation should be done within the programmatic unit that the validation is for\n",
    "   - Provide meaningful exception messages, that let the user track the problem.\n",
    "\n",
    "If you have trouble getting your script to run, users/collaborators will have that problem even more\n",
    "\n"
   ]
  },
  {
   "cell_type": "markdown",
   "id": "93ba2906",
   "metadata": {
    "editable": true,
    "slideshow": {
     "slide_type": "slide"
    },
    "tags": []
   },
   "source": [
    "## Have a play:"
   ]
  },
  {
   "cell_type": "markdown",
   "id": "bb3e9144",
   "metadata": {
    "editable": true,
    "slideshow": {
     "slide_type": ""
    },
    "tags": []
   },
   "source": [
    "\n",
    "### Exercise 1: Grade Point Average Calculator\n",
    "\n",
    "**Tasks:**\n",
    "1. Modify the function to handle empty grade lists by returning 0.0\n",
    "2. Add exception handling for non-numeric grades that provides a meaningful error message with the problematic grade and its position\n",
    "\n"
   ]
  },
  {
   "cell_type": "code",
   "execution_count": null,
   "id": "119a42a0",
   "metadata": {
    "editable": true,
    "remove_code": "after:# Modify the function to handle unexpected values",
    "slideshow": {
     "slide_type": ""
    },
    "tags": []
   },
   "outputs": [],
   "source": [
    "def calculate_gpa(grades):\n",
    "    total_points = 0\n",
    "    for grade in grades:\n",
    "        total_points += grade\n",
    "    return total_points / len(grades)\n",
    "\n",
    "# Test cases\n",
    "print(calculate_gpa([3.5, 4.0, 3.7, 3.9]))  # Should work\n",
    "print(calculate_gpa([]))  # Will cause ZeroDivisionError\n",
    "print(calculate_gpa([3.5, \"A\", 3.7]))  # Will cause TypeError\n",
    "\n",
    "# Modify the function to handle unexpected values\n",
    "def calculate_gpa(grades):\n",
    "    try:\n",
    "        total_points = 0\n",
    "        for i, grade in enumerate(grades):\n",
    "            try:\n",
    "                total_points += grade\n",
    "            except TypeError:\n",
    "                raise ValueError(f\"Invalid grade '{grade}' at position {i}. Expected numeric value.\") from None\n",
    "        return total_points / len(grades)\n",
    "    except ZeroDivisionError:\n",
    "        return 0.0"
   ]
  },
  {
   "cell_type": "markdown",
   "id": "f583c781",
   "metadata": {
    "editable": true,
    "slideshow": {
     "slide_type": "slide"
    },
    "tags": []
   },
   "source": [
    "\n",
    "\n",
    "### Exercise 2: Research Data Processor\n",
    "**Tasks:**\n",
    "1. Add validation to ensure control samples have exactly 3 measurements, raising a `ValueError` with sample ID if not\n",
    "2. Handle the case where experimental samples have no measurements by returning `None`\n",
    "3. Add a try-except block that catches any unexpected errors and re-raises them with additional context about which sample failed\n",
    "\n"
   ]
  },
  {
   "cell_type": "code",
   "execution_count": null,
   "id": "096ea019",
   "metadata": {
    "editable": true,
    "remove_code": "after:# Modify the function to handle the test cases",
    "slideshow": {
     "slide_type": ""
    },
    "tags": []
   },
   "outputs": [],
   "source": [
    "def process_sample_data(sample_id, measurements):\n",
    "    if sample_id.startswith(\"CTRL\"):\n",
    "        # Control samples should have exactly 3 measurements\n",
    "        baseline = measurements[2]  # Use third measurement as baseline\n",
    "    else:\n",
    "        # Experimental samples\n",
    "        baseline = sum(measurements) / len(measurements)\n",
    "    \n",
    "    return baseline * 1.5  # Apply correction factor\n",
    "\n",
    "# Test cases\n",
    "print(process_sample_data(\"EXP001\", [12.5, 14.2, 13.8]))  # Should work\n",
    "print(process_sample_data(\"CTRL001\", [10.1, 11.5]))  # IndexError - only 2 measurements\n",
    "print(process_sample_data(\"EXP002\", []))  # ZeroDivisionError\n",
    "\n",
    "# Modify the function to handle the test cases\n",
    "def process_sample_data(sample_id, measurements):\n",
    "    try:\n",
    "        if sample_id.startswith(\"CTRL\"):\n",
    "            # Control samples should have exactly 3 measurements\n",
    "            if len(measurements) != 3:\n",
    "                raise ValueError(f\"Control sample {sample_id} must have exactly 3 measurements, got {len(measurements)}\")\n",
    "            baseline = measurements[2]  # Use third measurement as baseline\n",
    "        else:\n",
    "            # Experimental samples\n",
    "            if len(measurements) == 0:\n",
    "                return None\n",
    "            baseline = sum(measurements) / len(measurements)\n",
    "        \n",
    "        return baseline * 1.5  # Apply correction factor\n",
    "    except ValueError:\n",
    "        raise  # Re-raise our custom validation errors\n",
    "    except Exception as e:\n",
    "        raise RuntimeError(f\"Failed to process sample {sample_id}: {str(e)}\") from e\n"
   ]
  },
  {
   "cell_type": "code",
   "execution_count": null,
   "id": "5f642f07",
   "metadata": {
    "editable": true,
    "slideshow": {
     "slide_type": ""
    },
    "tags": []
   },
   "outputs": [],
   "source": []
  }
 ],
 "metadata": {
  "kernelspec": {
   "display_name": "Python 3 (ipykernel)",
   "language": "python",
   "name": "python3"
  },
  "language_info": {
   "codemirror_mode": {
    "name": "ipython",
    "version": 3
   },
   "file_extension": ".py",
   "mimetype": "text/x-python",
   "name": "python",
   "nbconvert_exporter": "python",
   "pygments_lexer": "ipython3",
   "version": "3.13.2"
  }
 },
 "nbformat": 4,
 "nbformat_minor": 5
}
