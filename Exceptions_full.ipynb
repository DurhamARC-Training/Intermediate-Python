{
 "cells": [
  {
   "cell_type": "markdown",
   "id": "a1b76a5a",
   "metadata": {},
   "source": [
    "# Exceptions\n",
    " - Not all data is guaranteed to match our assumptions\n",
    " - When a section of python code cannot be executed an exception will be thrown\n",
    " - If this is an anticipated error we might catch that exception\n",
    " - We can also create our own Exceptions when values are not what they should be\n",
    "\n",
    "The general syntax is:\n",
    "```python\n",
    "try:\n",
    "    statement()\n",
    "except ExceptionType:\n",
    "    handling_statement()\n",
    "```\n"
   ]
  },
  {
   "cell_type": "markdown",
   "id": "05a38988",
   "metadata": {},
   "source": [
    "<ins>Notes:</ins>\n",
    " - We are using indented blocks again\n",
    "   - All statements in the try block will be executed one by one\n",
    "   - If one fails, the interpreter checks whether an except block with a matching exception type exists and execute the code in there\n",
    "   - We can have multiple except blocks with different exception types\n",
    " - We can leave out the exception type to catch all exceptions. This can easily lead to incorrect exception handling, when our assumption where the error comes from is wrong."
   ]
  },
  {
   "cell_type": "markdown",
   "id": "2dddbc2a",
   "metadata": {},
   "source": [
    "##  Exceptions often are used for known edge cases \n"
   ]
  },
  {
   "cell_type": "code",
   "execution_count": null,
   "id": "be1d09a2",
   "metadata": {},
   "outputs": [
    {
     "name": "stdout",
     "output_type": "stream",
     "text": [
      "2.5\n"
     ]
    },
    {
     "ename": "ZeroDivisionError",
     "evalue": "division by zero",
     "output_type": "error",
     "traceback": [
      "\u001b[31m---------------------------------------------------------------------------\u001b[39m",
      "\u001b[31mZeroDivisionError\u001b[39m                         Traceback (most recent call last)",
      "\u001b[36mCell\u001b[39m\u001b[36m \u001b[39m\u001b[32mIn[1]\u001b[39m\u001b[32m, line 5\u001b[39m\n\u001b[32m      2\u001b[39m     \u001b[38;5;28;01mreturn\u001b[39;00m \u001b[38;5;28msum\u001b[39m(numbers) / \u001b[38;5;28mlen\u001b[39m(numbers)\n\u001b[32m      4\u001b[39m \u001b[38;5;28mprint\u001b[39m(average([\u001b[32m1\u001b[39m,\u001b[32m2\u001b[39m,\u001b[32m3\u001b[39m,\u001b[32m4\u001b[39m]))\n\u001b[32m----> \u001b[39m\u001b[32m5\u001b[39m \u001b[38;5;28mprint\u001b[39m(\u001b[43maverage\u001b[49m\u001b[43m(\u001b[49m\u001b[43m[\u001b[49m\u001b[43m]\u001b[49m\u001b[43m)\u001b[49m)\n\u001b[32m      7\u001b[39m \u001b[38;5;66;03m# Result of the modification\u001b[39;00m\n\u001b[32m      8\u001b[39m \u001b[38;5;28;01mdef\u001b[39;00m\u001b[38;5;250m \u001b[39m\u001b[34maverage_result\u001b[39m(numbers):\n",
      "\u001b[36mCell\u001b[39m\u001b[36m \u001b[39m\u001b[32mIn[1]\u001b[39m\u001b[32m, line 2\u001b[39m, in \u001b[36maverage\u001b[39m\u001b[34m(numbers)\u001b[39m\n\u001b[32m      1\u001b[39m \u001b[38;5;28;01mdef\u001b[39;00m\u001b[38;5;250m \u001b[39m\u001b[34maverage\u001b[39m(numbers):\n\u001b[32m----> \u001b[39m\u001b[32m2\u001b[39m     \u001b[38;5;28;01mreturn\u001b[39;00m \u001b[38;5;28;43msum\u001b[39;49m\u001b[43m(\u001b[49m\u001b[43mnumbers\u001b[49m\u001b[43m)\u001b[49m\u001b[43m \u001b[49m\u001b[43m/\u001b[49m\u001b[43m \u001b[49m\u001b[38;5;28;43mlen\u001b[39;49m\u001b[43m(\u001b[49m\u001b[43mnumbers\u001b[49m\u001b[43m)\u001b[49m\n",
      "\u001b[31mZeroDivisionError\u001b[39m: division by zero"
     ]
    }
   ],
   "source": [
    "def average(numbers):\n",
    "    return sum(numbers) / len(numbers)\n",
    "\n",
    "print(average([1,2,3,4]))\n",
    "print(average([]))\n",
    "\n",
    "# Modify the function to make an empty list return 0\n",
    "def average_result(numbers):\n",
    "    try:\n",
    "        return sum(numbers) / len(numbers)\n",
    "    except ZeroDivisionError:\n",
    "        return 0"
   ]
  },
  {
   "cell_type": "markdown",
   "id": "c03ad534",
   "metadata": {},
   "source": [
    "<ins>Notes:</ins>\n",
    "- Do __not__ write out the function again, modify the original function to look like the result function\n",
    "- Demonstrate that you can catch the exception with a bare except\n",
    "- Change the function to use the `ZeroDivisionError` explicitely, to avoid catching errors we do not mean to catch"
   ]
  },
  {
   "cell_type": "markdown",
   "id": "5fe809bc",
   "metadata": {},
   "source": [
    "## Reraising Meaningful exceptions"
   ]
  },
  {
   "cell_type": "code",
   "execution_count": 4,
   "id": "2ab256b3",
   "metadata": {},
   "outputs": [
    {
     "name": "stdout",
     "output_type": "stream",
     "text": [
      "25.1\n"
     ]
    },
    {
     "ename": "ValueError",
     "evalue": "could not convert string to float: '2020-05-21'",
     "output_type": "error",
     "traceback": [
      "\u001b[31m---------------------------------------------------------------------------\u001b[39m",
      "\u001b[31mValueError\u001b[39m                                Traceback (most recent call last)",
      "\u001b[36mCell\u001b[39m\u001b[36m \u001b[39m\u001b[32mIn[4]\u001b[39m\u001b[32m, line 13\u001b[39m\n\u001b[32m     10\u001b[39m \u001b[38;5;28mprint\u001b[39m(parsed_max(temperatures))\n\u001b[32m     12\u001b[39m temperatures_with_error = [\u001b[33m\"\u001b[39m\u001b[33m23.5\u001b[39m\u001b[33m\"\u001b[39m, \u001b[33m\"\u001b[39m\u001b[33m25.1\u001b[39m\u001b[33m\"\u001b[39m, \u001b[33m\"\u001b[39m\u001b[33m2020-05-21\u001b[39m\u001b[33m\"\u001b[39m, \u001b[33m\"\u001b[39m\u001b[33m24.0\u001b[39m\u001b[33m\"\u001b[39m]\n\u001b[32m---> \u001b[39m\u001b[32m13\u001b[39m \u001b[38;5;28mprint\u001b[39m(\u001b[43mparsed_max\u001b[49m\u001b[43m(\u001b[49m\u001b[43mtemperatures_with_error\u001b[49m\u001b[43m)\u001b[49m)\n\u001b[32m     15\u001b[39m \u001b[38;5;66;03m# Modify function to list the index and content of the entry that caused the error\u001b[39;00m\n\u001b[32m     16\u001b[39m \u001b[38;5;28;01mdef\u001b[39;00m\u001b[38;5;250m \u001b[39m\u001b[34mparsed_max_result\u001b[39m(values):\n",
      "\u001b[36mCell\u001b[39m\u001b[36m \u001b[39m\u001b[32mIn[4]\u001b[39m\u001b[32m, line 4\u001b[39m, in \u001b[36mparsed_max\u001b[39m\u001b[34m(values)\u001b[39m\n\u001b[32m      2\u001b[39m max_value = \u001b[38;5;28;01mNone\u001b[39;00m\n\u001b[32m      3\u001b[39m \u001b[38;5;28;01mfor\u001b[39;00m value \u001b[38;5;129;01min\u001b[39;00m values:\n\u001b[32m----> \u001b[39m\u001b[32m4\u001b[39m     parsed_value = \u001b[38;5;28;43mfloat\u001b[39;49m\u001b[43m(\u001b[49m\u001b[43mvalue\u001b[49m\u001b[43m)\u001b[49m\n\u001b[32m      5\u001b[39m     \u001b[38;5;28;01mif\u001b[39;00m max_value \u001b[38;5;129;01mis\u001b[39;00m \u001b[38;5;28;01mNone\u001b[39;00m \u001b[38;5;129;01mor\u001b[39;00m parsed_value > max_value:\n\u001b[32m      6\u001b[39m         max_value = parsed_value\n",
      "\u001b[31mValueError\u001b[39m: could not convert string to float: '2020-05-21'"
     ]
    }
   ],
   "source": [
    "def parsed_max(values):\n",
    "    max_value = None\n",
    "    for value in values:\n",
    "        parsed_value = float(value)\n",
    "        if max_value is None or parsed_value > max_value:\n",
    "            max_value = parsed_value\n",
    "    return max_value\n",
    "\n",
    "temperatures = [\"23.5\", \"25.1\", \"22.8\", \"24.0\"]\n",
    "print(parsed_max(temperatures))\n",
    "\n",
    "temperatures_with_error = [\"23.5\", \"25.1\", \"2020-05-21\", \"24.0\"]\n",
    "print(parsed_max(temperatures_with_error))\n",
    "\n",
    "# Modify function to list the index and content of the entry that caused the error\n",
    "def parsed_max_result(values):\n",
    "    max_value = None\n",
    "    for i, value in enumerate(values):\n",
    "        try:\n",
    "            parsed_value = float(value)\n",
    "            if max_value is None or parsed_value > max_value:\n",
    "                max_value = parsed_value\n",
    "        except ValueError as e:\n",
    "            raise ValueError(f\"Determining maximum: Could not convert '{value}' to float at index {i}\") from e\n",
    "    return max_value\n"
   ]
  },
  {
   "cell_type": "markdown",
   "id": "a39534cd",
   "metadata": {},
   "source": [
    "<ins>Notes:</ins>\n",
    "- Do __not__ write out the function again, modify the original function to look like the result function\n",
    "- Using the from keyword we can add an exception to the error stack.\n",
    "- This can be used to give additional information, that makes the error source in the input easily traceable"
   ]
  },
  {
   "cell_type": "markdown",
   "id": "af7ad157",
   "metadata": {},
   "source": [
    "# Raising exceptions for invalid values"
   ]
  },
  {
   "cell_type": "code",
   "execution_count": null,
   "id": "ce84566d",
   "metadata": {},
   "outputs": [
    {
     "name": "stdout",
     "output_type": "stream",
     "text": [
      "98100.0\n",
      "-49050.0\n",
      "98100.0\n"
     ]
    },
    {
     "ename": "ValueError",
     "evalue": "Water depth cannot be negative",
     "output_type": "error",
     "traceback": [
      "\u001b[31m---------------------------------------------------------------------------\u001b[39m",
      "\u001b[31mValueError\u001b[39m                                Traceback (most recent call last)",
      "\u001b[36mCell\u001b[39m\u001b[36m \u001b[39m\u001b[32mIn[17]\u001b[39m\u001b[32m, line 20\u001b[39m\n\u001b[32m     17\u001b[39m     \u001b[38;5;28;01mreturn\u001b[39;00m pressure\n\u001b[32m     19\u001b[39m \u001b[38;5;28mprint\u001b[39m(water_pressure(\u001b[32m10\u001b[39m))\n\u001b[32m---> \u001b[39m\u001b[32m20\u001b[39m \u001b[38;5;28mprint\u001b[39m(\u001b[43mwater_pressure\u001b[49m\u001b[43m(\u001b[49m\u001b[43m-\u001b[49m\u001b[32;43m5\u001b[39;49m\u001b[43m)\u001b[49m)\n",
      "\u001b[36mCell\u001b[39m\u001b[36m \u001b[39m\u001b[32mIn[17]\u001b[39m\u001b[32m, line 13\u001b[39m, in \u001b[36mwater_pressure\u001b[39m\u001b[34m(depth_m)\u001b[39m\n\u001b[32m     11\u001b[39m \u001b[38;5;28;01mdef\u001b[39;00m\u001b[38;5;250m \u001b[39m\u001b[34mwater_pressure\u001b[39m(depth_m):\n\u001b[32m     12\u001b[39m     \u001b[38;5;28;01mif\u001b[39;00m depth_m < \u001b[32m0\u001b[39m:\n\u001b[32m---> \u001b[39m\u001b[32m13\u001b[39m         \u001b[38;5;28;01mraise\u001b[39;00m \u001b[38;5;167;01mValueError\u001b[39;00m(\u001b[33m\"\u001b[39m\u001b[33mWater depth cannot be negative\u001b[39m\u001b[33m\"\u001b[39m)\n\u001b[32m     14\u001b[39m     g = \u001b[32m9.81\u001b[39m  \u001b[38;5;66;03m# acceleration due to gravity in m/s^2\u001b[39;00m\n\u001b[32m     15\u001b[39m     density = \u001b[32m1000\u001b[39m  \u001b[38;5;66;03m# density of water in kg/m^3\u001b[39;00m\n",
      "\u001b[31mValueError\u001b[39m: Water depth cannot be negative"
     ]
    }
   ],
   "source": [
    "def water_pressure(depth_m):\n",
    "    g = 9.81  # acceleration due to gravity in m/s^2\n",
    "    density = 1000  # density of water in kg/m^3\n",
    "    pressure = density * g * depth_m\n",
    "    return pressure\n",
    "\n",
    "print(water_pressure(10))\n",
    "print(water_pressure(-5))\n",
    "\n",
    "# Modify function to check for negative depth\n",
    "def water_pressure_result(depth_m):\n",
    "    if depth_m < 0:\n",
    "        raise ValueError(\"Water depth cannot be negative\")\n",
    "    g = 9.81  # acceleration due to gravity in m/s^2\n",
    "    density = 1000  # density of water in kg/m^3\n",
    "    pressure = density * g * depth_m\n",
    "    return pressure\n"
   ]
  },
  {
   "cell_type": "markdown",
   "id": "cc03ae4e",
   "metadata": {},
   "source": [
    "<ins>Notes:</ins>\n",
    "- Do __not__ write out the function again, modify the original function to look like the result function\n",
    "- It is good practice to have these checks early in a function. Nobody likes to be 10h into a script execution to then fail a validation"
   ]
  },
  {
   "cell_type": "markdown",
   "id": "2d4c8375",
   "metadata": {},
   "source": [
    "## The `finally` block will always be executed, either after code execution or after the failure\n",
    "\n",
    "```python\n",
    "try:\n",
    "    statement()\n",
    "except ExceptionType:\n",
    "    # this block does not need to be here\n",
    "    handle_error()\n",
    "finally:\n",
    "    always_execute()\n",
    "```\n",
    "\n"
   ]
  },
  {
   "cell_type": "code",
   "execution_count": null,
   "id": "4e2d5301",
   "metadata": {},
   "outputs": [
    {
     "name": "stdout",
     "output_type": "stream",
     "text": [
      "Calculation took 0.000854 seconds\n"
     ]
    },
    {
     "ename": "ValueError",
     "evalue": "n must be positive",
     "output_type": "error",
     "traceback": [
      "\u001b[31m---------------------------------------------------------------------------\u001b[39m",
      "\u001b[31mValueError\u001b[39m                                Traceback (most recent call last)",
      "\u001b[36mCell\u001b[39m\u001b[36m \u001b[39m\u001b[32mIn[3]\u001b[39m\u001b[32m, line 17\u001b[39m\n\u001b[32m     15\u001b[39m \u001b[38;5;66;03m# Test\u001b[39;00m\n\u001b[32m     16\u001b[39m slow_calculation(\u001b[32m10000\u001b[39m)\n\u001b[32m---> \u001b[39m\u001b[32m17\u001b[39m \u001b[43mslow_calculation\u001b[49m\u001b[43m(\u001b[49m\u001b[43m-\u001b[49m\u001b[32;43m5\u001b[39;49m\u001b[43m)\u001b[49m\n\u001b[32m     19\u001b[39m \u001b[38;5;28;01mdef\u001b[39;00m\u001b[38;5;250m \u001b[39m\u001b[34mslow_calculation_result\u001b[39m(n):\n\u001b[32m     20\u001b[39m     start_time = time.time()\n",
      "\u001b[36mCell\u001b[39m\u001b[36m \u001b[39m\u001b[32mIn[3]\u001b[39m\u001b[32m, line 7\u001b[39m, in \u001b[36mslow_calculation\u001b[39m\u001b[34m(n)\u001b[39m\n\u001b[32m      5\u001b[39m \u001b[38;5;66;03m# Some complex calculation\u001b[39;00m\n\u001b[32m      6\u001b[39m \u001b[38;5;28;01mif\u001b[39;00m n < \u001b[32m0\u001b[39m:\n\u001b[32m----> \u001b[39m\u001b[32m7\u001b[39m     \u001b[38;5;28;01mraise\u001b[39;00m \u001b[38;5;167;01mValueError\u001b[39;00m(\u001b[33m\"\u001b[39m\u001b[33mn must be positive\u001b[39m\u001b[33m\"\u001b[39m)\n\u001b[32m      9\u001b[39m result = \u001b[38;5;28msum\u001b[39m(i**\u001b[32m2\u001b[39m \u001b[38;5;28;01mfor\u001b[39;00m i \u001b[38;5;129;01min\u001b[39;00m \u001b[38;5;28mrange\u001b[39m(n))\n\u001b[32m     10\u001b[39m elapsed = time.time() - start_time\n",
      "\u001b[31mValueError\u001b[39m: n must be positive"
     ]
    }
   ],
   "source": [
    "import time\n",
    "\n",
    "def timed_calculation(n):\n",
    "    start_time = time.time()\n",
    "    # Some complex calculation\n",
    "    if n < 0:\n",
    "        raise ValueError(\"n must be positive\")\n",
    "    \n",
    "    result = sum(i**2 for i in range(n))\n",
    "    elapsed = time.time() - start_time\n",
    "    print(f\"Calculation took {elapsed:.6f} seconds\")\n",
    "\n",
    "    return result\n",
    "\n",
    "# Test\n",
    "timed_calculation(10000)\n",
    "timed_calculation(-5)\n",
    "\n",
    "# Modify function to always include the timing\n",
    "\n",
    "def timed_calculation_result(n):\n",
    "    start_time = time.time()\n",
    "    try:\n",
    "        # Some complex calculation\n",
    "        if n < 0:\n",
    "            raise ValueError(\"n must be positive\")\n",
    "        \n",
    "        result = sum(i**2 for i in range(n))\n",
    "        return result\n",
    "    finally:\n",
    "        # Always log the execution time\n",
    "        elapsed = time.time() - start_time\n",
    "        print(f\"Calculation took {elapsed:.6f} seconds\")"
   ]
  },
  {
   "cell_type": "markdown",
   "id": "6ae019e8",
   "metadata": {},
   "source": [
    "<ins>Notes:</ins>\n",
    "- Do __not__ write out the function again, modify the original function to look like the result function\n",
    "- Finally is often used in clean up operations."
   ]
  },
  {
   "cell_type": "markdown",
   "id": "5d77ceea",
   "metadata": {},
   "source": [
    "## Best Practice:\n",
    "If a value or input can occur that makes our script fail or produce a non-sensical result, we should try to (in that order)\n",
    " - Implement an alternative approach that works (possibly using except)\n",
    " - (Re-)raise an exception\n",
    "   - If something has to fail, make it fail early. This might means non-sensical values but also values that would make a later statement fail.\n",
    "   - Validation should be done within the programmatic unit that the validation is for\n",
    "   - Provide meaningful exception messages, that let the user track the problem.\n",
    "\n",
    "If you have trouble getting your script to run, users/collaborators will have that problem even more\n",
    "\n"
   ]
  },
  {
   "cell_type": "markdown",
   "id": "93ba2906",
   "metadata": {},
   "source": [
    "## Have a play:"
   ]
  },
  {
   "cell_type": "markdown",
   "id": "bb3e9144",
   "metadata": {},
   "source": [
    "\n",
    "### Exercise 1: Grade Point Average Calculator\n",
    "\n",
    "**Tasks:**\n",
    "1. Modify the function to handle empty grade lists by returning 0.0\n",
    "2. Add exception handling for non-numeric grades that provides a meaningful error message with the problematic grade and its position\n",
    "\n"
   ]
  },
  {
   "cell_type": "code",
   "execution_count": null,
   "id": "119a42a0",
   "metadata": {},
   "outputs": [],
   "source": [
    "def calculate_gpa(grades):\n",
    "    total_points = 0\n",
    "    for grade in grades:\n",
    "        total_points += grade\n",
    "    return total_points / len(grades)\n",
    "\n",
    "# Test cases\n",
    "print(calculate_gpa([3.5, 4.0, 3.7, 3.9]))  # Should work\n",
    "print(calculate_gpa([]))  # Will cause ZeroDivisionError\n",
    "print(calculate_gpa([3.5, \"A\", 3.7]))  # Will cause TypeError\n",
    "\n",
    "# Modify the function to handle unexpected values\n",
    "def calculate_gpa(grades):\n",
    "    try:\n",
    "        total_points = 0\n",
    "        for i, grade in enumerate(grades):\n",
    "            try:\n",
    "                total_points += grade\n",
    "            except TypeError:\n",
    "                raise ValueError(f\"Invalid grade '{grade}' at position {i}. Expected numeric value.\") from None\n",
    "        return total_points / len(grades)\n",
    "    except ZeroDivisionError:\n",
    "        return 0.0"
   ]
  },
  {
   "cell_type": "markdown",
   "id": "f583c781",
   "metadata": {},
   "source": [
    "\n",
    "\n",
    "### Exercise 2: Research Data Processor\n",
    "**Tasks:**\n",
    "1. Add validation to ensure control samples have exactly 3 measurements, raising a `ValueError` with sample ID if not\n",
    "2. Handle the case where experimental samples have no measurements by returning `None`\n",
    "3. Add a try-except block that catches any unexpected errors and re-raises them with additional context about which sample failed\n",
    "\n"
   ]
  },
  {
   "cell_type": "code",
   "execution_count": null,
   "id": "096ea019",
   "metadata": {},
   "outputs": [],
   "source": [
    "def process_sample_data(sample_id, measurements):\n",
    "    if sample_id.startswith(\"CTRL\"):\n",
    "        # Control samples should have exactly 3 measurements\n",
    "        baseline = measurements[2]  # Use third measurement as baseline\n",
    "    else:\n",
    "        # Experimental samples\n",
    "        baseline = sum(measurements) / len(measurements)\n",
    "    \n",
    "    return baseline * 1.5  # Apply correction factor\n",
    "\n",
    "# Test cases\n",
    "print(process_sample_data(\"EXP001\", [12.5, 14.2, 13.8]))  # Should work\n",
    "print(process_sample_data(\"CTRL001\", [10.1, 11.5]))  # IndexError - only 2 measurements\n",
    "print(process_sample_data(\"EXP002\", []))  # ZeroDivisionError\n",
    "\n",
    "# Modify the function to handle the test cases\n",
    "def process_sample_data(sample_id, measurements):\n",
    "    try:\n",
    "        if sample_id.startswith(\"CTRL\"):\n",
    "            # Control samples should have exactly 3 measurements\n",
    "            if len(measurements) != 3:\n",
    "                raise ValueError(f\"Control sample {sample_id} must have exactly 3 measurements, got {len(measurements)}\")\n",
    "            baseline = measurements[2]  # Use third measurement as baseline\n",
    "        else:\n",
    "            # Experimental samples\n",
    "            if len(measurements) == 0:\n",
    "                return None\n",
    "            baseline = sum(measurements) / len(measurements)\n",
    "        \n",
    "        return baseline * 1.5  # Apply correction factor\n",
    "    except ValueError:\n",
    "        raise  # Re-raise our custom validation errors\n",
    "    except Exception as e:\n",
    "        raise RuntimeError(f\"Failed to process sample {sample_id}: {str(e)}\") from e\n"
   ]
  },
  {
   "cell_type": "markdown",
   "id": "c0284dfd",
   "metadata": {},
   "source": [
    "\n",
    "```python\n",
    "\n",
    "```\n",
    "\n",
    "\n",
    "\n",
    "---\n",
    "\n",
    "## Notes:\n",
    "- Do **not** write out the function again, modify the original function to look like the result function\n",
    "- Test your modifications with the provided test cases\n",
    "- Use specific exception types where possible to avoid catching unintended errors"
   ]
  },
  {
   "cell_type": "code",
   "execution_count": null,
   "id": "5f642f07",
   "metadata": {},
   "outputs": [],
   "source": []
  }
 ],
 "metadata": {
  "kernelspec": {
   "display_name": "teaching_data_analysis",
   "language": "python",
   "name": "python3"
  },
  "language_info": {
   "codemirror_mode": {
    "name": "ipython",
    "version": 3
   },
   "file_extension": ".py",
   "mimetype": "text/x-python",
   "name": "python",
   "nbconvert_exporter": "python",
   "pygments_lexer": "ipython3",
   "version": "3.13.2"
  }
 },
 "nbformat": 4,
 "nbformat_minor": 5
}
