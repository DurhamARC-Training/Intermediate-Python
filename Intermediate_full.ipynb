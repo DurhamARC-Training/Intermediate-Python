{
 "cells": [
  {
   "cell_type": "markdown",
   "id": "872c6494",
   "metadata": {
    "editable": true,
    "slideshow": {
     "slide_type": "slide"
    },
    "tags": []
   },
   "source": [
    "ARC course \"Coding with Python\" (Intermediate level)\n",
    "====================================================\n",
    "![icons8-python-48.png](images/icons8-python-48.png)"
   ]
  },
  {
   "cell_type": "markdown",
   "id": "2cd478b7",
   "metadata": {
    "editable": true,
    "slideshow": {
     "slide_type": ""
    }
   },
   "source": [
    "Welcome to our ARC course \"Coding with Python\" (Intermediate level).\n",
    "\n",
    "Some general information on how the course will run:\n",
    "\n",
    "* The course will run for three hours from 09:00 to 12:00. We plan a coffee break between 2 parts at around 10:30 for ~10-15 min.\n",
    "\n",
    "* This material builds upon the knowledge acquired in the previous Beginner level course.\n",
    "\n",
    "* Each topic will be presented wih code demonstrations followed by practical exercises.\n",
    "\n",
    "* We are happy to answer any questions during the course and to help during the exercises.\n",
    "\n",
    "Upon completion of the course, please, don't forget to scan the activity QR code to record your attendance.\n",
    "\n",
    "Enjoy coding with Python!"
   ]
  },
  {
   "cell_type": "markdown",
   "id": "4d58fde4",
   "metadata": {
    "editable": true,
    "slideshow": {
     "slide_type": "slide"
    },
    "tags": []
   },
   "source": [
    "## Set up your Python environment"
   ]
  },
  {
   "cell_type": "markdown",
   "id": "1366a29a",
   "metadata": {
    "editable": true,
    "slideshow": {
     "slide_type": ""
    },
    "tags": []
   },
   "source": [
    "There are several option how you can read and run this Jupyter notebook:"
   ]
  },
  {
   "cell_type": "markdown",
   "id": "ed65e163",
   "metadata": {
    "editable": true,
    "slideshow": {
     "slide_type": "slide"
    },
    "tags": []
   },
   "source": [
    "#### <ins>Option 1 (preferred)</ins>: The Jupyter Notebook server set up by Daniel Maitre from the Physics department"
   ]
  },
  {
   "cell_type": "markdown",
   "id": "233e191c",
   "metadata": {
    "editable": true,
    "slideshow": {
     "slide_type": ""
    },
    "tags": []
   },
   "source": [
    "1) Log in with your CIS account (loading process can take some time):\n",
    "   - https://notebooks.dmaitre.phyip3.dur.ac.uk/arc\n",
    "\n",
    "2) Upload this tutorial course\n",
    "   - Go to the repository: https://github.com/DurhamARC-Training/Intermediate-Python\n",
    "   - Download `pull_files_from_repo_cwp.py` file into your environment and upload it to the Jupyter Notebook server\n",
    "   - Open the terminal on the Jupyter Notebook server and execute `python pull_files_from_repo_cwp.py`. It'll upload the entire tutorial from GitHub to the server"
   ]
  },
  {
   "cell_type": "markdown",
   "id": "e673e2cd",
   "metadata": {
    "editable": true,
    "slideshow": {
     "slide_type": "slide"
    },
    "tags": []
   },
   "source": [
    "# <ins>Table of Contents</ins>"
   ]
  },
  {
   "cell_type": "markdown",
   "id": "85069fdb",
   "metadata": {
    "editable": true,
    "slideshow": {
     "slide_type": ""
    },
    "tags": []
   },
   "source": [
    "  - [0. Introduction](#0.-Introduction)\n",
    "    - [Set up your Python environment](#Set-up-your-Python-environment)\n",
    "    - [Course objectives](#Course-objectives)\n",
    "    - [Useful resources](#Useful-resources)\n",
    "- [Part I](#Part-I)\n",
    "  - [1. Recap](#1.-Recap)\n",
    "  - [2. Data structures](#2.-Data-structures)\n",
    "  - [3. Conditional expression](#3.-Conditional-expressions)\n",
    "  - [4. Comprehensions](#4.-comprehensions)\n",
    "  - [5. Advanced string manipulation](#5.-Advanced-string-manipulation)\n",
    "\n",
    "- [Part II](#Part-II)\n",
    "  - [6. Iterators beneath control flows](#6.-Iterators-beneath-control-flows)\n",
    "  - [7. Lambda functions](#7.-Lambda-functions)\n",
    "  - [8. Introduction to modules](#8.-Introduction-to-modules)\n",
    "  - [9. Brief introduction to classes](#9.-Brief-introduction-to-classes)"
   ]
  },
  {
   "cell_type": "markdown",
   "id": "153ed362",
   "metadata": {
    "editable": true,
    "slideshow": {
     "slide_type": "slide"
    },
    "tags": []
   },
   "source": [
    "# <ins>0.</ins> Introduction"
   ]
  },
  {
   "cell_type": "markdown",
   "id": "6ba842c0",
   "metadata": {
    "editable": true,
    "slideshow": {
     "slide_type": "slide"
    },
    "tags": []
   },
   "source": [
    "## Course objectives"
   ]
  },
  {
   "cell_type": "markdown",
   "id": "b1d20fc9",
   "metadata": {
    "editable": true,
    "slideshow": {
     "slide_type": ""
    },
    "tags": []
   },
   "source": [
    "By the end of this course, you should know:\n",
    "\n",
    "- How to write more efficient and _Pythonic_ code using advanced language features.\n",
    "- How to simplify your code with _comprehensions_ and _conditional expressions_.\n",
    "- How to write and utilize _lambdas_ (anonymous functions).\n",
    "- How to perform advanced _string manipulation_ techniques.\n",
    "- How to import and use _modules_ to extend your programs.\n",
    "- How to work with various data structures and understand the concept of _immutability_.\n",
    "- How to create and use basic _classes_ to implement object-oriented programming principles."
   ]
  },
  {
   "cell_type": "markdown",
   "id": "cdfa9441",
   "metadata": {
    "editable": true,
    "slideshow": {
     "slide_type": "slide"
    },
    "tags": []
   },
   "source": [
    "## Useful resources"
   ]
  },
  {
   "cell_type": "markdown",
   "id": "3eadf8e2",
   "metadata": {
    "editable": true,
    "slideshow": {
     "slide_type": ""
    }
   },
   "source": [
    "There are plenty of resources to learn Python in the Internet from. These can be recommended by this tutorial for further learning:\n",
    "\n",
    "- [The Python Tutorial](https://docs.python.org/3/tutorial/) from Python documentation\n",
    "- [Python Cheat Sheets](https://pythononeliners.com/)\n",
    "- [Collection of free Python books](https://blog.finxter.com/free-python-books/)\n",
    "- [Python tips](https://book.pythontips.com/en/latest/index.html)"
   ]
  },
  {
   "cell_type": "markdown",
   "id": "26d2d446",
   "metadata": {
    "editable": true,
    "slideshow": {
     "slide_type": "slide"
    },
    "tags": []
   },
   "source": [
    "# <ins>**Part I**</ins>"
   ]
  },
  {
   "cell_type": "markdown",
   "id": "4e49802b",
   "metadata": {
    "editable": true,
    "slideshow": {
     "slide_type": "slide"
    },
    "tags": []
   },
   "source": [
    "# <ins>1.</ins> Recap"
   ]
  },
  {
   "cell_type": "markdown",
   "id": "f99bdeea",
   "metadata": {
    "editable": true,
    "slideshow": {
     "slide_type": ""
    }
   },
   "source": [
    "This section is a brief recap of materials covered in the Beginner Python course:\n",
    "\n",
    "* Data Types, variables, operators\n",
    "* Comments\n",
    "* User input\n",
    "* Reading and Writing Files\n",
    "* Lists\n",
    "* Repetitions and Conditions\n",
    "* Functions\n"
   ]
  },
  {
   "cell_type": "markdown",
   "id": "b721c83a",
   "metadata": {
    "editable": true,
    "slideshow": {
     "slide_type": "slide"
    },
    "tags": []
   },
   "source": [
    "## Data Types, variables, operators"
   ]
  },
  {
   "cell_type": "markdown",
   "id": "de74f8e6",
   "metadata": {
    "@deathbeds/jupyterlab-fonts": {
     "styles": {
      "": {
       "body[data-jp-deck-mode='presenting'] &": {
        "opacity": null
       }
      }
     }
    },
    "editable": true,
    "slideshow": {
     "slide_type": "fragment"
    },
    "tags": []
   },
   "source": [
    "## Variables\n",
    "Hold the value of a data type in memory!\n",
    "\n",
    "**NOTE:** Please give variables clear and explanative names."
   ]
  },
  {
   "cell_type": "code",
   "execution_count": null,
   "id": "decd8f2c",
   "metadata": {
    "editable": true,
    "slideshow": {
     "slide_type": ""
    },
    "tags": []
   },
   "outputs": [],
   "source": [
    "enrolled_students = 728"
   ]
  },
  {
   "cell_type": "code",
   "execution_count": null,
   "id": "1489fa3d",
   "metadata": {
    "editable": true,
    "slideshow": {
     "slide_type": ""
    },
    "tags": []
   },
   "outputs": [],
   "source": [
    "work_hours = 7.5"
   ]
  },
  {
   "cell_type": "code",
   "execution_count": null,
   "id": "fb6110d3",
   "metadata": {
    "editable": true,
    "slideshow": {
     "slide_type": ""
    }
   },
   "outputs": [],
   "source": [
    "is_loaded = False"
   ]
  },
  {
   "cell_type": "code",
   "execution_count": null,
   "id": "ac31e498",
   "metadata": {
    "editable": true,
    "slideshow": {
     "slide_type": ""
    }
   },
   "outputs": [],
   "source": [
    "welcome_message = \"Welcome!\""
   ]
  },
  {
   "cell_type": "markdown",
   "id": "e1bd297e",
   "metadata": {
    "editable": true,
    "slideshow": {
     "slide_type": "fragment"
    },
    "tags": []
   },
   "source": [
    "---\n",
    "**NOTE:** Values can be overwritten!\n",
    "\n",
    "If we define a new `welcome_message`, it changes."
   ]
  },
  {
   "cell_type": "code",
   "execution_count": null,
   "id": "94b6e716",
   "metadata": {
    "editable": true,
    "slideshow": {
     "slide_type": ""
    },
    "tags": []
   },
   "outputs": [],
   "source": [
    "welcome_message = \"Welcome, User\""
   ]
  },
  {
   "cell_type": "code",
   "execution_count": null,
   "id": "d11dd969",
   "metadata": {
    "editable": true,
    "slideshow": {
     "slide_type": ""
    },
    "tags": []
   },
   "outputs": [],
   "source": [
    "print(welcome_message)"
   ]
  },
  {
   "cell_type": "markdown",
   "id": "2a63c2dd",
   "metadata": {
    "editable": true,
    "slideshow": {
     "slide_type": "slide"
    },
    "tags": []
   },
   "source": [
    "## Data types"
   ]
  },
  {
   "cell_type": "markdown",
   "id": "7ab44bf2",
   "metadata": {
    "editable": true,
    "slideshow": {
     "slide_type": ""
    },
    "tags": []
   },
   "source": [
    "As with any programming language, Python can deal with many different data types. Among the basic ones are `str` strings, `int` integers, `float` floating-point numbers and `bool` booleans.\n",
    "\n",
    "* an example of a _numeric_ value, _integer_ value;\n",
    "* an integer _expression_, a basic building block of a Python _statement_;\n",
    "* normal arithmetic addition"
   ]
  },
  {
   "cell_type": "markdown",
   "id": "c33c20f5",
   "metadata": {
    "editable": true,
    "slideshow": {
     "slide_type": "slide"
    },
    "tags": []
   },
   "source": [
    "#### <u>Numerical</u>"
   ]
  },
  {
   "cell_type": "markdown",
   "id": "7a797eab",
   "metadata": {
    "editable": true,
    "slideshow": {
     "slide_type": "fragment"
    },
    "tags": []
   },
   "source": [
    "##### Floating-point representation:\n",
    "* A built-in `float` is typically a double-precision (64-bit) floating-point number, following the IEEE 754 standard\n",
    "\n",
    "| Title | Storage | Smallest Magnitude | Largest Magnitude | Minimum Precision |\n",
    "|-------|---------|--------------------|-------------------|-------------------|\n",
    "| float | 64 bits | 2.22507 × 10e−308  | 1.79769 × 10+308  | ~15-17 digits     |"
   ]
  },
  {
   "cell_type": "code",
   "execution_count": null,
   "id": "c13d9a15",
   "metadata": {
    "editable": true,
    "slideshow": {
     "slide_type": ""
    }
   },
   "outputs": [],
   "source": [
    "pi = 3.14159\n",
    "print(\"Pi =\", pi)"
   ]
  },
  {
   "cell_type": "code",
   "execution_count": null,
   "id": "26b8760c",
   "metadata": {
    "editable": true,
    "slideshow": {
     "slide_type": ""
    }
   },
   "outputs": [],
   "source": [
    "type(pi) # float"
   ]
  },
  {
   "cell_type": "markdown",
   "id": "b9324c88",
   "metadata": {
    "editable": true,
    "slideshow": {
     "slide_type": "fragment"
    }
   },
   "source": [
    "_NOTE_: Scientific notation is supported!"
   ]
  },
  {
   "cell_type": "code",
   "execution_count": null,
   "id": "3253e3d0",
   "metadata": {
    "editable": true,
    "slideshow": {
     "slide_type": ""
    }
   },
   "outputs": [],
   "source": [
    "avogadros_number = 6.022e23\n",
    "c = 2.998e8\n",
    "print(\"Avogadro's number =\", avogadros_number)\n",
    "print(\"Speed of light =\", c)"
   ]
  },
  {
   "cell_type": "markdown",
   "id": "397f9f86",
   "metadata": {
    "editable": true,
    "slideshow": {
     "slide_type": "slide"
    }
   },
   "source": [
    "##### Integer representation:\n",
    "* No Fixed Bounds. You can store extremely large positive or negative integers, constrained only by the available memory\n",
    "* No explicit smallest or largest representable `int`"
   ]
  },
  {
   "cell_type": "code",
   "execution_count": null,
   "id": "3342a922",
   "metadata": {
    "editable": true,
    "slideshow": {
     "slide_type": ""
    }
   },
   "outputs": [],
   "source": [
    "n = 3\n",
    "print(n)"
   ]
  },
  {
   "cell_type": "code",
   "execution_count": null,
   "id": "36e671e1",
   "metadata": {
    "editable": true,
    "slideshow": {
     "slide_type": ""
    }
   },
   "outputs": [],
   "source": [
    "type(n) # integer"
   ]
  },
  {
   "cell_type": "markdown",
   "id": "b68a5bbf",
   "metadata": {
    "editable": true,
    "slideshow": {
     "slide_type": "slide"
    }
   },
   "source": [
    "<u>**Numerical Operators**</u>  \n",
    "\n",
    "- Numerical data: `+`, `-`, `*`, `/`, `%`, `**`, built-in functions `abs`, ...\n",
    "- Order of execution:\n",
    "    1. `()`\n",
    "    2. `**`\n",
    "    3. `*`, `/`\n",
    "    4. `+`, `-`\n",
    "    5. Left-to-right (except exponentiation!)\n",
    "\n",
    "So, use parenthesis to make sure!"
   ]
  },
  {
   "cell_type": "code",
   "execution_count": null,
   "id": "af62e441",
   "metadata": {
    "editable": true,
    "slideshow": {
     "slide_type": ""
    }
   },
   "outputs": [],
   "source": [
    "print(\"Addition:\", 1 + 2)"
   ]
  },
  {
   "cell_type": "code",
   "execution_count": null,
   "id": "7e7ef933",
   "metadata": {
    "editable": true,
    "slideshow": {
     "slide_type": ""
    }
   },
   "outputs": [],
   "source": [
    "print(\"Subtraction:\", 1 - 2)"
   ]
  },
  {
   "cell_type": "code",
   "execution_count": null,
   "id": "28810d42",
   "metadata": {
    "editable": true,
    "slideshow": {
     "slide_type": ""
    }
   },
   "outputs": [],
   "source": [
    "print(\"Multiplication:\", 5 * 10)"
   ]
  },
  {
   "cell_type": "code",
   "execution_count": null,
   "id": "8b66a0a4",
   "metadata": {
    "editable": true,
    "slideshow": {
     "slide_type": ""
    }
   },
   "outputs": [],
   "source": [
    "print(\"Division:\", 10 / 5)"
   ]
  },
  {
   "cell_type": "code",
   "execution_count": null,
   "id": "6984dbe1",
   "metadata": {
    "editable": true,
    "slideshow": {
     "slide_type": ""
    }
   },
   "outputs": [],
   "source": [
    "print(\"Modulus:\", 10 % 3)"
   ]
  },
  {
   "cell_type": "code",
   "execution_count": null,
   "id": "74e37711",
   "metadata": {
    "editable": true,
    "slideshow": {
     "slide_type": ""
    }
   },
   "outputs": [],
   "source": [
    "print(\"Exponentiation:\", 2 ** 3)"
   ]
  },
  {
   "cell_type": "markdown",
   "id": "9ca15865",
   "metadata": {
    "editable": true,
    "slideshow": {
     "slide_type": "slide"
    }
   },
   "source": [
    "#### <u>Boolean</u>"
   ]
  },
  {
   "cell_type": "code",
   "execution_count": null,
   "id": "d7b7abb8",
   "metadata": {
    "editable": true,
    "slideshow": {
     "slide_type": ""
    }
   },
   "outputs": [],
   "source": [
    "b1 = False\n",
    "b2 = True\n",
    "print(b1)"
   ]
  },
  {
   "cell_type": "code",
   "execution_count": null,
   "id": "9296bb88",
   "metadata": {
    "editable": true,
    "slideshow": {
     "slide_type": ""
    }
   },
   "outputs": [],
   "source": [
    "type(True) # boolean"
   ]
  },
  {
   "cell_type": "markdown",
   "id": "eae67d96",
   "metadata": {
    "editable": true,
    "slideshow": {
     "slide_type": "slide"
    },
    "tags": []
   },
   "source": [
    "<u>**Logical Operators**</u>  \n",
    "We can also determine conditions based on Boolean logic: `and`, `or`, `not`"
   ]
  },
  {
   "cell_type": "markdown",
   "id": "b38b2739",
   "metadata": {
    "editable": true,
    "slideshow": {
     "slide_type": "fragment"
    },
    "tags": []
   },
   "source": [
    "**AND:**"
   ]
  },
  {
   "cell_type": "code",
   "execution_count": null,
   "id": "db33e773",
   "metadata": {
    "editable": true,
    "slideshow": {
     "slide_type": ""
    },
    "tags": []
   },
   "outputs": [],
   "source": [
    "a = True\n",
    "b = False\n",
    "\n",
    "a and b"
   ]
  },
  {
   "cell_type": "markdown",
   "id": "8b00b658",
   "metadata": {
    "editable": true,
    "slideshow": {
     "slide_type": "fragment"
    },
    "tags": []
   },
   "source": [
    "---\n",
    "**OR:**"
   ]
  },
  {
   "cell_type": "code",
   "execution_count": null,
   "id": "725d0173",
   "metadata": {
    "editable": true,
    "slideshow": {
     "slide_type": ""
    }
   },
   "outputs": [],
   "source": [
    "a = True\n",
    "b = False\n",
    "\n",
    "a or b"
   ]
  },
  {
   "cell_type": "markdown",
   "id": "6a10fe2f",
   "metadata": {
    "editable": true,
    "slideshow": {
     "slide_type": "fragment"
    }
   },
   "source": [
    "---\n",
    "**NOT:**"
   ]
  },
  {
   "cell_type": "code",
   "execution_count": null,
   "id": "27378611",
   "metadata": {
    "editable": true,
    "slideshow": {
     "slide_type": ""
    },
    "tags": []
   },
   "outputs": [],
   "source": [
    "a = True\n",
    "\n",
    "not a"
   ]
  },
  {
   "cell_type": "markdown",
   "id": "a5e3ab30",
   "metadata": {
    "editable": true,
    "slideshow": {
     "slide_type": "slide"
    },
    "tags": []
   },
   "source": [
    "#### <u>String</u>"
   ]
  },
  {
   "cell_type": "markdown",
   "id": "ba570bf4",
   "metadata": {
    "editable": true,
    "slideshow": {
     "slide_type": "fragment"
    }
   },
   "source": [
    "A string is a series of characters enclosed in quotes, either single or double, used to represent text."
   ]
  },
  {
   "cell_type": "code",
   "execution_count": null,
   "id": "ea3df5a1",
   "metadata": {
    "editable": true,
    "slideshow": {
     "slide_type": ""
    },
    "tags": []
   },
   "outputs": [],
   "source": [
    "s = 'Hello, World!'\n",
    "s = \"Hello, World!\"\n",
    "print(s)"
   ]
  },
  {
   "cell_type": "code",
   "execution_count": null,
   "id": "e3c09d2d",
   "metadata": {
    "editable": true,
    "slideshow": {
     "slide_type": ""
    },
    "tags": []
   },
   "outputs": [],
   "source": [
    "type(s) # string"
   ]
  },
  {
   "cell_type": "markdown",
   "id": "50a4347d",
   "metadata": {
    "editable": true,
    "slideshow": {
     "slide_type": "fragment"
    },
    "tags": []
   },
   "source": [
    "<u>**String Concatenation**</u>  \n",
    "\n",
    "We can combine strings together."
   ]
  },
  {
   "cell_type": "code",
   "execution_count": null,
   "id": "d9fadfdc",
   "metadata": {
    "editable": true,
    "slideshow": {
     "slide_type": ""
    }
   },
   "outputs": [],
   "source": [
    "# String concatenation\n",
    "hello_world = \"Hello,\" + \" World!\"\n",
    "print(hello_world)"
   ]
  },
  {
   "cell_type": "markdown",
   "id": "d20cb9b3",
   "metadata": {
    "editable": true,
    "slideshow": {
     "slide_type": "slide"
    },
    "tags": []
   },
   "source": [
    "## Comments"
   ]
  },
  {
   "cell_type": "markdown",
   "id": "7ac031a7",
   "metadata": {
    "editable": true,
    "slideshow": {
     "slide_type": "fragment"
    },
    "tags": []
   },
   "source": [
    "Used to write notes or comments about code, as well as description of what the code is doing, or the variables used."
   ]
  },
  {
   "cell_type": "code",
   "execution_count": null,
   "id": "41b7cdfe",
   "metadata": {
    "editable": true,
    "slideshow": {
     "slide_type": ""
    },
    "tags": []
   },
   "outputs": [],
   "source": [
    "# A single-line comment!\n",
    "welcome_message = \"Welcome, User!\"\n",
    "print(welcome_message)  # Print welcome message"
   ]
  },
  {
   "cell_type": "code",
   "execution_count": null,
   "id": "9c50f102",
   "metadata": {
    "editable": true,
    "slideshow": {
     "slide_type": ""
    },
    "tags": []
   },
   "outputs": [],
   "source": [
    "'''\n",
    "A multi-line comment!\n",
    "'''\n",
    "print(\"something\")"
   ]
  },
  {
   "cell_type": "code",
   "execution_count": null,
   "id": "3f72dedf",
   "metadata": {
    "editable": true,
    "slideshow": {
     "slide_type": ""
    },
    "tags": []
   },
   "outputs": [],
   "source": [
    "\"\"\"\n",
    "Another multi-line comment!\n",
    "\"\"\"\n",
    "print(\"something else\")"
   ]
  },
  {
   "cell_type": "markdown",
   "id": "8ee98ee9",
   "metadata": {
    "editable": true,
    "slideshow": {
     "slide_type": "slide"
    },
    "tags": []
   },
   "source": [
    "## User Input"
   ]
  },
  {
   "cell_type": "markdown",
   "id": "6b2e3c6e",
   "metadata": {
    "editable": true,
    "slideshow": {
     "slide_type": "fragment"
    }
   },
   "source": [
    "You can use `input()` to read user input: "
   ]
  },
  {
   "cell_type": "code",
   "execution_count": null,
   "id": "a1178a62",
   "metadata": {
    "editable": true,
    "slideshow": {
     "slide_type": ""
    },
    "tags": []
   },
   "outputs": [
    {
     "data": {
      "text/plain": [
       "float"
      ]
     },
     "execution_count": 30,
     "metadata": {},
     "output_type": "execute_result"
    }
   ],
   "source": [
    "inputted_variable = float(input())\n",
    "print(inputted_variable)  # Print what we just input!\n",
    "type(inputted_variable)"
   ]
  },
  {
   "cell_type": "markdown",
   "id": "52819c95",
   "metadata": {
    "editable": true,
    "slideshow": {
     "slide_type": "slide"
    },
    "tags": []
   },
   "source": [
    "## Reading and Writing Files"
   ]
  },
  {
   "cell_type": "markdown",
   "id": "a0966820",
   "metadata": {
    "editable": true,
    "slideshow": {
     "slide_type": ""
    },
    "tags": []
   },
   "source": [
    "<u>**Opening a File**</u>\n",
    "\n",
    "Two things to note here:\n",
    " - My object `my_file` is different from my file `\"testfile.txt\"`!\n",
    " - There are different modes:\n",
    "     - read: `'r'`\n",
    "     - (over-)write: `'w'`\n",
    "     - append: `'a'`\n",
    "     - read+write: `'w+'` or `'r+'`\n",
    "\n",
    "[Python Documentation (mode)](https://docs.python.org/3/tutorial/inputoutput.html#reading-and-writing-files)"
   ]
  },
  {
   "cell_type": "code",
   "execution_count": null,
   "id": "38966db9",
   "metadata": {
    "editable": true,
    "slideshow": {
     "slide_type": ""
    },
    "tags": []
   },
   "outputs": [],
   "source": [
    "# Using a with statement\n",
    "with open('./data/data_file.txt', 'r') as text_file:\n",
    "    content = text_file.read()\n",
    "    print(content)"
   ]
  },
  {
   "cell_type": "markdown",
   "id": "aadba414",
   "metadata": {
    "editable": true,
    "slideshow": {
     "slide_type": "slide"
    },
    "tags": []
   },
   "source": [
    "<u>**Reading from a File**</u>\n",
    "\n",
    "Here are some file functions for reading from a file:\n",
    "\n",
    "* file.read() - Read the entire file content line-by-line\n",
    "* file.readlines() - Read all lines into a List object"
   ]
  },
  {
   "cell_type": "code",
   "execution_count": null,
   "id": "7f0a6056",
   "metadata": {
    "editable": true,
    "slideshow": {
     "slide_type": ""
    },
    "tags": []
   },
   "outputs": [],
   "source": [
    "with open(\"./data/data_file.txt\") as text_file:\n",
    "    print(text_file.read())"
   ]
  },
  {
   "cell_type": "code",
   "execution_count": null,
   "id": "ec567746",
   "metadata": {
    "editable": true,
    "slideshow": {
     "slide_type": ""
    },
    "tags": []
   },
   "outputs": [],
   "source": [
    "with open(\"./data/data_file.txt\") as text_file:\n",
    "    print(text_file.readlines())"
   ]
  },
  {
   "cell_type": "markdown",
   "id": "1f1185e6",
   "metadata": {
    "editable": true,
    "slideshow": {
     "slide_type": "slide"
    },
    "tags": []
   },
   "source": [
    "<u>**Writing to a File**</u>"
   ]
  },
  {
   "cell_type": "markdown",
   "id": "179f132a",
   "metadata": {
    "editable": true,
    "slideshow": {
     "slide_type": "fragment"
    },
    "tags": []
   },
   "source": [
    "One way we can write to files is using the `write()` function."
   ]
  },
  {
   "cell_type": "markdown",
   "id": "e998f8fe",
   "metadata": {
    "editable": true,
    "slideshow": {
     "slide_type": "fragment"
    },
    "tags": []
   },
   "source": [
    "Using the `with` keyword:"
   ]
  },
  {
   "cell_type": "code",
   "execution_count": null,
   "id": "911d44b3",
   "metadata": {
    "editable": true,
    "slideshow": {
     "slide_type": ""
    },
    "tags": []
   },
   "outputs": [],
   "source": [
    "with open(\"./data/testfile.txt\", \"w\") as text_file:\n",
    "    text_file.write(\"Some words \\n\")\n",
    "    text_file.write(str(25))"
   ]
  },
  {
   "cell_type": "markdown",
   "id": "b61a8691",
   "metadata": {
    "editable": true,
    "slideshow": {
     "slide_type": "slide"
    },
    "tags": []
   },
   "source": [
    "## Lists"
   ]
  },
  {
   "cell_type": "markdown",
   "id": "9c82edee",
   "metadata": {
    "editable": true,
    "slideshow": {
     "slide_type": ""
    },
    "tags": []
   },
   "source": [
    "Python can work not only with basic data types mentioned before, but also with compound ones. Compound data types in Python are a powerful tool for organizing and storing data. Among the most commonly used is _lists_ which we learned about in the beginner's course.\n",
    "\n",
    "* [List](https://docs.python.org/3/tutorial/datastructures.html#Lists)\n",
    "\n",
    "We'll learn about other data structures later today."
   ]
  },
  {
   "cell_type": "markdown",
   "id": "8bb91a15",
   "metadata": {
    "editable": true,
    "slideshow": {
     "slide_type": ""
    },
    "tags": []
   },
   "source": [
    "An ordered list of items, accessed by a numerical index (starting at `0`). Elements within a list can be removed, modified, or accessed by their index, and a list can have values added to it.\n",
    "\n",
    "Defined using square brackets `[]`."
   ]
  },
  {
   "cell_type": "code",
   "execution_count": null,
   "id": "fdc8600e",
   "metadata": {
    "editable": true,
    "slideshow": {
     "slide_type": ""
    },
    "tags": []
   },
   "outputs": [],
   "source": [
    "odd_list = [1, 3, 5, 7, 9]  # A list of odd numbers\n",
    "print(odd_list)"
   ]
  },
  {
   "cell_type": "markdown",
   "id": "efc747a1",
   "metadata": {
    "editable": true,
    "slideshow": {
     "slide_type": "slide"
    },
    "tags": []
   },
   "source": [
    "<u>**List Access**</u>  \n",
    "You can access a list using its index value, starting from `0`."
   ]
  },
  {
   "cell_type": "code",
   "execution_count": null,
   "id": "2b2c4dee",
   "metadata": {
    "editable": true,
    "slideshow": {
     "slide_type": ""
    }
   },
   "outputs": [],
   "source": [
    "odd_list[0]"
   ]
  },
  {
   "cell_type": "code",
   "execution_count": null,
   "id": "3f87d56b",
   "metadata": {
    "editable": true,
    "slideshow": {
     "slide_type": ""
    }
   },
   "outputs": [],
   "source": [
    "odd_list[1]"
   ]
  },
  {
   "cell_type": "code",
   "execution_count": null,
   "id": "b686d58d",
   "metadata": {
    "editable": true,
    "slideshow": {
     "slide_type": "fragment"
    },
    "tags": []
   },
   "outputs": [],
   "source": [
    "odd_list[-1]"
   ]
  },
  {
   "cell_type": "code",
   "execution_count": null,
   "id": "1f916c68",
   "metadata": {
    "editable": true,
    "slideshow": {
     "slide_type": ""
    }
   },
   "outputs": [],
   "source": [
    "odd_list[-2]"
   ]
  },
  {
   "cell_type": "markdown",
   "id": "b8369a1a",
   "metadata": {
    "editable": true,
    "slideshow": {
     "slide_type": "slide"
    },
    "tags": []
   },
   "source": [
    "<u>**Slicing**</u>   \n",
    "You can also use slicing for specific partial list access."
   ]
  },
  {
   "cell_type": "code",
   "execution_count": null,
   "id": "e0fac9bf",
   "metadata": {
    "editable": true,
    "slideshow": {
     "slide_type": ""
    },
    "tags": []
   },
   "outputs": [],
   "source": [
    "odd_list[1:4] # Slicing from index 1 (inclusive), to 4 (exclusive)"
   ]
  },
  {
   "cell_type": "code",
   "execution_count": null,
   "id": "586edf14",
   "metadata": {
    "editable": true,
    "slideshow": {
     "slide_type": ""
    }
   },
   "outputs": [],
   "source": [
    "odd_list[3:]  # Slicing from index 3 to end."
   ]
  },
  {
   "cell_type": "code",
   "execution_count": null,
   "id": "9f0dea38",
   "metadata": {
    "editable": true,
    "slideshow": {
     "slide_type": ""
    }
   },
   "outputs": [],
   "source": [
    "odd_list[:3]  # Slicing from beginning to index 3"
   ]
  },
  {
   "cell_type": "code",
   "execution_count": null,
   "id": "bab8e8a0",
   "metadata": {
    "editable": true,
    "slideshow": {
     "slide_type": ""
    }
   },
   "outputs": [],
   "source": [
    "odd_list[::2]  # Slicing with a step of 2"
   ]
  },
  {
   "cell_type": "markdown",
   "id": "fe6ffaf2",
   "metadata": {
    "editable": true,
    "slideshow": {
     "slide_type": "slide"
    },
    "tags": []
   },
   "source": [
    "<u>**Empty List**</u>   \n",
    "You can create empty lists:"
   ]
  },
  {
   "cell_type": "code",
   "execution_count": null,
   "id": "0edf3fa6",
   "metadata": {
    "editable": true,
    "slideshow": {
     "slide_type": ""
    }
   },
   "outputs": [],
   "source": [
    "new_list = []  # An empty list\n",
    "print(new_list)"
   ]
  },
  {
   "cell_type": "markdown",
   "id": "f87cfa0f",
   "metadata": {
    "editable": true,
    "slideshow": {
     "slide_type": "slide"
    },
    "tags": []
   },
   "source": [
    "## Repetitions and Conditions"
   ]
  },
  {
   "cell_type": "markdown",
   "id": "9303b3ff",
   "metadata": {
    "editable": true,
    "slideshow": {
     "slide_type": "slide"
    }
   },
   "source": [
    "<u>**Conditions**</u>  \n",
    "In order to control program flow, and whether or not code is executed, we can do conditions based on variable values."
   ]
  },
  {
   "cell_type": "code",
   "execution_count": null,
   "id": "a0af6ea1",
   "metadata": {
    "editable": true,
    "slideshow": {
     "slide_type": ""
    }
   },
   "outputs": [],
   "source": [
    "x = 5\n",
    "\n",
    "if x > 2:\n",
    "    print(\"x =\", x, \"is GREATER THAN 2\")\n",
    "\n",
    "if x == 3:\n",
    "    print(\"x =\", x, \"is EQUAL TO 3\")\n",
    "\n",
    "if x >= 3:\n",
    "    print(\"x =\", x, \"is GREATER THAN or EQUAL TO 3\")\n",
    "\n",
    "if x != 0:\n",
    "    print(\"x =\", x, \"IS NOT 0\")\n",
    "\n",
    "if x < 4:\n",
    "    print(\"x =\", x, \"is LESS THAN 4\")"
   ]
  },
  {
   "cell_type": "markdown",
   "id": "3246bbe1",
   "metadata": {
    "editable": true,
    "slideshow": {
     "slide_type": "slide"
    },
    "tags": []
   },
   "source": [
    "<u>**Else/Elif**</u>  \n",
    "\n",
    "We may also specify either/or with `if/else`, and even add extra conditions with `elif`."
   ]
  },
  {
   "cell_type": "code",
   "execution_count": null,
   "id": "8cab77e6",
   "metadata": {
    "editable": true,
    "slideshow": {
     "slide_type": ""
    }
   },
   "outputs": [],
   "source": [
    "x = 10\n",
    "\n",
    "if x > 0:\n",
    "    print(\"x is positive\")\n",
    "elif x < 0:\n",
    "    print(\"x is negative\")\n",
    "else:\n",
    "    print(\"x is zero\")"
   ]
  },
  {
   "cell_type": "markdown",
   "id": "8c87d3f8",
   "metadata": {
    "editable": true,
    "slideshow": {
     "slide_type": "slide"
    },
    "tags": []
   },
   "source": [
    "<u>**Repetitions**</u>  \n",
    "There are a number of ways for us to repeat lines or blocks of code within our program, to do this we use `loops`:"
   ]
  },
  {
   "cell_type": "markdown",
   "id": "095edef4",
   "metadata": {
    "editable": true,
    "slideshow": {
     "slide_type": "slide"
    }
   },
   "source": [
    "<u>For Each Loop:</u>  \n",
    "A for each loop will execute its code for each item specified within the loop definition"
   ]
  },
  {
   "cell_type": "code",
   "execution_count": null,
   "id": "c7dc2e03",
   "metadata": {
    "editable": true,
    "slideshow": {
     "slide_type": ""
    }
   },
   "outputs": [],
   "source": [
    "animal_list = [\"Cat\", \"Dog\", \"Bird\"]\n",
    "\n",
    "for animal in animal_list:\n",
    "    print(\"Current animal is:\", animal)"
   ]
  },
  {
   "cell_type": "markdown",
   "id": "76e99a09",
   "metadata": {
    "editable": true,
    "slideshow": {
     "slide_type": "fragment"
    }
   },
   "source": [
    "The above describes `for each animal in animal_list`."
   ]
  },
  {
   "cell_type": "markdown",
   "id": "e5b05a2c",
   "metadata": {
    "editable": true,
    "slideshow": {
     "slide_type": "fragment"
    },
    "tags": []
   },
   "source": [
    "---\n",
    "We are able to use a range-based for loop:"
   ]
  },
  {
   "cell_type": "code",
   "execution_count": null,
   "id": "b14f546d",
   "metadata": {
    "editable": true,
    "slideshow": {
     "slide_type": ""
    },
    "tags": []
   },
   "outputs": [],
   "source": [
    "for i in range(0, 5):\n",
    "    print(i * 2) # Here we are manipulating the value each time!"
   ]
  },
  {
   "cell_type": "code",
   "execution_count": null,
   "id": "713884f6",
   "metadata": {
    "editable": true,
    "slideshow": {
     "slide_type": ""
    }
   },
   "outputs": [],
   "source": [
    "for i in range(0, 10, 2):  # Here we define a step of 2!\n",
    "    print(i)"
   ]
  },
  {
   "cell_type": "code",
   "execution_count": null,
   "id": "b3078796",
   "metadata": {
    "editable": true,
    "slideshow": {
     "slide_type": ""
    }
   },
   "outputs": [],
   "source": [
    "for i in range(10, 0, -1):  # Counting down from 10, in steps of 1\n",
    "    print(i)"
   ]
  },
  {
   "cell_type": "markdown",
   "id": "99b52e73",
   "metadata": {
    "editable": true,
    "slideshow": {
     "slide_type": "slide"
    },
    "tags": []
   },
   "source": [
    "<u>While Loop</u>  \n",
    "A `while` loop will continue until the defined condition has been met, which can potentially not happen and cause an infinite loop.\n",
    "\n",
    "Here we are printing `n`, then incrementing it by 1, while `n` is LESS THAN 10."
   ]
  },
  {
   "cell_type": "code",
   "execution_count": null,
   "id": "136268d9",
   "metadata": {
    "editable": true,
    "slideshow": {
     "slide_type": ""
    }
   },
   "outputs": [],
   "source": [
    "n = 0\n",
    "\n",
    "while n < 10:\n",
    "    print(n)\n",
    "    n += 1"
   ]
  },
  {
   "cell_type": "markdown",
   "id": "89cd06cc",
   "metadata": {
    "editable": true,
    "slideshow": {
     "slide_type": "fragment"
    }
   },
   "source": [
    "_NOTE_: The `break` keyword can be used to stop execution of a loop.  \n",
    "_NOTE_: Use `ctrl+C` to break execution in your terminal if needed."
   ]
  },
  {
   "cell_type": "markdown",
   "id": "b6c7b631",
   "metadata": {
    "editable": true,
    "slideshow": {
     "slide_type": "slide"
    }
   },
   "source": [
    "## Functions"
   ]
  },
  {
   "cell_type": "markdown",
   "id": "ad3766a1",
   "metadata": {
    "editable": true,
    "slideshow": {
     "slide_type": ""
    }
   },
   "source": [
    "A function is a reusable block of code used to perform a specific task.\n",
    "\n",
    "We define a function using the `def` keyword, then parenthesis, which may contain the function `parameters` or `arguments` (different terms, same thing).\n",
    "\n",
    "_NOTE_: You should give your functions and arguments explanative names."
   ]
  },
  {
   "cell_type": "markdown",
   "id": "b83eb9fd",
   "metadata": {
    "editable": true,
    "slideshow": {
     "slide_type": "slide"
    }
   },
   "source": [
    "<u>**Parameters/Arguments**</u>  \n",
    "A function can receive 0 or more variables as arguments which are 'passed' through and are used during the execution of the function as required."
   ]
  },
  {
   "cell_type": "markdown",
   "id": "25dddacf",
   "metadata": {
    "editable": true,
    "slideshow": {
     "slide_type": "fragment"
    }
   },
   "source": [
    "<u>**Returns**</u>  \n",
    "A function may return a single variable, or variables, it may also return nothing where it is required to just execute some logic."
   ]
  },
  {
   "cell_type": "markdown",
   "id": "aa2983d4",
   "metadata": {
    "editable": true,
    "slideshow": {
     "slide_type": "fragment"
    }
   },
   "source": [
    "Here is a very basic example of a function:"
   ]
  },
  {
   "cell_type": "code",
   "execution_count": null,
   "id": "d4ca99fa",
   "metadata": {
    "editable": true,
    "slideshow": {
     "slide_type": ""
    }
   },
   "outputs": [],
   "source": [
    "def sum_numbers(val_one, val_two):\n",
    "    \"\"\"Sums and returns two numbers\"\"\"\n",
    "    return val_one + val_two  # Sum of both numbers\n",
    "\n",
    "calculated_value = sum_numbers(1, 1)\n",
    "print(calculated_value)"
   ]
  },
  {
   "cell_type": "markdown",
   "id": "429c78c2",
   "metadata": {
    "editable": true,
    "slideshow": {
     "slide_type": "fragment"
    }
   },
   "source": [
    "Note that we are able to save the result of `sum_numbers`, to a variable which we have aptly named `calculated_value`, which can be reused later."
   ]
  },
  {
   "cell_type": "markdown",
   "id": "f64d31aa",
   "metadata": {
    "editable": true,
    "slideshow": {
     "slide_type": "fragment"
    },
    "tags": []
   },
   "source": [
    "---\n",
    "Here we are modifying setting a default value for our `name` argument:"
   ]
  },
  {
   "cell_type": "code",
   "execution_count": null,
   "id": "643f4038",
   "metadata": {
    "editable": true,
    "slideshow": {
     "slide_type": ""
    },
    "tags": []
   },
   "outputs": [],
   "source": [
    "def generate_greeting(name='Guest'):\n",
    "    \"\"\"\n",
    "    Generate the default greeting message.\n",
    "    Name will default to 'guest'.\n",
    "    \"\"\"\n",
    "    print(f\"Hello, {name}!\")\n",
    "\n",
    "generate_greeting()\n",
    "generate_greeting(\"User\")"
   ]
  },
  {
   "cell_type": "markdown",
   "id": "b07b62ef",
   "metadata": {
    "editable": true,
    "slideshow": {
     "slide_type": "fragment"
    }
   },
   "source": [
    "Without specifying the `name` argument, the `generate_greeting` will use the default value specified within the function definition."
   ]
  },
  {
   "cell_type": "markdown",
   "id": "7e95592e",
   "metadata": {
    "editable": true,
    "slideshow": {
     "slide_type": "slide"
    },
    "tags": []
   },
   "source": [
    "# <ins>2.</ins> Data structures\n",
    "In the _Beginner_ level course, we've introduced to _lists_, the most commonly used compound data structure in Python. Here, we'll learn about methods for lists and we'll introduce to other data structures: _**dictionaries**_, _**sets**_ and _**tuples**_.\n",
    "\n",
    "You can learn more about data structures in Python here: : [Python Documentation(Data Structures)](https://docs.python.org/3/tutorial/datastructures.html)"
   ]
  },
  {
   "cell_type": "markdown",
   "id": "aae1eed3",
   "metadata": {
    "editable": true,
    "slideshow": {
     "slide_type": "slide"
    },
    "tags": []
   },
   "source": [
    "## List methods\n",
    "There is a number of useful methods that can be applied to lists, let use this one as example"
   ]
  },
  {
   "cell_type": "code",
   "execution_count": null,
   "id": "cb25df04",
   "metadata": {
    "editable": true,
    "remove_code": "non-comments",
    "slideshow": {
     "slide_type": ""
    }
   },
   "outputs": [],
   "source": [
    "# generate a list with three integer values\n",
    "lst = [33, 84, 11]\n",
    "print(lst)"
   ]
  },
  {
   "cell_type": "markdown",
   "id": "50327676",
   "metadata": {
    "editable": true,
    "slideshow": {
     "slide_type": "fragment"
    }
   },
   "source": [
    "We can access the number of elements with `len`"
   ]
  },
  {
   "cell_type": "code",
   "execution_count": null,
   "id": "250138ea",
   "metadata": {
    "editable": true,
    "remove_code": "non-comments",
    "slideshow": {
     "slide_type": ""
    }
   },
   "outputs": [],
   "source": [
    "# print the number of elements in a list\n",
    "print(len(lst))"
   ]
  },
  {
   "cell_type": "markdown",
   "id": "5bda75d6",
   "metadata": {
    "editable": true,
    "slideshow": {
     "slide_type": "slide"
    },
    "tags": []
   },
   "source": [
    "### Adding and removing values\n",
    "We can add an element with `insert` and `append`. Notice that this in the grand scheme of things this is slow, so if you can avoid this, you should:"
   ]
  },
  {
   "cell_type": "code",
   "execution_count": null,
   "id": "e1027891",
   "metadata": {
    "editable": true,
    "remove_code": "non-comments",
    "slideshow": {
     "slide_type": ""
    }
   },
   "outputs": [],
   "source": [
    "# add a value in the middle\n",
    "lst.insert(3, 112)\n",
    "print(lst)"
   ]
  },
  {
   "cell_type": "code",
   "execution_count": null,
   "id": "48a12e4a",
   "metadata": {
    "editable": true,
    "remove_code": "non-comments",
    "slideshow": {
     "slide_type": ""
    }
   },
   "outputs": [],
   "source": [
    "# add a value at the end\n",
    "lst.append(53)\n",
    "print(lst)"
   ]
  },
  {
   "cell_type": "markdown",
   "id": "7e4b1b25",
   "metadata": {
    "editable": true,
    "slideshow": {
     "slide_type": "fragment"
    }
   },
   "source": [
    "removing a specific element"
   ]
  },
  {
   "cell_type": "code",
   "execution_count": null,
   "id": "3a23bbd1",
   "metadata": {
    "editable": true,
    "remove_code": "non-comments",
    "slideshow": {
     "slide_type": ""
    }
   },
   "outputs": [],
   "source": [
    "# remove a value\n",
    "lst.remove(11)\n",
    "print(lst)"
   ]
  },
  {
   "cell_type": "markdown",
   "id": "290722a8",
   "metadata": {
    "editable": true,
    "slideshow": {
     "slide_type": "slide"
    },
    "tags": []
   },
   "source": [
    "### Iterating over lists\n",
    "with the `for ... in` construct we can iterate over each element of a list"
   ]
  },
  {
   "cell_type": "code",
   "execution_count": null,
   "id": "54db3f5f",
   "metadata": {
    "editable": true,
    "remove_code": "non-comments",
    "slideshow": {
     "slide_type": ""
    }
   },
   "outputs": [],
   "source": [
    "# print the values in a list with a for loop\n",
    "for i in lst:\n",
    "    print(i)"
   ]
  },
  {
   "cell_type": "markdown",
   "id": "81d1f392",
   "metadata": {
    "editable": true,
    "slideshow": {
     "slide_type": "fragment"
    }
   },
   "source": [
    "we can iterate over the list starting from the back using `reversed`"
   ]
  },
  {
   "cell_type": "code",
   "execution_count": null,
   "id": "230fdc57",
   "metadata": {
    "editable": true,
    "slideshow": {
     "slide_type": ""
    }
   },
   "outputs": [],
   "source": [
    "# print the reversed elements\n",
    "for i in reversed(lst):\n",
    "    print(i)"
   ]
  },
  {
   "cell_type": "markdown",
   "id": "f6fce9a1",
   "metadata": {
    "editable": true,
    "slideshow": {
     "slide_type": "fragment"
    }
   },
   "source": [
    "and `sorted`, sorts the values"
   ]
  },
  {
   "cell_type": "code",
   "execution_count": null,
   "id": "100c9390",
   "metadata": {
    "editable": true,
    "remove_code": "non-comments",
    "slideshow": {
     "slide_type": ""
    }
   },
   "outputs": [],
   "source": [
    "# print the sorted elements\n",
    "for i in sorted(lst):\n",
    "    print(i)"
   ]
  },
  {
   "cell_type": "markdown",
   "id": "b26074d7",
   "metadata": {
    "editable": true,
    "slideshow": {
     "slide_type": "fragment"
    }
   },
   "source": [
    "If you want a reversed new list you need to convert the iterator into a list"
   ]
  },
  {
   "cell_type": "code",
   "execution_count": null,
   "id": "5279a6b8",
   "metadata": {
    "editable": true,
    "remove_code": "non-comments",
    "slideshow": {
     "slide_type": ""
    }
   },
   "outputs": [],
   "source": [
    "# print the iterator\n",
    "print(reversed(lst))"
   ]
  },
  {
   "cell_type": "code",
   "execution_count": null,
   "id": "ad34c0bf",
   "metadata": {
    "editable": true,
    "remove_code": "non-comments",
    "slideshow": {
     "slide_type": ""
    }
   },
   "outputs": [],
   "source": [
    "# print the converted list\n",
    "print(list(reversed(lst)))"
   ]
  },
  {
   "cell_type": "markdown",
   "id": "e00e5f84",
   "metadata": {
    "editable": true,
    "slideshow": {
     "slide_type": "slide"
    },
    "tags": []
   },
   "source": [
    "### Checking if an item is in a list\n",
    "\n",
    "with the `in` keyword you can check whether an item is in a list, with `.index(el)` you can get the index of an element"
   ]
  },
  {
   "cell_type": "code",
   "execution_count": null,
   "id": "0e61b0ef",
   "metadata": {
    "editable": true,
    "remove_code": "non-comments",
    "slideshow": {
     "slide_type": ""
    }
   },
   "outputs": [],
   "source": [
    "# Check whether an item is in the list and if yes print its position\n",
    "if 84 in lst:\n",
    "    position = lst.index(84)\n",
    "    print(f'84 is at index {position}')\n",
    "print(lst)"
   ]
  },
  {
   "cell_type": "markdown",
   "id": "8be77c84",
   "metadata": {
    "editable": true,
    "slideshow": {
     "slide_type": "slide"
    },
    "tags": []
   },
   "source": [
    "### Emptying a list"
   ]
  },
  {
   "cell_type": "code",
   "execution_count": null,
   "id": "867aa292",
   "metadata": {
    "editable": true,
    "remove_code": "non-comments",
    "slideshow": {
     "slide_type": ""
    }
   },
   "outputs": [],
   "source": [
    "# empty a list completely\n",
    "print(lst.clear())"
   ]
  },
  {
   "cell_type": "markdown",
   "id": "04d87890",
   "metadata": {
    "editable": true,
    "slideshow": {
     "slide_type": "slide"
    },
    "tags": []
   },
   "source": [
    "## _Tuples_\n",
    "A _tuple_ is essentially an immutable list. Indexing and slicing work the same as with lists. As with lists, you can get the length of the tuple by using the `len` function, and, like lists, tuples have `count` and `index` methods. However, since a _tuple_ is immutable, it does not have any of the other methods that lists have (such as `sort` or `reverse`). Tuples are enclosed in parentheses (`()`), though the parentheses are actually optional."
   ]
  },
  {
   "cell_type": "code",
   "execution_count": null,
   "id": "3afd38d5",
   "metadata": {
    "editable": true,
    "remove_code": "non-comments",
    "slideshow": {
     "slide_type": ""
    }
   },
   "outputs": [],
   "source": [
    "# Initialise an empty tuple\n",
    "my_tuple = tuple()\n",
    "my_tuple"
   ]
  },
  {
   "cell_type": "code",
   "execution_count": null,
   "id": "4bf75e76",
   "metadata": {
    "editable": true,
    "remove_code": "non-comments",
    "slideshow": {
     "slide_type": ""
    }
   },
   "outputs": [],
   "source": [
    "# Initialising a tuple with values\n",
    "my_tuple = (1,2,3)\n",
    "print(my_tuple)\n",
    "\n",
    "# Initialising a tuple with one value\n",
    "my_tuple = (1,)\n",
    "print(my_tuple)"
   ]
  },
  {
   "cell_type": "code",
   "execution_count": null,
   "id": "4775ecb7",
   "metadata": {
    "editable": true,
    "remove_code": "non-comments",
    "slideshow": {
     "slide_type": ""
    }
   },
   "outputs": [],
   "source": [
    "# A practical way to exchange values between variables through tuples\n",
    "# Define\n",
    "a = 1\n",
    "b = 2\n",
    "# print original\n",
    "print(a, b)\n",
    "# exchange\n",
    "a, b = b, a\n",
    "# print exchanged\n",
    "print(a, b)"
   ]
  },
  {
   "cell_type": "code",
   "execution_count": null,
   "id": "8f3c40be",
   "metadata": {
    "editable": true,
    "slideshow": {
     "slide_type": ""
    }
   },
   "outputs": [],
   "source": [
    "# Converting a list to a tuple\n",
    "t1 = tuple([1,2,3])\n",
    "print(t1)"
   ]
  },
  {
   "cell_type": "markdown",
   "id": "812d5a14",
   "metadata": {
    "editable": true,
    "slideshow": {
     "slide_type": "fragment"
    },
    "tags": []
   },
   "source": [
    "The dictionary method `items` returns a list of tuples (see an exercise after _dictionaries_)."
   ]
  },
  {
   "cell_type": "markdown",
   "id": "66b0bb86",
   "metadata": {
    "editable": true,
    "slideshow": {
     "slide_type": "slide"
    },
    "tags": []
   },
   "source": [
    "## _Sets_\n",
    "A _set_ is unordered collection of unique elements, representing a mathematical set. Python stores the data in a set in whatever order it wants to, so indexing has no meaning for sets unlike for lists. It looks like a list, but with no repeats, and is denoted by curly braces (`{}`)."
   ]
  },
  {
   "cell_type": "code",
   "execution_count": null,
   "id": "a9622e5a",
   "metadata": {
    "editable": true,
    "remove_code": "non-comments",
    "slideshow": {
     "slide_type": ""
    },
    "tags": []
   },
   "outputs": [],
   "source": [
    "# An empty set\n",
    "my_set = set()\n",
    "my_set"
   ]
  },
  {
   "cell_type": "code",
   "execution_count": null,
   "id": "95e68a89",
   "metadata": {
    "editable": true,
    "remove_code": "non-comments",
    "slideshow": {
     "slide_type": ""
    },
    "tags": []
   },
   "outputs": [],
   "source": [
    "# Initialising a set with values\n",
    "my_set = {1, 2, 3, 4, 5}\n",
    "my_set"
   ]
  },
  {
   "cell_type": "code",
   "execution_count": null,
   "id": "d84ee17a",
   "metadata": {
    "editable": true,
    "remove_code": "non-comments",
    "slideshow": {
     "slide_type": ""
    }
   },
   "outputs": [],
   "source": [
    "# Converting a list to a set\n",
    "set([1,4,4,4,5,1,2,1,3])"
   ]
  },
  {
   "cell_type": "markdown",
   "id": "4131293a",
   "metadata": {
    "editable": true,
    "slideshow": {
     "slide_type": "fragment"
    },
    "tags": []
   },
   "source": [
    "There are a few operators that work with sets as well as some useful methods:\n",
    "\n",
    "| Operator | Description          | Example                        |\n",
    "|----------|----------------------|--------------------------------|\n",
    "| `\\|`     | union                | `{1,2,3} \\| {3,4} → {1,2,3,4}` |\n",
    "| `&`      | intersection         | `{1,2,3} & {3,4} → {3}`        |\n",
    "| `-`      | difference           | `{1,2,3} - {3,4} → {1,2}`      |\n",
    "| `^`      | symmetric difference | `{1,2,3} ^ {3,4} → {1,2,4}`    |\n",
    "| `in`     | is an element of     | `3 in {1,2,3} → True`          |\n",
    "\n",
    "| Method            | Description                                   |\n",
    "|-------------------|-----------------------------------------------|\n",
    "| `S.add(x)`        | Add `x` to the set                            |\n",
    "| `S.remove(x)`     | Remove `x` from the set                       |\n",
    "| `S.issubset(A)`   | Returns `True` if S ⊂ A and `False` otherwise |\n",
    "| `S.issuperset(A)` | Returns `True` if A ⊂ S and `False` otherwise |\n"
   ]
  },
  {
   "cell_type": "markdown",
   "id": "03763f24",
   "metadata": {
    "editable": true,
    "slideshow": {
     "slide_type": "slide"
    },
    "tags": []
   },
   "source": [
    "### _Example 1_\n",
    "Removing repeated elements from lists"
   ]
  },
  {
   "cell_type": "code",
   "execution_count": null,
   "id": "18bac89c",
   "metadata": {
    "editable": true,
    "remove_code": "non-comments",
    "slideshow": {
     "slide_type": ""
    },
    "tags": []
   },
   "outputs": [],
   "source": [
    "my_list = [1,4,4,4,5,1,2,1,3]\n",
    "my_list = list(set(my_list))\n",
    "print(my_list)"
   ]
  },
  {
   "cell_type": "markdown",
   "id": "d0501b3f",
   "metadata": {
    "editable": true,
    "slideshow": {
     "slide_type": "fragment"
    }
   },
   "source": [
    "### _Example 2_\n",
    "Wordplay: an example of an `if` statement that uses a `set` to see if every letter in a\n",
    "word is either an `a`, `b`, `c`, `d`, or `e`:"
   ]
  },
  {
   "cell_type": "code",
   "execution_count": null,
   "id": "a924df94",
   "metadata": {
    "editable": true,
    "slideshow": {
     "slide_type": ""
    }
   },
   "outputs": [],
   "source": [
    "word = \"bed\"\n",
    "\n",
    "if set(word).issubset(\"abcde\"):\n",
    "    print(f\"All letters in '{word}' are within 'abcde'.\")\n",
    "else:\n",
    "    print(f\"'{word}' contains letters outside of 'abcde'.\")"
   ]
  },
  {
   "cell_type": "markdown",
   "id": "245d1725",
   "metadata": {
    "editable": true,
    "slideshow": {
     "slide_type": "slide"
    },
    "tags": []
   },
   "source": [
    "## _Dictionaries_\n",
    "A _dictionary_ is an unordered collection of key-value pairs, representing flexible mapping of keys to values. It's like a more general version of a list. In other words, it's an associative container permitting access based on a key, not an index. Dictionary items are colon-connected (`:`) key-value pairs enclosed by curly braces (`{}`)."
   ]
  },
  {
   "cell_type": "markdown",
   "id": "8b83afd4",
   "metadata": {
    "editable": true,
    "slideshow": {
     "slide_type": null
    },
    "tags": []
   },
   "source": [
    "- _Dictionaries_ are like labelled drawers:\n",
    "  - the label of the drawer is called a key;\n",
    "  - however dictionaries are \"kind of\" unordered;\n",
    "  - the content of that drawer is called the value;\n",
    "  - like lists, the types of keys and values do not have to match;\n",
    "  - keys need to be \"hashable\", usually basic data types.\n",
    "\n",
    "The syntax is `{'key': value}` or `dict(key=value)`."
   ]
  },
  {
   "cell_type": "code",
   "execution_count": null,
   "id": "200a2eba",
   "metadata": {
    "editable": true,
    "slideshow": {
     "slide_type": ""
    }
   },
   "outputs": [],
   "source": [
    "# An empty dictionary\n",
    "my_dict = {}\n",
    "my_dict"
   ]
  },
  {
   "cell_type": "code",
   "execution_count": null,
   "id": "553707eb",
   "metadata": {
    "editable": true,
    "remove_code": "non-comments",
    "slideshow": {
     "slide_type": ""
    }
   },
   "outputs": [],
   "source": [
    "# Initialising a dictionary with two values\n",
    "my_dict = {\n",
    "    'temperature_k': 298.5,\n",
    "    'pressure': 1.015\n",
    "}\n",
    "my_dict"
   ]
  },
  {
   "cell_type": "code",
   "execution_count": null,
   "id": "eb9476c1",
   "metadata": {
    "editable": true,
    "remove_code": "non-comments",
    "slideshow": {
     "slide_type": ""
    },
    "tags": []
   },
   "outputs": [],
   "source": [
    "# Another empty dictionary by dict\n",
    "my_dict = dict()\n",
    "my_dict"
   ]
  },
  {
   "cell_type": "code",
   "execution_count": null,
   "id": "112e1c7b",
   "metadata": {
    "editable": true,
    "remove_code": "non-comments",
    "slideshow": {
     "slide_type": ""
    },
    "tags": []
   },
   "outputs": [],
   "source": [
    "# Another way to initialise a dictionary with keyword arguments\n",
    "my_dict = dict(temperature_k=298.5, pressure=1.015)\n",
    "my_dict"
   ]
  },
  {
   "cell_type": "code",
   "execution_count": null,
   "id": "9affafb3",
   "metadata": {
    "editable": true,
    "remove_code": "non-comments",
    "slideshow": {
     "slide_type": ""
    },
    "tags": []
   },
   "outputs": [],
   "source": [
    "# Add a new key-value pair to the dictionary\n",
    "my_dict['volume'] = 100.0\n",
    "my_dict"
   ]
  },
  {
   "cell_type": "markdown",
   "id": "de3b6a25-6150-4fb7-8cab-e97872f8974e",
   "metadata": {
    "editable": true,
    "slideshow": {
     "slide_type": "slide"
    },
    "tags": []
   },
   "source": [
    "### Accessing values from dictionaries"
   ]
  },
  {
   "cell_type": "markdown",
   "id": "1e999366-3c44-4fa2-ae18-6825939303df",
   "metadata": {},
   "source": [
    "We can use the square brackets to access values from a `dict`"
   ]
  },
  {
   "cell_type": "code",
   "execution_count": null,
   "id": "a71f9c99-e59e-4470-aa19-fde963cbb276",
   "metadata": {
    "editable": true,
    "remove_code": "non-comments",
    "slideshow": {
     "slide_type": ""
    },
    "tags": []
   },
   "outputs": [],
   "source": [
    "# print existing values from dict\n",
    "print(my_dict['volume'])"
   ]
  },
  {
   "cell_type": "markdown",
   "id": "3f3d4fa3-67d1-4d84-ae6c-452a8a436c55",
   "metadata": {},
   "source": [
    "Alternatively we can use `get`, which allows do define a default value for a non-existing key"
   ]
  },
  {
   "cell_type": "code",
   "execution_count": null,
   "id": "3a6e30f1-c169-4ecb-9d59-f0e7cef1fb56",
   "metadata": {
    "editable": true,
    "remove_code": "non-comments",
    "slideshow": {
     "slide_type": ""
    },
    "tags": []
   },
   "outputs": [],
   "source": [
    "# demonstrate get with set default for existing or missing key\n",
    "print(my_dict.get('volume', False))\n",
    "print(my_dict.get('starlight', False))"
   ]
  },
  {
   "cell_type": "markdown",
   "id": "968a105e-1cc1-45e7-aa30-d19ce18943fe",
   "metadata": {
    "editable": true,
    "slideshow": {
     "slide_type": "slide"
    },
    "tags": []
   },
   "source": [
    "### Looping over a dictionary"
   ]
  },
  {
   "cell_type": "markdown",
   "id": "30dcc6cd-7be8-4ed8-a17c-be18747ec0d6",
   "metadata": {},
   "source": [
    "There is three main functions to loop over an dictionary: `keys()`, `values()`, and `items()`."
   ]
  },
  {
   "cell_type": "code",
   "execution_count": null,
   "id": "6081d62b-efd5-4b51-ba91-7307e53c9a36",
   "metadata": {
    "editable": true,
    "remove_code": "non-comments",
    "slideshow": {
     "slide_type": ""
    },
    "tags": []
   },
   "outputs": [],
   "source": [
    "# demonstrate for loop with keys\n",
    "for key in my_dict.keys():\n",
    "    print(key)"
   ]
  },
  {
   "cell_type": "code",
   "execution_count": null,
   "id": "b65b03ae-768e-4bee-8502-b0ea4d633e5c",
   "metadata": {
    "editable": true,
    "remove_code": "non-comments",
    "slideshow": {
     "slide_type": ""
    },
    "tags": []
   },
   "outputs": [],
   "source": [
    "# demonstrate for loop with values\n",
    "for value in my_dict.values():\n",
    "    print(value)"
   ]
  },
  {
   "cell_type": "code",
   "execution_count": null,
   "id": "2ff80eea-453f-44ac-8ddf-5f084008127b",
   "metadata": {
    "editable": true,
    "remove_code": "non-comments",
    "slideshow": {
     "slide_type": ""
    },
    "tags": []
   },
   "outputs": [],
   "source": [
    "# demonstrate items, first as one tuple, then with unpacking\n",
    "for key, val in my_dict.items():\n",
    "    print(key, val)       "
   ]
  },
  {
   "cell_type": "markdown",
   "id": "f73a79d3",
   "metadata": {
    "editable": true,
    "slideshow": {
     "slide_type": "slide"
    },
    "tags": []
   },
   "source": [
    "## Notes on _lists_, _strings_, _tuples_, _sets_, and  _dictionaries_"
   ]
  },
  {
   "cell_type": "markdown",
   "id": "624091b9",
   "metadata": {
    "editable": true,
    "slideshow": {
     "slide_type": ""
    },
    "tags": []
   },
   "source": [
    "* **_Lists_** and **_dictionaries_** are _mutable_, which means their contents can be changed.\n",
    "* **_Strings_** and **_tuples_** are _immutable_, which means they cannot be changed.\n",
    "* **_Lists_** are typically for homogeneous data sequences (ingredients, names) whereas **_tuples_** are ideal for heterogeneous data (entries with different meanings)."
   ]
  },
  {
   "cell_type": "markdown",
   "id": "7271e95a",
   "metadata": {
    "editable": true,
    "slideshow": {
     "slide_type": "slide"
    },
    "tags": []
   },
   "source": [
    "## Similarities of _lists_ and _strings_:\n",
    "* `len` function: the number of items in a list/string\n",
    "* `in` operator: tells if a list/string contains something\n",
    "* `+` and `*` operators: concatenating and repeating"
   ]
  },
  {
   "cell_type": "code",
   "execution_count": null,
   "id": "502cadb7",
   "metadata": {
    "editable": true,
    "remove_code": "non-comments",
    "slideshow": {
     "slide_type": ""
    },
    "tags": []
   },
   "outputs": [],
   "source": [
    "# concatenation of two lists\n",
    "print([7, 8] + [3, 4, 5])\n",
    "# concatenation of two strings\n",
    "print(\"Du\" + \"rham\")"
   ]
  },
  {
   "cell_type": "code",
   "execution_count": null,
   "id": "3f76fba0",
   "metadata": {
    "editable": true,
    "remove_code": "non-comments",
    "slideshow": {
     "slide_type": ""
    },
    "tags": []
   },
   "outputs": [],
   "source": [
    "# repeating a list\n",
    "print([0] * 5)\n",
    "# repeating a string\n",
    "print(\"Thanks\" * 5)"
   ]
  },
  {
   "cell_type": "markdown",
   "id": "b35c5868",
   "metadata": {
    "editable": true,
    "slideshow": {
     "slide_type": "fragment"
    },
    "tags": []
   },
   "source": [
    "---\n",
    "* _Indexing_: simple to \"grab\" an item/character in a list/string if you know where it sits\n",
    "* _Slicing_: use `:` to \"grab\" a range defined subsection of a list/string:"
   ]
  },
  {
   "cell_type": "code",
   "execution_count": null,
   "id": "662c5a6c",
   "metadata": {
    "editable": true,
    "slideshow": {
     "slide_type": ""
    },
    "tags": []
   },
   "outputs": [],
   "source": [
    "a_lst = ['a','b','c','d','e','f','g','h','i','j']\n",
    "print(a_lst[4])\n",
    "a_str = \"abcdefghij\"\n",
    "print(a_str[4])\n",
    "start=3\n",
    "stop=7\n",
    "# items start to stop-1\n",
    "print(a_lst[start:stop])\n",
    "print(a_str[start:stop])"
   ]
  },
  {
   "cell_type": "markdown",
   "id": "70429b28",
   "metadata": {
    "editable": true,
    "slideshow": {
     "slide_type": "fragment"
    },
    "tags": []
   },
   "source": [
    "## _Lists_ and _strings_ behave differently when we try to make copies."
   ]
  },
  {
   "cell_type": "code",
   "execution_count": null,
   "id": "ceb379c2",
   "metadata": {
    "editable": true,
    "slideshow": {
     "slide_type": ""
    },
    "tags": []
   },
   "outputs": [],
   "source": [
    "s = 'Hello '\n",
    "copy = s\n",
    "s = s + '!!! '\n",
    "print( 's is now: ', s, '; Copy: ', copy)"
   ]
  },
  {
   "cell_type": "code",
   "execution_count": null,
   "id": "d7738594",
   "metadata": {
    "editable": true,
    "slideshow": {
     "slide_type": ""
    },
    "tags": []
   },
   "outputs": [],
   "source": [
    "a_list = [1,2,3]\n",
    "copy = a_list\n",
    "a_list[0] = 9\n",
    "print( 'a_list is now: ', a_list, 'Copy: ', copy)"
   ]
  },
  {
   "cell_type": "markdown",
   "id": "36c080f0",
   "metadata": {
    "editable": true,
    "slideshow": {
     "slide_type": "fragment"
    },
    "tags": []
   },
   "source": [
    "Everything in Python is an object. This includes numbers, strings, and lists and any other data structure. When we\n",
    "do a simple assignment for a scalar _variable_, like `x=487`, the variable `x` acts as a _reference_ to that object. All objects are treated the same way. In the example of a _string_ above, `copy` is another reference to `'Hello'`. When we do `s=s+'!!!'`, `s` is now referencing another new string object because strings are _immutable_. Whereas in the example of a _list_, when we change an element in the list, no new list is created, the old list is actually changed _in place_ because lists are _mutable_.\n",
    "\n",
    "So, how to modify the example with a list, so that it behaves as expected? We need to create a new copy of the entire list, which is done by `a_list[:]`"
   ]
  },
  {
   "cell_type": "code",
   "execution_count": null,
   "id": "e4dfb2cb",
   "metadata": {
    "editable": true,
    "slideshow": {
     "slide_type": ""
    },
    "tags": []
   },
   "outputs": [],
   "source": [
    "a_list = [1,2,3]\n",
    "copy = a_list[:]\n",
    "a_list[0] = 9\n",
    "print( 'a_list is now: ', a_list, 'Copy: ', copy)"
   ]
  },
  {
   "cell_type": "markdown",
   "id": "b424a761",
   "metadata": {
    "editable": true,
    "slideshow": {
     "slide_type": "slide"
    },
    "tags": []
   },
   "source": [
    "## Have a Play!"
   ]
  },
  {
   "cell_type": "markdown",
   "id": "38cc0279",
   "metadata": {
    "editable": true,
    "slideshow": {
     "slide_type": "slide"
    }
   },
   "source": [
    "### _Exercise 1 (dictionaries)_"
   ]
  },
  {
   "cell_type": "markdown",
   "id": "3f494a2e",
   "metadata": {
    "editable": true,
    "lines_to_next_cell": 2,
    "slideshow": {
     "slide_type": ""
    }
   },
   "source": [
    "1) Create a dictionary of the days in the months of the year.\n",
    "2) Print out the number of the days for any month as it was done for lists."
   ]
  },
  {
   "cell_type": "code",
   "execution_count": null,
   "id": "3ae9acd3",
   "metadata": {
    "editable": true,
    "lines_to_next_cell": 0,
    "remove_code": "non-comments",
    "slideshow": {
     "slide_type": ""
    },
    "tags": []
   },
   "outputs": [
    {
     "name": "stdout",
     "output_type": "stream",
     "text": [
      "That doesn't seem to be a valid month name.\n"
     ]
    }
   ],
   "source": [
    "# Create the dictionary with months as keys and days as values\n",
    "months_days = {\n",
    "    \"January\": 31,\n",
    "    \"February\": 28,  # ignoring leap years for simplicity\n",
    "    \"March\": 31,\n",
    "    \"April\": 30,\n",
    "    \"May\": 31,\n",
    "    \"June\": 30,\n",
    "    \"July\": 31,\n",
    "    \"August\": 31,\n",
    "    \"September\": 30,\n",
    "    \"October\": 31,\n",
    "    \"November\": 30,\n",
    "    \"December\": 31\n",
    "}\n",
    "\n",
    "# Ask the user for a month\n",
    "month_input = input(\"Enter the name of a month (e.g., 'January'): \")\n",
    "\n",
    "# Print the number of days for the entered month\n",
    "if month_input in months_days:\n",
    "    print(f\"{month_input} has {months_days[month_input]} days.\")\n",
    "else:\n",
    "    print(\"That doesn't seem to be a valid month name.\")\n"
   ]
  },
  {
   "cell_type": "markdown",
   "id": "1178f7dc",
   "metadata": {
    "editable": true,
    "slideshow": {
     "slide_type": "slide"
    },
    "tags": []
   },
   "source": [
    "### _Exercise 2 (dictionaries)_"
   ]
  },
  {
   "cell_type": "markdown",
   "id": "31e0b17b",
   "metadata": {
    "editable": true,
    "jp-MarkdownHeadingCollapsed": true,
    "slideshow": {
     "slide_type": ""
    }
   },
   "source": [
    "1. Create a dictionary of several countries and capitals. Think about what's going to be a key and a value.\n",
    "2. Try create the initial dictionary by initialising it.\n",
    "   Try to add new countries with their capitals.\n",
    "3. Print out the whole dictionary line by line in a loop each representing a country and its capital respectfully."
   ]
  },
  {
   "cell_type": "code",
   "execution_count": null,
   "id": "d3e579d3",
   "metadata": {
    "editable": true,
    "lines_to_next_cell": 0,
    "remove_code": "non-comments",
    "slideshow": {
     "slide_type": ""
    },
    "tags": []
   },
   "outputs": [],
   "source": [
    "# 1) Create a dictionary of countries and their respective capitals\n",
    "capitals = {\n",
    "    \"United States\": \"Washington, D.C.\",\n",
    "    \"Germany\": \"Berlin\",\n",
    "    \"France\": \"Paris\"\n",
    "}\n",
    "\n",
    "# 2) Add new countries with their capitals\n",
    "capitals[\"Italy\"] = \"Rome\"\n",
    "capitals[\"Spain\"] = \"Madrid\"\n",
    "\n",
    "# 3) Print out each country and its capital\n",
    "for country, capital in capitals.items():\n",
    "    print(f\"The capital of {country} is {capital}.\")\n"
   ]
  },
  {
   "cell_type": "markdown",
   "id": "07d53abe",
   "metadata": {
    "editable": true,
    "slideshow": {
     "slide_type": "slide"
    },
    "tags": []
   },
   "source": [
    "### _Exercise 3 (tuples)_"
   ]
  },
  {
   "cell_type": "markdown",
   "id": "6e83da5f",
   "metadata": {
    "editable": true,
    "slideshow": {
     "slide_type": ""
    }
   },
   "source": [
    "Try `items()` method on the dictionary you've created before. Print that out. What kind of data structure does it return?"
   ]
  },
  {
   "cell_type": "code",
   "execution_count": null,
   "id": "fb62cca7",
   "metadata": {
    "editable": true,
    "lines_to_next_cell": 0,
    "remove_code": "non-comments",
    "slideshow": {
     "slide_type": ""
    },
    "tags": []
   },
   "outputs": [],
   "source": [
    "# Get the items() of the dictionary\n",
    "items_result = capitals.items()\n",
    "\n",
    "# Print the result\n",
    "print(\"Items:\", items_result)\n",
    "\n",
    "# Print the type of the returned data structure\n",
    "print(\"Type:\", type(items_result))\n"
   ]
  },
  {
   "cell_type": "markdown",
   "id": "8eb3bbf7",
   "metadata": {
    "editable": true,
    "slideshow": {
     "slide_type": "notes"
    }
   },
   "source": [
    "_Note_: the data structure returned by `dict.items()` is of type `dict_items`,\n",
    "which is an iterable view object displaying the dictionary’s (key, value) pairs"
   ]
  },
  {
   "cell_type": "markdown",
   "id": "f2ad81c8",
   "metadata": {
    "editable": true,
    "slideshow": {
     "slide_type": "slide"
    },
    "tags": []
   },
   "source": [
    "### _Exercise 4 (lists)_"
   ]
  },
  {
   "cell_type": "markdown",
   "id": "7c84ec76",
   "metadata": {
    "editable": true,
    "slideshow": {
     "slide_type": ""
    }
   },
   "source": [
    "Given this list: "
   ]
  },
  {
   "cell_type": "code",
   "execution_count": null,
   "id": "f964f97b",
   "metadata": {
    "editable": true,
    "slideshow": {
     "slide_type": ""
    },
    "tags": []
   },
   "outputs": [],
   "source": [
    "numbers = [42, 15, 7, 29, 89, 15]"
   ]
  },
  {
   "cell_type": "markdown",
   "id": "01378c1c",
   "metadata": {
    "editable": true,
    "slideshow": {
     "slide_type": "fragment"
    }
   },
   "source": [
    "Complete these tasks:"
   ]
  },
  {
   "cell_type": "code",
   "execution_count": null,
   "id": "9ad284dd",
   "metadata": {
    "editable": true,
    "lines_to_next_cell": 0,
    "remove_code": "non-comments",
    "slideshow": {
     "slide_type": ""
    },
    "tags": []
   },
   "outputs": [],
   "source": [
    "# 1. Print all numbers in reverse order using reversed()\n",
    "# Expected output: 15 89 29 7 15 42\n",
    "for num in reversed(numbers):\n",
    "    print(num, end=' ')\n",
    "\n",
    "# 2. Create a new sorted list called 'sorted_numbers' without modifying the original\n",
    "# Expected output: [7, 15, 15, 29, 42, 89]\n",
    "sorted_numbers = sorted(numbers)\n",
    "\n",
    "# 3. Check if 29 is in the list. If it is, print its index position\n",
    "# Expected output: \"29 is at index 3\"\n",
    "if 29 in numbers:\n",
    "    print(f\"29 is at index {numbers.index(29)}\")\n"
   ]
  },
  {
   "cell_type": "markdown",
   "id": "5bc9a961",
   "metadata": {
    "editable": true,
    "slideshow": {
     "slide_type": "slide"
    },
    "tags": []
   },
   "source": [
    "# <ins>3.</ins> Conditional expressions\n",
    "They are known as _ternary operators_ in other languages."
   ]
  },
  {
   "cell_type": "code",
   "execution_count": null,
   "id": "56986833",
   "metadata": {
    "editable": true,
    "remove_code": "after:# make the state 'grumpy' if hungry",
    "slideshow": {
     "slide_type": "fragment"
    },
    "tags": []
   },
   "outputs": [],
   "source": [
    "hungry = True\n",
    "\n",
    "# make the state 'grumpy' if hungry\n",
    "state = \"grumpy\" if hungry else \"content\"\n",
    "print(state)"
   ]
  },
  {
   "cell_type": "markdown",
   "id": "21217bab",
   "metadata": {
    "editable": true,
    "slideshow": {
     "slide_type": "fragment"
    },
    "tags": []
   },
   "source": [
    "---\n",
    "`or` can be used to handle data that is `None`"
   ]
  },
  {
   "cell_type": "code",
   "execution_count": null,
   "id": "81768bf7",
   "metadata": {
    "editable": true,
    "remove_code": "# catch None with or",
    "slideshow": {
     "slide_type": ""
    },
    "tags": []
   },
   "outputs": [],
   "source": [
    "output = None\n",
    "\n",
    "# catch None with or\n",
    "msg = output or \"No data returned\"\n",
    "print(msg)"
   ]
  },
  {
   "cell_type": "markdown",
   "id": "63274497",
   "metadata": {
    "editable": true,
    "slideshow": {
     "slide_type": "fragment"
    },
    "tags": []
   },
   "source": [
    "---\n",
    "As a simple way to define function parameters with dynamic default values"
   ]
  },
  {
   "cell_type": "code",
   "execution_count": null,
   "id": "40fb97c5",
   "metadata": {
    "editable": true,
    "slideshow": {
     "slide_type": ""
    },
    "tags": []
   },
   "outputs": [],
   "source": [
    "def my_function(real_name, optional_display_name=None):\n",
    "    optional_display_name = optional_display_name or real_name\n",
    "    print(optional_display_name)\n",
    "\n",
    "my_function(\"John\")"
   ]
  },
  {
   "cell_type": "code",
   "execution_count": null,
   "id": "23e5335e",
   "metadata": {
    "editable": true,
    "slideshow": {
     "slide_type": ""
    },
    "tags": []
   },
   "outputs": [],
   "source": [
    "my_function(\"Mike\", \"anonymous123\")"
   ]
  },
  {
   "cell_type": "markdown",
   "id": "a6f9d70c-8116-4e65-b719-e3eb2afa7338",
   "metadata": {},
   "source": [
    "## Have a play!"
   ]
  },
  {
   "cell_type": "markdown",
   "id": "6dd1230b",
   "metadata": {
    "editable": true,
    "slideshow": {
     "slide_type": "slide"
    }
   },
   "source": [
    "#### Conditional Expression\n",
    "Write a function that takes a number and returns 'positive' if > 0, 'negative' if < 0, and 'zero' if 0, using a conditional expression."
   ]
  },
  {
   "cell_type": "code",
   "execution_count": null,
   "id": "30eb5d01",
   "metadata": {
    "editable": true,
    "lines_to_next_cell": 0,
    "remove_code": "non-comments",
    "slideshow": {
     "slide_type": ""
    },
    "tags": []
   },
   "outputs": [],
   "source": [
    "# Uncomment below and continue with your solution:\n",
    "#def check_number(num):\n",
    "#    return # Your code here\n",
    "def check_number(num):\n",
    "    return 'positive' if num > 0 else 'negative' if num < 0 else 'zero'\n",
    "check_number(5)\n"
   ]
  },
  {
   "cell_type": "markdown",
   "id": "f77b3d5e",
   "metadata": {
    "editable": true,
    "slideshow": {
     "slide_type": "slide"
    },
    "tags": []
   },
   "source": [
    "# <ins>4.</ins> Comprehensions"
   ]
  },
  {
   "cell_type": "markdown",
   "id": "0002904e",
   "metadata": {
    "editable": true,
    "slideshow": {
     "slide_type": "slide"
    }
   },
   "source": [
    "### `list` comprehensions\n",
    "Say we had this function"
   ]
  },
  {
   "cell_type": "code",
   "execution_count": null,
   "id": "d2d4f618",
   "metadata": {
    "editable": true,
    "slideshow": {
     "slide_type": ""
    }
   },
   "outputs": [],
   "source": [
    "squared = []\n",
    "for x in range(10):\n",
    "    squared.append(x**2)\n",
    "print(squared)"
   ]
  },
  {
   "cell_type": "markdown",
   "id": "2b2a108f",
   "metadata": {
    "editable": true,
    "slideshow": {
     "slide_type": "fragment"
    }
   },
   "source": [
    "You can simplify it using list comprehensions:"
   ]
  },
  {
   "cell_type": "code",
   "execution_count": null,
   "id": "8e6b943b",
   "metadata": {
    "editable": true,
    "remove_code": "non-comments",
    "slideshow": {
     "slide_type": ""
    },
    "tags": []
   },
   "outputs": [],
   "source": [
    "# write a list comprehension\n",
    "squared = [x**2 for x in range(10)]\n",
    "print(squared)"
   ]
  },
  {
   "cell_type": "markdown",
   "id": "fba1d4bd",
   "metadata": {
    "editable": true,
    "slideshow": {
     "slide_type": ""
    }
   },
   "source": [
    "We can create a list for only a subset with a condition:"
   ]
  },
  {
   "cell_type": "code",
   "execution_count": null,
   "id": "7fa7800c",
   "metadata": {
    "editable": true,
    "remove_code": "non-comments",
    "slideshow": {
     "slide_type": ""
    },
    "tags": []
   },
   "outputs": [],
   "source": [
    "# only get multiples of three from a complete range\n",
    "multiples_of_three = [i for i in range(20) if i % 3 == 0]\n",
    "print(multiples_of_three)"
   ]
  },
  {
   "cell_type": "markdown",
   "id": "6bf06bb9-70d0-43e5-9c71-279f038da7c1",
   "metadata": {},
   "source": [
    "We can also use ternary expressions in list comprehensions"
   ]
  },
  {
   "cell_type": "code",
   "execution_count": null,
   "id": "ef3ac491-86bf-4e69-9c32-1e320773202d",
   "metadata": {
    "editable": true,
    "remove_code": "non-comments",
    "slideshow": {
     "slide_type": ""
    },
    "tags": []
   },
   "outputs": [],
   "source": [
    "# get a range of numbers as string, but replace with 'Fizz' for multiples of five\n",
    "[\"Fizz\" if i % 5 == 0 else str(i) for i in range(1, 20)]"
   ]
  },
  {
   "cell_type": "markdown",
   "id": "23631ac8",
   "metadata": {
    "editable": true,
    "slideshow": {
     "slide_type": "slide"
    },
    "tags": []
   },
   "source": [
    "### `dict` comprehensions"
   ]
  },
  {
   "cell_type": "code",
   "execution_count": null,
   "id": "b19190dc",
   "metadata": {
    "editable": true,
    "remove_code": "non-comments",
    "slideshow": {
     "slide_type": ""
    },
    "tags": []
   },
   "outputs": [],
   "source": [
    "names = ['Alice', 'Bob', 'Charlie']\n",
    "\n",
    "# print a dictionaries of lengths for the names\n",
    "name_lengths = {name: len(name) for name in names}\n",
    "print(name_lengths)"
   ]
  },
  {
   "cell_type": "markdown",
   "id": "2d4e0235",
   "metadata": {
    "editable": true,
    "slideshow": {
     "slide_type": "slide"
    },
    "tags": []
   },
   "source": [
    "### `set` comprehensions"
   ]
  },
  {
   "cell_type": "code",
   "execution_count": null,
   "id": "27175fde",
   "metadata": {
    "editable": true,
    "remove_code": "non-comments",
    "slideshow": {
     "slide_type": ""
    },
    "tags": []
   },
   "outputs": [],
   "source": [
    "squared = {x**2 for x in [1, 1, 2]}\n",
    "print(squared)"
   ]
  },
  {
   "cell_type": "markdown",
   "id": "f8beaad4",
   "metadata": {
    "editable": true,
    "slideshow": {
     "slide_type": "slide"
    },
    "tags": []
   },
   "source": [
    "## Have a play!\n",
    "\n",
    "#### List Comprehension Basics\n",
    "Create a list of even numbers between 1 and 20 using a list comprehension.\n",
    "\n",
    "Hint Remember the `range()` function and modulo operator `%`"
   ]
  },
  {
   "cell_type": "code",
   "execution_count": null,
   "id": "72ee6d83",
   "metadata": {
    "editable": true,
    "lines_to_next_cell": 0,
    "remove_code": "non-comments",
    "slideshow": {
     "slide_type": ""
    },
    "tags": []
   },
   "outputs": [],
   "source": [
    "# Uncomment below and continue with your solution:\n",
    "#even_numbers =\n",
    "even_numbers = [x for x in range(1, 21) if x % 2 == 0]\n",
    "even_numbers\n"
   ]
  },
  {
   "cell_type": "markdown",
   "id": "2092afdb",
   "metadata": {
    "editable": true,
    "slideshow": {
     "slide_type": "slide"
    },
    "tags": []
   },
   "source": [
    "#### Dictionary Comprehension\n",
    "Given this dictionary of fruits and their quantities, create a now dictionary where the number of fruits are doubled"
   ]
  },
  {
   "cell_type": "code",
   "execution_count": null,
   "id": "9dc013da",
   "metadata": {
    "editable": true,
    "lines_to_next_cell": 0,
    "remove_code": "after:# your solution",
    "slideshow": {
     "slide_type": ""
    },
    "tags": []
   },
   "outputs": [],
   "source": [
    "fruits = {'apple': 5, 'banana': 3, 'orange': 2, 'pear': 1}\n",
    "# your solution\n",
    "\n",
    "doubled_fruits = {fruit: amount * 2 for fruit, amount in fruits.items()}\n",
    "doubled_fruits\n"
   ]
  },
  {
   "cell_type": "markdown",
   "id": "f6deeae0",
   "metadata": {
    "editable": true,
    "slideshow": {
     "slide_type": "slide"
    },
    "tags": []
   },
   "source": [
    "# <ins>5.</ins> Advanced string manipulation"
   ]
  },
  {
   "cell_type": "markdown",
   "id": "0110fae4",
   "metadata": {
    "editable": true,
    "slideshow": {
     "slide_type": ""
    },
    "tags": []
   },
   "source": [
    "* Adjusting case\n",
    "* Formatting strings\n",
    "  - _Note_: Modification requires assignment, because these functions return a copy, not modifying the original string\n",
    "* Quering the existence, replacing, splitting"
   ]
  },
  {
   "cell_type": "markdown",
   "id": "449de01c-e64b-4769-980f-0d05fc84db27",
   "metadata": {
    "editable": true,
    "slideshow": {
     "slide_type": "slide"
    },
    "tags": []
   },
   "source": [
    "## Finding values \n",
    "* `find()` and `index()` both return index of a substring,\n",
    "   - `index()` raises a `ValueError` exception when not found (_exception handling_)\n",
    "   - `find()` returns `-1` when a values was not found\n"
   ]
  },
  {
   "cell_type": "code",
   "execution_count": null,
   "id": "0eab0a2d-eea9-4c33-b700-56eb293ef28b",
   "metadata": {
    "editable": true,
    "slideshow": {
     "slide_type": ""
    },
    "tags": []
   },
   "outputs": [],
   "source": [
    "line = \"the quick brown fox jumped over a lazy dog\"\n",
    "print(line.find('fox'))\n",
    "print(line.index('fox'))"
   ]
  },
  {
   "cell_type": "code",
   "execution_count": null,
   "id": "134c6eba-8897-4ee8-a6e5-f3740a0a4d21",
   "metadata": {
    "editable": true,
    "slideshow": {
     "slide_type": ""
    },
    "tags": []
   },
   "outputs": [],
   "source": [
    "print(line.find('wombat'))"
   ]
  },
  {
   "cell_type": "code",
   "execution_count": null,
   "id": "fc5a28ef-8a31-434a-a653-1662cc274945",
   "metadata": {
    "editable": true,
    "slideshow": {
     "slide_type": ""
    },
    "tags": []
   },
   "outputs": [],
   "source": [
    "try:\n",
    "    print(line.index('wombat'))\n",
    "except ValueError:\n",
    "    print(\"A wombat isn't mentioned in the text\")"
   ]
  },
  {
   "cell_type": "markdown",
   "id": "979c27b9-fdf3-4a44-b9b1-c59ea9fc7dc4",
   "metadata": {
    "editable": true,
    "slideshow": {
     "slide_type": "slide"
    },
    "tags": []
   },
   "source": [
    "## Checking conditions on strings\n",
    "\n",
    "Checking whether a string starts or ends a certain way is really common and easy"
   ]
  },
  {
   "cell_type": "code",
   "execution_count": null,
   "id": "77d4d329-9e07-4100-a84e-bd8e55287b5d",
   "metadata": {
    "editable": true,
    "slideshow": {
     "slide_type": ""
    },
    "tags": []
   },
   "outputs": [],
   "source": [
    "line = \"the quick brown fox jumped over a lazy dog\"\n",
    "\n",
    "print(line.startswith('the'))\n",
    "print(line.endswith('fox'))"
   ]
  },
  {
   "cell_type": "markdown",
   "id": "16df807e",
   "metadata": {
    "editable": true,
    "slideshow": {
     "slide_type": "slide"
    }
   },
   "source": [
    "* The canonical way to search a string (if not interested in the index):"
   ]
  },
  {
   "cell_type": "code",
   "execution_count": null,
   "id": "47c2d357",
   "metadata": {
    "editable": true,
    "slideshow": {
     "slide_type": ""
    },
    "tags": []
   },
   "outputs": [],
   "source": [
    "if \"fox\" in line:\n",
    "    print(\"A fox has been seen\")"
   ]
  },
  {
   "cell_type": "markdown",
   "id": "50a5912a-f819-4984-b0e9-d2c571288bab",
   "metadata": {
    "editable": true,
    "slideshow": {
     "slide_type": "slide"
    },
    "tags": []
   },
   "source": [
    "## Replacing a value:"
   ]
  },
  {
   "cell_type": "code",
   "execution_count": null,
   "id": "292d8b56-1142-4927-9320-9c6331f5a962",
   "metadata": {
    "editable": true,
    "slideshow": {
     "slide_type": ""
    },
    "tags": []
   },
   "outputs": [],
   "source": [
    "line = \"the quick brown fox jumped over a lazy dog\"\n",
    "print(line)\n",
    "print(line.replace('brown', 'red'))\n"
   ]
  },
  {
   "cell_type": "markdown",
   "id": "0218827f-67aa-41b5-865b-5ae72505e6c8",
   "metadata": {
    "editable": true,
    "slideshow": {
     "slide_type": "slide"
    },
    "tags": []
   },
   "source": [
    "## Bring all words to a common case"
   ]
  },
  {
   "cell_type": "code",
   "execution_count": null,
   "id": "a95784ad-44fc-4e7c-9b16-caa09fedbc60",
   "metadata": {
    "editable": true,
    "slideshow": {
     "slide_type": ""
    }
   },
   "outputs": [],
   "source": [
    "arc_update = \"ThE HAmILton suPERcompUTER is beiNg UPGraded\"\n",
    "print(arc_update)\n",
    "print(arc_update.upper())\n",
    "print(arc_update.title())\n",
    "print(arc_update.capitalize())"
   ]
  },
  {
   "cell_type": "markdown",
   "id": "d94fa618-30a8-4aae-9b3a-2abfc4919eba",
   "metadata": {
    "editable": true,
    "slideshow": {
     "slide_type": "slide"
    },
    "tags": []
   },
   "source": [
    "## Removing white space"
   ]
  },
  {
   "cell_type": "code",
   "execution_count": null,
   "id": "22763b5f-7576-43c5-a237-925dce9b88aa",
   "metadata": {
    "editable": true,
    "slideshow": {
     "slide_type": ""
    }
   },
   "outputs": [],
   "source": [
    "arc_update = \"   RSE   \"\n",
    "print(arc_update.strip())\n",
    "print(arc_update.rstrip())\n",
    "print(arc_update.lstrip())"
   ]
  },
  {
   "cell_type": "markdown",
   "id": "018d883a-3ca3-4619-b1e7-e10e52c9ade8",
   "metadata": {
    "editable": true,
    "slideshow": {
     "slide_type": "slide"
    },
    "tags": []
   },
   "source": [
    "## Extracting/concatenating the individual words or parts"
   ]
  },
  {
   "cell_type": "code",
   "execution_count": null,
   "id": "1f26c482",
   "metadata": {
    "editable": true,
    "slideshow": {
     "slide_type": ""
    },
    "tags": []
   },
   "outputs": [],
   "source": [
    "line = \"the quick brown fox jumped over a lazy dog\"\n",
    "\n",
    "# split by space\n",
    "print(line.split())\n",
    "\n",
    "# split by word\n",
    "print(line.split('jumped'))"
   ]
  },
  {
   "cell_type": "markdown",
   "id": "6588dc8d-73dc-4f57-b084-38130b482cc2",
   "metadata": {},
   "source": [
    "The operation in the other direction is `a_string.join()` where `a_string` is placed between every string of a list"
   ]
  },
  {
   "cell_type": "code",
   "execution_count": null,
   "id": "5c81a93d-6fca-40e5-ae22-6697a9352272",
   "metadata": {
    "editable": true,
    "slideshow": {
     "slide_type": ""
    },
    "tags": []
   },
   "outputs": [],
   "source": [
    "string_list = [\"A\", \"list\", \"of\", \"split\", \"words\"]\n",
    "print(\" \".join(string_list))"
   ]
  },
  {
   "cell_type": "code",
   "execution_count": null,
   "id": "cb9837fc-dd67-447c-b503-8029678581ab",
   "metadata": {
    "editable": true,
    "slideshow": {
     "slide_type": ""
    },
    "tags": []
   },
   "outputs": [],
   "source": [
    "line_list = [\"First line\", \"Second line\"]\n",
    "print(\"\\n\".join(line_list))"
   ]
  },
  {
   "cell_type": "markdown",
   "id": "930a9ea5",
   "metadata": {
    "editable": true,
    "slideshow": {
     "slide_type": "slide"
    },
    "tags": []
   },
   "source": [
    "# <ins>**Part II**</ins>"
   ]
  },
  {
   "cell_type": "markdown",
   "id": "8c734fbe",
   "metadata": {
    "editable": true,
    "slideshow": {
     "slide_type": "slide"
    },
    "tags": []
   },
   "source": [
    "# <ins>6.</ins> Iterators beneath control flows"
   ]
  },
  {
   "cell_type": "markdown",
   "id": "341a5462",
   "metadata": {
    "editable": false,
    "slideshow": {
     "slide_type": ""
    },
    "tags": []
   },
   "source": [
    "## What is the for loop doing under the hood?"
   ]
  },
  {
   "cell_type": "markdown",
   "id": "9d4fed6f-e8e1-477d-adf4-3d62818a7060",
   "metadata": {
    "editable": false,
    "slideshow": {
     "slide_type": ""
    },
    "tags": []
   },
   "source": [
    "When you write a `for` loop in Python, there's actually quite a bit happening behind the scenes. Understanding this will help you write more efficient code and understand Python's design principles better."
   ]
  },
  {
   "cell_type": "markdown",
   "id": "d97efcfb-db0f-4324-bbaa-a57796aad50f",
   "metadata": {
    "editable": false,
    "jp-MarkdownHeadingCollapsed": true,
    "slideshow": {
     "slide_type": ""
    },
    "tags": []
   },
   "source": [
    "### The Iterator Protocol"
   ]
  },
  {
   "cell_type": "markdown",
   "id": "4f4bb670",
   "metadata": {
    "editable": true,
    "slideshow": {
     "slide_type": ""
    },
    "tags": []
   },
   "source": [
    "Python's `for` loop works through the **iterator protocol**:\n",
    "1. `iter()` is called on the container object, returning an iterator object\n",
    "2. The iterator object defines a `__next__()` method which provides access to elements one at a time\n",
    "3. `__next__()` tells the for loop when there are no more elements by raising a `StopIteration` exception\n",
    "Let's see this in action:"
   ]
  },
  {
   "cell_type": "code",
   "execution_count": null,
   "id": "ca2a44a5",
   "metadata": {
    "editable": true,
    "slideshow": {
     "slide_type": ""
    },
    "tags": []
   },
   "outputs": [],
   "source": [
    "uni = \"Durham\"\n",
    "it = iter(uni)\n",
    "print(f\"Iterator object: {it}\")\n",
    "print(f\"Type: {type(it)}\")"
   ]
  },
  {
   "cell_type": "code",
   "execution_count": null,
   "id": "13f73ce2",
   "metadata": {
    "editable": true,
    "slideshow": {
     "slide_type": ""
    },
    "tags": []
   },
   "outputs": [],
   "source": [
    "# Manually calling next() to see what the for loop does automatically\n",
    "print(next(it))  # 'D'\n",
    "print(next(it))  # 'u'\n",
    "print(next(it))  # 'r'\n",
    "print(next(it))  # 'h'\n",
    "print(next(it))  # 'a'\n",
    "print(next(it))  # 'm'"
   ]
  },
  {
   "cell_type": "code",
   "execution_count": null,
   "id": "02bccb61",
   "metadata": {
    "editable": true,
    "slideshow": {
     "slide_type": ""
    },
    "tags": []
   },
   "outputs": [],
   "source": [
    "# What happens when we run out of elements?\n",
    "try:\n",
    "    print(next(it))  # This will raise StopIteration\n",
    "except StopIteration:\n",
    "    print(\"No more elements - StopIteration raised!\")"
   ]
  },
  {
   "cell_type": "markdown",
   "id": "13eefc5b-d333-48d3-b9c4-49c26b906bcf",
   "metadata": {
    "editable": false,
    "jp-MarkdownHeadingCollapsed": true,
    "slideshow": {
     "slide_type": ""
    },
    "tags": []
   },
   "source": [
    "### The `iter()` Function"
   ]
  },
  {
   "cell_type": "markdown",
   "id": "a9729bed-3eee-403b-98aa-9be47078baec",
   "metadata": {
    "editable": false,
    "slideshow": {
     "slide_type": ""
    },
    "tags": []
   },
   "source": [
    "The `iter()` function returns an iterator from an iterable object. This is the foundation of how for loops work in Python."
   ]
  },
  {
   "cell_type": "code",
   "execution_count": null,
   "id": "2d07dbc8-8bfa-4605-9f95-c3b7d0b86a15",
   "metadata": {
    "editable": true,
    "slideshow": {
     "slide_type": ""
    },
    "tags": []
   },
   "outputs": [],
   "source": [
    "# Creating iterators from different data types\n",
    "numbers = [1, 2, 3, 4, 5]\n",
    "num_iter = iter(numbers)\n",
    "print(\"From list:\", list(num_iter))\n",
    "\n",
    "# Note: once consumed, the iterator is exhausted\n",
    "num_iter = iter(numbers)  # Create a new iterator\n",
    "print(\"First three:\", [next(num_iter), next(num_iter), next(num_iter)])\n",
    "print(\"Remaining:\", list(num_iter))"
   ]
  },
  {
   "cell_type": "markdown",
   "id": "184a4fe5-4c8c-4cfe-b9c1-e6fe9f394a9c",
   "metadata": {
    "editable": false,
    "jp-MarkdownHeadingCollapsed": true,
    "slideshow": {
     "slide_type": ""
    },
    "tags": []
   },
   "source": [
    "### Built-in Iterators\n",
    "\n",
    "Python provides many built-in functions that return iterators:"
   ]
  },
  {
   "cell_type": "code",
   "execution_count": null,
   "id": "cadb6c6b-6ea1-45e7-b2ee-a7c3d86becac",
   "metadata": {
    "editable": true,
    "slideshow": {
     "slide_type": ""
    },
    "tags": []
   },
   "outputs": [],
   "source": [
    "# range() returns an iterator\n",
    "r = range(5)\n",
    "print(f\"Range object: {r}\")\n",
    "print(f\"Is iterable: {hasattr(r, '__iter__')}\")\n",
    "print(f\"Values: {list(r)}\")"
   ]
  },
  {
   "cell_type": "code",
   "execution_count": null,
   "id": "2e3ffc9b-39ad-4f01-92ef-a99c2fef2d66",
   "metadata": {
    "editable": true,
    "slideshow": {
     "slide_type": ""
    },
    "tags": []
   },
   "outputs": [],
   "source": [
    "# enumerate() returns an iterator of (index, value) pairs\n",
    "fruits = ['apple', 'banana', 'cherry']\n",
    "enum_iter = enumerate(fruits)\n",
    "print(f\"Enumerate object: {enum_iter}\")\n",
    "print(f\"Values: {list(enum_iter)}\")"
   ]
  },
  {
   "cell_type": "markdown",
   "id": "8e587d8c-c625-46b1-b1c8-f0454442902f",
   "metadata": {
    "editable": false,
    "jp-MarkdownHeadingCollapsed": true,
    "slideshow": {
     "slide_type": ""
    },
    "tags": []
   },
   "source": [
    "### Iterators vs Iterables\n",
    "\n",
    "Understanding the difference is crucial:\n",
    "\n",
    "- **Iterable**: An object that can return an iterator (has `__iter__()` method)\n",
    "- **Iterator**: An object that produces values one at a time (has `__iter__()` and `__next__()` methods)"
   ]
  },
  {
   "cell_type": "code",
   "execution_count": null,
   "id": "021f6fa7-654f-4403-bc8d-fde2f4765d84",
   "metadata": {
    "editable": true,
    "slideshow": {
     "slide_type": ""
    },
    "tags": []
   },
   "outputs": [],
   "source": [
    "# Lists are iterable but not iterators\n",
    "my_list = [1, 2, 3]\n",
    "print(f\"List is iterable: {hasattr(my_list, '__iter__')}\")\n",
    "print(f\"List is iterator: {hasattr(my_list, '__next__')}\")"
   ]
  },
  {
   "cell_type": "code",
   "execution_count": null,
   "id": "cf803ebf-dab8-4aec-85aa-8ceef906dc25",
   "metadata": {
    "editable": true,
    "slideshow": {
     "slide_type": ""
    },
    "tags": []
   },
   "outputs": [],
   "source": [
    "# Getting an iterator from the list\n",
    "list_iter = iter(my_list)\n",
    "print(f\"Iterator is iterable: {hasattr(list_iter, '__iter__')}\")\n",
    "print(f\"Iterator is iterator: {hasattr(list_iter, '__next__')}\")"
   ]
  },
  {
   "cell_type": "markdown",
   "id": "486b625f-ee4d-4dcf-a194-e5a208c4a5f1",
   "metadata": {
    "editable": true,
    "jp-MarkdownHeadingCollapsed": true,
    "slideshow": {
     "slide_type": ""
    },
    "tags": []
   },
   "source": [
    "## Key Takeaways"
   ]
  },
  {
   "cell_type": "markdown",
   "id": "06cbc4f4-f437-4fef-99a1-89d4fb13d7b8",
   "metadata": {
    "editable": true,
    "slideshow": {
     "slide_type": ""
    },
    "tags": []
   },
   "source": [
    "1. **For loops use the iterator protocol** - they call `iter()` then repeatedly call `next()`\n",
    "2. **Iterators are memory-efficient** - they generate values on-demand rather than storing everything in memory\n",
    "3. **Iterators can only be consumed once** - create a new one to iterate again\n",
    "4. **Many Python built-ins return iterators** - `range()`, `enumerate()`, `zip()`, `filter()`, `map()`, file objects\n",
    "5. **You can create custom iterators** by implementing `__iter__()` and `__next__()`\n",
    "6. **Understanding iterators helps with debugging** - knowing when you have an iterator vs iterable\n",
    "\n",
    "Understanding iterators helps you:\n",
    "- Write more memory-efficient code\n",
    "- Understand how Python's for loops actually work\n",
    "- Create your own iterable objects\n",
    "- Debug iterator-related issues\n",
    "- Work effectively with large datasets\n",
    "\n",
    "This knowledge becomes especially important when working with large datasets or when you need to create custom data processing pipelines."
   ]
  },
  {
   "cell_type": "markdown",
   "id": "32c9d041-6d79-44d9-a359-49d1d541d2dd",
   "metadata": {
    "editable": false,
    "slideshow": {
     "slide_type": ""
    },
    "tags": []
   },
   "source": [
    "## Have a Play!"
   ]
  },
  {
   "cell_type": "markdown",
   "id": "92f8773b-489f-49f1-b861-e3258fc55738",
   "metadata": {
    "editable": false,
    "jp-MarkdownHeadingCollapsed": true,
    "slideshow": {
     "slide_type": ""
    },
    "tags": []
   },
   "source": [
    "### Exercise 1: Understanding Iterator Behavior\n",
    "Try to predict what this code will output before running it:"
   ]
  },
  {
   "cell_type": "code",
   "execution_count": null,
   "id": "f96c7442-b2e9-47bc-9019-4cb287f057ea",
   "metadata": {
    "editable": true,
    "slideshow": {
     "slide_type": ""
    },
    "tags": []
   },
   "outputs": [],
   "source": [
    "data = [1, 2, 3]\n",
    "iterator1 = iter(data)\n",
    "iterator2 = iter(data)\n",
    "\n",
    "print(\"From iterator1:\", next(iterator1))\n",
    "print(\"From iterator2:\", next(iterator2))\n",
    "print(\"From iterator1 again:\", next(iterator1))\n",
    "\n",
    "# What do you think will be printed?"
   ]
  },
  {
   "cell_type": "markdown",
   "id": "486018f9-de00-4f18-b26f-6bbf3b4d7668",
   "metadata": {
    "editable": false,
    "slideshow": {
     "slide_type": ""
    },
    "tags": []
   },
   "source": [
    "### Exercise 2 (bonus): Iterator Chain\n",
    "Use multiple built-in iterators together to process this data:"
   ]
  },
  {
   "cell_type": "code",
   "execution_count": null,
   "id": "fbc5fb14-06d2-4863-a83b-fb55107be82f",
   "metadata": {
    "editable": true,
    "slideshow": {
     "slide_type": ""
    },
    "tags": []
   },
   "outputs": [],
   "source": [
    "# Given this data\n",
    "words = ['hello', 'world', 'python', 'programming', 'iterators']\n",
    "\n",
    "# Task: Create a chain that:\n",
    "# 1. Filters words longer than 5 characters\n",
    "# 2. Converts them to uppercase\n",
    "# 3. Enumerates them with their position"
   ]
  },
  {
   "cell_type": "code",
   "execution_count": null,
   "id": "cfd4c8be-3f3c-45c7-9089-bea60d59959f",
   "metadata": {
    "editable": true,
    "slideshow": {
     "slide_type": ""
    },
    "tags": []
   },
   "outputs": [],
   "source": [
    "# Solution:\n",
    "long_words = filter(lambda word: len(word) > 5, words)\n",
    "upper_words = map(str.upper, long_words)\n",
    "enumerated = enumerate(upper_words, 1)\n",
    "\n",
    "print(\"Long words in uppercase:\")\n",
    "for position, word in enumerated:\n",
    "    print(f\"{position}: {word}\")"
   ]
  },
  {
   "cell_type": "markdown",
   "id": "4d6c0c2a",
   "metadata": {
    "editable": true,
    "slideshow": {
     "slide_type": "fragment"
    },
    "tags": []
   },
   "source": [
    "---"
   ]
  },
  {
   "cell_type": "markdown",
   "id": "ed8760d2",
   "metadata": {
    "editable": true,
    "slideshow": {
     "slide_type": "slide"
    },
    "tags": []
   },
   "source": [
    "# <ins>7.</ins>  Lambda functions\n",
    "**_Lambda functions_** are anonymous functions that can be defined inline. They're useful for short, simple functions that you don't want to define formally with `def`."
   ]
  },
  {
   "cell_type": "markdown",
   "id": "680db8e2-093c-42c6-9436-3ba1ca8671f7",
   "metadata": {
    "editable": true,
    "jp-MarkdownHeadingCollapsed": true,
    "slideshow": {
     "slide_type": ""
    },
    "tags": []
   },
   "source": [
    "## Basic Syntax\n",
    "The basic syntax is:\n",
    "`lambda arguments: expression`\n",
    "\n",
    "Or more generally:\n",
    "`lambda arg1, arg2, ...: expression`\n",
    "\n",
    "## Simple Examples"
   ]
  },
  {
   "cell_type": "code",
   "execution_count": null,
   "id": "dac0e9e2",
   "metadata": {
    "editable": true,
    "slideshow": {
     "slide_type": ""
    },
    "tags": []
   },
   "outputs": [],
   "source": [
    "# Basic lambda function\n",
    "add = lambda x, y: x + y\n",
    "print(add(3, 5))  # Output: 8"
   ]
  },
  {
   "cell_type": "code",
   "execution_count": null,
   "id": "c3ee258b-933e-454a-bdf4-57bfd25f049c",
   "metadata": {
    "editable": true,
    "slideshow": {
     "slide_type": ""
    },
    "tags": []
   },
   "outputs": [],
   "source": [
    "# Compare with regular function\n",
    "def add_regular(x, y):\n",
    "    return x + y\n",
    "\n",
    "print(add_regular(3, 5))  # Same output: 8"
   ]
  },
  {
   "cell_type": "code",
   "execution_count": null,
   "id": "ab6c93e8-f5d7-4bd7-b323-9550a3e8f908",
   "metadata": {
    "editable": true,
    "slideshow": {
     "slide_type": "fragment"
    },
    "tags": []
   },
   "outputs": [],
   "source": [
    "# Single argument lambda\n",
    "square = lambda x: x**2\n",
    "print(square(4))  # Output: 16"
   ]
  },
  {
   "cell_type": "code",
   "execution_count": null,
   "id": "9bc6dae2-1f45-4412-b389-08002debcda5",
   "metadata": {
    "editable": true,
    "slideshow": {
     "slide_type": ""
    },
    "tags": []
   },
   "outputs": [],
   "source": [
    "# Multiple arguments\n",
    "multiply = lambda x, y, z: x * y * z\n",
    "print(multiply(2, 3, 4))  # Output: 24"
   ]
  },
  {
   "cell_type": "markdown",
   "id": "edad7584",
   "metadata": {
    "editable": false,
    "jp-MarkdownHeadingCollapsed": true,
    "slideshow": {
     "slide_type": "fragment"
    },
    "tags": []
   },
   "source": [
    "## When to Use Lambda Functions\n",
    "Lambda functions are best used for:\n",
    "1. **Short, simple operations** that can be expressed in one line\n",
    "2. **Temporary functions** that you don't need to reuse\n",
    "3. **Functional programming** with `map()`, `filter()`, `sorted()`, etc.\n",
    "\n",
    "**Note**: If your function is complex or used multiple times, use a regular `def` function instead."
   ]
  },
  {
   "cell_type": "code",
   "execution_count": null,
   "id": "3f0c93b6",
   "metadata": {
    "editable": false,
    "slideshow": {
     "slide_type": ""
    },
    "tags": []
   },
   "outputs": [],
   "source": [
    "# Good use case - simple transformation\n",
    "numbers = [1, 2, 3, 4, 5]\n",
    "doubled = list(map(lambda x: x * 2, numbers))\n",
    "print(doubled)  # Output: [2, 4, 6, 8, 10]"
   ]
  },
  {
   "cell_type": "code",
   "execution_count": null,
   "id": "c4c30585-6006-479e-837b-ddb247886679",
   "metadata": {
    "editable": true,
    "slideshow": {
     "slide_type": ""
    },
    "tags": []
   },
   "outputs": [],
   "source": [
    "# Poor use case - complex logic (use def instead)\n",
    "# complex_lambda = lambda x: x**2 if x > 0 else -x**2 if x < 0 else 0  # Too complex!"
   ]
  },
  {
   "cell_type": "markdown",
   "id": "4732f1c2",
   "metadata": {
    "editable": true,
    "slideshow": {
     "slide_type": "fragment"
    },
    "tags": []
   },
   "source": [
    "## Practical Applications"
   ]
  },
  {
   "cell_type": "markdown",
   "id": "19ced48e-e87a-4ae7-b7f5-553c437480c7",
   "metadata": {
    "editable": false,
    "jp-MarkdownHeadingCollapsed": true,
    "slideshow": {
     "slide_type": ""
    },
    "tags": []
   },
   "source": [
    "### 1. Sorting with Custom Keys"
   ]
  },
  {
   "cell_type": "code",
   "execution_count": null,
   "id": "ccc0ff7b-2fbb-4193-830e-0dab30840925",
   "metadata": {
    "editable": true,
    "slideshow": {
     "slide_type": ""
    },
    "tags": []
   },
   "outputs": [],
   "source": [
    "# Sorting a list of tuples by the second element\n",
    "data = [(1, 3), (4, 1), (9, 2), (13, -1)]\n",
    "data.sort(key=lambda x: x[1])\n",
    "print(\"Sorted by second element:\", data)\n",
    "# Output: [(13, -1), (4, 1), (9, 2), (1, 3)]"
   ]
  },
  {
   "cell_type": "code",
   "execution_count": null,
   "id": "3642eebc-ade1-4c0b-b7d8-25d59ae9f48e",
   "metadata": {
    "editable": true,
    "slideshow": {
     "slide_type": ""
    },
    "tags": []
   },
   "outputs": [],
   "source": [
    "# Sorting by absolute value\n",
    "numbers = [-5, 2, -1, 4, -3]\n",
    "sorted_by_abs = sorted(numbers, key=lambda x: abs(x))\n",
    "print(\"Sorted by absolute value:\", sorted_by_abs)\n",
    "# Output: [-1, 2, -3, 4, -5]"
   ]
  },
  {
   "cell_type": "code",
   "execution_count": null,
   "id": "c1a4d5ca-17e2-4124-8742-d8a4c4c302b9",
   "metadata": {
    "editable": true,
    "slideshow": {
     "slide_type": ""
    },
    "tags": []
   },
   "outputs": [],
   "source": [
    "# Sorting dictionaries\n",
    "students = [\n",
    "    {'name': 'Alice', 'grade': 85, 'age': 20},\n",
    "    {'name': 'Bob', 'grade': 92, 'age': 19},\n",
    "    {'name': 'Charlie', 'grade': 78, 'age': 21},\n",
    "    {'name': 'Mary', 'grade': 87, 'age': 21}\n",
    "]\n",
    "\n",
    "# Sort by grade (descending)\n",
    "by_grade = sorted(students, key=lambda student: student['grade'], reverse=True)\n",
    "print(\"Top student:\", by_grade[0]['name'])"
   ]
  },
  {
   "cell_type": "code",
   "execution_count": null,
   "id": "b07cc957-08eb-40b7-b215-2fad1663457a",
   "metadata": {
    "editable": true,
    "slideshow": {
     "slide_type": ""
    },
    "tags": []
   },
   "outputs": [],
   "source": [
    "# Sort by multiple criteria (age, then grade)\n",
    "by_age_grade = sorted(students, key=lambda s: (s['age'], -s['grade']))\n",
    "for student in by_age_grade:\n",
    "    print(f\"{student['name']}: age {student['age']}, grade {student['grade']}\")"
   ]
  },
  {
   "cell_type": "markdown",
   "id": "3894d374-a2ab-451a-86cb-bcde9101705a",
   "metadata": {
    "editable": false,
    "jp-MarkdownHeadingCollapsed": true,
    "slideshow": {
     "slide_type": ""
    },
    "tags": []
   },
   "source": [
    "### 2. Using with `map()`"
   ]
  },
  {
   "cell_type": "markdown",
   "id": "5da7228d-970a-4312-9c56-4f076a9852ac",
   "metadata": {
    "editable": false,
    "slideshow": {
     "slide_type": ""
    },
    "tags": []
   },
   "source": [
    "Transform every element in a sequence:"
   ]
  },
  {
   "cell_type": "code",
   "execution_count": null,
   "id": "94efc9d6-3587-4f06-944d-84da304ba770",
   "metadata": {
    "editable": true,
    "slideshow": {
     "slide_type": ""
    },
    "tags": []
   },
   "outputs": [],
   "source": [
    "# Converting temperatures\n",
    "celsius = [0, 20, 30, 37, 100]\n",
    "fahrenheit = list(map(lambda c: c * 9/5 + 32, celsius))\n",
    "print(\"Celsius:\", celsius)\n",
    "print(\"Fahrenheit:\", fahrenheit)"
   ]
  },
  {
   "cell_type": "code",
   "execution_count": null,
   "id": "5a2a39ac-8e11-4e4d-9115-f89eab17d6c9",
   "metadata": {
    "editable": true,
    "slideshow": {
     "slide_type": ""
    },
    "tags": []
   },
   "outputs": [],
   "source": [
    "# Working with strings\n",
    "names = ['alice', 'bob', 'charlie']\n",
    "capitalized = list(map(lambda name: name.capitalize(), names))\n",
    "print(\"Capitalized:\", capitalized)"
   ]
  },
  {
   "cell_type": "code",
   "execution_count": null,
   "id": "7ed9cbeb-66e9-4675-9b6f-27763f61f378",
   "metadata": {
    "editable": true,
    "slideshow": {
     "slide_type": ""
    },
    "tags": []
   },
   "outputs": [],
   "source": [
    "# Mathematical operations\n",
    "numbers = [1, 2, 3, 4, 5]\n",
    "results = list(map(lambda x: x**2 + 2*x + 1, numbers))\n",
    "print(\"f(x) = x² + 2x + 1:\", results)"
   ]
  },
  {
   "cell_type": "markdown",
   "id": "e3751d80",
   "metadata": {
    "editable": true,
    "slideshow": {
     "slide_type": "subslide"
    },
    "tags": []
   },
   "source": [
    "**_Map_** applies a function to all the items in an iterable:\n",
    "\n",
    "`map(function_to_apply, list_of_inputs)`"
   ]
  },
  {
   "cell_type": "markdown",
   "id": "dd62f9b8",
   "metadata": {
    "editable": false,
    "jp-MarkdownHeadingCollapsed": true,
    "slideshow": {
     "slide_type": "fragment"
    },
    "tags": []
   },
   "source": [
    "### 3. Using with `filter()`"
   ]
  },
  {
   "cell_type": "markdown",
   "id": "07a9f8a8-ead4-4a70-9e74-8d2e5aaa9d0f",
   "metadata": {
    "editable": false,
    "slideshow": {
     "slide_type": ""
    },
    "tags": []
   },
   "source": [
    "Filter elements based on a condition:"
   ]
  },
  {
   "cell_type": "code",
   "execution_count": null,
   "id": "5a6b3d76-f470-4ec1-bb54-5b2fc78d8a44",
   "metadata": {
    "editable": true,
    "slideshow": {
     "slide_type": ""
    },
    "tags": []
   },
   "outputs": [],
   "source": [
    "# Filter even numbers\n",
    "numbers = [1, 2, 3, 4, 5, 6, 7, 8, 9, 10]\n",
    "evens = list(filter(lambda x: x % 2 == 0, numbers))\n",
    "print(\"Even numbers:\", evens)"
   ]
  },
  {
   "cell_type": "code",
   "execution_count": null,
   "id": "d52e1922-5350-4a1e-8a9f-da0432fe0b0b",
   "metadata": {
    "editable": false,
    "slideshow": {
     "slide_type": ""
    },
    "tags": []
   },
   "outputs": [],
   "source": [
    "# Filter strings by length\n",
    "words = ['cat', 'elephant', 'dog', 'butterfly', 'ant']\n",
    "long_words = list(filter(lambda word: len(word) > 4, words))\n",
    "print(\"Long words:\", long_words)"
   ]
  },
  {
   "cell_type": "code",
   "execution_count": null,
   "id": "16c93200-fdad-4744-ae5b-a8c7f349512c",
   "metadata": {
    "editable": true,
    "slideshow": {
     "slide_type": ""
    },
    "tags": []
   },
   "outputs": [],
   "source": [
    "# Filter dictionaries\n",
    "products = [\n",
    "    {'name': 'laptop', 'price': 999},\n",
    "    {'name': 'mouse', 'price': 25},\n",
    "    {'name': 'keyboard', 'price': 75},\n",
    "    {'name': 'monitor', 'price': 200}\n",
    "]\n",
    "expensive = list(filter(lambda p: p['price'] > 100, products))\n",
    "for item in expensive:\n",
    "    print(f\"{item['name']}: ${item['price']}\")"
   ]
  },
  {
   "cell_type": "markdown",
   "id": "ad3399b3-a89d-4b61-a802-79cd0dc2e755",
   "metadata": {
    "editable": true,
    "jp-MarkdownHeadingCollapsed": true,
    "slideshow": {
     "slide_type": ""
    },
    "tags": []
   },
   "source": [
    "### 4. A More Advanced Example"
   ]
  },
  {
   "cell_type": "code",
   "execution_count": null,
   "id": "991b059d-9cfa-4ca1-a6ad-b4a28005d997",
   "metadata": {
    "editable": true,
    "slideshow": {
     "slide_type": ""
    },
    "tags": []
   },
   "outputs": [],
   "source": [
    "# Lambda with conditional expressions (ternary operator)\n",
    "# Check if number is positive, negative, or zero\n",
    "classify = lambda x: 'positive' if x > 0 else 'negative' if x < 0 else 'zero'\n",
    "\n",
    "test_numbers = [-5, 0, 3, -1, 7]\n",
    "for num in test_numbers:\n",
    "    print(f\"{num} is {classify(num)}\")"
   ]
  },
  {
   "cell_type": "markdown",
   "id": "fa65650f-5f44-41fa-9a53-6e0a83ac12cb",
   "metadata": {
    "editable": true,
    "jp-MarkdownHeadingCollapsed": true,
    "slideshow": {
     "slide_type": ""
    },
    "tags": []
   },
   "source": [
    "## Key Takeaways\n",
    "\n",
    "1. **Lambda functions are anonymous, inline functions** perfect for short operations\n",
    "2. **Use them with `map()`, `filter()`, `sorted()`** for functional programming\n",
    "3. **They can only contain expressions**, not statements\n",
    "4. **Keep them simple** - if it's complex, use a regular function\n",
    "5. **They're great for custom sorting** and data transformations\n",
    "6. **Remember**: `lambda arguments: expression`\n",
    "\n",
    "### When NOT to Use Lambdas\n",
    "\n",
    "- Complex logic that needs multiple lines\n",
    "- Functions you'll use multiple times (better to define with `def`)\n",
    "- When you need documentation or debugging\n",
    "- When readability would suffer"
   ]
  },
  {
   "cell_type": "markdown",
   "id": "6463ff56-8d6b-4a5e-9921-ca805a5e12e5",
   "metadata": {
    "editable": true,
    "slideshow": {
     "slide_type": ""
    },
    "tags": []
   },
   "source": [
    "## Have a play!"
   ]
  },
  {
   "cell_type": "markdown",
   "id": "c658598e",
   "metadata": {
    "editable": false,
    "jp-MarkdownHeadingCollapsed": true,
    "slideshow": {
     "slide_type": "subslide"
    },
    "tags": []
   },
   "source": [
    "### Exercise 1: Basic Lambda Practice\n",
    "Create lambda functions for these operations:"
   ]
  },
  {
   "cell_type": "code",
   "execution_count": null,
   "id": "66dfef7e",
   "metadata": {
    "editable": true,
    "lines_to_next_cell": 0,
    "remove_code": "after:#sorted_people = # Your code here",
    "slideshow": {
     "slide_type": ""
    },
    "tags": []
   },
   "outputs": [],
   "source": [
    "# TODO: Create lambdas for these operations\n",
    "# 1. Calculate the area of a circle (π * r²)\n",
    "\n",
    "# 2. Convert seconds to minutes and seconds (return tuple)\n",
    "\n",
    "# 3. Check if a string is a palindrome (case-insensitive)\n",
    "\n",
    "# Test your lambdas\n"
   ]
  },
  {
   "cell_type": "code",
   "execution_count": null,
   "id": "169c5391-2083-4c63-a52c-3ac6be9ca6d5",
   "metadata": {
    "editable": true,
    "slideshow": {
     "slide_type": ""
    },
    "tags": []
   },
   "outputs": [],
   "source": [
    "# Solution:\n",
    "# 1.\n",
    "circle_area = lambda r: 3.14159 * r**2\n",
    "\n",
    "# 2.\n",
    "to_min_sec = lambda seconds: (seconds // 60, seconds % 60)\n",
    "\n",
    "# 3.\n",
    "is_palindrome = lambda s: s.lower() == s.lower()[::-1]\n",
    "\n",
    "# Test your lambdas\n",
    "print(f\"Circle area (r=5): {circle_area(5)}\")\n",
    "print(f\"125 seconds = {to_min_sec(125)} (min, sec)\")\n",
    "print(f\"'Racecar' is palindrome: {is_palindrome('Racecar')}\")"
   ]
  },
  {
   "cell_type": "markdown",
   "id": "d10d0edb-d0e3-410c-a8e6-2cb30ec9fa45",
   "metadata": {
    "editable": false,
    "jp-MarkdownHeadingCollapsed": true,
    "slideshow": {
     "slide_type": ""
    },
    "tags": []
   },
   "source": [
    "### Exercise 2 (bonus): Data Processing with Lambdas\n",
    "Work with this employee data:"
   ]
  },
  {
   "cell_type": "code",
   "execution_count": null,
   "id": "1e89b7f0-3a8d-43c0-b65e-0505375d5094",
   "metadata": {
    "editable": true,
    "slideshow": {
     "slide_type": ""
    },
    "tags": []
   },
   "outputs": [],
   "source": [
    "employees = [\n",
    "    {'name': 'Alice', 'department': 'Engineering', 'salary': 75000, 'years': 3},\n",
    "    {'name': 'Bob', 'department': 'Marketing', 'salary': 60000, 'years': 5},\n",
    "    {'name': 'Charlie', 'department': 'Engineering', 'salary': 85000, 'years': 7},\n",
    "    {'name': 'Diana', 'department': 'Sales', 'salary': 55000, 'years': 2},\n",
    "    {'name': 'Eve', 'department': 'Engineering', 'salary': 90000, 'years': 8}\n",
    "]\n",
    "\n",
    "# 1. Find all engineers\n",
    "\n",
    "# 2. Sort by salary (highest first)\n",
    "\n",
    "# 3. Calculate bonus (10% of salary for 5+ years, 5% otherwise)\n",
    "\n",
    "# 4. Find senior employees (5+ years) in Engineering\n"
   ]
  },
  {
   "cell_type": "code",
   "execution_count": null,
   "id": "e8a59340-35f9-4fbd-b2f7-c8d9fc9971d8",
   "metadata": {
    "editable": true,
    "slideshow": {
     "slide_type": ""
    },
    "tags": []
   },
   "outputs": [],
   "source": [
    "# Solution:\n",
    "\n",
    "# 1.\n",
    "engineers = list(filter(lambda emp: emp['department'] == 'Engineering', employees))\n",
    "print(\"Engineers:\", [emp['name'] for emp in engineers])\n",
    "\n",
    "# 2.\n",
    "by_salary = sorted(employees, key=lambda emp: emp['salary'], reverse=True)\n",
    "print(\"Highest paid:\", by_salary[0]['name'])\n",
    "\n",
    "# 3.\n",
    "with_bonus = list(map(lambda emp: {**emp, 'bonus': emp['salary'] * (0.1 if emp['years'] >= 5 else 0.05)}, employees))\n",
    "for emp in with_bonus:\n",
    "    print(f\"{emp['name']}: ${emp['bonus']:.0f} bonus\")\n",
    "\n",
    "# 4.\n",
    "senior_engineers = list(filter(lambda emp: emp['department'] == 'Engineering' and emp['years'] >= 5, employees))\n",
    "print(\"Senior engineers:\", [emp['name'] for emp in senior_engineers])"
   ]
  },
  {
   "cell_type": "markdown",
   "id": "a33bb784",
   "metadata": {
    "editable": true,
    "slideshow": {
     "slide_type": "fragment"
    },
    "tags": []
   },
   "source": [
    "---"
   ]
  },
  {
   "cell_type": "markdown",
   "id": "ecad0562",
   "metadata": {
    "editable": true,
    "slideshow": {
     "slide_type": "slide"
    },
    "tags": []
   },
   "source": [
    "# <ins>8.</ins> Introduction to modules\n",
    "A _module_ is a single file (or collection of files) that is intended to be imported and used in other Python programs. It can include functions, classes, variables, and runnable code."
   ]
  },
  {
   "cell_type": "markdown",
   "id": "5a8673f3-eb58-4b8d-aedb-03016fda86c2",
   "metadata": {
    "editable": false,
    "jp-MarkdownHeadingCollapsed": true,
    "slideshow": {
     "slide_type": ""
    },
    "tags": []
   },
   "source": [
    "## Why Use Modules?\n",
    "\n",
    "Modules help you:\n",
    "- **Organise code** into logical, reusable units\n",
    "- **Avoid code repetition** across projects\n",
    "- **Access specialised functionality** (math, file handling, web requests, etc.)\n",
    "- **Collaborate better** by sharing code components\n",
    "- **Maintain cleaner code** by separating concerns"
   ]
  },
  {
   "cell_type": "markdown",
   "id": "7a0cce16-1649-4453-8a07-9edfbc4a3687",
   "metadata": {
    "editable": false,
    "jp-MarkdownHeadingCollapsed": true,
    "slideshow": {
     "slide_type": ""
    },
    "tags": []
   },
   "source": [
    "## What Are Modules?\n",
    "\n",
    "Think of modules as **toolboxes**:\n",
    "- Each module contains a specific set of tools (functions, classes, variables)\n",
    "- You import only what you need for your current task\n",
    "- Python comes with many built-in modules (Standard Library)\n",
    "- You can also install third-party modules or create your own"
   ]
  },
  {
   "cell_type": "markdown",
   "id": "14dfa757-6eb6-4f53-b4f3-3c337be9fb3e",
   "metadata": {
    "editable": true,
    "jp-MarkdownHeadingCollapsed": true,
    "slideshow": {
     "slide_type": ""
    },
    "tags": []
   },
   "source": [
    "### Types of Modules:"
   ]
  },
  {
   "cell_type": "markdown",
   "id": "6ac85b51-0b8b-4ea9-9252-96163f4b41de",
   "metadata": {
    "editable": false,
    "slideshow": {
     "slide_type": ""
    },
    "tags": []
   },
   "source": [
    "1. **Built-in modules** - Come with Python (e.g., `math`, `os`, `datetime`)\n",
    "2. **Third-party modules** - Installed via pip (e.g., `numpy`, `requests`)\n",
    "3. **Local modules** - Files you create in your project"
   ]
  },
  {
   "cell_type": "code",
   "execution_count": null,
   "id": "0f8ee4bb",
   "metadata": {
    "editable": true,
    "slideshow": {
     "slide_type": ""
    },
    "tags": []
   },
   "outputs": [],
   "source": [
    "# Example: Without modules, you might write:\n",
    "import math\n",
    "\n",
    "def calculate_circle_area(radius):\n",
    "    return 3.14159 * radius ** 2\n",
    "\n",
    "# With modules, you can use the precise value:\n",
    "def calculate_circle_area_precise(radius):\n",
    "    return math.pi * radius ** 2\n",
    "\n",
    "print(f\"My calculation: {calculate_circle_area(5)}\")\n",
    "print(f\"Using math module: {calculate_circle_area_precise(5)}\")\n",
    "print(f\"Difference: {abs(calculate_circle_area(5) - calculate_circle_area_precise(5))}\")"
   ]
  },
  {
   "cell_type": "markdown",
   "id": "197b791e-c512-4eac-a267-95d452de7f97",
   "metadata": {
    "editable": false,
    "jp-MarkdownHeadingCollapsed": true,
    "slideshow": {
     "slide_type": ""
    },
    "tags": []
   },
   "source": [
    "## Importing Modules - The Complete Guide"
   ]
  },
  {
   "cell_type": "markdown",
   "id": "828b739f-9b67-4365-ba2e-9a93090e5e9e",
   "metadata": {
    "editable": false,
    "slideshow": {
     "slide_type": ""
    },
    "tags": []
   },
   "source": [
    "There are several ways to import modules, each with different use cases:"
   ]
  },
  {
   "cell_type": "code",
   "execution_count": null,
   "id": "aefb1b46-8ea4-4228-953a-c420e7e42a50",
   "metadata": {
    "editable": true,
    "slideshow": {
     "slide_type": ""
    },
    "tags": []
   },
   "outputs": [],
   "source": [
    "# Method 1: Import the entire module\n",
    "import math\n",
    "import os\n",
    "import sys\n",
    "\n",
    "# Access functions with module.function()\n",
    "print(f\"Square root of 16: {math.sqrt(16)}\")\n",
    "print(f\"Current working directory: {os.getcwd()}\")\n",
    "print(f\"Python version: {sys.version[:6]}\")"
   ]
  },
  {
   "cell_type": "code",
   "execution_count": null,
   "id": "2f29773e",
   "metadata": {
    "editable": true,
    "slideshow": {
     "slide_type": ""
    },
    "tags": []
   },
   "outputs": [],
   "source": [
    "# Method 2: Import with an alias (shorter names)\n",
    "import math as m\n",
    "import datetime as dt\n",
    "\n",
    "print(f\"Pi value: {m.pi}\")\n",
    "print(f\"Current date: {dt.date.today()}\")"
   ]
  },
  {
   "cell_type": "code",
   "execution_count": null,
   "id": "77b96e95",
   "metadata": {
    "editable": true,
    "slideshow": {
     "slide_type": ""
    },
    "tags": []
   },
   "outputs": [],
   "source": [
    "# Method 3: Import specific functions/classes\n",
    "from math import sqrt, pi, cos\n",
    "from datetime import datetime, timedelta\n",
    "from os import getcwd, listdir\n",
    "\n",
    "# Use directly without module prefix\n",
    "print(f\"Square root of 25: {sqrt(25)}\")\n",
    "print(f\"Pi: {pi}\")\n",
    "print(f\"Current time: {datetime.now()}\")"
   ]
  },
  {
   "cell_type": "code",
   "execution_count": null,
   "id": "ce4f29f0",
   "metadata": {
    "editable": true,
    "slideshow": {
     "slide_type": ""
    }
   },
   "outputs": [],
   "source": [
    "# Method 4: Import with aliases\n",
    "from math import sqrt as square_root\n",
    "from datetime import datetime as dt\n",
    "\n",
    "print(f\"Square root of 36: {square_root(36)}\")\n",
    "print(f\"Now: {dt.now()}\")"
   ]
  },
  {
   "cell_type": "code",
   "execution_count": null,
   "id": "44c18b00",
   "metadata": {
    "editable": true,
    "slideshow": {
     "slide_type": ""
    }
   },
   "outputs": [],
   "source": [
    "# Method 5: Import everything (use sparingly!)\n",
    "from math import *\n",
    "\n",
    "# All math functions are now available directly\n",
    "print(f\"Sin(pi/2): {sin(pi/2)}\")\n",
    "print(f\"Log(e): {log(e)}\")\n",
    "\n",
    "# WARNING: This can cause naming conflicts!\n",
    "# Better to be explicit about what you import"
   ]
  },
  {
   "cell_type": "markdown",
   "id": "d1cc0855",
   "metadata": {
    "editable": false,
    "jp-MarkdownHeadingCollapsed": true,
    "slideshow": {
     "slide_type": "fragment"
    },
    "tags": []
   },
   "source": [
    "### Best Practices for Importing"
   ]
  },
  {
   "cell_type": "markdown",
   "id": "3070f9c7-29a3-45f0-a87c-a713b964a880",
   "metadata": {
    "editable": false,
    "slideshow": {
     "slide_type": ""
    },
    "tags": []
   },
   "source": [
    "✅ **Good practices:**\n",
    "- Use specific imports when you only need a few functions\n",
    "- Use module imports when you need many functions\n",
    "- Use standard aliases (e.g., `pandas as pd`, `numpy as np`)\n",
    "- Group imports: standard library, third-party, local modules\n",
    "\n",
    "❌ **Avoid:**\n",
    "- `from module import *` (except in very specific cases)\n",
    "- Importing unused modules\n",
    "- Circular imports (module A imports module B which imports module A)"
   ]
  },
  {
   "cell_type": "code",
   "execution_count": null,
   "id": "558e0d9e",
   "metadata": {
    "editable": true,
    "slideshow": {
     "slide_type": ""
    },
    "tags": []
   },
   "outputs": [],
   "source": [
    "# Good import style\n",
    "import os\n",
    "import sys\n",
    "from pathlib import Path\n",
    "from datetime import datetime, timedelta\n",
    "\n",
    "import numpy as np  # Third-party\n",
    "\n",
    "from mymodule import myfunction  # Local modules"
   ]
  },
  {
   "cell_type": "markdown",
   "id": "b14a6818",
   "metadata": {
    "editable": false,
    "jp-MarkdownHeadingCollapsed": true,
    "slideshow": {
     "slide_type": "slide"
    },
    "tags": []
   },
   "source": [
    "## Essential Built-in Modules"
   ]
  },
  {
   "cell_type": "markdown",
   "id": "012efab2",
   "metadata": {
    "editable": true,
    "slideshow": {
     "slide_type": ""
    },
    "tags": []
   },
   "source": [
    "Let's explore some of the most useful modules that come with Python:"
   ]
  },
  {
   "cell_type": "markdown",
   "id": "4e16a864",
   "metadata": {
    "editable": true,
    "jp-MarkdownHeadingCollapsed": true,
    "slideshow": {
     "slide_type": "slide"
    },
    "tags": []
   },
   "source": [
    "### 1. `math` - Mathematical Functions"
   ]
  },
  {
   "cell_type": "code",
   "execution_count": null,
   "id": "e0a28960",
   "metadata": {
    "editable": true,
    "slideshow": {
     "slide_type": ""
    },
    "tags": [],
    "vscode": {
     "languageId": "markdown"
    }
   },
   "outputs": [],
   "source": [
    "import math\n",
    "\n",
    "# Constants\n",
    "print(f\"Pi: {math.pi}\")\n",
    "\n",
    "# Basic functions\n",
    "numbers = [16, 25, 36]\n",
    "print(\"Square roots:\", [math.sqrt(n) for n in numbers])\n",
    "print(\"Logarithms:\", [math.log(n) for n in numbers])\n",
    "\n",
    "# Trigonometry (radians)\n",
    "angles = [0, math.pi/4, math.pi/2, math.pi]\n",
    "print(\"Sine values:\", [round(math.sin(a), 3) for a in angles])\n",
    "\n",
    "# Useful functions\n",
    "print(f\"Ceiling of 4.3: {math.ceil(4.3)}\")\n",
    "print(f\"Floor of 4.7: {math.floor(4.7)}\")\n",
    "print(f\"Factorial of 5: {math.factorial(5)}\")"
   ]
  },
  {
   "cell_type": "markdown",
   "id": "8f50fb51-b1a6-4534-ba58-977256cfe7f0",
   "metadata": {
    "editable": false,
    "jp-MarkdownHeadingCollapsed": true,
    "slideshow": {
     "slide_type": ""
    },
    "tags": []
   },
   "source": [
    "### 2. `datetime` - Working with Dates and Times"
   ]
  },
  {
   "cell_type": "code",
   "execution_count": null,
   "id": "98aca7fc-d3e4-4ed2-a056-05105f0e7501",
   "metadata": {
    "editable": true,
    "slideshow": {
     "slide_type": ""
    },
    "tags": []
   },
   "outputs": [],
   "source": [
    "from datetime import datetime, date, time, timedelta\n",
    "\n",
    "# Current date and time\n",
    "now = datetime.now()\n",
    "today = date.today()\n",
    "print(f\"Current datetime: {now}\")\n",
    "print(f\"Today's date: {today}\")\n",
    "\n",
    "# Creating specific dates\n",
    "birthday = date(1990, 5, 15)\n",
    "meeting_time = datetime(2024, 12, 25, 14, 30, 0)\n",
    "print(f\"Birthday: {birthday}\")\n",
    "print(f\"Meeting: {meeting_time}\")\n",
    "\n",
    "# Date arithmetic\n",
    "age_days = today - birthday\n",
    "next_week = today + timedelta(days=7)\n",
    "print(f\"Days since birthday: {age_days.days}\")\n",
    "print(f\"Date next week: {next_week}\")\n",
    "\n",
    "# Formatting dates\n",
    "print(f\"Formatted date: {today.strftime('%B %d, %Y')}\")\n",
    "print(f\"Formatted time: {now.strftime('%H:%M:%S')}\")"
   ]
  },
  {
   "cell_type": "markdown",
   "id": "17798548",
   "metadata": {
    "editable": true,
    "jp-MarkdownHeadingCollapsed": true,
    "slideshow": {
     "slide_type": "subslide"
    },
    "tags": []
   },
   "source": [
    "### 3. `os` and `pathlib` - File System Operations"
   ]
  },
  {
   "cell_type": "code",
   "execution_count": null,
   "id": "acfd6a4d",
   "metadata": {
    "editable": true,
    "slideshow": {
     "slide_type": ""
    },
    "tags": []
   },
   "outputs": [],
   "source": [
    "import os\n",
    "from pathlib import Path\n",
    "\n",
    "# Current directory info\n",
    "print(f\"Current directory: {os.getcwd()}\")\n",
    "print(f\"Files in current directory: {os.listdir('.')[:5]}...\")  # First 5 files\n",
    "\n",
    "# Environment variables\n",
    "print(f\"Python path: {os.environ.get('PYTHONPATH', 'Not set')}\")\n",
    "print(f\"Home directory: {os.path.expanduser('~')}\")\n",
    "\n",
    "# Using pathlib (more modern approach)\n",
    "current_dir = Path('.')\n",
    "data_dir = current_dir / 'data'\n",
    "\n",
    "print(f\"Current directory: {current_dir.absolute()}\")\n",
    "print(f\"Data directory exists: {data_dir.exists()}\")\n",
    "\n",
    "# Find all .ipynb files\n",
    "notebooks = list(current_dir.glob('*.ipynb'))\n",
    "print(f\"Notebook files: {[nb.name for nb in notebooks[:3]]}...\")"
   ]
  },
  {
   "cell_type": "markdown",
   "id": "c941dff1-498e-4671-9cc5-31898d1be886",
   "metadata": {
    "editable": true,
    "jp-MarkdownHeadingCollapsed": true,
    "slideshow": {
     "slide_type": ""
    },
    "tags": []
   },
   "source": [
    "### 4. `csv` - CSV File Handling"
   ]
  },
  {
   "cell_type": "code",
   "execution_count": null,
   "id": "b10a1b92",
   "metadata": {
    "editable": true,
    "slideshow": {
     "slide_type": ""
    },
    "tags": []
   },
   "outputs": [],
   "source": [
    "import csv\n",
    "import math\n",
    "\n",
    "# Writing CSV data\n",
    "students = [\n",
    "    ['Name', 'Age', 'Grade', 'Subject'],\n",
    "    ['Alice', 20, 85, 'Math'],\n",
    "    ['Bob', 19, 92, 'Physics'],\n",
    "    ['Charlie', 21, 78, 'Chemistry'],\n",
    "    ['Diana', 20, 95, 'Biology']\n",
    "]\n",
    "\n",
    "# Write to CSV\n",
    "with open('students.csv', 'w', newline='') as csvfile:\n",
    "    writer = csv.writer(csvfile)\n",
    "    writer.writerows(students)\n",
    "\n",
    "# Read from CSV\n",
    "with open('students.csv', 'r') as csvfile:\n",
    "    reader = csv.reader(csvfile)\n",
    "    headers = next(reader)  # Skip header\n",
    "    print(f\"Headers: {headers}\")\n",
    "    \n",
    "    for row in reader:\n",
    "        name, age, grade, subject = row\n",
    "        print(f\"{name} ({age}): {grade} in {subject}\")\n",
    "\n",
    "# Using DictReader for easier access\n",
    "with open('students.csv', 'r') as csvfile:\n",
    "    reader = csv.DictReader(csvfile)## Installing Third-Party Modules\n",
    "    high_performers = [row for row in reader if int(row['Grade']) >= 90]\n",
    "    print(f\"\\nHigh performers: {[student['Name'] for student in high_performers]}\")"
   ]
  },
  {
   "cell_type": "markdown",
   "id": "248871d9-f0ca-4f41-b551-b7ab2109d6b6",
   "metadata": {
    "editable": true,
    "jp-MarkdownHeadingCollapsed": true,
    "slideshow": {
     "slide_type": ""
    },
    "tags": []
   },
   "source": [
    "### Some of the most popular modules"
   ]
  },
  {
   "cell_type": "markdown",
   "id": "eb000d98",
   "metadata": {
    "editable": true,
    "slideshow": {
     "slide_type": ""
    },
    "tags": []
   },
   "source": [
    "| Name       | Description |\n",
    "|------------------|-------------|\n",
    "| **`time`**       | functions for dealing with time\n",
    "| **`datetime`**   | allows to work with dates and times together\n",
    "| **`os`**         | functions for working with files, directories and operating system (lowlevel)\n",
    "| **`pathlib`**    | Classes for working with pathes files and directories in a higher level implementation\n",
    "| **`shutils`**    | contains a function to copy files\n",
    "| **`sys`**        | contains a function to quit your program\n",
    "| **`zipfile`**    | allows to compress/extract files or directory of files into/from a zip file\n",
    "| **`urllib`**     | allows to get files from the internet\n",
    "| **`math`**       | math functions such as `sin`, `cos`, `tan`, `exp`, `log`, `sqrt`, `floor`, `ceil` |\n",
    "| **`numpy`**      | fundamental package for scientific computing (a multidimensional array object; routines for fast operations on arrays, including mathematical, logical, shape manipulation, sorting, selecting; basic linear algebra, basic statistical operations, random simulation and much more) |\n",
    "| **`scipy`**      | a collection of mathematical algorithms and convenience functions built on the NumPy extension (high-level commands and classes for the manipulation and visualization of data) |\n",
    "| **`matplotlib`** | library for plotting\n",
    "| **`sympy`**      | symbolic computations\n",
    "| **`itertools`**  | provides a generator-like object named `permutations`\n",
    "| **`csv`**        | parsing and writing `csv` files"
   ]
  },
  {
   "cell_type": "markdown",
   "id": "a00f019b",
   "metadata": {
    "editable": true,
    "jp-MarkdownHeadingCollapsed": true,
    "slideshow": {
     "slide_type": "slide"
    },
    "tags": []
   },
   "source": [
    "## Creating Your Own Modules"
   ]
  },
  {
   "cell_type": "markdown",
   "id": "c86f404e-ffce-4f51-8c76-a9ee40030540",
   "metadata": {
    "editable": false,
    "jp-MarkdownHeadingCollapsed": true,
    "slideshow": {
     "slide_type": ""
    },
    "tags": []
   },
   "source": [
    "### Simple Module Example"
   ]
  },
  {
   "cell_type": "markdown",
   "id": "33048646-0881-4b46-95b2-e81f57c557a3",
   "metadata": {
    "editable": true,
    "slideshow": {
     "slide_type": ""
    },
    "tags": []
   },
   "source": [
    "Create a file called `mymath.py`:"
   ]
  },
  {
   "cell_type": "code",
   "execution_count": null,
   "id": "e86bbfec-af22-4618-826a-34a4ae7475d2",
   "metadata": {
    "editable": true,
    "slideshow": {
     "slide_type": ""
    },
    "tags": []
   },
   "outputs": [],
   "source": [
    "# Let's create a module in this notebook (normally you'd create a separate .py file)\n",
    "\n",
    "module_content = '''\n",
    "\"\"\"\n",
    "A simple math utilities module\n",
    "\"\"\"\n",
    "\n",
    "import math\n",
    "\n",
    "def circle_area(radius):\n",
    "    \"\"\"Calculate the area of a circle\"\"\"\n",
    "    return math.pi * radius ** 2\n",
    "\n",
    "def circle_circumference(radius):\n",
    "    \"\"\"Calculate the circumference of a circle\"\"\"\n",
    "    return 2 * math.pi * radius\n",
    "\n",
    "def cylinder_volume(radius, height):\n",
    "    \"\"\"Calculate the volume of a cylinder\"\"\"\n",
    "    base_area = circle_area(radius)\n",
    "    return base_area * height\n",
    "\n",
    "# Module-level variables\n",
    "PI = math.pi\n",
    "E = math.e\n",
    "\n",
    "# This runs when the module is imported\n",
    "print(\"mymath module loaded!\")\n",
    "\n",
    "# This only runs when the module is executed as a script\n",
    "if __name__ == \"__main__\":\n",
    "    print(\"Running mymath as a script\")\n",
    "    print(f\"Circle area (r=5): {circle_area(5)}\")\n",
    "    print(f\"Cylinder volume (r=3, h=10): {cylinder_volume(3, 10)}\")\n",
    "'''\n",
    "\n",
    "# Write the module to a file\n",
    "with open('mymath.py', 'w') as f:\n",
    "    f.write(module_content)\n",
    "\n",
    "print(\"Created mymath.py module!\")"
   ]
  },
  {
   "cell_type": "code",
   "execution_count": null,
   "id": "a3299267-39d7-4439-84d2-a88cd805bd16",
   "metadata": {
    "editable": true,
    "slideshow": {
     "slide_type": ""
    },
    "tags": []
   },
   "outputs": [],
   "source": [
    "# Now import and use our custom module\n",
    "import mymath\n",
    "\n",
    "# Use functions from our module\n",
    "radius = 5\n",
    "height = 10\n",
    "\n",
    "area = mymath.circle_area(radius)\n",
    "circumference = mymath.circle_circumference(radius)\n",
    "volume = mymath.cylinder_volume(radius, height)\n",
    "\n",
    "print(f\"Circle (radius {radius}):\")\n",
    "print(f\"  Area: {area:.2f}\")\n",
    "print(f\"  Circumference: {circumference:.2f}\")\n",
    "print(f\"Cylinder volume: {volume:.2f}\")\n",
    "\n",
    "# Access module variables\n",
    "print(f\"Pi from module: {mymath.PI}\")"
   ]
  },
  {
   "cell_type": "markdown",
   "id": "4af7eda3-efd8-4542-aa6d-e096e3936c67",
   "metadata": {
    "editable": false,
    "slideshow": {
     "slide_type": ""
    },
    "tags": []
   },
   "source": [
    "### The `__name__ == \"__main__\"` Pattern"
   ]
  },
  {
   "cell_type": "markdown",
   "id": "5fdb6303-3142-4cf0-a750-a0713297a158",
   "metadata": {
    "editable": false,
    "slideshow": {
     "slide_type": ""
    },
    "tags": []
   },
   "source": [
    "This important pattern allows a module to behave differently when:\n",
    "- **Imported**: Only definitions are loaded\n",
    "- **Executed directly**: Additional code runs\n",
    "\n",
    "This is essential for creating modules that can also work as standalone scripts.\n",
    "```python\n",
    "# Example of testing our module\n",
    "if __name__ == \"__main__\":\n",
    "    # This code only runs when this notebook cell is executed\n",
    "    # but would run when mymath.py is executed as: python mymath.py\n",
    "    \n",
    "    print(\"Testing mymath module functions:\")\n",
    "    \n",
    "    test_cases = [\n",
    "        (1, \"Unit circle\"),\n",
    "        (5, \"Medium circle\"),\n",
    "        (10, \"Large circle\")\n",
    "    ]\n",
    "    \n",
    "    for radius, description in test_cases:\n",
    "        area = mymath.circle_area(radius)\n",
    "        circum = mymath.circle_circumference(radius)\n",
    "        print(f\"{description} (r={radius}): area={area:.2f}, circumference={circum:.2f}\")\n",
    "```"
   ]
  },
  {
   "cell_type": "markdown",
   "id": "c51b422c-34d5-425a-b841-9acf09350296",
   "metadata": {
    "editable": true,
    "jp-MarkdownHeadingCollapsed": true,
    "slideshow": {
     "slide_type": ""
    },
    "tags": []
   },
   "source": [
    "## Key Takeaways"
   ]
  },
  {
   "cell_type": "markdown",
   "id": "5903379e-5015-4f77-91b7-e46adaff4f4b",
   "metadata": {
    "editable": true,
    "jp-MarkdownHeadingCollapsed": true,
    "slideshow": {
     "slide_type": ""
    },
    "tags": []
   },
   "source": [
    "### Essential Concepts:\n",
    "1. **Modules are reusable code containers** - functions, classes, variables in .py files\n",
    "2. **Import strategically** - use specific imports when possible, avoid `import *`\n",
    "3. **Explore built-in modules** - Python's standard library is extensive and powerful\n",
    "4. **Create your own modules** - organize code into logical, reusable components\n",
    "5. **Use `if __name__ == \"__main__\"`** - make modules that can also run as scripts\n",
    "\n",
    "### Best Practices:\n",
    "- **Organize imports**: standard library, third-party, local modules\n",
    "- **Use meaningful module names** and follow Python naming conventions\n",
    "- **Document your modules** with docstrings\n",
    "- **Handle imports gracefully** with try/except when needed\n",
    "- **Keep modules focused** - one clear purpose per module"
   ]
  },
  {
   "cell_type": "markdown",
   "id": "bbe2196d",
   "metadata": {
    "editable": true,
    "slideshow": {
     "slide_type": "slide"
    },
    "tags": []
   },
   "source": [
    "## Have a play!"
   ]
  },
  {
   "cell_type": "markdown",
   "id": "d3548ea5-03a1-4ae3-9e3b-953105755de1",
   "metadata": {
    "editable": false,
    "jp-MarkdownHeadingCollapsed": true,
    "slideshow": {
     "slide_type": ""
    },
    "tags": []
   },
   "source": [
    "### Exercise: Weather Data Processor\n",
    "Create a module that processes weather data using multiple built-in modules."
   ]
  },
  {
   "cell_type": "code",
   "execution_count": null,
   "id": "be842bd3",
   "metadata": {
    "editable": true,
    "lines_to_next_cell": 0,
    "remove_code": "non-comments",
    "slideshow": {
     "slide_type": ""
    },
    "tags": []
   },
   "outputs": [],
   "source": [
    "# Create weather_processor.py\n",
    "weather_content = '''\n",
    "\"\"\"Weather data processing module\"\"\"\n",
    "\n",
    "import json\n",
    "import csv\n",
    "import statistics\n",
    "from datetime import datetime, timedelta\n",
    "import random\n",
    "\n",
    "def generate_sample_weather_data(days=7):\n",
    "    \"\"\"Generate sample weather data for testing\"\"\"\n",
    "    data = []\n",
    "    base_date = datetime.now() - timedelta(days=days)\n",
    "    \n",
    "    for i in range(days):\n",
    "        date = base_date + timedelta(days=i)\n",
    "        temp = random.randint(15, 30) + random.random()\n",
    "        humidity = random.randint(40, 90)\n",
    "        \n",
    "        data.append({\n",
    "            'date': date.isoformat(),\n",
    "            'temperature': round(temp, 1),\n",
    "            'humidity': humidity,\n",
    "            'conditions': random.choice(['sunny', 'cloudy', 'rainy'])\n",
    "        })\n",
    "    \n",
    "    return data\n",
    "\n",
    "def save_weather_data(data, filename='weather.json'):\n",
    "    \"\"\"Save weather data to JSON file\"\"\"\n",
    "    with open(filename, 'w') as f:\n",
    "        json.dump(data, f, indent=2)\n",
    "\n",
    "def load_weather_data(filename='weather.json'):\n",
    "    \"\"\"Load weather data from JSON file\"\"\"\n",
    "    with open(filename, 'r') as f:\n",
    "        return json.load(f)\n",
    "\n",
    "def analyze_weather(data):\n",
    "    \"\"\"Analyze weather data and return statistics\"\"\"\n",
    "    temperatures = [day['temperature'] for day in data]\n",
    "    humidity_levels = [day['humidity'] for day in data]\n",
    "    \n",
    "    analysis = {\n",
    "        'period_days': len(data),\n",
    "        'avg_temperature': statistics.mean(temperatures),\n",
    "        'max_temperature': max(temperatures),\n",
    "        'min_temperature': min(temperatures),\n",
    "        'avg_humidity': statistics.mean(humidity_levels),\n",
    "        'conditions_count': {}\n",
    "    }\n",
    "    \n",
    "    # Count weather conditions\n",
    "    for day in data:\n",
    "        condition = day['conditions']\n",
    "        analysis['conditions_count'][condition] = analysis['conditions_count'].get(condition, 0) + 1\n",
    "    \n",
    "    return analysis\n",
    "\n",
    "def export_to_csv(data, filename='weather.csv'):\n",
    "    \"\"\"Export weather data to CSV format\"\"\"\n",
    "    if not data:\n",
    "        return\n",
    "    \n",
    "    fieldnames = data[0].keys()\n",
    "    with open(filename, 'w', newline='') as csvfile:\n",
    "        writer = csv.DictWriter(csvfile, fieldnames=fieldnames)\n",
    "        writer.writeheader()\n",
    "        writer.writerows(data)\n",
    "\n",
    "if __name__ == \"__main__\":\n",
    "    # Demo when run as script\n",
    "    print(\"Generating sample weather data...\")\n",
    "    weather_data = generate_sample_weather_data(10)\n",
    "    \n",
    "    save_weather_data(weather_data)\n",
    "    analysis = analyze_weather(weather_data)\n",
    "    export_to_csv(weather_data)\n",
    "    \n",
    "    print(\"Weather Analysis:\")\n",
    "    print(f\"Average temperature: {analysis['avg_temperature']:.1f}°C\")\n",
    "    print(f\"Temperature range: {analysis['min_temperature']:.1f}°C to {analysis['max_temperature']:.1f}°C\")\n",
    "    print(f\"Average humidity: {analysis['avg_humidity']:.1f}%\")\n",
    "    print(\"Conditions:\", analysis['conditions_count'])\n",
    "'''\n",
    "\n",
    "with open('weather_processor.py', 'w') as f:\n",
    "    f.write(weather_content)"
   ]
  },
  {
   "cell_type": "code",
   "execution_count": null,
   "id": "506cd6b2",
   "metadata": {
    "editable": true,
    "lines_to_next_cell": 0,
    "remove_code": "non-comments",
    "slideshow": {
     "slide_type": ""
    },
    "tags": []
   },
   "outputs": [],
   "source": [
    "# Now use the weather processor module\n",
    "import... #TODO\n",
    "\n",
    "# Generate weather data\n",
    "print(\"=== Weather Data Analysis ===\")\n",
    "weather_data = weather_processor... #TODO\n",
    "# Save weather data in 'sample_weather.json'\n",
    "weather_processor... #TODO\n",
    "# Analyze weather data\n",
    "analysis = weather_processor...\n",
    "# Export to 'sample_weather.csv'\n",
    "weather_processor... #TODO\n",
    "\n",
    "print(f\"Analyzed {analysis['period_days']} days of weather data:\")\n",
    "print(f\"🌡️  Average temperature: {analysis['avg_temperature']:.1f}°C\")\n",
    "print(f\"🔥 Maximum temperature: {analysis['max_temperature']:.1f}°C\")\n",
    "print(f\"🧊 Minimum temperature: {analysis['min_temperature']:.1f}°C\")\n",
    "print(f\"💧 Average humidity: {analysis['avg_humidity']:.1f}%\")\n",
    "print(\"\\n📊 Weather conditions:\")\n",
    "for condition, count in analysis['conditions_count'].items():\n",
    "    percentage = (count / analysis['period_days']) * 100\n",
    "    print(f\"   {condition.title()}: {count} days ({percentage:.1f}%)\")"
   ]
  },
  {
   "cell_type": "code",
   "execution_count": null,
   "id": "71096f45-172b-4319-9cb8-32547ac97783",
   "metadata": {
    "editable": true,
    "slideshow": {
     "slide_type": ""
    },
    "tags": []
   },
   "outputs": [],
   "source": [
    "# Solution\n",
    "import weather_processor\n",
    "\n",
    "# Generate and analyze weather data\n",
    "print(\"=== Weather Data Analysis ===\")\n",
    "weather_data = weather_processor.generate_sample_weather_data(14)\n",
    "weather_processor.save_weather_data(weather_data, 'sample_weather.json')\n",
    "\n",
    "analysis = weather_processor.analyze_weather(weather_data)\n",
    "weather_processor.export_to_csv(weather_data, 'sample_weather.csv')\n",
    "\n",
    "print(f\"Analyzed {analysis['period_days']} days of weather data:\")\n",
    "print(f\"🌡️  Average temperature: {analysis['avg_temperature']:.1f}°C\")\n",
    "print(f\"🔥 Maximum temperature: {analysis['max_temperature']:.1f}°C\")\n",
    "print(f\"🧊 Minimum temperature: {analysis['min_temperature']:.1f}°C\")\n",
    "print(f\"💧 Average humidity: {analysis['avg_humidity']:.1f}%\")\n",
    "print(\"\\n📊 Weather conditions:\")\n",
    "for condition, count in analysis['conditions_count'].items():\n",
    "    percentage = (count / analysis['period_days']) * 100\n",
    "    print(f\"   {condition.title()}: {count} days ({percentage:.1f}%)\")"
   ]
  },
  {
   "cell_type": "markdown",
   "id": "b58c6682",
   "metadata": {
    "editable": false,
    "slideshow": {
     "slide_type": "slide"
    },
    "tags": []
   },
   "source": [
    "# <ins>9.</ins> Brief introduction to classes"
   ]
  },
  {
   "cell_type": "markdown",
   "id": "b3dc0cea-51fe-46bc-b9df-f0f0902e51f0",
   "metadata": {
    "editable": false,
    "slideshow": {
     "slide_type": ""
    },
    "tags": []
   },
   "source": [
    "## What is Object-Oriented Programming?"
   ]
  },
  {
   "cell_type": "markdown",
   "id": "2bc46488",
   "metadata": {
    "editable": true,
    "slideshow": {
     "slide_type": ""
    },
    "tags": []
   },
   "source": [
    "* Python is an object oriented programming language. Object-Oriented Programming is a programming paradigm based on the concept of \"objects\" which can contain:\n",
    "  - Data (attributes)\n",
    "  - Code (methods)"
   ]
  },
  {
   "cell_type": "markdown",
   "id": "e1593f5d",
   "metadata": {
    "editable": false,
    "jp-MarkdownHeadingCollapsed": true,
    "slideshow": {
     "slide_type": "subslide"
    },
    "tags": []
   },
   "source": [
    "### Key OOP Concepts:\n",
    "**1. Classes and Objects**\n",
    "- **Class**: A blueprint or template for creating objects\n",
    "- **Object**: An instance of a class (the actual \"thing\" created from the blueprint)\n",
    "\n",
    "Think of it like:\n",
    "- Class = Cookie cutter (blueprint)\n",
    "- Object = Individual cookies (instances)"
   ]
  },
  {
   "cell_type": "markdown",
   "id": "6fa90b84-bb64-4808-acb9-531fafbce0c9",
   "metadata": {
    "editable": false,
    "jp-MarkdownHeadingCollapsed": true,
    "slideshow": {
     "slide_type": ""
    },
    "tags": []
   },
   "source": [
    "### Simple Example:"
   ]
  },
  {
   "cell_type": "code",
   "execution_count": null,
   "id": "c98e7681-75fd-4746-8e43-4933210438f5",
   "metadata": {
    "editable": true,
    "slideshow": {
     "slide_type": ""
    },
    "tags": []
   },
   "outputs": [],
   "source": [
    "# Define a class (blueprint)\n",
    "class Dog:\n",
    "    def __init__(self, name, breed):\n",
    "        self.name = name      # attribute\n",
    "        self.breed = breed    # attribute\n",
    "        \n",
    "    def bark(self):          # method\n",
    "        print(f\"{self.name} says woof!\")\n",
    "    \n",
    "    def info(self):          # method\n",
    "        print(f\"{self.name} is a {self.breed}\")\n",
    "\n",
    "# Create objects (instances)\n",
    "dog1 = Dog(\"Rex\", \"German Shepherd\")\n",
    "dog2 = Dog(\"Buddy\", \"Golden Retriever\")\n",
    "\n",
    "# Use the objects\n",
    "dog1.bark()    # Rex says woof!\n",
    "dog2.info()    # Buddy is a Golden Retriever"
   ]
  },
  {
   "cell_type": "markdown",
   "id": "323b06b7-ab11-45e0-85f1-36ef44d9c164",
   "metadata": {
    "editable": false,
    "slideshow": {
     "slide_type": ""
    },
    "tags": []
   },
   "source": [
    "**Key Points:**\n",
    "- `__init__`: Constructor method that initializes the object\n",
    "- `self`: Refers to the current instance of the class\n",
    "- **Attributes**: Data stored in the object (`self.name`, `self.breed`)\n",
    "- **Methods**: Functions that belong to the class"
   ]
  },
  {
   "cell_type": "markdown",
   "id": "690f954f-71e6-47bd-b61e-37e963e3636c",
   "metadata": {
    "editable": false,
    "slideshow": {
     "slide_type": ""
    },
    "tags": []
   },
   "source": [
    "### Why Use Classes?\n",
    "**2. Encapsulation** - Bundle related data and functions together:"
   ]
  },
  {
   "cell_type": "code",
   "execution_count": null,
   "id": "f9546b75-34c2-4a46-97c2-c36a1fb907ef",
   "metadata": {
    "editable": true,
    "slideshow": {
     "slide_type": ""
    },
    "tags": []
   },
   "outputs": [],
   "source": [
    "class BankAccount:\n",
    "    def __init__(self, account_number):\n",
    "        self.account_number = account_number\n",
    "        self._balance = 0  # Protected attribute\n",
    "        \n",
    "    def deposit(self, amount):\n",
    "        if amount > 0:\n",
    "            self._balance += amount\n",
    "            print(f\"Deposited ${amount}. New balance: ${self._balance}\")\n",
    "    \n",
    "    def get_balance(self):\n",
    "        return self._balance\n",
    "\n",
    "# Usage\n",
    "account = BankAccount(\"12345\")\n",
    "account.deposit(100)\n",
    "print(f\"Balance: ${account.get_balance()}\")"
   ]
  },
  {
   "cell_type": "markdown",
   "id": "ccfa919b",
   "metadata": {
    "editable": false,
    "slideshow": {
     "slide_type": "subslide"
    },
    "tags": []
   },
   "source": [
    "## \"Real-World\" Example: Sensor Management"
   ]
  },
  {
   "cell_type": "markdown",
   "id": "f8f13a0d-256c-49e9-8c61-ba8468f14d29",
   "metadata": {
    "editable": false,
    "slideshow": {
     "slide_type": ""
    },
    "tags": []
   },
   "source": [
    "Let's look at a practical example using a plant monitoring system:"
   ]
  },
  {
   "cell_type": "code",
   "execution_count": null,
   "id": "50b261ea",
   "metadata": {
    "editable": true,
    "slideshow": {
     "slide_type": ""
    },
    "tags": []
   },
   "outputs": [],
   "source": [
    "import sensor_api\n",
    "\n",
    "class PlantSensor:\n",
    "    def __init__(self, sensor_id):\n",
    "        \"\"\"Initialize the sensor with an ID and connect to it.\"\"\"\n",
    "        self.sensor_id = sensor_id\n",
    "        self.connected = sensor_api.connect(sensor_id)\n",
    "        \n",
    "        # Store readings\n",
    "        self.soil_humidity = None\n",
    "        self.air_humidity = None\n",
    "        self.temperature = None\n",
    "    \n",
    "    def get_soil_humidity(self):\n",
    "        \"\"\"Get soil humidity reading.\"\"\"\n",
    "        if self.connected:\n",
    "            message = f\"{self.sensor_id}:SOIL_HUMIDITY\"\n",
    "            self.soil_humidity = sensor_api.send_message(message)\n",
    "            return self.soil_humidity\n",
    "        return None\n",
    "    \n",
    "    def display_readings(self):\n",
    "        \"\"\"Display all sensor readings in a nice format.\"\"\"\n",
    "        print(f\"\\n=== Plant Sensor {self.sensor_id} Readings ===\")\n",
    "        print(f\"Soil Humidity: {self.soil_humidity}%\")\n",
    "        print(\"=\" * 40)\n",
    "    \n",
    "    def disconnect(self):\n",
    "        \"\"\"Disconnect from the sensor.\"\"\"\n",
    "        if self.connected:\n",
    "            sensor_api.disconnect(self.sensor_id)\n",
    "            self.connected = False"
   ]
  },
  {
   "cell_type": "code",
   "execution_count": null,
   "id": "bf79c63c-f151-41b5-b12c-ea0715400f91",
   "metadata": {
    "editable": true,
    "slideshow": {
     "slide_type": ""
    },
    "tags": []
   },
   "outputs": [],
   "source": [
    "# Usage example\n",
    "sensor = PlantSensor(\"GREENHOUSE_01\")\n",
    "sensor.get_soil_humidity()\n",
    "sensor.display_readings()\n",
    "sensor.disconnect()"
   ]
  },
  {
   "cell_type": "markdown",
   "id": "4cb7ed7a",
   "metadata": {
    "editable": false,
    "slideshow": {
     "slide_type": "fragment"
    },
    "tags": []
   },
   "source": [
    "## Key Benefits of Using Classes:"
   ]
  },
  {
   "cell_type": "markdown",
   "id": "860a3670-3a8b-4599-b65e-51685c81a823",
   "metadata": {
    "editable": false,
    "slideshow": {
     "slide_type": ""
    },
    "tags": []
   },
   "source": [
    "1. **Organisation**: Related data and functions are grouped together\n",
    "2. **Reusability**: Create multiple sensors with the same blueprint\n",
    "3. **Encapsulation**: Hide internal details, expose clean interface\n",
    "4. **Maintainability**: Changes to the class affect all instances"
   ]
  },
  {
   "cell_type": "markdown",
   "id": "6b3d4d5a",
   "metadata": {
    "editable": false,
    "slideshow": {
     "slide_type": "slide"
    },
    "tags": []
   },
   "source": [
    "## Have a play!"
   ]
  },
  {
   "cell_type": "markdown",
   "id": "12bb657c-4c36-4dd0-99d2-eb48a70d03a2",
   "metadata": {
    "editable": false,
    "slideshow": {
     "slide_type": ""
    },
    "tags": []
   },
   "source": [
    "### Hands-On Exercise: Plant Sensor Class"
   ]
  },
  {
   "cell_type": "markdown",
   "id": "3915bd19",
   "metadata": {
    "editable": true,
    "slideshow": {
     "slide_type": ""
    },
    "tags": []
   },
   "source": [
    "**Your Task**: Open [`Class_sensor_exercise.ipynb`](Class_sensor_exercise.ipynb) and work through the exercise to build your own PlantSensor class.\n",
    "\n",
    "**What you'll learn:**\n",
    "- How to create a class from scratch\n",
    "- Working with attributes and methods\n",
    "- Using external APIs (the sensor_api module)\n",
    "- Object lifecycle (initialisation and cleanup)\n",
    "\n",
    "**Time**: ~15 minutes"
   ]
  },
  {
   "cell_type": "markdown",
   "id": "1d392ced-a14e-43e3-91d5-1c4da0b03805",
   "metadata": {
    "editable": false,
    "lines_to_next_cell": 0,
    "slideshow": {
     "slide_type": ""
    },
    "tags": []
   },
   "source": [
    "### Key Takeaways:"
   ]
  },
  {
   "cell_type": "markdown",
   "id": "f4b46d83-48eb-4471-9c0b-c43ae8ca2ea1",
   "metadata": {
    "editable": false,
    "slideshow": {
     "slide_type": ""
    },
    "tags": []
   },
   "source": [
    "1. **Classes are blueprints** for creating objects\n",
    "2. **Objects contain both data and behavior** \n",
    "3. **`__init__` method initialises** new objects\n",
    "4. **`self` refers to the current instance**\n",
    "5. **Classes help organise code** into logical, reusable units\n",
    "6. **Encapsulation bundles** related functionality together\n",
    "\n",
    "Classes are fundamental to writing organised, maintainable Python code. They're especially useful when you need to create multiple similar objects or want to group related data and functions together."
   ]
  },
  {
   "cell_type": "markdown",
   "id": "9d61d027",
   "metadata": {
    "editable": true,
    "slideshow": {
     "slide_type": "fragment"
    },
    "tags": []
   },
   "source": [
    "You can use this to try to use your class. You can comment out functionality, if you have not implemented it yet"
   ]
  },
  {
   "cell_type": "code",
   "execution_count": null,
   "id": "8fa2a8d3",
   "metadata": {
    "editable": true,
    "slideshow": {
     "slide_type": ""
    },
    "tags": []
   },
   "outputs": [],
   "source": [
    "my_plant = PlantSensor(\"GREENHOUSE_01\")\n",
    "\n",
    "# Take readings\n",
    "my_plant.get_soil_humidity()\n",
    "my_plant.get_air_humidity()\n",
    "my_plant.get_temperature()\n",
    "\n",
    "# Display results\n",
    "my_plant.display_readings()\n",
    "\n",
    "# Clean up\n",
    "my_plant.disconnect()"
   ]
  },
  {
   "cell_type": "markdown",
   "id": "ef9b73ae",
   "metadata": {
    "editable": true,
    "slideshow": {
     "slide_type": "slide"
    },
    "tags": []
   },
   "source": [
    "# Thank You for Attending! 👋\n",
    "\n",
    "- Feedback would really be appreciated (see the link in the email I've sent)\n",
    "- Check out our other training courses at ARC:\n",
    "  - https://www.durham.ac.uk/research/institutes-and-centres/advanced-research-computing/training-/\n",
    "- RSE support by ARC at Durham University:\n",
    "  - https://www.durham.ac.uk/research/institutes-and-centres/advanced-research-computing/research-software-engineering/\n",
    "\n",
    "#### Contact\n",
    "- Email: arc-rse@durham.ac.uk\n",
    "\n",
    "Happy Coding! 🐍"
   ]
  }
 ],
 "metadata": {
  "kernelspec": {
   "display_name": "Python 3 (ipykernel)",
   "language": "python",
   "name": "python3"
  },
  "language_info": {
   "codemirror_mode": {
    "name": "ipython",
    "version": 3
   },
   "file_extension": ".py",
   "mimetype": "text/x-python",
   "name": "python",
   "nbconvert_exporter": "python",
   "pygments_lexer": "ipython3",
   "version": "3.13.0"
  }
 },
 "nbformat": 4,
 "nbformat_minor": 5
}
