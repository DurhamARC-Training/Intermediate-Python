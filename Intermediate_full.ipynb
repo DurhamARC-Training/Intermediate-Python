{
 "cells": [
  {
   "attachments": {
    "4bc4187b-d7a8-40d7-9b9b-e39c975e84a1.png": {
     "image/png": "[encoded data removed]"
    }
   },
   "cell_type": "markdown",
   "id": "328c76b4-1264-4de8-8779-b633bece6477",
   "metadata": {},
   "source": [
    "ARC course \"Coding with Python\" (Intermediate level)\n",
    "====================================================\n",
    "![icons8-python-48.png](attachment:4bc4187b-d7a8-40d7-9b9b-e39c975e84a1.png)"
   ]
  },
  {
   "cell_type": "markdown",
   "id": "2a805c89-f13d-4bbb-8697-7a174fc9b204",
   "metadata": {},
   "source": [
    "Welcome to our ARC course \"Coding with Python\" (Intermediate level).\n",
    "\n",
    "Some general information on how the course will run:\n",
    "\n",
    "* The course will run for three hours from 10.00 to 13.00. We plan a coffee break between 2 parts at around 11:30 for ~10-15 min.\n",
    "\n",
    "* This material builds upon the knowledge acquired in the previous Beginner level course.\n",
    "\n",
    "* Each topic will be presented wih code demonstrations followed by practical exercises.\n",
    "\n",
    "* We are happy to answer any questions during the course and to help during the exercises.\n",
    "\n",
    "Upon completion of the course, please, don't forget to scan the activity QR code to record your attendance.\n",
    "\n",
    "Enjoy coding with Python!"
   ]
  },
  {
   "cell_type": "markdown",
   "id": "77bfa57e-7790-4683-91fd-6189a99c6c8e",
   "metadata": {
    "editable": true,
    "slideshow": {
     "slide_type": "slide"
    },
    "tags": []
   },
   "source": [
    "## Set up your Python environment"
   ]
  },
  {
   "cell_type": "markdown",
   "id": "0554114a-42c2-44c5-a1ab-f631ad1f4cd1",
   "metadata": {},
   "source": [
    "There are several option how you can read and run this Jupyter notebook:"
   ]
  },
  {
   "cell_type": "markdown",
   "id": "a3722b27-20b8-4c93-8274-b7a57e10e4ea",
   "metadata": {},
   "source": [
    "#### <ins>Option 1 (preferred)</ins>: The Jupyter Notebook server set up by Daniel Maitre from the Physics department"
   ]
  },
  {
   "cell_type": "markdown",
   "id": "852706e6-0dfb-4696-b87a-5e3044d063f7",
   "metadata": {},
   "source": [
    "1) Log in with your CIS account (loading process can take some time):\n",
    "   - https://notebooks.dmaitre.phyip3.dur.ac.uk/arc\n",
    "\n",
    "2) Upload this tutorial course\n",
    "   - Go to the repository: https://github.com/DurhamARC-Training/Intermediate-Python\n",
    "   - Download `pull_files_from_repo.py` file into your environment and upload it to the Jupyter Notebook server\n",
    "   - Open the terminal on the Jupyter Notebook server and execute `python pull_files_from_repo.py`. It'll upload the entire tutorial from GitHub to the server"
   ]
  },
  {
   "cell_type": "markdown",
   "id": "f5121786-e50c-4b64-b5f4-e43a79ea1627",
   "metadata": {},
   "source": [
    "#### <ins>Option 2 (if the previous one doesn't work)</ins>: Google Colab (https://colab.research.google.com)"
   ]
  },
  {
   "cell_type": "markdown",
   "id": "f2fd2f4d-53f6-41bb-8cbd-b0d97b237da4",
   "metadata": {},
   "source": [
    "1) Log in to Google Colab, for example, with your Google account\n",
    "2) Open our tutorial by specifying its GitHub URL (https://github.com/DurhamARC-Training/Intermediate-Python) and selecting the notebook (`Intermediate-Python.ipynb`)"
   ]
  },
  {
   "cell_type": "markdown",
   "id": "7018624d-1cde-4d1c-ab7b-ef66767d3e68",
   "metadata": {},
   "source": [
    "#### <ins>Option 3 (if you want to run locally)</ins>: Local Python environment"
   ]
  },
  {
   "cell_type": "markdown",
   "id": "7a17754e-57e4-4d85-915e-3e96ef9a401b",
   "metadata": {},
   "source": [
    "**Install Python**\n",
    "\n",
    "---\n",
    "\n",
    "<ins>On Windows</ins>:\n",
    "  1) Go to https://www.python.org/downloads/ and choose the latest stable installer for Windows (e.g., \"Windows installer (64-bit)\")\n",
    "  2) During installation, make sure to check the box “Add Python to PATH” so you can use Python from any command prompt\n",
    "  3) After installation finishes, open a new Terminal (Command Prompt or PowerShell) and type:\n",
    "     \n",
    "     `python --version`\n",
    "\n",
    "     This should confirm that Python has been installed successfully\n",
    "  5) *Alternatively* 👉 You can install the *Anaconda* distribution from https://www.anaconda.com/products/distribution, which includes Python and a variety of data-science packages by default\n",
    "\n",
    "---\n",
    "\n",
    "<ins>On Linux</ins> (Ubuntu/Debian-based):\n",
    "  1) Open a terminal\n",
    "  2) Run:\n",
    "     \n",
    "     `sudo apt-get update`\n",
    "     \n",
    "     `sudo apt-get install python3 python3-pip`\n",
    "     \n",
    "     (Adjust to *python* or *python3* depending on your distribution)\n",
    "  4) Confirm your installation by running:\n",
    "\n",
    "     `python3 --version`\n",
    "     \n",
    "  6) *Note* 📝 For Fedora or other distributions, replace `apt-get` with `yum`, `dnf`, or your distro’s package manager\n",
    "  7) *Alternatively* 👉 You can also install *Anaconda* if you want a more complete environment\n",
    "\n",
    "---\n",
    "\n",
    "<ins>On macOS</ins>:\n",
    "  1) Visit https://www.python.org/downloads/ and download the macOS installer (e.g., \"macOS 64-bit universal2 installer\")\n",
    "  2) Double-click the `.pkg` file and follow the prompts\n",
    "  3) After installation, open Terminal and check:\n",
    "     \n",
    "     `python3 --version`\n",
    "     \n",
    "  5) *Alternatively* 👉 You can install Python via *Homebrew* (if you already have *Homebrew* on macOS) by running:\n",
    "\n",
    "     `brew install python3`\n",
    "\n",
    "---\n",
    "\n",
    "**Install and run Jupyter Notebooks**\n",
    "  1) Once **Python** is installed (whether from python.org, your Linux package manager, or Anaconda), you can install **Jupyter Notebook** as follows:\n",
    "\n",
    "     `pip install jupyter`\n",
    "\n",
    "     Or **Jupyter Lab**, the next-generation web-based interface from the Jupyter project (which I'll be using):\n",
    "\n",
    "     `pip install jupyterlab`\n",
    "\n",
    "     (Use `pip3` if needed, e.g., › `pip3 install jupyter`) • If you install *Anaconda*, **Jupyter Notebook** is already included, so you can skip this step\n",
    "  2) When everything is installed, you can start a **Jupyter Notebook** server (or**Jupyter Lab**) and work on your Python exercises by simply running in your terminal or command prompt:\n",
    "\n",
    "     `jupyter notebook`\n",
    "\n",
    "     or\n",
    "\n",
    "     `jupyter lab`\n",
    "\n",
    "     This will open a new tab in your web browser with the **Jupyter Notebook** or **Jupyter Lab** interface, ready for you to start coding!\n",
    "\n",
    "---"
   ]
  },
  {
   "cell_type": "markdown",
   "id": "eda1d099-f53e-447e-94d0-20517492dbba",
   "metadata": {
    "editable": true,
    "slideshow": {
     "slide_type": "skip"
    },
    "tags": []
   },
   "source": [
    "\\[Optional\\] **Using conda:**\n",
    "\n",
    "Setting up a conda environment for this document\n",
    "\n",
    "```\n",
    "conda create -n python_intermediate -c conda-forge jupyter jupyterlab\n",
    "```\n",
    "\n",
    "then start normally via local JupyterLab by calling `jupyter lab`\n",
    "\n",
    "----"
   ]
  },
  {
   "cell_type": "markdown",
   "id": "0fdcc824-000d-4821-a2b4-9cffbbcfb497",
   "metadata": {
    "editable": true,
    "slideshow": {
     "slide_type": "skip"
    },
    "tags": []
   },
   "source": [
    "\\[Optional\\] **Converting the Jupyter notebook to pdf:**\n",
    "\n",
    "Run cells you want to run\n",
    "\n",
    "Be sure to save\n",
    "\n",
    "Call `jupyter nbconvert --to slides --post serve ./Intermediate_full.ipynb`\n",
    "\n",
    "Go to [](http://localhost:8888/Intermediate_full.slides.html?print-pdf#/\n",
    "\n",
    "Print via Print to PDF function of your browser"
   ]
  },
  {
   "cell_type": "markdown",
   "id": "2cae5ba8-b56e-4d50-9e43-0bf5ea088bcb",
   "metadata": {
    "jp-MarkdownHeadingCollapsed": true
   },
   "source": [
    "---"
   ]
  },
  {
   "cell_type": "markdown",
   "id": "1c862dea-54c2-4c98-bef3-3629fd16df06",
   "metadata": {},
   "source": [
    "# <ins>Table of Contents</ins>"
   ]
  },
  {
   "cell_type": "markdown",
   "id": "c10de292-d0db-47ac-87fe-6fc47239159f",
   "metadata": {},
   "source": [
    "  - [0. Introduction](#0.-Introduction)\n",
    "    - [Course objectives](#Course-objectives)\n",
    "    - [Useful resources](#Useful-resources)\n",
    "    - [Set up your Python environment](#Set-up-your-Python-environment)\n",
    "- [Part I](#Part-I)\n",
    "  - [1. Recap](#1.-Recap)\n",
    "  - [2. Data structures](#2.-Data-structures)\n",
    "  - [3. Advanced string manipulation](#3.-Advanced-string-manipulation)\n",
    "- [Part II](#Part-II)\n",
    "  - [4. Pythonic concepts](#4.-Pythonic-concepts)\n",
    "  - [5. Introduction to modules](#5.-Introduction-to-modules)\n",
    "  - [6. Brief introduction to classes](#6.-Brief-introduction-to-classes)"
   ]
  },
  {
   "cell_type": "markdown",
   "id": "619cb030-fd5d-469a-a6dd-1bd96cc74c3a",
   "metadata": {},
   "source": [
    "# <ins>0.</ins> Introduction"
   ]
  },
  {
   "cell_type": "markdown",
   "id": "1c719f86-479a-4051-aef9-ae6b0408e835",
   "metadata": {
    "editable": true,
    "slideshow": {
     "slide_type": "slide"
    },
    "tags": []
   },
   "source": [
    "## Course objectives"
   ]
  },
  {
   "cell_type": "markdown",
   "id": "d165cc15-2a07-44fc-8028-93d0248ff14f",
   "metadata": {},
   "source": [
    "By the end of this course, you should know:\n",
    "\n",
    "- How to write more efficient and _Pythonic_ code using advanced language features.\n",
    "- How to simplify your code with _comprehensions_ and _conditional expressions_.\n",
    "- How to create flexible functions with _variable length_ argument list (`*args` and `**kwargs` magic variables).\n",
    "- How to write and utilize _lambdas_ (anonymous functions).\n",
    "- How to perform advanced _string manipulation_ techniques.\n",
    "- How to import and use _modules_ to extend your programs.\n",
    "- How to work with various data structures and understand the concept of _immutability_.\n",
    "- How to create and use basic _classes_ to implement object-oriented programming principles."
   ]
  },
  {
   "cell_type": "markdown",
   "id": "7f6b8f80-4c65-4630-af25-2855b16b5f25",
   "metadata": {
    "editable": true,
    "slideshow": {
     "slide_type": "slide"
    },
    "tags": []
   },
   "source": [
    "## Useful resources"
   ]
  },
  {
   "cell_type": "markdown",
   "id": "babdb9d9-b120-4e97-9729-4d87ccb862d0",
   "metadata": {},
   "source": [
    "There are plenty of resources to learn Python in the Internet from. These can be recommended by this tutorial for further learning:\n",
    "\n",
    "- [The Python Tutorial](https://docs.python.org/3/tutorial/) from Python documentation\n",
    "- [Python Cheat Sheets](https://pythononeliners.com/)\n",
    "- [Collection of free Python books](https://blog.finxter.com/free-python-books/)\n",
    "- [Python tips](https://book.pythontips.com/en/latest/index.html)"
   ]
  },
  {
   "cell_type": "markdown",
   "id": "1fb132c4-08e0-454a-a000-e9f4ff24940a",
   "metadata": {},
   "source": [
    "# <ins>**Part I**</ins>"
   ]
  },
  {
   "cell_type": "markdown",
   "id": "e3c6bbb5-f43f-4bd6-b4bf-67eeef30ae76",
   "metadata": {},
   "source": [
    "# <ins>**1.**</ins> Recap"
   ]
  },
  {
   "cell_type": "markdown",
   "id": "0e5eae46-3d33-44df-affc-538d926382bc",
   "metadata": {
    "editable": true,
    "slideshow": {
     "slide_type": "slide"
    },
    "tags": []
   },
   "source": [
    "This section is a brief recap of materials covered in the Beginner Python course:\n",
    "\n",
    "* Data Types, variables, operators\n",
    "* Comments\n",
    "* User input\n",
    "* Reading and Writing Files\n",
    "* Lists\n",
    "* Repetitions and Conditions\n",
    "* Functions\n"
   ]
  },
  {
   "cell_type": "markdown",
   "id": "fd1a8d7b-dd0d-4522-afb1-fac67f26e24e",
   "metadata": {
    "editable": true,
    "slideshow": {
     "slide_type": "subslide"
    },
    "tags": []
   },
   "source": [
    "## Data Types, variables, operators"
   ]
  },
  {
   "cell_type": "markdown",
   "id": "7e02c578-1aa5-43e0-833c-a0f8938d85ba",
   "metadata": {
    "editable": true,
    "slideshow": {
     "slide_type": "subslide"
    },
    "tags": []
   },
   "source": [
    "As with any programming language, Python can deal with many different data types. Among the basic ones are `str` strings, `int` integers, `float` floating-point numbers and `bool` booleans.\n",
    "\n",
    "* an example of a _numeric_ value, _integer_ value;\n",
    "* an integer _expression_, a basic building block of a Python _statement_;\n",
    "* normal arithmetic addition"
   ]
  },
  {
   "cell_type": "markdown",
   "id": "1837b53f-a988-4d12-84f3-27345c296a78",
   "metadata": {
    "editable": true,
    "slideshow": {
     "slide_type": "subslide"
    },
    "tags": []
   },
   "source": [
    "#### <u>Numerical</u>"
   ]
  },
  {
   "cell_type": "markdown",
   "id": "f00d6de0-f360-419d-b374-a0e68d168dfb",
   "metadata": {
    "editable": true,
    "slideshow": {
     "slide_type": "fragment"
    },
    "tags": []
   },
   "source": [
    "| Title | Storage | Smallest Magnitude | Largest Magnitude | Minimum Precision |\n",
    "|-------|---------|--------------------|-------------------|-------------------|\n",
    "| float | 64 bits | 2.22507 × 10e−308  | 1.79769 × 10+308  | 15 digits         |"
   ]
  },
  {
   "cell_type": "code",
   "execution_count": 2,
   "id": "13972a7d-1c13-4637-9d24-60c68c518de9",
   "metadata": {
    "editable": true,
    "slideshow": {
     "slide_type": "fragment"
    },
    "tags": []
   },
   "outputs": [
    {
     "name": "stdout",
     "output_type": "stream",
     "text": [
      "-1\n"
     ]
    }
   ],
   "source": [
    "n = 1 + 2 + 4 + 10 - 3 * 6\n",
    "print(n)"
   ]
  },
  {
   "cell_type": "code",
   "execution_count": 8,
   "id": "14863590-dd43-4765-98da-a74f5895a4a9",
   "metadata": {
    "editable": true,
    "slideshow": {
     "slide_type": "fragment"
    },
    "tags": []
   },
   "outputs": [
    {
     "data": {
      "text/plain": [
       "int"
      ]
     },
     "execution_count": 8,
     "metadata": {},
     "output_type": "execute_result"
    }
   ],
   "source": [
    "type(n) # integer"
   ]
  },
  {
   "cell_type": "code",
   "execution_count": 4,
   "id": "25bf53cd-5843-4341-bdef-6f17855e01bf",
   "metadata": {
    "editable": true,
    "slideshow": {
     "slide_type": "fragment"
    },
    "tags": []
   },
   "outputs": [
    {
     "name": "stdout",
     "output_type": "stream",
     "text": [
      "Pi = 3.14159\n"
     ]
    }
   ],
   "source": [
    "pi = 3.14159\n",
    "print(\"Pi =\", pi)"
   ]
  },
  {
   "cell_type": "code",
   "execution_count": 9,
   "id": "e7bb360e-6c77-4d35-b52b-84d511fbaf4c",
   "metadata": {
    "editable": true,
    "slideshow": {
     "slide_type": "fragment"
    },
    "tags": []
   },
   "outputs": [
    {
     "data": {
      "text/plain": [
       "float"
      ]
     },
     "execution_count": 9,
     "metadata": {},
     "output_type": "execute_result"
    }
   ],
   "source": [
    "type(pi) # float"
   ]
  },
  {
   "cell_type": "markdown",
   "id": "844666e0-bbe0-4639-afc9-6ba583810a60",
   "metadata": {
    "editable": true,
    "slideshow": {
     "slide_type": "fragment"
    },
    "tags": []
   },
   "source": [
    "_NOTE_: Scientific notation is supported!"
   ]
  },
  {
   "cell_type": "code",
   "execution_count": 6,
   "id": "b9b3239d-27c4-4470-8009-20457a9f2294",
   "metadata": {
    "editable": true,
    "slideshow": {
     "slide_type": "fragment"
    },
    "tags": []
   },
   "outputs": [
    {
     "name": "stdout",
     "output_type": "stream",
     "text": [
      "Avogadro's number = 6.022e+23\n",
      "Speed of light = 299800000.0\n"
     ]
    }
   ],
   "source": [
    "avogadros_number = 6.022e23\n",
    "c = 2.998e8\n",
    "print(\"Avogadro's number =\", avogadros_number)\n",
    "print(\"Speed of light =\", c)"
   ]
  },
  {
   "cell_type": "markdown",
   "id": "d3206c94-0d35-4cc1-a587-08d3e94ce1b4",
   "metadata": {
    "editable": true,
    "jp-MarkdownHeadingCollapsed": true,
    "slideshow": {
     "slide_type": "subslide"
    },
    "tags": []
   },
   "source": [
    "Used to store numbers, usually either integers, or floating point numbers."
   ]
  },
  {
   "cell_type": "markdown",
   "id": "136e653f-d3c9-4501-b73a-106fcec4d1b1",
   "metadata": {
    "editable": true,
    "slideshow": {
     "slide_type": "subslide"
    },
    "tags": []
   },
   "source": [
    "#### <u>Boolean</u>"
   ]
  },
  {
   "cell_type": "code",
   "execution_count": 18,
   "id": "95db5e27-025d-42e9-a77a-153c917befee",
   "metadata": {},
   "outputs": [
    {
     "name": "stdout",
     "output_type": "stream",
     "text": [
      "False\n"
     ]
    }
   ],
   "source": [
    "b1 = False\n",
    "b2 = True\n",
    "b = b1 and b2\n",
    "print(b)"
   ]
  },
  {
   "cell_type": "code",
   "execution_count": 11,
   "id": "440a9100-e95c-4af9-8ab0-2cd6a3a96199",
   "metadata": {},
   "outputs": [
    {
     "data": {
      "text/plain": [
       "bool"
      ]
     },
     "execution_count": 11,
     "metadata": {},
     "output_type": "execute_result"
    }
   ],
   "source": [
    "type(True) # boolean"
   ]
  },
  {
   "cell_type": "markdown",
   "id": "a69c0081-1e8b-4abe-9d90-9f5df56dca49",
   "metadata": {
    "editable": true,
    "slideshow": {
     "slide_type": "subslide"
    },
    "tags": []
   },
   "source": [
    "#### <u>String</u>"
   ]
  },
  {
   "cell_type": "markdown",
   "id": "c194194a-60d0-421b-8133-a2508166a908",
   "metadata": {
    "editable": true,
    "slideshow": {
     "slide_type": "subslide"
    },
    "tags": []
   },
   "source": [
    "A string is a series of characters enclosed in quotes, either single or double, used to represent text."
   ]
  },
  {
   "cell_type": "code",
   "execution_count": 17,
   "id": "9c8c15bf-faec-4974-8b4c-c8ac1a25fc1b",
   "metadata": {},
   "outputs": [
    {
     "name": "stdout",
     "output_type": "stream",
     "text": [
      "Hello, World!\n"
     ]
    }
   ],
   "source": [
    "s = 'Hello, World!'\n",
    "s = \"Hello, \" + \"World!\"\n",
    "print(s)"
   ]
  },
  {
   "cell_type": "code",
   "execution_count": 16,
   "id": "977ae719-c14c-4a27-9b4c-bc934e9c0842",
   "metadata": {},
   "outputs": [
    {
     "data": {
      "text/plain": [
       "str"
      ]
     },
     "execution_count": 16,
     "metadata": {},
     "output_type": "execute_result"
    }
   ],
   "source": [
    "type(s) # string"
   ]
  },
  {
   "cell_type": "markdown",
   "id": "4b5bb831-8a87-430b-8b5d-fee44fd0c477",
   "metadata": {
    "editable": true,
    "slideshow": {
     "slide_type": "subslide"
    },
    "tags": []
   },
   "source": [
    "Holds the value of a data type in memory!\n",
    "\n",
    "**NOTE:** Please give variables clear and explanative names."
   ]
  },
  {
   "cell_type": "code",
   "execution_count": null,
   "id": "4818940e-b590-4097-b19d-8f6dc44ed761",
   "metadata": {},
   "outputs": [],
   "source": [
    "enrolled_students = 728"
   ]
  },
  {
   "cell_type": "code",
   "execution_count": null,
   "id": "c4d192c3-bab6-4bcf-b0b9-e627b29ae7a8",
   "metadata": {},
   "outputs": [],
   "source": [
    "work_hours = 7.5"
   ]
  },
  {
   "cell_type": "code",
   "execution_count": null,
   "id": "1792cafe-07f2-4228-945e-f21a2e1838fd",
   "metadata": {},
   "outputs": [],
   "source": [
    "is_loaded = False"
   ]
  },
  {
   "cell_type": "code",
   "execution_count": null,
   "id": "d0467d71-4da5-45e9-acc8-350fbfb659bc",
   "metadata": {},
   "outputs": [],
   "source": [
    "welcome_message = \"Welcome!\""
   ]
  },
  {
   "cell_type": "markdown",
   "id": "1a4fa44d-1b91-4e20-acfc-b24f6a7d0b11",
   "metadata": {
    "editable": true,
    "slideshow": {
     "slide_type": "subslide"
    },
    "tags": []
   },
   "source": [
    "**NOTE:** Values can be overwritten!\n",
    "\n",
    "If we define a new `welcome_message`, it changes."
   ]
  },
  {
   "cell_type": "code",
   "execution_count": null,
   "id": "8b5c8638-1c82-4a2a-a034-6b4cb594386c",
   "metadata": {},
   "outputs": [],
   "source": [
    "welcome_message = \"Welcome, User\""
   ]
  },
  {
   "cell_type": "code",
   "execution_count": null,
   "id": "abb6ebfe-437a-44d8-a61a-73e00e31691f",
   "metadata": {},
   "outputs": [],
   "source": [
    "print(welcome_message)"
   ]
  },
  {
   "cell_type": "markdown",
   "id": "817c7210-2b50-465a-9c46-5936e3eede9f",
   "metadata": {
    "editable": true,
    "slideshow": {
     "slide_type": "subslide"
    },
    "tags": []
   },
   "source": [
    "---"
   ]
  },
  {
   "cell_type": "markdown",
   "id": "a97afee5-a2e1-4cab-81f0-51b642e05df5",
   "metadata": {
    "editable": true,
    "slideshow": {
     "slide_type": "subslide"
    },
    "tags": []
   },
   "source": [
    "New values can be obtained by applying operators to old values, for example, mathematical operators on numerical data types `int` or `float`."
   ]
  },
  {
   "cell_type": "markdown",
   "id": "d5b19885-4a7b-4dd9-9f74-349b5560c10b",
   "metadata": {
    "editable": true,
    "slideshow": {
     "slide_type": "subslide"
    },
    "tags": []
   },
   "source": [
    "<u>**String Concatenation**</u>  \n",
    "\n",
    "We can combine strings together."
   ]
  },
  {
   "cell_type": "code",
   "execution_count": null,
   "id": "e5a7f7ac-af19-44bc-913d-a02a1edc37ee",
   "metadata": {},
   "outputs": [],
   "source": [
    "# String concatenation\n",
    "hello_world = \"Hello,\" + \" World!\"\n",
    "print(hello_world)"
   ]
  },
  {
   "cell_type": "markdown",
   "id": "a5187510-f46c-4939-b676-0afeba353447",
   "metadata": {
    "editable": true,
    "slideshow": {
     "slide_type": "subslide"
    },
    "tags": []
   },
   "source": [
    "<u>**Logical Operators**</u>  \n",
    "We can also determine conditions based on Boolean logic: `and`, `or`, `not`"
   ]
  },
  {
   "cell_type": "markdown",
   "id": "4c020390-1a59-457e-be38-2f110101139f",
   "metadata": {
    "editable": true,
    "slideshow": {
     "slide_type": "subslide"
    },
    "tags": []
   },
   "source": [
    "**AND:**"
   ]
  },
  {
   "cell_type": "code",
   "execution_count": null,
   "id": "45d309f1-5f90-4a3a-8081-d0de4d2f9eed",
   "metadata": {},
   "outputs": [],
   "source": [
    "a = True\n",
    "b = False\n",
    "\n",
    "if a and b:\n",
    "    print(\"Both True!\")\n",
    "else:\n",
    "    print(\"At least one False!\")"
   ]
  },
  {
   "cell_type": "markdown",
   "id": "68898572-834d-4c99-88ef-db0a72fe5ba7",
   "metadata": {
    "editable": true,
    "slideshow": {
     "slide_type": "subslide"
    },
    "tags": []
   },
   "source": [
    "**OR:**"
   ]
  },
  {
   "cell_type": "code",
   "execution_count": null,
   "id": "f7755378-f1dd-48ef-a8d3-e0886170226c",
   "metadata": {},
   "outputs": [],
   "source": [
    "a = True\n",
    "b = False\n",
    "\n",
    "if a or b:\n",
    "    print(\"At least one True!\")\n",
    "else:\n",
    "    print(\"Both False!\")"
   ]
  },
  {
   "cell_type": "markdown",
   "id": "02fa8517-5b63-4eb9-922a-517b087d2ff9",
   "metadata": {
    "editable": true,
    "slideshow": {
     "slide_type": "subslide"
    },
    "tags": []
   },
   "source": [
    "**NOT:**"
   ]
  },
  {
   "cell_type": "code",
   "execution_count": null,
   "id": "29f1cc40-fb94-46c5-8c5f-4c3b7ffcc558",
   "metadata": {},
   "outputs": [],
   "source": [
    "a = True\n",
    "\n",
    "if not a:\n",
    "    print(\"It is False!\")  # If a is false\n",
    "else:\n",
    "    print(\"It is True!\")"
   ]
  },
  {
   "cell_type": "markdown",
   "id": "5da561ab-7810-4b7a-a494-2c98e8624442",
   "metadata": {
    "editable": true,
    "slideshow": {
     "slide_type": "subslide"
    },
    "tags": []
   },
   "source": [
    "<u>**Numerical Operators**</u>  \n",
    "\n",
    "- Numerical data: `+`, `-`, `*`, `/`, `%`, `**`, built-in functions `abs`, ...\n",
    "- Order of execution:\n",
    "    1. `()`\n",
    "    2. `**`\n",
    "    3. `*`, `/`\n",
    "    4. `+`, `-`\n",
    "    5. Left-to-right (except exponentiation!)\n",
    "\n",
    "So, use parenthesis to make sure!"
   ]
  },
  {
   "cell_type": "code",
   "execution_count": null,
   "id": "20c70490-1d48-4947-a2e1-0a34f88c290b",
   "metadata": {},
   "outputs": [],
   "source": [
    "print(\"Addition:\", 1 + 2)"
   ]
  },
  {
   "cell_type": "code",
   "execution_count": null,
   "id": "6c3302d7-7113-4142-bd06-0e023361827d",
   "metadata": {},
   "outputs": [],
   "source": [
    "print(\"Subtraction:\", 1 - 2)"
   ]
  },
  {
   "cell_type": "code",
   "execution_count": null,
   "id": "ba153189-3456-4efd-a720-4816108abb5a",
   "metadata": {},
   "outputs": [],
   "source": [
    "print(\"Multiplication:\", 5 * 10)"
   ]
  },
  {
   "cell_type": "code",
   "execution_count": null,
   "id": "8d30557b-cbf6-4029-90ab-a31f69c9e6cf",
   "metadata": {},
   "outputs": [],
   "source": [
    "print(\"Division:\", 10 / 5)"
   ]
  },
  {
   "cell_type": "code",
   "execution_count": null,
   "id": "f95e1d5d-b091-43ce-86ed-b5b23a0f2fc9",
   "metadata": {},
   "outputs": [],
   "source": [
    "print(\"Modulus:\", 10 % 3)"
   ]
  },
  {
   "cell_type": "code",
   "execution_count": null,
   "id": "75e9fb11-39be-49dd-bcaa-0eb586396c32",
   "metadata": {},
   "outputs": [],
   "source": [
    "print(\"Exponentiation:\", 2 ** 3)"
   ]
  },
  {
   "cell_type": "markdown",
   "id": "1a18c669-445c-4a38-a5cd-9f9809b7a480",
   "metadata": {
    "editable": true,
    "slideshow": {
     "slide_type": "subslide"
    },
    "tags": []
   },
   "source": [
    "---"
   ]
  },
  {
   "cell_type": "markdown",
   "id": "38858a4c-d322-4fea-859c-a69abadc6e61",
   "metadata": {
    "editable": true,
    "slideshow": {
     "slide_type": "subslide"
    },
    "tags": []
   },
   "source": [
    "## Comments"
   ]
  },
  {
   "cell_type": "markdown",
   "id": "423d1287-b3f0-4adf-9d18-6bd6c3a6250c",
   "metadata": {
    "editable": true,
    "slideshow": {
     "slide_type": "subslide"
    },
    "tags": []
   },
   "source": [
    "Used to write notes or comments about code, as well as description of what the code is doing, or the variables used."
   ]
  },
  {
   "cell_type": "code",
   "execution_count": 19,
   "id": "2ed56fc3-bd61-4f1d-8d7f-3964d3203311",
   "metadata": {},
   "outputs": [
    {
     "name": "stdout",
     "output_type": "stream",
     "text": [
      "Welcome, User!\n"
     ]
    }
   ],
   "source": [
    "# A single-line comment!\n",
    "welcome_message = \"Welcome, User!\"\n",
    "print(welcome_message)  # Print welcome message"
   ]
  },
  {
   "cell_type": "code",
   "execution_count": 20,
   "id": "e46b3d89-6599-4045-98f6-0b12d5cdcdc1",
   "metadata": {},
   "outputs": [
    {
     "data": {
      "text/plain": [
       "'\\nA multi-line comment!\\n'"
      ]
     },
     "execution_count": 20,
     "metadata": {},
     "output_type": "execute_result"
    }
   ],
   "source": [
    "'''\n",
    "A multi-line comment!\n",
    "'''"
   ]
  },
  {
   "cell_type": "code",
   "execution_count": 21,
   "id": "4811235b-8e6d-46a8-9525-9292d4eb19fc",
   "metadata": {},
   "outputs": [
    {
     "data": {
      "text/plain": [
       "'\\nAnother multi-line comment!\\n'"
      ]
     },
     "execution_count": 21,
     "metadata": {},
     "output_type": "execute_result"
    }
   ],
   "source": [
    "\"\"\"\n",
    "Another multi-line comment!\n",
    "\"\"\""
   ]
  },
  {
   "cell_type": "markdown",
   "id": "99db7141-4e30-4a86-911b-8baba1e35030",
   "metadata": {
    "editable": true,
    "slideshow": {
     "slide_type": "subslide"
    },
    "tags": []
   },
   "source": [
    "## User Input"
   ]
  },
  {
   "cell_type": "markdown",
   "id": "74473d76-37dd-494d-ba08-53d01b86b025",
   "metadata": {
    "editable": true,
    "slideshow": {
     "slide_type": "subslide"
    },
    "tags": []
   },
   "source": [
    "You can use `input()` to read user input: "
   ]
  },
  {
   "cell_type": "code",
   "execution_count": 25,
   "id": "94e29968-63f3-41e0-91ff-6da15659b42b",
   "metadata": {},
   "outputs": [
    {
     "name": "stdin",
     "output_type": "stream",
     "text": [
      " 3.14\n"
     ]
    },
    {
     "name": "stdout",
     "output_type": "stream",
     "text": [
      "3.14\n"
     ]
    },
    {
     "data": {
      "text/plain": [
       "float"
      ]
     },
     "execution_count": 25,
     "metadata": {},
     "output_type": "execute_result"
    }
   ],
   "source": [
    "inputted_variable = float(input())\n",
    "print(inputted_variable)  # Print what we just input!\n",
    "type(inputted_variable)"
   ]
  },
  {
   "cell_type": "markdown",
   "id": "203c2475-fa73-4d3d-845f-7c871af5c517",
   "metadata": {
    "editable": true,
    "slideshow": {
     "slide_type": "subslide"
    },
    "tags": []
   },
   "source": [
    "---"
   ]
  },
  {
   "cell_type": "markdown",
   "id": "e76a37ca-22a2-4e11-8905-84b03ca8cc57",
   "metadata": {
    "editable": true,
    "slideshow": {
     "slide_type": "subslide"
    },
    "tags": []
   },
   "source": [
    "## Reading and Writing Files"
   ]
  },
  {
   "cell_type": "markdown",
   "id": "2f158103-724b-4365-aca2-811f2fb2e0bc",
   "metadata": {
    "editable": true,
    "slideshow": {
     "slide_type": "subslide"
    },
    "tags": []
   },
   "source": [
    "<u>**Opening a File**</u>\n",
    "\n",
    "Two things to note here:\n",
    " - My object `my_file` is different from my file `\"testfile.txt\"`!\n",
    " - There are different modes:\n",
    "     - read: `'r'`\n",
    "     - (over-)write: `'w'`\n",
    "     - append: `'a'`\n",
    "     - read+write: `'w+'` or `'r+'`\n",
    "\n",
    "[Python Documentation (mode)](https://docs.python.org/3/tutorial/inputoutput.html#reading-and-writing-files)"
   ]
  },
  {
   "cell_type": "code",
   "execution_count": 27,
   "id": "4219c021-a6a2-4fc1-965e-d3c4adad52d4",
   "metadata": {},
   "outputs": [
    {
     "name": "stdout",
     "output_type": "stream",
     "text": [
      "1\n",
      "2\n",
      "3\n",
      "4\n",
      "5\n",
      "6\n",
      "7\n",
      "8\n",
      "9\n",
      "10\n"
     ]
    }
   ],
   "source": [
    "# Opening and reading a file\n",
    "text_file = open('data_file.txt', 'r')\n",
    "content = text_file.read()\n",
    "print(content)\n",
    "text_file.close()"
   ]
  },
  {
   "cell_type": "markdown",
   "id": "fd40290c-7da7-4907-bf0b-2da189d16bb5",
   "metadata": {
    "editable": true,
    "slideshow": {
     "slide_type": "subslide"
    },
    "tags": []
   },
   "source": [
    "_NOTE_: Ensure closure of the file object when working with files in this way, or changes may not be written."
   ]
  },
  {
   "cell_type": "markdown",
   "id": "87cac9a9-e5fc-4ebc-9fe4-9842898d12a8",
   "metadata": {
    "editable": true,
    "slideshow": {
     "slide_type": "subslide"
    },
    "tags": []
   },
   "source": [
    "We can use the context manager (`with`) to allow us to simplify setup and closure of the file."
   ]
  },
  {
   "cell_type": "code",
   "execution_count": 28,
   "id": "a82c2ecc-334a-47e0-8a1b-fbb936e315d3",
   "metadata": {},
   "outputs": [
    {
     "name": "stdout",
     "output_type": "stream",
     "text": [
      "1\n",
      "2\n",
      "3\n",
      "4\n",
      "5\n",
      "6\n",
      "7\n",
      "8\n",
      "9\n",
      "10\n"
     ]
    }
   ],
   "source": [
    "# Using a with statement\n",
    "with open('data_file.txt', 'r') as text_file:\n",
    "    content = text_file.read()\n",
    "    print(content)"
   ]
  },
  {
   "cell_type": "markdown",
   "id": "287bf4b5-0a8f-46e9-86bf-5512fbb3805f",
   "metadata": {
    "editable": true,
    "slideshow": {
     "slide_type": "subslide"
    },
    "tags": []
   },
   "source": [
    "<u>**Reading from a File**</u>\n",
    "\n",
    "Here are some file functions for reading from a file:\n",
    "\n",
    "* file.read() - Read the entire file content line-by-line\n",
    "* file.readlines() - Read all lines into a List object"
   ]
  },
  {
   "cell_type": "code",
   "execution_count": 29,
   "id": "e35abbe3-e3f1-440d-8489-5d1891f5e5e8",
   "metadata": {},
   "outputs": [
    {
     "name": "stdout",
     "output_type": "stream",
     "text": [
      "1\n",
      "2\n",
      "3\n",
      "4\n",
      "5\n",
      "6\n",
      "7\n",
      "8\n",
      "9\n",
      "10\n"
     ]
    }
   ],
   "source": [
    "with open(\"data_file.txt\") as text_file:\n",
    "    print(text_file.read())"
   ]
  },
  {
   "cell_type": "code",
   "execution_count": 30,
   "id": "22015957-285d-4142-93ff-699de1da4cf1",
   "metadata": {},
   "outputs": [
    {
     "name": "stdout",
     "output_type": "stream",
     "text": [
      "['1\\n', '2\\n', '3\\n', '4\\n', '5\\n', '6\\n', '7\\n', '8\\n', '9\\n', '10']\n"
     ]
    }
   ],
   "source": [
    "with open(\"data_file.txt\") as text_file:\n",
    "    print(text_file.readlines())"
   ]
  },
  {
   "cell_type": "markdown",
   "id": "33aa1313-b86a-4504-818c-bf7390e86b9f",
   "metadata": {
    "editable": true,
    "slideshow": {
     "slide_type": "subslide"
    },
    "tags": []
   },
   "source": [
    "<u>**Writing to a File**</u>"
   ]
  },
  {
   "cell_type": "markdown",
   "id": "08f39560-4605-4b34-ab9b-4b01286a9b08",
   "metadata": {
    "editable": true,
    "slideshow": {
     "slide_type": "subslide"
    },
    "tags": []
   },
   "source": [
    "One way we can write to files is using the `write()` function."
   ]
  },
  {
   "cell_type": "code",
   "execution_count": 31,
   "id": "abfa3954-7e11-4530-b3d9-0dd15839801b",
   "metadata": {},
   "outputs": [],
   "source": [
    "text_file = open(\"testfile.txt\", \"w\")\n",
    "text_file.write(\"Some words \\n\")\n",
    "text_file.write(str(25))\n",
    "text_file.close()"
   ]
  },
  {
   "cell_type": "markdown",
   "id": "3a4a9996-e418-4203-9c31-3774f9e370bf",
   "metadata": {
    "editable": true,
    "slideshow": {
     "slide_type": "subslide"
    },
    "tags": []
   },
   "source": [
    "Using the `with` keyword:"
   ]
  },
  {
   "cell_type": "code",
   "execution_count": 32,
   "id": "0b0440dc-b89d-40f2-83ef-04f87e89cd05",
   "metadata": {},
   "outputs": [],
   "source": [
    "with open(\"testfile.txt\", \"w\") as text_file:\n",
    "    text_file.write(\"Some words \\n\")\n",
    "    text_file.write(str(25))"
   ]
  },
  {
   "cell_type": "markdown",
   "id": "babf5297-ddde-495e-af42-c30a40bb1991",
   "metadata": {
    "editable": true,
    "slideshow": {
     "slide_type": "subslide"
    },
    "tags": []
   },
   "source": [
    "## Lists"
   ]
  },
  {
   "cell_type": "markdown",
   "id": "caf14352-baa3-4269-b2fb-95e89911ecd9",
   "metadata": {
    "editable": true,
    "slideshow": {
     "slide_type": "subslide"
    },
    "tags": []
   },
   "source": [
    "Python can work not only with basic data types mentioned before, but also with compound ones. Compound data types in Python are a powerful tool for organizing and storing data. Among the most commonly used is _lists_ which we learned about in the beginner's course.\n",
    "\n",
    "* [List](https://docs.python.org/3/tutorial/datastructures.html#Lists)\n",
    "\n",
    "We'll learn about other data structures later today."
   ]
  },
  {
   "cell_type": "markdown",
   "id": "78bcb3b3-1f0e-4efd-9b90-876350175c7a",
   "metadata": {
    "editable": true,
    "slideshow": {
     "slide_type": "subslide"
    },
    "tags": []
   },
   "source": [
    "An ordered list of items, accessed by a numerical index (starting at `0`). Elements within a list can be removed, modified, or accessed by their index, and a list can have values added to it.\n",
    "\n",
    "Defined using square brackets `[]`."
   ]
  },
  {
   "cell_type": "code",
   "execution_count": 33,
   "id": "6b693276-7356-45f4-99e9-09f13a315728",
   "metadata": {},
   "outputs": [
    {
     "name": "stdout",
     "output_type": "stream",
     "text": [
      "[1, 3, 5, 7, 9]\n"
     ]
    }
   ],
   "source": [
    "odd_list = [1, 3, 5, 7, 9]  # A list of odd numbers\n",
    "print(odd_list)"
   ]
  },
  {
   "cell_type": "markdown",
   "id": "6bf82363-455d-45b7-948b-3c0982538fbb",
   "metadata": {
    "editable": true,
    "slideshow": {
     "slide_type": "subslide"
    },
    "tags": []
   },
   "source": [
    "<u>**List Access**</u>  \n",
    "You can access a list using its index value, starting from `0`."
   ]
  },
  {
   "cell_type": "code",
   "execution_count": 34,
   "id": "0dc135f0-abb5-415c-b232-c8b5ee510e23",
   "metadata": {},
   "outputs": [
    {
     "data": {
      "text/plain": [
       "1"
      ]
     },
     "execution_count": 34,
     "metadata": {},
     "output_type": "execute_result"
    }
   ],
   "source": [
    "odd_list[0]"
   ]
  },
  {
   "cell_type": "code",
   "execution_count": 35,
   "id": "a373ffa1-3c6f-4524-82ba-d7b820b10da2",
   "metadata": {},
   "outputs": [
    {
     "data": {
      "text/plain": [
       "3"
      ]
     },
     "execution_count": 35,
     "metadata": {},
     "output_type": "execute_result"
    }
   ],
   "source": [
    "odd_list[1]"
   ]
  },
  {
   "cell_type": "markdown",
   "id": "1819c114-32cc-4514-8bae-c875dffebcdb",
   "metadata": {
    "editable": true,
    "slideshow": {
     "slide_type": "subslide"
    },
    "tags": []
   },
   "source": [
    "_NOTE_: You can access lists in reverse index order, where `-1` is the final index. "
   ]
  },
  {
   "cell_type": "code",
   "execution_count": 36,
   "id": "0063062c-5708-46f4-a2eb-965069f02d80",
   "metadata": {},
   "outputs": [
    {
     "data": {
      "text/plain": [
       "9"
      ]
     },
     "execution_count": 36,
     "metadata": {},
     "output_type": "execute_result"
    }
   ],
   "source": [
    "odd_list[-1]"
   ]
  },
  {
   "cell_type": "code",
   "execution_count": 37,
   "id": "1835eb61-005b-4b75-b4ea-1bdc0d3ec7dc",
   "metadata": {},
   "outputs": [
    {
     "data": {
      "text/plain": [
       "7"
      ]
     },
     "execution_count": 37,
     "metadata": {},
     "output_type": "execute_result"
    }
   ],
   "source": [
    "odd_list[-2]"
   ]
  },
  {
   "cell_type": "markdown",
   "id": "fbd4bff1-a269-4dc7-a4c0-87f999b0f91f",
   "metadata": {
    "editable": true,
    "slideshow": {
     "slide_type": "subslide"
    },
    "tags": []
   },
   "source": [
    "<u>**Slicing**</u>   \n",
    "You can also use slicing for specific partial list access."
   ]
  },
  {
   "cell_type": "code",
   "execution_count": 38,
   "id": "d078ce3f-4da2-4859-bbc3-989b0799e613",
   "metadata": {},
   "outputs": [
    {
     "data": {
      "text/plain": [
       "[3, 5, 7]"
      ]
     },
     "execution_count": 38,
     "metadata": {},
     "output_type": "execute_result"
    }
   ],
   "source": [
    "odd_list[1:4] # Slicing from index 1 (inclusive), to 4 (exclusive)"
   ]
  },
  {
   "cell_type": "code",
   "execution_count": 39,
   "id": "da4f070f-b2e5-4a87-bd73-62f0f0bc95b2",
   "metadata": {},
   "outputs": [
    {
     "data": {
      "text/plain": [
       "[7, 9]"
      ]
     },
     "execution_count": 39,
     "metadata": {},
     "output_type": "execute_result"
    }
   ],
   "source": [
    "odd_list[3:]  # Slicing from index 3 to end."
   ]
  },
  {
   "cell_type": "code",
   "execution_count": 40,
   "id": "40377e32-fff7-4f34-ae6a-2152070541c3",
   "metadata": {},
   "outputs": [
    {
     "data": {
      "text/plain": [
       "[1, 3, 5]"
      ]
     },
     "execution_count": 40,
     "metadata": {},
     "output_type": "execute_result"
    }
   ],
   "source": [
    "odd_list[:3]  # Slicing from beginning to index 3"
   ]
  },
  {
   "cell_type": "code",
   "execution_count": 41,
   "id": "73b2ecfc-c8c5-426e-8c87-26c0a7543abf",
   "metadata": {},
   "outputs": [
    {
     "data": {
      "text/plain": [
       "[1, 5, 9]"
      ]
     },
     "execution_count": 41,
     "metadata": {},
     "output_type": "execute_result"
    }
   ],
   "source": [
    "odd_list[::2]  # Slicing with a step of 2"
   ]
  },
  {
   "cell_type": "markdown",
   "id": "4b2a64e3-d381-4533-915d-437892a65e6b",
   "metadata": {
    "editable": true,
    "slideshow": {
     "slide_type": "subslide"
    },
    "tags": []
   },
   "source": [
    "<u>**Empty List**</u>   \n",
    "You can create empty lists:"
   ]
  },
  {
   "cell_type": "code",
   "execution_count": 42,
   "id": "a2a8010c-0557-4b98-a40f-8448661bbb5e",
   "metadata": {},
   "outputs": [
    {
     "name": "stdout",
     "output_type": "stream",
     "text": [
      "[]\n"
     ]
    }
   ],
   "source": [
    "new_list = []  # An empty list\n",
    "print(new_list)"
   ]
  },
  {
   "cell_type": "markdown",
   "id": "8748186c-93fe-4806-8212-10f3d74d559a",
   "metadata": {
    "editable": true,
    "slideshow": {
     "slide_type": "subslide"
    },
    "tags": []
   },
   "source": [
    "## Repetitions and Conditions"
   ]
  },
  {
   "cell_type": "markdown",
   "id": "fd2595ac-63da-4fd5-9945-09fa174ae358",
   "metadata": {
    "editable": true,
    "slideshow": {
     "slide_type": "subslide"
    },
    "tags": []
   },
   "source": [
    "<u>**Conditions**</u>  \n",
    "In order to control program flow, and whether or not code is executed, we can do conditions based on variable values."
   ]
  },
  {
   "cell_type": "code",
   "execution_count": 44,
   "id": "9ac96dcc-530f-4065-ad15-a7fcd3d98ce8",
   "metadata": {},
   "outputs": [
    {
     "name": "stdout",
     "output_type": "stream",
     "text": [
      "x = 5 is GREATER THAN 2\n",
      "x = 5 is GREATER THAN or EQUAL TO 3\n",
      "x = 5 IS NOT 0\n"
     ]
    }
   ],
   "source": [
    "x = 5\n",
    "\n",
    "if x > 2:  # If x is GREATER THAN 2\n",
    "    print(\"x =\", x, \"is GREATER THAN 2\")\n",
    "\n",
    "if x == 3:  # If x is EQUAL TO 3\n",
    "    print(\"x =\", x, \"is EQUAL TO 3\")\n",
    "\n",
    "if x >= 3:  # If x is GREATER THAN or EQUAL TO 3\n",
    "    print(\"x =\", x, \"is GREATER THAN or EQUAL TO 3\")\n",
    "\n",
    "if x != 0:  # If x IS NOT 0\n",
    "    print(\"x =\", x, \"IS NOT 0\")\n",
    "\n",
    "if x < 4:  # If X is LESS THAN 4\n",
    "    print(\"x =\", x, \"is LESS THAN 4\")"
   ]
  },
  {
   "cell_type": "markdown",
   "id": "08c57e87-f45e-4e0b-934d-7f7850188ba1",
   "metadata": {
    "editable": true,
    "slideshow": {
     "slide_type": "subslide"
    },
    "tags": []
   },
   "source": [
    "<u>**Else/Elif**</u>  \n",
    "\n",
    "We may also specify either/or with `if/else`, and even add extra conditions with `elif`."
   ]
  },
  {
   "cell_type": "code",
   "execution_count": 45,
   "id": "5e6745f5-ae79-4a6f-bef3-134bc154bc76",
   "metadata": {},
   "outputs": [
    {
     "name": "stdout",
     "output_type": "stream",
     "text": [
      "x is positive\n"
     ]
    }
   ],
   "source": [
    "x = 10\n",
    "\n",
    "if x > 0:\n",
    "    print(\"x is positive\")\n",
    "elif x < 0:\n",
    "    print(\"x is negative\")\n",
    "else:\n",
    "    print(\"x is zero\")"
   ]
  },
  {
   "cell_type": "markdown",
   "id": "edf6b6ec-dc9f-4fee-b26d-468b65f56fc6",
   "metadata": {
    "editable": true,
    "slideshow": {
     "slide_type": "subslide"
    },
    "tags": []
   },
   "source": [
    "<u>**Repetitions**</u>  \n",
    "There are a number of ways for us to repeat lines or blocks of code within our program, to do this we use `loops`:"
   ]
  },
  {
   "cell_type": "markdown",
   "id": "74fdea65-fd77-4861-98bc-e1a6f91432c7",
   "metadata": {
    "editable": true,
    "slideshow": {
     "slide_type": "subslide"
    },
    "tags": []
   },
   "source": [
    "<u>For Each Loop:</u>  \n",
    "A for each loop will execute its code for each item specified within the loop definition"
   ]
  },
  {
   "cell_type": "code",
   "execution_count": 46,
   "id": "93c7c4dd-9063-4864-b2a5-c22f9bcdeea7",
   "metadata": {},
   "outputs": [
    {
     "name": "stdout",
     "output_type": "stream",
     "text": [
      "Current animal is: Cat\n",
      "Current animal is: Dog\n",
      "Current animal is: Bird\n"
     ]
    }
   ],
   "source": [
    "animal_list = [\"Cat\", \"Dog\", \"Bird\"]\n",
    "\n",
    "for animal in animal_list:\n",
    "    print(\"Current animal is:\", animal)"
   ]
  },
  {
   "cell_type": "markdown",
   "id": "0aeddb7b-b32b-4313-93e9-45bb42dc4dcf",
   "metadata": {
    "editable": true,
    "slideshow": {
     "slide_type": "subslide"
    },
    "tags": []
   },
   "source": [
    "The above describes `for each animal in animal_list`."
   ]
  },
  {
   "cell_type": "markdown",
   "id": "257be4c3-c70c-412b-adc5-c990e1e8a4f8",
   "metadata": {
    "editable": true,
    "slideshow": {
     "slide_type": "subslide"
    },
    "tags": []
   },
   "source": [
    "We are able to use a range-based for loop:"
   ]
  },
  {
   "cell_type": "code",
   "execution_count": 47,
   "id": "d7379568-21e2-4f83-98bf-cfb9c87e7e48",
   "metadata": {},
   "outputs": [
    {
     "name": "stdout",
     "output_type": "stream",
     "text": [
      "0\n",
      "2\n",
      "4\n",
      "6\n",
      "8\n"
     ]
    }
   ],
   "source": [
    "for i in range(0, 5):\n",
    "    print(i * 2) # Here we are manipulating the value each time!"
   ]
  },
  {
   "cell_type": "code",
   "execution_count": 48,
   "id": "f0b6576d-80a4-43df-8f14-c3972bcd4f15",
   "metadata": {},
   "outputs": [
    {
     "name": "stdout",
     "output_type": "stream",
     "text": [
      "0\n",
      "2\n",
      "4\n",
      "6\n",
      "8\n"
     ]
    }
   ],
   "source": [
    "for i in range(0, 10, 2):  # Here we define a step of 2!\n",
    "    print(i)"
   ]
  },
  {
   "cell_type": "code",
   "execution_count": 49,
   "id": "04c4ae93-d9d9-4a42-9488-c70371de6c53",
   "metadata": {},
   "outputs": [
    {
     "name": "stdout",
     "output_type": "stream",
     "text": [
      "10\n",
      "9\n",
      "8\n",
      "7\n",
      "6\n",
      "5\n",
      "4\n",
      "3\n",
      "2\n",
      "1\n"
     ]
    }
   ],
   "source": [
    "for i in range(10, 0, -1):  # Counting down from 10, in steps of 1\n",
    "    print(i)"
   ]
  },
  {
   "cell_type": "markdown",
   "id": "b7fc15ad-8a7c-4604-857b-df0b58d3ebd4",
   "metadata": {
    "editable": true,
    "slideshow": {
     "slide_type": "subslide"
    },
    "tags": []
   },
   "source": [
    "<u>While Loop</u>  \n",
    "A `while` loop will continue until the defined condition has been met, which can potentially not happen and cause an infinite loop.\n",
    "\n",
    "Here we are printing `n`, then incrementing it by 1, while `n` is LESS THAN 10."
   ]
  },
  {
   "cell_type": "code",
   "execution_count": 50,
   "id": "24f6bec9-123b-405b-966d-eaea8585cde7",
   "metadata": {},
   "outputs": [
    {
     "name": "stdout",
     "output_type": "stream",
     "text": [
      "0\n",
      "1\n",
      "2\n",
      "3\n",
      "4\n",
      "5\n",
      "6\n",
      "7\n",
      "8\n",
      "9\n"
     ]
    }
   ],
   "source": [
    "n = 0\n",
    "\n",
    "while n < 10:\n",
    "    print(n)\n",
    "    n += 1"
   ]
  },
  {
   "cell_type": "markdown",
   "id": "9795f446-3a26-4fc2-adc8-c881bfad4a2e",
   "metadata": {
    "editable": true,
    "slideshow": {
     "slide_type": "subslide"
    },
    "tags": []
   },
   "source": [
    "_NOTE_: The `break` keyword can be used to stop execution of a loop.  \n",
    "_NOTE_: Use `ctrl+C` to break execution in your terminal if needed."
   ]
  },
  {
   "cell_type": "markdown",
   "id": "d7c651f7-6214-4fb9-8142-d2bd9bd8c4fe",
   "metadata": {
    "editable": true,
    "slideshow": {
     "slide_type": "subslide"
    },
    "tags": []
   },
   "source": [
    "## Functions"
   ]
  },
  {
   "cell_type": "markdown",
   "id": "c41974a2-3aad-4331-a4cb-b5b95da374b4",
   "metadata": {
    "editable": true,
    "slideshow": {
     "slide_type": "subslide"
    },
    "tags": []
   },
   "source": [
    "A function is a reusable block of code used to perform a specific task.\n",
    "\n",
    "We define a function using the `def` keyword, then parenthesis, which may contain the function `parameters` or `arguments` (different terms, same thing).\n",
    "\n",
    "_NOTE_: You should give your functions and arguments explanative names."
   ]
  },
  {
   "cell_type": "markdown",
   "id": "485c8ad1-a9e9-4f3b-a7ba-441b7bbe0451",
   "metadata": {
    "editable": true,
    "slideshow": {
     "slide_type": "subslide"
    },
    "tags": []
   },
   "source": [
    "<u>**Parameters/Arguments**</u>  \n",
    "A function can receive 0 or more variables as arguments which are 'passed' through and are used during the execution of the function as required."
   ]
  },
  {
   "cell_type": "markdown",
   "id": "f3b03ae2-07c8-4d39-8db3-1dcd110f44df",
   "metadata": {
    "editable": true,
    "slideshow": {
     "slide_type": "subslide"
    },
    "tags": []
   },
   "source": [
    "<u>**Returns**</u>  \n",
    "A function may return a single variable, or variables, it may also return nothing where it is required to just execute some logic."
   ]
  },
  {
   "cell_type": "markdown",
   "id": "bb0b7159-3cd2-4ea3-9f11-3bf1c2e76359",
   "metadata": {
    "editable": true,
    "slideshow": {
     "slide_type": "subslide"
    },
    "tags": []
   },
   "source": [
    "Here is a very basic example of a function:"
   ]
  },
  {
   "cell_type": "code",
   "execution_count": 51,
   "id": "a493cc37-9059-430d-83a9-005f4c3c1b80",
   "metadata": {},
   "outputs": [
    {
     "name": "stdout",
     "output_type": "stream",
     "text": [
      "2\n"
     ]
    }
   ],
   "source": [
    "def sum_numbers(val_one, val_two):\n",
    "    \"\"\"Sums and returns two numbers\"\"\"\n",
    "    return val_one + val_two  # Sum of both numbers\n",
    "\n",
    "calculated_value = sum_numbers(1, 1)\n",
    "print(calculated_value)"
   ]
  },
  {
   "cell_type": "markdown",
   "id": "eb7a7798-407d-45eb-99d5-43e9004fbda5",
   "metadata": {
    "editable": true,
    "slideshow": {
     "slide_type": "subslide"
    },
    "tags": []
   },
   "source": [
    "Note that we are able to save the result of `sum_numbers`, to a variable which we have aptly named `calculated_value`, which can be reused later."
   ]
  },
  {
   "cell_type": "markdown",
   "id": "1c7b3e3e-7592-465a-ab0b-e0b7757e31fe",
   "metadata": {
    "editable": true,
    "slideshow": {
     "slide_type": "subslide"
    },
    "tags": []
   },
   "source": [
    "Here we are modifying setting a default value for our `name` argument:"
   ]
  },
  {
   "cell_type": "code",
   "execution_count": 52,
   "id": "27be77d0-b419-4ac4-b42a-5a603e92e0a2",
   "metadata": {},
   "outputs": [
    {
     "name": "stdout",
     "output_type": "stream",
     "text": [
      "Hello, Guest!\n",
      "Hello, User!\n"
     ]
    }
   ],
   "source": [
    "def generate_greeting(name='Guest'):\n",
    "    \"\"\"\n",
    "    Generate the default greeting message.\n",
    "    Name will default to 'guest'.\n",
    "    \"\"\"\n",
    "    print(f\"Hello, {name}!\")\n",
    "\n",
    "generate_greeting()\n",
    "generate_greeting(\"User\")"
   ]
  },
  {
   "cell_type": "markdown",
   "id": "0de304d6-fae4-4d8b-9512-89f60d835102",
   "metadata": {
    "editable": true,
    "slideshow": {
     "slide_type": "subslide"
    },
    "tags": []
   },
   "source": [
    "Without specifying the `name` argument, the `generate_greeting` will use the default value specified within the function definition."
   ]
  },
  {
   "cell_type": "markdown",
   "id": "7252e590-928a-4269-b44a-6c76a173d310",
   "metadata": {},
   "source": [
    "# <ins>2.</ins> Data structures\n",
    "In the _Beginner_ level course, we've introduced to _lists_, the most commonly used compound data structure in Python. Here, we'll learn about methods for lists and we'll introduce to other data structures: _**dictionaries**_, _**sets**_ and _**tuples**_.\n",
    "\n",
    "You can learn more about data structures in Python here: : [Python Documentation(Data Structures)](https://docs.python.org/3/tutorial/datastructures.html)"
   ]
  },
  {
   "cell_type": "markdown",
   "id": "2ea40a78-bd3a-4ce0-951a-141c056dccad",
   "metadata": {},
   "source": [
    "## List methods"
   ]
  },
  {
   "cell_type": "code",
   "execution_count": 1,
   "id": "ddacfae6-eb7d-4eab-83f0-18deae5098da",
   "metadata": {},
   "outputs": [],
   "source": [
    "# [TBD]"
   ]
  },
  {
   "cell_type": "code",
   "execution_count": null,
   "id": "4a940d99-95b8-4fd5-9652-e09ddce070e5",
   "metadata": {},
   "outputs": [],
   "source": [
    "lst = [1, 3.14, \"Mars\", 'Earth', [1, 2, 3]]"
   ]
  },
  {
   "cell_type": "code",
   "execution_count": null,
   "id": "b15e5da0-3364-44db-b24c-2997b984d0df",
   "metadata": {},
   "outputs": [],
   "source": [
    "print(lst)"
   ]
  },
  {
   "cell_type": "code",
   "execution_count": null,
   "id": "33388d26-0ea7-418e-8ec8-14acfc54219d",
   "metadata": {},
   "outputs": [],
   "source": [
    "for i in lst:\n",
    "    print(i)"
   ]
  },
  {
   "cell_type": "code",
   "execution_count": null,
   "id": "b841ff85-14ef-47a2-8b7c-731b4f1228df",
   "metadata": {},
   "outputs": [],
   "source": [
    "len(lst)"
   ]
  },
  {
   "cell_type": "code",
   "execution_count": null,
   "id": "79a1fca8-5af5-4915-ba31-5e45fa3aab18",
   "metadata": {},
   "outputs": [],
   "source": [
    "lst[0]"
   ]
  },
  {
   "cell_type": "code",
   "execution_count": null,
   "id": "a04e8700-08fe-483c-a3b7-bf475951150e",
   "metadata": {},
   "outputs": [],
   "source": [
    "lst[-1][1]"
   ]
  },
  {
   "cell_type": "code",
   "execution_count": null,
   "id": "7de7582b-4de1-4519-9b4b-da1a8430bce8",
   "metadata": {},
   "outputs": [],
   "source": [
    "if 'Mars' in lst:\n",
    "    print('yes')"
   ]
  },
  {
   "cell_type": "code",
   "execution_count": null,
   "id": "db02ac75-58de-4201-a68d-4172e59fd8c2",
   "metadata": {},
   "outputs": [],
   "source": [
    "lst[0:5:2]"
   ]
  },
  {
   "cell_type": "code",
   "execution_count": null,
   "id": "7c711d36-fe51-4264-baa8-427c27fb56ce",
   "metadata": {},
   "outputs": [],
   "source": [
    "def product(*i):\n",
    "    prod = 1\n",
    "    for j in i:\n",
    "        prod *= j\n",
    "    return prod"
   ]
  },
  {
   "cell_type": "code",
   "execution_count": null,
   "id": "063758ae-40a2-4de1-87e6-d02fef2fd37c",
   "metadata": {},
   "outputs": [],
   "source": [
    "j = product(2,3,4)\n",
    "print(j, sep=' ')"
   ]
  },
  {
   "cell_type": "code",
   "execution_count": null,
   "id": "aa1d8ec1-a5a4-4494-a29b-1974f1e189f5",
   "metadata": {},
   "outputs": [],
   "source": [
    "lst = [j for j in range(10) if j%2]"
   ]
  },
  {
   "cell_type": "code",
   "execution_count": null,
   "id": "3d089e6e-8947-4b26-8676-f729609495ba",
   "metadata": {},
   "outputs": [],
   "source": [
    "lst"
   ]
  },
  {
   "cell_type": "code",
   "execution_count": null,
   "id": "c4318f32-e39a-4bdf-a2f5-6ef9c26d459d",
   "metadata": {},
   "outputs": [],
   "source": [
    "lst = []"
   ]
  },
  {
   "cell_type": "code",
   "execution_count": null,
   "id": "0ee6c40e-dc12-4d8c-8362-b4f0efa2958e",
   "metadata": {},
   "outputs": [],
   "source": [
    "lst"
   ]
  },
  {
   "cell_type": "code",
   "execution_count": null,
   "id": "458d2042-c77c-4584-b41c-12c144b6848f",
   "metadata": {},
   "outputs": [],
   "source": [
    "lst.append('hello')"
   ]
  },
  {
   "cell_type": "code",
   "execution_count": null,
   "id": "08b4305e-5143-4c96-8f83-39b059c67db3",
   "metadata": {},
   "outputs": [],
   "source": [
    "lst"
   ]
  },
  {
   "cell_type": "code",
   "execution_count": null,
   "id": "0e6d9396-8389-4c8a-8d32-82c332e542b9",
   "metadata": {},
   "outputs": [],
   "source": [
    "lst.append('bye')"
   ]
  },
  {
   "cell_type": "code",
   "execution_count": null,
   "id": "604d7b04-df0e-41cb-b2df-91875ef28b78",
   "metadata": {},
   "outputs": [],
   "source": [
    "lst"
   ]
  },
  {
   "cell_type": "markdown",
   "id": "95d73334-1e34-4488-b40b-4a92167f8afd",
   "metadata": {},
   "source": [
    "## _Tuples_\n",
    "A _tuple_ is essentially an immutable list. Indexing and slicing work the same as with lists. As with lists, you can get the length of the tuple by using the `len` function, and, like lists, tuples have `count` and `index` methods. However, since a _tuple_ is immutable, it does not have any of the other methods that lists have (such as `sort` or `reverse`). Tuples are enclosed in parentheses (`()`), though the parentheses are actually optional."
   ]
  },
  {
   "cell_type": "code",
   "execution_count": null,
   "id": "22a87826-cb15-44ee-933f-498c101828d1",
   "metadata": {},
   "outputs": [],
   "source": [
    "# An empty tuple\n",
    "my_tuple = tuple()\n",
    "my_tuple"
   ]
  },
  {
   "cell_type": "code",
   "execution_count": null,
   "id": "551155c1-2ca8-4e7c-a8e6-6c5f659300ba",
   "metadata": {},
   "outputs": [],
   "source": [
    "# Initialising a tuple (different ways)\n",
    "my_tuple = (1,2,3)\n",
    "print(my_tuple)\n",
    "#my_tuple = 4,5,6\n",
    "#print(my_tuple)\n",
    "\n",
    "# The way to get a tuple with one element is like this:\n",
    "#my_tuple = (1,)\n",
    "#print(my_tuple)"
   ]
  },
  {
   "cell_type": "code",
   "execution_count": null,
   "id": "8b4c08ab-7695-4f52-94a8-bcc1176a1630",
   "metadata": {},
   "outputs": [],
   "source": [
    "# A practical way to exchange values between variables through tuples\n",
    "a = 1\n",
    "b = 2\n",
    "print(a, b)\n",
    "a, b = b, a\n",
    "print(a, b)"
   ]
  },
  {
   "cell_type": "code",
   "execution_count": null,
   "id": "0311be9a-e210-4d8e-b133-62107503c3b8",
   "metadata": {},
   "outputs": [],
   "source": [
    "# Converting a list to a tuple\n",
    "t1 = tuple([1,2,3])\n",
    "print(t1)"
   ]
  },
  {
   "cell_type": "code",
   "execution_count": null,
   "id": "4c942d99-5bf7-479b-b1af-f593fc17b665",
   "metadata": {},
   "outputs": [],
   "source": [
    "# Converting a string to a tuple\n",
    "t2 = tuple( 'abcde ')\n",
    "print(t2)"
   ]
  },
  {
   "cell_type": "markdown",
   "id": "4ebac0aa-2ce4-4fbf-a460-87e6a9d3f854",
   "metadata": {},
   "source": [
    "The dictionary method `items` returns a list of tuples (see an exercise after _dictionaries_)."
   ]
  },
  {
   "cell_type": "markdown",
   "id": "ef184802-47ff-4ae3-bd8f-882c12b100e1",
   "metadata": {
    "jp-MarkdownHeadingCollapsed": true
   },
   "source": [
    "## _Sets_\n",
    "A _set_ is unordered collection of unique elements, representing a mathematical set. Pythoh stores the data in a set in whatever order it wants to, so indexing has no meaning for sets unlike for lists. It looks like a list, but with no repeats, and is denoted by curly braces (`{}`)."
   ]
  },
  {
   "cell_type": "code",
   "execution_count": null,
   "id": "9363f078-b50b-457d-bd5c-b6501e077670",
   "metadata": {},
   "outputs": [],
   "source": [
    "# An empty set\n",
    "my_set = set()\n",
    "my_set"
   ]
  },
  {
   "cell_type": "code",
   "execution_count": null,
   "id": "27779381-fbb0-44bf-8c49-1b147a816645",
   "metadata": {},
   "outputs": [],
   "source": [
    "# Initialising a set\n",
    "my_set = {1, 2, 3, 4, 5}\n",
    "my_set"
   ]
  },
  {
   "cell_type": "code",
   "execution_count": null,
   "id": "5cb56e51-dc23-4e3a-aa60-2ac0dd04477a",
   "metadata": {},
   "outputs": [],
   "source": [
    "# Converting a list to a set\n",
    "set([1,4,4,4,5,1,2,1,3])"
   ]
  },
  {
   "cell_type": "code",
   "execution_count": null,
   "id": "365fcf47-65f2-4779-a9d8-1ed9cc348315",
   "metadata": {},
   "outputs": [],
   "source": [
    "# Converting a string to a set\n",
    "set('this is a string')"
   ]
  },
  {
   "cell_type": "markdown",
   "id": "37011062-3dc9-48bd-b39c-23082c591150",
   "metadata": {},
   "source": [
    "There are a few operators that work with sets as well as some useful methods:\n",
    "\n",
    "| Operator | Description          | Example                        |\n",
    "|----------|----------------------|--------------------------------|\n",
    "| `\\|`     | union                | `{1,2,3} \\| {3,4} → {1,2,3,4}` |\n",
    "| `&`      | intersection         | `{1,2,3} & {3,4} → {3}`        |\n",
    "| `-`      | difference           | `{1,2,3} - {3,4} → {1,2}`      |\n",
    "| `^`      | symmetric difference | `{1,2,3} ^ {3,4} → {1,2,4}`    |\n",
    "| `in`     | is an element of     | `3 in {1,2,3} → True`          |\n",
    "\n",
    "| Method            | Description                                   |\n",
    "|-------------------|-----------------------------------------------|\n",
    "| `S.add(x)`        | Add `x` to the set                            |\n",
    "| `S.remove(x)`     | Remove `x` from the set                       |\n",
    "| `S.issubset(A)`   | Returns `True` if S ⊂ A and `False` otherwise |\n",
    "| `S.issuperset(A)` | Returns `True` if A ⊂ S and `False` otherwise |\n",
    "\n",
    "There are also _set comprehensions_ just like list comprehensions."
   ]
  },
  {
   "cell_type": "code",
   "execution_count": null,
   "id": "01140a3b-b2b9-4c10-9911-0b27a9360f7b",
   "metadata": {},
   "outputs": [],
   "source": [
    "s = {i**2 for i in range(12)}\n",
    "print(s)"
   ]
  },
  {
   "cell_type": "markdown",
   "id": "d98e3d5f-4c89-4f9a-8a0d-b3bd4b6810cf",
   "metadata": {
    "jp-MarkdownHeadingCollapsed": true
   },
   "source": [
    "### _Example 1_\n",
    "Removing repeated elements from lists"
   ]
  },
  {
   "cell_type": "code",
   "execution_count": null,
   "id": "8304de4d-5651-4e8b-880d-2ed9c6f6f90e",
   "metadata": {},
   "outputs": [],
   "source": [
    "L = [1,4,4,4,5,1,2,1,3]\n",
    "L = list(set(L))\n",
    "print(L)"
   ]
  },
  {
   "cell_type": "markdown",
   "id": "5a346172-bcef-4567-90a4-c3efd4e3b123",
   "metadata": {
    "jp-MarkdownHeadingCollapsed": true
   },
   "source": [
    "### _Example 2_\n",
    "Wordplay: an example of an `if` statement that uses a `set` to see if every letter in a\n",
    "word is either an `a`, `b`, `c`, `d`, or `e`:"
   ]
  },
  {
   "cell_type": "code",
   "execution_count": null,
   "id": "ca22a202-e9ec-42ee-b9a9-a32422db7b64",
   "metadata": {},
   "outputs": [],
   "source": [
    "if set(word).containedin( 'abcde '):"
   ]
  },
  {
   "cell_type": "markdown",
   "id": "5b0538e0-4778-4c6d-aeac-191b85c01980",
   "metadata": {
    "editable": true,
    "jp-MarkdownHeadingCollapsed": true,
    "slideshow": {
     "slide_type": "slide"
    },
    "tags": []
   },
   "source": [
    "## _Dictionaries_\n",
    "A _dictionary_ is an unordered collection of key-value pairs, representing flexible mapping of keys to values. It's like a more general version of a list. In other words, it's an associative container permitting access based on a key, not an index. Dictionary items are colon-connected (`:`) key-value pairs enclosed by curly braces (`{}`)."
   ]
  },
  {
   "cell_type": "markdown",
   "id": "f098b798-3c7b-48dc-a097-c8c7fd883a9a",
   "metadata": {
    "slideshow": {
     "slide_type": null
    }
   },
   "source": [
    "- _Dictionaries_ are like labelled drawers:\n",
    "  - the label of the drawer is called a key;\n",
    "  - however dictionaries are \"kind of\" unordered;\n",
    "  - the content of that drawer is called the value;\n",
    "  - like lists, the types of keys and values do not have to match;\n",
    "  - keys need to be \"hashable\", usually basic data types.\n",
    "\n",
    "The syntax is `{'key': value}` or `dict(key=value)`."
   ]
  },
  {
   "cell_type": "code",
   "execution_count": null,
   "id": "736c1bad-1102-4f55-a3e7-593cd484a2b9",
   "metadata": {},
   "outputs": [],
   "source": [
    "# An empty dictionary\n",
    "my_dict = {}\n",
    "my_dict"
   ]
  },
  {
   "cell_type": "code",
   "execution_count": null,
   "id": "b3cbc875-cd96-4e1f-b573-eec3f58643c5",
   "metadata": {},
   "outputs": [],
   "source": [
    "# Another empty dictionary\n",
    "my_dict = dict()\n",
    "my_dict"
   ]
  },
  {
   "cell_type": "code",
   "execution_count": null,
   "id": "219ec419-8cda-4478-80c7-99a0ca12e820",
   "metadata": {},
   "outputs": [],
   "source": [
    "# Initialising a dictionary\n",
    "my_dict = {\n",
    "    'temperature_k': 298.5,\n",
    "    'pressure': 1.015\n",
    "}\n",
    "my_dict"
   ]
  },
  {
   "cell_type": "code",
   "execution_count": null,
   "id": "63901797-e327-4694-8cd6-be233c9e179f",
   "metadata": {},
   "outputs": [],
   "source": [
    "# Another way to initialise a dictionary\n",
    "my_dict = dict(temperature_k=298.5, pressure=1.015)\n",
    "my_dict"
   ]
  },
  {
   "cell_type": "code",
   "execution_count": null,
   "id": "bc65d900-2b43-40d2-858e-88d2af9a1a9e",
   "metadata": {},
   "outputs": [],
   "source": [
    "# Add a new key-value pair to the dictionary\n",
    "my_dict['volume'] = 100.0\n",
    "my_dict"
   ]
  },
  {
   "cell_type": "markdown",
   "id": "3743f63c-a367-4797-a083-3deec8996924",
   "metadata": {},
   "source": [
    "### _Example_\n",
    "Extending a list to a dictionary"
   ]
  },
  {
   "cell_type": "code",
   "execution_count": null,
   "id": "f0ebecc4-415f-457e-a7f4-748c7f0fcba7",
   "metadata": {},
   "outputs": [],
   "source": [
    "# A list containing the number of days in the months of the year\n",
    "days = [31, 28, 31, 30, 31, 30, 31, 31, 30, 31, 30, 31]"
   ]
  },
  {
   "cell_type": "code",
   "execution_count": null,
   "id": "12a93950-b585-49c3-b5f3-4d9a185bdd27",
   "metadata": {},
   "outputs": [],
   "source": [
    "# How many days in January and in June? Not the best idea to store this data in lists\n",
    "print(f\"In January, there are {days[0]} days\")\n",
    "print(f\"In June, there are {days[5]} days\")"
   ]
  },
  {
   "cell_type": "markdown",
   "id": "9776d594-c6cf-46a3-b950-91f7d4400bad",
   "metadata": {},
   "source": [
    "## Notes on _lists_, _strings_, _tuples_, _sets_, and  _dictionaries_"
   ]
  },
  {
   "cell_type": "markdown",
   "id": "f64d34c5-3ffa-4d8f-a08f-0ad12a9464f6",
   "metadata": {},
   "source": [
    "* **_Lists_** and **_dictionaries_** are _mutable_, which means their contents can be changed.\n",
    "* **_Strings_** and **_tuples_** are _immutable_, which means they cannot be changed.\n",
    "* **_Lists_** are typically for homogeneous data sequences (ingredients, names) whereas **_tuples_** are ideal for heterogeneous data (entries with different meanings)."
   ]
  },
  {
   "cell_type": "markdown",
   "id": "326713fc-3df5-4ed9-bb6d-296a12928358",
   "metadata": {},
   "source": [
    "_Lists_ and _strings_ behave differently when we try to make copies."
   ]
  },
  {
   "cell_type": "code",
   "execution_count": null,
   "id": "7f128fb5-ce9b-4a93-80cc-a400dc1062b6",
   "metadata": {},
   "outputs": [],
   "source": [
    "s = 'Hello '\n",
    "copy = s\n",
    "s = s + '!!! '\n",
    "print( 's is now: ', s, '; Copy: ', copy)"
   ]
  },
  {
   "cell_type": "code",
   "execution_count": null,
   "id": "ce84b25a-10a6-4f84-8a65-ff0aa04c59ae",
   "metadata": {},
   "outputs": [],
   "source": [
    "L = [1,2,3]\n",
    "copy = L\n",
    "L[0] = 9\n",
    "print( 'L is now: ', L, 'Copy: ', copy)"
   ]
  },
  {
   "cell_type": "markdown",
   "id": "54ff0c95-cdb6-42bb-ad3c-a844f8941a46",
   "metadata": {},
   "source": [
    "Everything in Python is an object. This includes numbers, strings, and lists and any other data structure. When we\n",
    "do a simple assignment for a scalar _variable_, like `x=487`, the variable `x` acts as a _reference_ to that object. All objects are treated the same way. In the example of a _string_ above, `copy` is another reference to `'Hello'`. When we do `s=s+'!!!'`, `s` is now referencing another new string object because strings are _immutable_. Whereas in the example of a _list_, when we change an element in the list, no new list is created, the old list is actually changed _in place_ because lists are _mutable_.\n",
    "\n",
    "So, how to modify the example with a list, so that it behaves as expected? We need to create a new copy of the entire list, which is done by `L[:]`"
   ]
  },
  {
   "cell_type": "code",
   "execution_count": null,
   "id": "f1e9073e-0399-4588-a032-45e6be694668",
   "metadata": {},
   "outputs": [],
   "source": [
    "L = [1,2,3]\n",
    "copy = L[:]\n",
    "L[0] = 9\n",
    "print( 'L is now: ', L, 'Copy: ', copy)"
   ]
  },
  {
   "cell_type": "markdown",
   "id": "30326314-62b7-4994-a0d1-75b7448512f0",
   "metadata": {
    "slideshow": {
     "slide_type": "slide"
    },
    "tags": []
   },
   "source": [
    "## Have a Play!"
   ]
  },
  {
   "cell_type": "markdown",
   "id": "2ecdafe8-1645-4102-8858-13b99de1351f",
   "metadata": {},
   "source": [
    "### _Exercise 1 (dictionaries)_"
   ]
  },
  {
   "cell_type": "markdown",
   "id": "92d1435a-dab3-4e86-806f-8aec507b5192",
   "metadata": {},
   "source": [
    "1) Create a dictionary of the days in the months of the year.\n",
    "2) Print out the number of the days for any month as it was done for lists."
   ]
  },
  {
   "cell_type": "code",
   "execution_count": null,
   "id": "8aa427e0-d186-4adb-adb1-775d57913b76",
   "metadata": {},
   "outputs": [],
   "source": [
    "days = ..."
   ]
  },
  {
   "cell_type": "markdown",
   "id": "ba2752b1-dd62-482c-b353-9a602a95fbb2",
   "metadata": {},
   "source": [
    "### _Exercise 2 (dictionaries)_"
   ]
  },
  {
   "cell_type": "markdown",
   "id": "f6286492-8832-43a8-a3ab-99734042728b",
   "metadata": {
    "jp-MarkdownHeadingCollapsed": true
   },
   "source": [
    "1. Create a dictionary of several countries and capitals. Think about what's going to be a key and a value.\n",
    "2. Try create the initial dictionary by initialising it.\n",
    "   Try to add new countries with their capitals.\n",
    "3. Print out the whole dictionary line by line in a loop each representing a country and its capital respectfully."
   ]
  },
  {
   "cell_type": "code",
   "execution_count": null,
   "id": "e299d370-678b-41bf-be55-32313f92996b",
   "metadata": {},
   "outputs": [],
   "source": [
    "# finish the lines below\n",
    "\n",
    "# create a dictionary\n",
    "capitals = ...\n",
    "# add a new country and its capital\n",
    "capitals[...] = ...\n",
    "\n",
    "# print information about countries and their capitals\n",
    "..."
   ]
  },
  {
   "cell_type": "markdown",
   "id": "5cbc9be9-009e-4b9c-8d0c-a069143cadc2",
   "metadata": {},
   "source": [
    "### _Exercise 3 (tuples)_"
   ]
  },
  {
   "cell_type": "markdown",
   "id": "d7eb7776-1dc4-42c9-bc1e-f0ffb42f74c0",
   "metadata": {},
   "source": [
    "Try `items()` method on the dictionary you've created before. Print that out. What kind of data structure does it return?"
   ]
  },
  {
   "cell_type": "code",
   "execution_count": null,
   "id": "69f7a2bf-6849-433b-9885-a79c56d61216",
   "metadata": {},
   "outputs": [],
   "source": [
    "print(...)"
   ]
  },
  {
   "cell_type": "markdown",
   "id": "43b3bf25-2da5-43c6-ab86-8884b0199cc0",
   "metadata": {},
   "source": [
    "# <ins>3.</ins> Advanced string manipulation"
   ]
  },
  {
   "cell_type": "markdown",
   "id": "b90024e6-bfdb-4ea9-a4fd-2a2306e8061b",
   "metadata": {},
   "source": [
    "* Adjusting case\n",
    "* Formatting strings"
   ]
  },
  {
   "cell_type": "code",
   "execution_count": 26,
   "id": "796ef66b-a32c-4c46-be45-a3597d9cbb9c",
   "metadata": {},
   "outputs": [
    {
     "name": "stdout",
     "output_type": "stream",
     "text": [
      "16\n"
     ]
    }
   ],
   "source": [
    "line = \"the quick brown fox jumped over a lazy dog\"\n",
    "print(line.find('fox'))"
   ]
  },
  {
   "cell_type": "markdown",
   "id": "57a8a9df-d38e-4aef-8914-38d6f1cd75ce",
   "metadata": {},
   "source": [
    "# <ins>**Part II**</ins>"
   ]
  },
  {
   "cell_type": "markdown",
   "id": "ada8bb5c-3f1b-4bea-969e-203e00e38fe9",
   "metadata": {
    "editable": true,
    "slideshow": {
     "slide_type": "slide"
    },
    "tags": []
   },
   "source": [
    "# <ins>4.</ins> Pythonic concepts\n",
    "* _Comprehensions_\n",
    "* _Conditional expressions_\n",
    "* How control flow are actually implemented - _iterators_\n",
    "* _Lambdas_ - anonymous functions"
   ]
  },
  {
   "cell_type": "markdown",
   "id": "1a8ac83d-3976-4a68-8de1-d6283b82165a",
   "metadata": {
    "jp-MarkdownHeadingCollapsed": true
   },
   "source": [
    "## _Comprehensions_"
   ]
  },
  {
   "cell_type": "markdown",
   "id": "2d060791-a7c9-4af9-b756-4661805d73bb",
   "metadata": {},
   "source": [
    "### `list` comprehensions"
   ]
  },
  {
   "cell_type": "markdown",
   "id": "e270caef-6782-49ff-b14e-a76fccafb9e1",
   "metadata": {},
   "source": [
    "Multiples of three:"
   ]
  },
  {
   "cell_type": "code",
   "execution_count": 7,
   "id": "7fd0c492-a0c5-45bc-b75e-1cdf965d49a3",
   "metadata": {},
   "outputs": [
    {
     "name": "stdout",
     "output_type": "stream",
     "text": [
      "[0, 3, 6, 9, 12, 15, 18]\n"
     ]
    }
   ],
   "source": [
    "multiples_of_three = [i for i in range(20) if i%3 == 0]\n",
    "print(multiples_of_three)"
   ]
  },
  {
   "cell_type": "markdown",
   "id": "eaf1ac7b-b8f4-4d82-a176-90ea038d92fa",
   "metadata": {},
   "source": [
    "For instance you would usually do something like this:"
   ]
  },
  {
   "cell_type": "code",
   "execution_count": 56,
   "id": "bc09b4dd-2145-4249-ac56-fd0528badc50",
   "metadata": {},
   "outputs": [
    {
     "name": "stdout",
     "output_type": "stream",
     "text": [
      "[0, 1, 4, 9, 16, 25, 36, 49, 64, 81]\n"
     ]
    }
   ],
   "source": [
    "squared = []\n",
    "for x in range(10):\n",
    "    squared.append(x**2)\n",
    "print(squared)"
   ]
  },
  {
   "cell_type": "markdown",
   "id": "f6bbd7b0-a269-44f2-a9ea-ddfb664712f7",
   "metadata": {},
   "source": [
    "You can simplify it using list comprehensions:"
   ]
  },
  {
   "cell_type": "code",
   "execution_count": 57,
   "id": "eece3750-6e64-48f4-b1d0-b7b6aaa971e5",
   "metadata": {},
   "outputs": [
    {
     "name": "stdout",
     "output_type": "stream",
     "text": [
      "[0, 1, 4, 9, 16, 25, 36, 49, 64, 81]\n"
     ]
    }
   ],
   "source": [
    "squared = [x**2 for x in range(10)]\n",
    "print(squared)"
   ]
  },
  {
   "cell_type": "markdown",
   "id": "6c4181ee-f4a5-4ea9-81ac-23995564341a",
   "metadata": {},
   "source": [
    "### `dict` comprehensions"
   ]
  },
  {
   "cell_type": "code",
   "execution_count": 60,
   "id": "7bde5054-4c7a-44ba-9a99-42af07c60118",
   "metadata": {},
   "outputs": [
    {
     "name": "stdout",
     "output_type": "stream",
     "text": [
      "{'a': 17, 'b': 34, 'z': 3}\n"
     ]
    }
   ],
   "source": [
    "mcase = {'a': 10, 'b': 34, 'A': 7, 'Z': 3}\n",
    "mcase_frequency = {\n",
    "    k.lower(): mcase.get(k.lower(), 0) + mcase.get(k.upper(), 0)\n",
    "    for k in mcase.keys()\n",
    "}\n",
    "print(mcase_frequency)"
   ]
  },
  {
   "cell_type": "markdown",
   "id": "16a7fda7-7b18-4fa1-a151-7bbfaada4f5a",
   "metadata": {},
   "source": [
    "### `set` comprehensions"
   ]
  },
  {
   "cell_type": "code",
   "execution_count": 61,
   "id": "f77ea4aa-478a-4711-945b-9e3798dae55d",
   "metadata": {},
   "outputs": [
    {
     "name": "stdout",
     "output_type": "stream",
     "text": [
      "{1, 4}\n"
     ]
    }
   ],
   "source": [
    "squared = {x**2 for x in [1, 1, 2]}\n",
    "print(squared)"
   ]
  },
  {
   "cell_type": "markdown",
   "id": "bc94678c-c56a-435f-bb86-2d2fabf4beca",
   "metadata": {
    "jp-MarkdownHeadingCollapsed": true
   },
   "source": [
    "## _Conditional expressions_"
   ]
  },
  {
   "cell_type": "markdown",
   "id": "86c0da2b-8a1a-4eba-9632-f92b57bd9ef0",
   "metadata": {},
   "source": [
    "They are known as _ternary operators_ in other languages. They became a part of Python from version 2.4"
   ]
  },
  {
   "cell_type": "code",
   "execution_count": 62,
   "id": "3e8f59dd-7e62-42c8-b263-e497a8b19990",
   "metadata": {},
   "outputs": [
    {
     "name": "stdout",
     "output_type": "stream",
     "text": [
      "grumpy\n"
     ]
    }
   ],
   "source": [
    "hungry = True\n",
    "state = \"grumpy\" if hungry else \"content\"\n",
    "print(state)"
   ]
  },
  {
   "cell_type": "markdown",
   "id": "6f9bde0d-8371-4d20-9aec-ac2f4a1495f8",
   "metadata": {},
   "source": [
    "Another more obscure and not widely used example involves tuples"
   ]
  },
  {
   "cell_type": "code",
   "execution_count": 72,
   "id": "7756d47c-e10b-4be9-8d4c-407b8bf98528",
   "metadata": {},
   "outputs": [
    {
     "name": "stdout",
     "output_type": "stream",
     "text": [
      "The cat is mean\n"
     ]
    }
   ],
   "source": [
    "nice = False\n",
    "personality = (\"mean\", \"nice\")[nice]\n",
    "print(\"The cat is\", personality)"
   ]
  },
  {
   "cell_type": "markdown",
   "id": "7b34baee-d9f6-4ccf-9919-114acf066017",
   "metadata": {},
   "source": [
    "There is also a shorter version of the normal ternary operator you have seen above (introduced in Python 2.5)"
   ]
  },
  {
   "cell_type": "code",
   "execution_count": 73,
   "id": "3272ed4c-812c-4f58-9a1a-c7ec1756d800",
   "metadata": {},
   "outputs": [
    {
     "name": "stdout",
     "output_type": "stream",
     "text": [
      "No data returned\n"
     ]
    }
   ],
   "source": [
    "output = None\n",
    "msg = output or \"No data returned\"\n",
    "print(msg)"
   ]
  },
  {
   "cell_type": "markdown",
   "id": "e2828356-ae22-4d3f-a913-3eca192f6b8e",
   "metadata": {},
   "source": [
    "As a simple way to define function parameters with dynamic default values"
   ]
  },
  {
   "cell_type": "code",
   "execution_count": 74,
   "id": "7f18179b-c74a-4207-8307-b57368322084",
   "metadata": {},
   "outputs": [
    {
     "name": "stdout",
     "output_type": "stream",
     "text": [
      "John\n"
     ]
    }
   ],
   "source": [
    "def my_function(real_name, optional_display_name=None):\n",
    "    optional_display_name = optional_display_name or real_name\n",
    "    print(optional_display_name)\n",
    "\n",
    "my_function(\"John\")"
   ]
  },
  {
   "cell_type": "code",
   "execution_count": 75,
   "id": "78ffc06d-d503-41e8-8403-61b02a256c9b",
   "metadata": {},
   "outputs": [
    {
     "name": "stdout",
     "output_type": "stream",
     "text": [
      "anonymous123\n"
     ]
    }
   ],
   "source": [
    "my_function(\"Mike\", \"anonymous123\")"
   ]
  },
  {
   "cell_type": "markdown",
   "id": "113bcfec-96fc-41b6-bd05-36cb30e27141",
   "metadata": {
    "jp-MarkdownHeadingCollapsed": true
   },
   "source": [
    "## _Iterators_ beneath control flows"
   ]
  },
  {
   "cell_type": "markdown",
   "id": "df23adf0-fb82-4de6-9acd-3ac0fe590c1f",
   "metadata": {},
   "source": [
    "But what is the for loop doing under the hood?"
   ]
  },
  {
   "cell_type": "markdown",
   "id": "afa5f891-46f3-4af9-a9b9-f8140459192e",
   "metadata": {},
   "source": [
    "1. `iter()` is called on the container object returning an iterator object\n",
    "2. The iterator object defines a `__next__()` function which facilitates access to elements one at a time\n",
    "3. `__next()__` tells for loop when there are no more elements raising StopIteration exception"
   ]
  },
  {
   "cell_type": "code",
   "execution_count": 63,
   "id": "c10e5798-24c3-4bb6-b32b-b0befb8fe45d",
   "metadata": {},
   "outputs": [
    {
     "data": {
      "text/plain": [
       "<str_ascii_iterator at 0x7fcffc30fd90>"
      ]
     },
     "execution_count": 63,
     "metadata": {},
     "output_type": "execute_result"
    }
   ],
   "source": [
    "uni = \"Durham\"\n",
    "it = iter(uni)\n",
    "it"
   ]
  },
  {
   "cell_type": "code",
   "execution_count": 64,
   "id": "4f6e0b1f-234a-429e-8f4a-8564b2321618",
   "metadata": {},
   "outputs": [
    {
     "data": {
      "text/plain": [
       "'D'"
      ]
     },
     "execution_count": 64,
     "metadata": {},
     "output_type": "execute_result"
    }
   ],
   "source": [
    "next(it)"
   ]
  },
  {
   "cell_type": "code",
   "execution_count": 65,
   "id": "bdcd8474-3338-4607-b585-e46311c8ec56",
   "metadata": {},
   "outputs": [
    {
     "data": {
      "text/plain": [
       "'u'"
      ]
     },
     "execution_count": 65,
     "metadata": {},
     "output_type": "execute_result"
    }
   ],
   "source": [
    "next(it)"
   ]
  },
  {
   "cell_type": "code",
   "execution_count": 66,
   "id": "dea26f64-27d8-4932-ac78-463f6408cf86",
   "metadata": {},
   "outputs": [
    {
     "data": {
      "text/plain": [
       "'r'"
      ]
     },
     "execution_count": 66,
     "metadata": {},
     "output_type": "execute_result"
    }
   ],
   "source": [
    "next(it)"
   ]
  },
  {
   "cell_type": "code",
   "execution_count": 67,
   "id": "41a24a90-d19e-4719-9db3-3e74287a9a9f",
   "metadata": {},
   "outputs": [
    {
     "data": {
      "text/plain": [
       "'h'"
      ]
     },
     "execution_count": 67,
     "metadata": {},
     "output_type": "execute_result"
    }
   ],
   "source": [
    "next(it)"
   ]
  },
  {
   "cell_type": "code",
   "execution_count": 68,
   "id": "cae23258-e596-4de9-ae70-6896b5e29836",
   "metadata": {},
   "outputs": [
    {
     "data": {
      "text/plain": [
       "'a'"
      ]
     },
     "execution_count": 68,
     "metadata": {},
     "output_type": "execute_result"
    }
   ],
   "source": [
    "next(it)"
   ]
  },
  {
   "cell_type": "code",
   "execution_count": 69,
   "id": "0bbb0df4-0892-4c9b-8998-a9b2e23abe26",
   "metadata": {},
   "outputs": [
    {
     "data": {
      "text/plain": [
       "'m'"
      ]
     },
     "execution_count": 69,
     "metadata": {},
     "output_type": "execute_result"
    }
   ],
   "source": [
    "next(it)"
   ]
  },
  {
   "cell_type": "code",
   "execution_count": 70,
   "id": "1d66892f-2dec-4f1a-8416-95f90c3b08f3",
   "metadata": {},
   "outputs": [
    {
     "ename": "StopIteration",
     "evalue": "",
     "output_type": "error",
     "traceback": [
      "\u001b[0;31m---------------------------------------------------------------------------\u001b[0m",
      "\u001b[0;31mStopIteration\u001b[0m                             Traceback (most recent call last)",
      "Cell \u001b[0;32mIn[70], line 1\u001b[0m\n\u001b[0;32m----> 1\u001b[0m \u001b[38;5;28;43mnext\u001b[39;49m\u001b[43m(\u001b[49m\u001b[43mit\u001b[49m\u001b[43m)\u001b[49m\n",
      "\u001b[0;31mStopIteration\u001b[0m: "
     ]
    }
   ],
   "source": [
    "next(it)"
   ]
  },
  {
   "cell_type": "markdown",
   "id": "0ffd14f4-9256-43f6-ac39-afd6e5340ae3",
   "metadata": {
    "jp-MarkdownHeadingCollapsed": true
   },
   "source": [
    "## _Lambda_ functions"
   ]
  },
  {
   "cell_type": "markdown",
   "id": "e9ef76a1-ff77-4995-9025-a922cdf89af2",
   "metadata": {},
   "source": [
    "**_Lambda functions_** for compact inline function definitions. Useful when you don’t want to use a function twice:\n",
    "\n",
    "`lambda arguments : manipulate(argument)`\n",
    "\n",
    "Or more generally:\n",
    "\n",
    "`somefunc = lambda a1, a2, ... : some_expression`"
   ]
  },
  {
   "cell_type": "code",
   "execution_count": 76,
   "id": "d78ddac5-c343-460d-bd09-890041aa8eee",
   "metadata": {},
   "outputs": [
    {
     "name": "stdout",
     "output_type": "stream",
     "text": [
      "8\n"
     ]
    }
   ],
   "source": [
    "add = lambda x, y: x + y\n",
    "print(add(3, 5))"
   ]
  },
  {
   "cell_type": "markdown",
   "id": "4f01a260-d90e-409a-91a4-1633bb78c6b2",
   "metadata": {},
   "source": [
    "_Example_: List sorting"
   ]
  },
  {
   "cell_type": "code",
   "execution_count": 79,
   "id": "206f6ea5-bbac-4b88-9ec3-43f18c46252e",
   "metadata": {},
   "outputs": [
    {
     "name": "stdout",
     "output_type": "stream",
     "text": [
      "[(13, -3), (4, 1), (1, 2), (9, 10)]\n"
     ]
    }
   ],
   "source": [
    "a = [(1, 2), (4, 1), (9, 10), (13, -3)]\n",
    "a.sort(key=lambda x: x[1])\n",
    "print(a)"
   ]
  },
  {
   "cell_type": "markdown",
   "id": "b1847729-1e35-4c90-b6b1-22da907a3727",
   "metadata": {},
   "source": [
    "_Example_: Parallel sorting of lists"
   ]
  },
  {
   "cell_type": "code",
   "execution_count": 80,
   "id": "4b301465-e654-4a49-8957-8c32ff3d68c4",
   "metadata": {},
   "outputs": [
    {
     "name": "stdout",
     "output_type": "stream",
     "text": [
      "<zip object at 0x7fcfe36c5340>\n",
      "[('Moscow', 13010112), ('New York', 8804190), ('Tokyo', 14187176)]\n",
      "['Moscow', 'New York', 'Tokyo']\n",
      "[13010112, 8804190, 14187176]\n"
     ]
    }
   ],
   "source": [
    "list1 = [\"New York\", \"Moscow\", \"Tokyo\"]\n",
    "list2 = [8804190, 13010112, 14187176]\n",
    "data = zip(list1, list2)\n",
    "print(data)\n",
    "data = sorted(data)\n",
    "print(data)\n",
    "list1, list2 = map(lambda t: list(t), zip(*data))\n",
    "print(list1)\n",
    "print(list2)"
   ]
  },
  {
   "cell_type": "markdown",
   "id": "b886ee95-9c8a-46ce-aef9-a8d4ba65dc79",
   "metadata": {},
   "source": [
    "**_Map_** applies a function to all the items in an iterable:\n",
    "\n",
    "`map(function_to_apply, list_of_inputs)`"
   ]
  },
  {
   "cell_type": "code",
   "execution_count": 23,
   "id": "c7e6d590-2aae-4865-92fc-60df28167ba9",
   "metadata": {},
   "outputs": [
    {
     "name": "stdout",
     "output_type": "stream",
     "text": [
      "[1, 4, 9, 16, 25]\n"
     ]
    }
   ],
   "source": [
    "items = [1,2,3,4,5]\n",
    "squared = []\n",
    "for i in items:\n",
    "    squared.append(i**2)\n",
    "print(squared)"
   ]
  },
  {
   "cell_type": "code",
   "execution_count": 25,
   "id": "a378eb85-5c26-476f-81a7-b9153c6da84b",
   "metadata": {},
   "outputs": [
    {
     "name": "stdout",
     "output_type": "stream",
     "text": [
      "[1, 8, 27, 64, 125]\n"
     ]
    }
   ],
   "source": [
    "squared = list(map(lambda x: x**3, items))\n",
    "print(squared)"
   ]
  },
  {
   "cell_type": "markdown",
   "id": "a45e1360-2d3f-4b23-b846-46dc29bc0bd8",
   "metadata": {
    "jp-MarkdownHeadingCollapsed": true
   },
   "source": [
    "## Have a play!"
   ]
  },
  {
   "cell_type": "markdown",
   "id": "d737495e-cbda-46a2-9da1-8fd63ec74390",
   "metadata": {},
   "source": [
    "# <ins>5.</ins> Introduction to modules\n",
    "A _module_ is a single file (or collection of files) that is intended to be imported and used in other Python programs. It can include functions, classes, variables, and runnable code."
   ]
  },
  {
   "cell_type": "markdown",
   "id": "8b337dc4-9832-47dd-849e-d3a9c9d900e2",
   "metadata": {},
   "source": [
    "## Importing _modules_"
   ]
  },
  {
   "cell_type": "markdown",
   "id": "ae047d0a-7640-40c1-82fa-18b9c318d846",
   "metadata": {},
   "source": [
    "Python comes with hundreds of _modules_ doing all sorts of things. Also, many 3rd-party modules are available to download from the Internet."
   ]
  },
  {
   "cell_type": "markdown",
   "id": "2dba4df9-e7cb-4f1b-80dd-79a42660971b",
   "metadata": {},
   "source": [
    "There are several ways of importing _modules_:"
   ]
  },
  {
   "cell_type": "code",
   "execution_count": null,
   "id": "5070cb6d-aa67-4882-a971-df84978a5100",
   "metadata": {},
   "outputs": [],
   "source": [
    "# import the whole module\n",
    "import math\n",
    "\n",
    "# module's function name is in the module's namespace\n",
    "print(math.sqrt(16.0))"
   ]
  },
  {
   "cell_type": "code",
   "execution_count": null,
   "id": "ee0c7f4b-1dff-427f-aa3e-76d602dd43c5",
   "metadata": {},
   "outputs": [],
   "source": [
    "# import several modules at once\n",
    "import os, sys, time"
   ]
  },
  {
   "cell_type": "code",
   "execution_count": null,
   "id": "618f7aff-20a9-4e0c-beb3-a8ba07d1d2e7",
   "metadata": {},
   "outputs": [],
   "source": [
    "# use 'as' keyword to change the name of the module\n",
    "import math as m\n",
    "print(m.sqrt(36.0))"
   ]
  },
  {
   "cell_type": "code",
   "execution_count": null,
   "id": "bb8ac4ac-274c-48e8-ac31-050a26c454e8",
   "metadata": {},
   "outputs": [],
   "source": [
    "# import only a selected function from a module\n",
    "from math import sqrt\n",
    "\n",
    "# the function's name is in the global namespace\n",
    "print(sqrt(49))"
   ]
  },
  {
   "cell_type": "code",
   "execution_count": null,
   "id": "bec19c9b-3313-4c13-aff4-9f36e16830d4",
   "metadata": {},
   "outputs": [],
   "source": [
    "# change the name of the function in the module\n",
    "from math import sqrt as square_root\n",
    "print(square_root(25))"
   ]
  },
  {
   "cell_type": "code",
   "execution_count": null,
   "id": "d72d1ced-3172-4be0-b453-f4b5d139e79b",
   "metadata": {},
   "outputs": [],
   "source": [
    "# import all functions, variables, and classes from a module into the global namespace\n",
    "# - better to avoid this as some names from the module can interfere with your own variable names in the global namespace\n",
    "from math import *\n",
    "print(int(sqrt(4.0)))"
   ]
  },
  {
   "cell_type": "markdown",
   "id": "6aaf02cf-e637-4bba-aa54-53c4a94c30aa",
   "metadata": {},
   "source": [
    "To get help on a module at the Python shell, import it the whole (the very first way), then you can..."
   ]
  },
  {
   "cell_type": "code",
   "execution_count": null,
   "id": "bf6347c5-5e76-4a76-bb28-c5d08b984b71",
   "metadata": {},
   "outputs": [],
   "source": [
    "# get a list of the functions and variables in the module\n",
    "dir(math)"
   ]
  },
  {
   "cell_type": "code",
   "execution_count": null,
   "id": "b6c3333e-d525-45b7-a06f-b698fe19c29f",
   "metadata": {},
   "outputs": [],
   "source": [
    "# get a long description\n",
    "help(math)"
   ]
  },
  {
   "cell_type": "markdown",
   "id": "b879bbd8-af7d-473f-9e04-7cffa69e212e",
   "metadata": {},
   "source": [
    "## Some useful _modules_"
   ]
  },
  {
   "cell_type": "markdown",
   "id": "0f6ab025-5740-4e7f-8588-3e47e525bf4a",
   "metadata": {},
   "source": [
    "Python comes with a program called pip which will automatically fetch packages released and listed on PyPI: `pip install <some-module>`"
   ]
  },
  {
   "cell_type": "markdown",
   "id": "5576c746-bfd1-4d0a-a404-20a966f13791",
   "metadata": {},
   "source": [
    "| Name       | Description |\n",
    "|------------------|-------------|\n",
    "| **`time`**       | functions for dealing with time\n",
    "| **`datetime`**   | allows to work with dates and times together\n",
    "| **`os`**         | functions for working with files, directories and operating system\n",
    "| **`shutils`**    | contains a function to copy files\n",
    "| **`sys`**        | contains a function to quit your program\n",
    "| **`zipfile`**    | allows to compress/extract files or directory of files into/from a zip file\n",
    "| **`urllib`**     | allows to get files from the internet\n",
    "| **`math`**       | math functions such as `sin`, `cos`, `tan`, `exp`, `log`, `sqrt`, `floor`, `ceil` |\n",
    "| **`numpy`**      | fundamental package for scientific computing (a multidimensional array object; routines for fast operations on arrays, including mathematical, logical, shape manipulation, sorting, selecting; basic linear algebra, basic statistical operations, random simulation and much more) |\n",
    "| **`scipy`**      | a collection of mathematical algorithms and convenience functions built on the NumPy extension (high-level commands and classes for the manipulation and visualization of data) |\n",
    "| **`matplotlib`** | library for plotting\n",
    "| **`sympy`**      | symbolic computations\n",
    "| **`itertools`**  | provides a generator-like object named `permutations`\n",
    "| **`csv`**        | parsing and writing `csv` files"
   ]
  },
  {
   "cell_type": "markdown",
   "id": "ed0a406a-a1f3-4156-a381-2b276c5596c9",
   "metadata": {
    "editable": true,
    "slideshow": {
     "slide_type": ""
    },
    "tags": []
   },
   "source": [
    "## Using _modules_"
   ]
  },
  {
   "cell_type": "markdown",
   "id": "a55108cb-a909-4c5b-b120-8aaf9c9bdfb1",
   "metadata": {},
   "source": [
    "### _Example_\n",
    "Interfacing with the operating system: **`os`**"
   ]
  },
  {
   "cell_type": "code",
   "execution_count": null,
   "id": "3de5b42e-704d-4f73-9062-06d684751e45",
   "metadata": {},
   "outputs": [],
   "source": [
    "import os\n",
    "home = \"/home\"\n",
    "print(os.path.join(home, os.environ[\"USER\"], \"holiday_planning.txt\"))\n",
    "print(os.listdir(\"/home/dmitry/Desktop\"))\n",
    "if not os.path.exists(\"nofile.txt\"):\n",
    "    print(\"File not found\")\n",
    "    exit(1)"
   ]
  },
  {
   "cell_type": "markdown",
   "id": "5cdaa352-91c2-43c5-b2c2-2dc9258f5ee1",
   "metadata": {},
   "source": [
    "We'll demonstrate how to use modules in the actual code using the example of reading/writing files. In the _Beginner_ course, we showed the basic reading/writing files using the built-in functions of Python. But there's a better way of doing that by means of the specialised module called **`csv`**."
   ]
  },
  {
   "cell_type": "markdown",
   "id": "e18418c9-3b57-4ec4-a100-d7acde713b2a",
   "metadata": {},
   "source": [
    "Writing a csv file:"
   ]
  },
  {
   "cell_type": "code",
   "execution_count": null,
   "id": "bdbdca1c-44ff-492b-b287-ecf54571a1d3",
   "metadata": {},
   "outputs": [],
   "source": [
    "import csv, math\n",
    "\n",
    "with open (\"example.csv\", 'w') as out_f:\n",
    "    writer = csv.writer(out_f, delimiter=',')\n",
    "    writer.writerow([\"x_axis\", \"y_axis\"])\n",
    "    x_axis = [x * 0.1 for x in range(0, 100)]\n",
    "    for x in x_axis:\n",
    "        writer.writerow([x, math.cos(x)])"
   ]
  },
  {
   "cell_type": "markdown",
   "id": "60cca6d5-b56f-48a7-a688-d505da3a6f04",
   "metadata": {
    "jp-MarkdownHeadingCollapsed": true
   },
   "source": [
    "Now, let’s extract the value for `y_axis` when `x_axis` is `1.0` for the csv we just wrote:"
   ]
  },
  {
   "cell_type": "code",
   "execution_count": null,
   "id": "abc3ae69-f580-4ced-a484-fafeafcebe59",
   "metadata": {},
   "outputs": [],
   "source": [
    "import csv\n",
    "\n",
    "with open (\"example.csv\", 'r') as in_f:\n",
    "    reader = csv.reader(in_f, delimiter=',')\n",
    "    next(reader) # skip header\n",
    "    for row in reader:\n",
    "        if row[0] == \"1.0\":\n",
    "            print(row[1])\n",
    "            break"
   ]
  },
  {
   "cell_type": "markdown",
   "id": "6fe293a9-2edd-44d4-ba3c-5236bcb271b5",
   "metadata": {
    "editable": true,
    "slideshow": {
     "slide_type": "slide"
    },
    "tags": []
   },
   "source": [
    "## Building your own module\n",
    "\n",
    "  - If you have a .py file in a path that is available to python, you can import any object defined in that file.\n",
    "  - If you have `mymodule.py` in your folder you can just write:\n",
    "    `import mymodule`\n",
    "    and use a function defined in there with `mymodule.my_function(arg)`\n",
    "  - of course you can also use the  method\n",
    "    `from mymodule import my_function`"
   ]
  },
  {
   "cell_type": "markdown",
   "id": "54ce21b8-e1cd-4a7c-ac2d-ee9d797afc96",
   "metadata": {
    "editable": true,
    "slideshow": {
     "slide_type": "slide"
    },
    "tags": []
   },
   "source": [
    "### ```__main__``` special built-in variable\n",
    "So python files can be executed with \n",
    "`python mymodule.py` or loaded from with `import`\n",
    "However, all commands just put into a python file will be executed on import.\n",
    "\n",
    "The answer is to introduce a `__main__` block that is only executed when the file is called as a script.\n",
    "It is good practice to have all code executed in a script to be either in a function or in this block.\n"
   ]
  },
  {
   "cell_type": "markdown",
   "id": "71287aa1-8453-4ffe-ac1c-be8712f53481",
   "metadata": {
    "editable": true,
    "slideshow": {
     "slide_type": "slide"
    },
    "tags": []
   },
   "source": [
    "\n",
    "### Example content of `mymodule.py`:\n",
    "```python\n",
    "def myfunction():\n",
    "    print(\"I will be only printed when the function is called\")\n",
    "\n",
    "print(\"I will be called on import and execution as a script\")\n",
    "\n",
    "if __name__ == \"__main__\":\n",
    "    print(\"I will only executed when called as a script\")\n",
    "```"
   ]
  },
  {
   "cell_type": "markdown",
   "id": "90d7331f-eedb-486c-ab81-c032221a9b67",
   "metadata": {
    "editable": true,
    "slideshow": {
     "slide_type": "slide"
    },
    "tags": []
   },
   "source": [
    "## Have a play!\n",
    "\n",
    " - try to put the example content from the last slide into a mymodule.py in your folder and import `myfunction` into this notebook\n",
    " - Add your own function that returns the sine of a value (you might need to restart the kernel in the tab Kernel-> Restart Kernel) if you have already executed the import."
   ]
  },
  {
   "cell_type": "code",
   "execution_count": 1,
   "id": "e019e7ad-aff1-4dc0-b438-493d4dbef3e7",
   "metadata": {},
   "outputs": [],
   "source": [
    "# solution\n",
    "# this is done with this notebook here, but usually you would create this outside of python in an external editor\n",
    "\n",
    "module_path = 'mymodule.py'\n",
    "\n",
    "module_content = \"\"\"\n",
    "def myfunction():\n",
    "    print(\"I will be only printed when the function is called\")\n",
    "\n",
    "print(\"I will be called on import and execution as a script\")\n",
    "\n",
    "if __name__ == \"__main__\":\n",
    "    print(\"I will only executed when called as a script\")\n",
    "\"\"\"\n",
    "\n",
    "with open(module_path, 'w') as fobj:\n",
    "    fobj.write(module_content)\n"
   ]
  },
  {
   "cell_type": "code",
   "execution_count": 2,
   "id": "1adfee85-b00c-474f-a12f-9e953dfbdc28",
   "metadata": {},
   "outputs": [
    {
     "name": "stdout",
     "output_type": "stream",
     "text": [
      "I will be called on import and execution as a script\n"
     ]
    }
   ],
   "source": [
    "# solution cell 2\n",
    "import mymodule\n"
   ]
  },
  {
   "cell_type": "code",
   "execution_count": 3,
   "id": "920b6a5d-e94b-431d-b721-9d0c30e2e0bd",
   "metadata": {},
   "outputs": [
    {
     "name": "stdout",
     "output_type": "stream",
     "text": [
      "I will be only printed when the function is called\n"
     ]
    }
   ],
   "source": [
    "# solution cell 3\n",
    "mymodule.myfunction()"
   ]
  },
  {
   "cell_type": "code",
   "execution_count": null,
   "id": "eed78286-ed20-48b5-9710-fa54f21868bd",
   "metadata": {},
   "outputs": [],
   "source": [
    "# solution cell 3\n",
    "# to avoid the kernel restart we output into a second file\n",
    "module_path = 'mymodule2.py'\n",
    "\n",
    "module_content2 = \"\"\"\n",
    "import math\n",
    "\n",
    "def useless_sine(value):\n",
    "\n",
    "\n",
    "def myfunction():\n",
    "    print(\"I will be only printed when the function is called\")\n",
    "\n",
    "print(\"I will be called on import and execution as a script\")\n",
    "\n",
    "if __name__ == \"__main__\":\n",
    "    print(\"I will only executed when called as a script\")\n",
    "\"\"\"\n",
    "\n",
    "with open(module_path, 'w') as fobj:\n",
    "    fobj.write(module_content)\n"
   ]
  },
  {
   "cell_type": "markdown",
   "id": "7e61f6c8-efa7-4cae-939d-45a18c8d5889",
   "metadata": {},
   "source": [
    "# <ins>6.</ins> Brief introduction to classes"
   ]
  },
  {
   "cell_type": "markdown",
   "id": "22ad2487-f18f-4a1d-affc-ed5868bea800",
   "metadata": {},
   "source": [
    "[TBD] See `class.py`"
   ]
  },
  {
   "cell_type": "code",
   "execution_count": null,
   "id": "13abe269-f895-4e24-a213-a334b4f49b86",
   "metadata": {},
   "outputs": [],
   "source": [
    "# define elephant size\n",
    "elephant_x = 5\n",
    "elephant_y = 5\n",
    "elephamt_h = 5\n",
    "\n",
    "# define refrigerator size\n",
    "refrigerator_x = 6\n",
    "refrigerator_y = 6\n",
    "refrigerator_h = 6\n",
    "\n",
    "\n",
    "def open_refrigerator_door():\n",
    "    print('Refrigerator door is opened')\n",
    "\n",
    "def package_elephant():\n",
    "    print('Elephant is packaged')\n",
    "\n",
    "def put_elephant_to_refrigerator():\n",
    "    print('Elephant is in the fridge already')\n",
    "\n",
    "def close_refrigerator_door():\n",
    "    print('Close the refrigerator door')\n",
    "\n",
    "\n",
    "# compare size\n",
    "if elephant_x < refrigerator_x and elephant_y < refrigerator_y and elephamt_h < refrigerator_h:\n",
    "   open_refrigerator_door()\n",
    "   package_elephant()\n",
    "   put_elephant_to_refrigerator()\n",
    "   close_refrigerator_door()\n",
    "else:\n",
    "    print('refrigerator is too small to put elephant')"
   ]
  },
  {
   "cell_type": "code",
   "execution_count": null,
   "id": "5dfae6cd-2e8d-4a0f-a6be-b793239c174f",
   "metadata": {},
   "outputs": [],
   "source": [
    "class Elephant:\n",
    "    def __init__(self, x, y, h):\n",
    "        self.x = x\n",
    "        self.y = y\n",
    "        self.h = h\n",
    "\n",
    "    def package(self):\n",
    "        print('Elephant is packaged')\n",
    "\n",
    "class Refrigerator:\n",
    "    def __init__(self, x, y, h):\n",
    "        self.x = x\n",
    "        self.y = y\n",
    "        self.h = h\n",
    "        self.is_door_open = False\n",
    "\n",
    "    def open_door(self):\n",
    "        self.is_door_open = True\n",
    "        print('Refrigerator door is opened')\n",
    "\n",
    "    def close_door(self):\n",
    "        self.is_door_open = False\n",
    "        print('Close the refrigerator door')\n",
    "\n",
    "    def put_elephant(self, elephant):\n",
    "        if not self.is_door_open:\n",
    "            self.open_door()\n",
    "        if elephant.x < self.x and elephant.y < self.y and elephant.h < self.h:\n",
    "            elephant.package()\n",
    "            print('Elephant is in the fridge already')\n",
    "        else:\n",
    "            print('Refrigerator is too small to put elephant')\n",
    "        self.close_door()\n",
    "\n",
    "# Define element sizes\n",
    "elephant_x = 5\n",
    "elephant_y = 5\n",
    "elephant_h = 5\n",
    "\n",
    "# Define refrigerator sizes\n",
    "refrigerator_x = 6\n",
    "refrigerator_y = 6\n",
    "refrigerator_h = 6\n",
    "\n",
    "# Create instances of Elephant and Refrigerator classes\n",
    "elephant = Elephant(elephant_x, elephant_y, elephant_h)\n",
    "refrigerator = Refrigerator(refrigerator_x, refrigerator_y, refrigerator_h)\n",
    "\n",
    "# Put the elephant in the refrigerator\n",
    "refrigerator.put_elephant(elephant)"
   ]
  },
  {
   "cell_type": "code",
   "execution_count": null,
   "id": "ca6bbdf2-7502-4d60-870e-f58ddb01a639",
   "metadata": {},
   "outputs": [],
   "source": [
    "\"\"\"\n",
    "1. The Elephant class contains the package method.\n",
    "\n",
    "2. The Refrigerator class contains methods for opening and closing the door (open_door and close_door) \n",
    "as well as putting the elephant inside (put_elephant).\n",
    "\n",
    "3. The logic to determine if the elephant fits into the refrigerator is now part of the put_elephant method.\n",
    "\n",
    "4. We create instances of the Elephant and Refrigerator classes and use the put_elephant method to put the elephant into the refrigerator.\n",
    "\"\"\""
   ]
  },
  {
   "cell_type": "code",
   "execution_count": null,
   "id": "eacd22b0-bccf-4d35-b69f-7767fc6b7e35",
   "metadata": {},
   "outputs": [],
   "source": [
    "class Car:\n",
    "    def __init__(self, make, model, year, color, mileage, num):\n",
    "        self.make = make\n",
    "        self.model = model\n",
    "        self.year = year\n",
    "        self.color = color\n",
    "        self.mileage = mileage\n",
    "        self.num = num\n",
    "\n",
    "    def drive(self, distance):\n",
    "        self.mileage += distance\n",
    "\n",
    "    def paint(self, new_color):\n",
    "        self.color = new_color\n",
    "\n",
    "    def re_register(self, new_num):\n",
    "        self.num = new_num\n",
    "\n",
    "    def display_info(self):\n",
    "        print(f\"Make: {self.make}\")\n",
    "        print(f\"Model: {self.model}\")\n",
    "        print(f\"Year: {self.year}\")\n",
    "        print(f\"Color: {self.color}\")\n",
    "        print(f\"Mileage: {self.mileage}\")\n",
    "        print(f\"plate number: {self.num}\")\n",
    "\n",
    "\n",
    "# Test the Car class\n",
    "car1 = Car(\"Toyota\", \"Camry\", 2020, \"Blue\", 15000, \"DUR 888\")\n",
    "car1.display_info()\n",
    "\n",
    "car1.drive(100)\n",
    "car1.paint(\"Red\")\n",
    "car1.display_info()\n",
    "################\n",
    "car1.re_register('DUR 666')\n",
    "car1.display_info()"
   ]
  },
  {
   "cell_type": "code",
   "execution_count": null,
   "id": "c763567b-6ba7-4e63-81b3-b1b0ece582b1",
   "metadata": {},
   "outputs": [],
   "source": []
  },
  {
   "cell_type": "markdown",
   "id": "64ff4d71-dfe1-4b7f-a8ef-64ede595aa74",
   "metadata": {},
   "source": [
    "## Have a play!"
   ]
  }
 ],
 "metadata": {
  "kernelspec": {
   "display_name": "Python 3 (ipykernel)",
   "language": "python",
   "name": "python3"
  },
  "language_info": {
   "codemirror_mode": {
    "name": "ipython",
    "version": 3
   },
   "file_extension": ".py",
   "mimetype": "text/x-python",
   "name": "python",
   "nbconvert_exporter": "python",
   "pygments_lexer": "ipython3",
   "version": "3.13.1"
  },
  "rise": {
   "scroll": true
  }
 },
 "nbformat": 4,
 "nbformat_minor": 5
}
