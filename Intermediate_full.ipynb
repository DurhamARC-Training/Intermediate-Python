{
 "cells": [
  {
   "cell_type": "markdown",
   "id": "872c6494",
   "metadata": {
    "editable": false,
    "slideshow": {
     "slide_type": "slide"
    }
   },
   "source": [
    "ARC course \"Coding with Python\" (Intermediate level)\n",
    "====================================================\n",
    "![icons8-python-48.png](images/icons8-python-48.png)"
   ]
  },
  {
   "cell_type": "markdown",
   "id": "2cd478b7",
   "metadata": {
    "editable": false,
    "slideshow": {
     "slide_type": ""
    }
   },
   "source": [
    "Welcome to our ARC course \"Coding with Python\" (Intermediate level).\n",
    "\n",
    "Some general information on how the course will run:\n",
    "\n",
    "* The course will run for three hours from 09:00 to 12:00. We plan a coffee break between 2 parts at around 10:30 for ~10-15 min.\n",
    "\n",
    "* This material builds upon the knowledge acquired in the previous Beginner level course.\n",
    "\n",
    "* Each topic will be presented wih code demonstrations followed by practical exercises.\n",
    "\n",
    "* We are happy to answer any questions during the course and to help during the exercises.\n",
    "\n",
    "Upon completion of the course, please, don't forget to scan the activity QR code to record your attendance.\n",
    "\n",
    "Enjoy coding with Python!"
   ]
  },
  {
   "cell_type": "markdown",
   "id": "4d58fde4",
   "metadata": {
    "editable": false,
    "slideshow": {
     "slide_type": "slide"
    }
   },
   "source": [
    "## Set up your Python environment"
   ]
  },
  {
   "cell_type": "markdown",
   "id": "1366a29a",
   "metadata": {
    "editable": false,
    "slideshow": {
     "slide_type": ""
    }
   },
   "source": [
    "There are several option how you can read and run this Jupyter notebook:"
   ]
  },
  {
   "cell_type": "markdown",
   "id": "ed65e163",
   "metadata": {
    "editable": false,
    "slideshow": {
     "slide_type": "subslide"
    }
   },
   "source": [
    "#### <ins>Option 1 (preferred)</ins>: The Jupyter Notebook server set up by Daniel Maitre from the Physics department"
   ]
  },
  {
   "cell_type": "markdown",
   "id": "233e191c",
   "metadata": {
    "editable": false,
    "slideshow": {
     "slide_type": ""
    }
   },
   "source": [
    "1) Log in with your CIS account (loading process can take some time):\n",
    "   - https://notebooks.dmaitre.phyip3.dur.ac.uk/arc\n",
    "\n",
    "2) Upload this tutorial course\n",
    "   - Go to the repository: https://github.com/DurhamARC-Training/Intermediate-Python\n",
    "   - Download `pull_files_from_repo.py` file into your environment and upload it to the Jupyter Notebook server\n",
    "   - Open the terminal on the Jupyter Notebook server and execute `python pull_files_from_repo.py`. It'll upload the entire tutorial from GitHub to the server"
   ]
  },
  {
   "cell_type": "markdown",
   "id": "e673e2cd",
   "metadata": {
    "editable": false,
    "slideshow": {
     "slide_type": "slide"
    }
   },
   "source": [
    "# <ins>Table of Contents</ins>"
   ]
  },
  {
   "cell_type": "markdown",
   "id": "85069fdb",
   "metadata": {
    "editable": true,
    "slideshow": {
     "slide_type": ""
    },
    "tags": []
   },
   "source": [
    "  - [0. Introduction](#0.-Introduction)\n",
    "    - [Set up your Python environment](#Set-up-your-Python-environment)\n",
    "    - [Course objectives](#Course-objectives)\n",
    "    - [Useful resources](#Useful-resources)\n",
    "- [Part I](#Part-I)\n",
    "  - [1. Recap](#1.-Recap)\n",
    "  - [2. Data structures](#2.-Data-structures)\n",
    "  - [3. Advanced string manipulation](#3.-Advanced-string-manipulation)\n",
    "  - [4. Conditional expression](#4.-Conditional-expressions)\n",
    "- [Part II](#Part-II)\n",
    "  - [5. Iterators beneath control flows](#5.-Iterators-beneath-control-flows)\n",
    "  - [6. Lambda functions](#6.-Lambda-functions)\n",
    "  - [7. Introduction to modules](#7.-Introduction-to-modules)\n",
    "  - [8. Brief introduction to classes](#8.-Brief-introduction-to-classes)"
   ]
  },
  {
   "cell_type": "markdown",
   "id": "153ed362",
   "metadata": {
    "editable": false,
    "slideshow": {
     "slide_type": "slide"
    }
   },
   "source": [
    "# <ins>0.</ins> Introduction"
   ]
  },
  {
   "cell_type": "markdown",
   "id": "6ba842c0",
   "metadata": {
    "editable": false,
    "slideshow": {
     "slide_type": "slide"
    }
   },
   "source": [
    "## Course objectives"
   ]
  },
  {
   "cell_type": "markdown",
   "id": "b1d20fc9",
   "metadata": {
    "editable": false,
    "slideshow": {
     "slide_type": ""
    }
   },
   "source": [
    "By the end of this course, you should know:\n",
    "\n",
    "- How to write more efficient and _Pythonic_ code using advanced language features.\n",
    "- How to simplify your code with _comprehensions_ and _conditional expressions_.\n",
    "- How to write and utilize _lambdas_ (anonymous functions).\n",
    "- How to perform advanced _string manipulation_ techniques.\n",
    "- How to import and use _modules_ to extend your programs.\n",
    "- How to work with various data structures and understand the concept of _immutability_.\n",
    "- How to create and use basic _classes_ to implement object-oriented programming principles."
   ]
  },
  {
   "cell_type": "markdown",
   "id": "cdfa9441",
   "metadata": {
    "editable": false,
    "slideshow": {
     "slide_type": "slide"
    }
   },
   "source": [
    "## Useful resources"
   ]
  },
  {
   "cell_type": "markdown",
   "id": "3eadf8e2",
   "metadata": {
    "editable": false,
    "slideshow": {
     "slide_type": ""
    }
   },
   "source": [
    "There are plenty of resources to learn Python in the Internet from. These can be recommended by this tutorial for further learning:\n",
    "\n",
    "- [The Python Tutorial](https://docs.python.org/3/tutorial/) from Python documentation\n",
    "- [Python Cheat Sheets](https://pythononeliners.com/)\n",
    "- [Collection of free Python books](https://blog.finxter.com/free-python-books/)\n",
    "- [Python tips](https://book.pythontips.com/en/latest/index.html)"
   ]
  },
  {
   "cell_type": "markdown",
   "id": "26d2d446",
   "metadata": {
    "editable": false,
    "slideshow": {
     "slide_type": "slide"
    }
   },
   "source": [
    "# <ins>**Part I**</ins>"
   ]
  },
  {
   "cell_type": "markdown",
   "id": "4e49802b",
   "metadata": {
    "editable": false,
    "slideshow": {
     "slide_type": "slide"
    }
   },
   "source": [
    "# <ins>**1.**</ins> Recap"
   ]
  },
  {
   "cell_type": "markdown",
   "id": "f99bdeea",
   "metadata": {
    "editable": false,
    "slideshow": {
     "slide_type": ""
    }
   },
   "source": [
    "This section is a brief recap of materials covered in the Beginner Python course:\n",
    "\n",
    "* Data Types, variables, operators\n",
    "* Comments\n",
    "* User input\n",
    "* Reading and Writing Files\n",
    "* Lists\n",
    "* Repetitions and Conditions\n",
    "* Functions\n"
   ]
  },
  {
   "cell_type": "markdown",
   "id": "b721c83a",
   "metadata": {
    "editable": false,
    "slideshow": {
     "slide_type": "slide"
    }
   },
   "source": [
    "## Data Types, variables, operators"
   ]
  },
  {
   "cell_type": "markdown",
   "id": "7ab44bf2",
   "metadata": {
    "editable": false,
    "slideshow": {
     "slide_type": ""
    }
   },
   "source": [
    "As with any programming language, Python can deal with many different data types. Among the basic ones are `str` strings, `int` integers, `float` floating-point numbers and `bool` booleans.\n",
    "\n",
    "* an example of a _numeric_ value, _integer_ value;\n",
    "* an integer _expression_, a basic building block of a Python _statement_;\n",
    "* normal arithmetic addition"
   ]
  },
  {
   "cell_type": "markdown",
   "id": "c33c20f5",
   "metadata": {
    "editable": false,
    "slideshow": {
     "slide_type": "subslide"
    }
   },
   "source": [
    "#### <u>Numerical</u>"
   ]
  },
  {
   "cell_type": "markdown",
   "id": "7a797eab",
   "metadata": {
    "editable": false,
    "slideshow": {
     "slide_type": "fragment"
    }
   },
   "source": [
    "Floating-point representation:\n",
    "* A built-in `float` is typically a double-precision (64-bit) floating-point number, following the IEEE 754 standard\n",
    "\n",
    "| Title | Storage | Smallest Magnitude | Largest Magnitude | Minimum Precision |\n",
    "|-------|---------|--------------------|-------------------|-------------------|\n",
    "| float | 64 bits | 2.22507 × 10e−308  | 1.79769 × 10+308  | ~15-17 digits     |"
   ]
  },
  {
   "cell_type": "code",
   "execution_count": null,
   "id": "764e3d10",
   "metadata": {
    "editable": true,
    "slideshow": {
     "slide_type": ""
    }
   },
   "outputs": [],
   "source": [
    "import sys\n",
    "print(sys.float_info)"
   ]
  },
  {
   "cell_type": "markdown",
   "id": "397f9f86",
   "metadata": {
    "editable": false,
    "slideshow": {
     "slide_type": "fragment"
    }
   },
   "source": [
    "---\n",
    "Integer representation:\n",
    "* No Fixed Bounds. You can store extremely large positive or negative integers, constrained only by the available memory\n",
    "* No explicit smallest or largest representable `int`"
   ]
  },
  {
   "cell_type": "code",
   "execution_count": null,
   "id": "679f04c5",
   "metadata": {
    "editable": true,
    "slideshow": {
     "slide_type": ""
    }
   },
   "outputs": [],
   "source": [
    "import sys\n",
    "print(sys.int_info)"
   ]
  },
  {
   "cell_type": "code",
   "execution_count": null,
   "id": "3342a922",
   "metadata": {
    "editable": true,
    "slideshow": {
     "slide_type": ""
    }
   },
   "outputs": [],
   "source": [
    "n = 1 + 2 + 4 + 10 - 3 * 6\n",
    "print(n)"
   ]
  },
  {
   "cell_type": "code",
   "execution_count": null,
   "id": "36e671e1",
   "metadata": {
    "editable": true,
    "slideshow": {
     "slide_type": ""
    }
   },
   "outputs": [],
   "source": [
    "type(n) # integer"
   ]
  },
  {
   "cell_type": "code",
   "execution_count": null,
   "id": "c13d9a15",
   "metadata": {
    "editable": true,
    "slideshow": {
     "slide_type": ""
    }
   },
   "outputs": [],
   "source": [
    "pi = 3.14159\n",
    "print(\"Pi =\", pi)"
   ]
  },
  {
   "cell_type": "code",
   "execution_count": null,
   "id": "26b8760c",
   "metadata": {
    "editable": true,
    "slideshow": {
     "slide_type": ""
    }
   },
   "outputs": [],
   "source": [
    "type(pi) # float"
   ]
  },
  {
   "cell_type": "markdown",
   "id": "b9324c88",
   "metadata": {
    "editable": false,
    "slideshow": {
     "slide_type": "fragment"
    }
   },
   "source": [
    "---\n",
    "_NOTE_: Scientific notation is supported!"
   ]
  },
  {
   "cell_type": "code",
   "execution_count": null,
   "id": "3253e3d0",
   "metadata": {
    "editable": true,
    "slideshow": {
     "slide_type": ""
    }
   },
   "outputs": [],
   "source": [
    "avogadros_number = 6.022e23\n",
    "c = 2.998e8\n",
    "print(\"Avogadro's number =\", avogadros_number)\n",
    "print(\"Speed of light =\", c)"
   ]
  },
  {
   "cell_type": "markdown",
   "id": "a2bbd14a",
   "metadata": {
    "editable": false,
    "jp-MarkdownHeadingCollapsed": true,
    "slideshow": {
     "slide_type": "fragment"
    }
   },
   "source": [
    "Used to store numbers, usually either integers, or floating point numbers."
   ]
  },
  {
   "cell_type": "markdown",
   "id": "9ca15865",
   "metadata": {
    "editable": false,
    "slideshow": {
     "slide_type": "subslide"
    }
   },
   "source": [
    "#### <u>Boolean</u>"
   ]
  },
  {
   "cell_type": "code",
   "execution_count": null,
   "id": "d7b7abb8",
   "metadata": {
    "editable": true,
    "slideshow": {
     "slide_type": ""
    }
   },
   "outputs": [],
   "source": [
    "b1 = False\n",
    "b2 = True\n",
    "b = b1 and b2\n",
    "print(b)"
   ]
  },
  {
   "cell_type": "code",
   "execution_count": null,
   "id": "9296bb88",
   "metadata": {
    "editable": true,
    "slideshow": {
     "slide_type": ""
    }
   },
   "outputs": [],
   "source": [
    "type(True) # boolean"
   ]
  },
  {
   "cell_type": "markdown",
   "id": "2cddcb7d",
   "metadata": {
    "editable": false,
    "slideshow": {
     "slide_type": "fragment"
    }
   },
   "source": [
    "---"
   ]
  },
  {
   "cell_type": "markdown",
   "id": "a5e3ab30",
   "metadata": {
    "editable": false,
    "slideshow": {
     "slide_type": "subslide"
    }
   },
   "source": [
    "#### <u>String</u>"
   ]
  },
  {
   "cell_type": "markdown",
   "id": "ba570bf4",
   "metadata": {
    "editable": false,
    "slideshow": {
     "slide_type": "fragment"
    }
   },
   "source": [
    "A string is a series of characters enclosed in quotes, either single or double, used to represent text."
   ]
  },
  {
   "cell_type": "code",
   "execution_count": null,
   "id": "ea3df5a1",
   "metadata": {
    "editable": true,
    "slideshow": {
     "slide_type": ""
    }
   },
   "outputs": [],
   "source": [
    "s = 'Hello, World!'\n",
    "s = \"Hello, \" + \"World!\"\n",
    "print(s)"
   ]
  },
  {
   "cell_type": "code",
   "execution_count": null,
   "id": "e3c09d2d",
   "metadata": {
    "editable": true,
    "slideshow": {
     "slide_type": ""
    }
   },
   "outputs": [],
   "source": [
    "type(s) # string"
   ]
  },
  {
   "cell_type": "markdown",
   "id": "de74f8e6",
   "metadata": {
    "editable": false,
    "slideshow": {
     "slide_type": "fragment"
    }
   },
   "source": [
    "---\n",
    "Holds the value of a data type in memory!\n",
    "\n",
    "**NOTE:** Please give variables clear and explanative names."
   ]
  },
  {
   "cell_type": "code",
   "execution_count": null,
   "id": "decd8f2c",
   "metadata": {
    "editable": true,
    "slideshow": {
     "slide_type": ""
    }
   },
   "outputs": [],
   "source": [
    "enrolled_students = 728"
   ]
  },
  {
   "cell_type": "code",
   "execution_count": null,
   "id": "1489fa3d",
   "metadata": {
    "editable": true,
    "slideshow": {
     "slide_type": ""
    }
   },
   "outputs": [],
   "source": [
    "work_hours = 7.5"
   ]
  },
  {
   "cell_type": "code",
   "execution_count": null,
   "id": "fb6110d3",
   "metadata": {
    "editable": true,
    "slideshow": {
     "slide_type": ""
    }
   },
   "outputs": [],
   "source": [
    "is_loaded = False"
   ]
  },
  {
   "cell_type": "code",
   "execution_count": null,
   "id": "ac31e498",
   "metadata": {
    "editable": true,
    "slideshow": {
     "slide_type": ""
    }
   },
   "outputs": [],
   "source": [
    "welcome_message = \"Welcome!\""
   ]
  },
  {
   "cell_type": "markdown",
   "id": "e1bd297e",
   "metadata": {
    "editable": false,
    "slideshow": {
     "slide_type": "fragment"
    }
   },
   "source": [
    "---\n",
    "**NOTE:** Values can be overwritten!\n",
    "\n",
    "If we define a new `welcome_message`, it changes."
   ]
  },
  {
   "cell_type": "code",
   "execution_count": null,
   "id": "94b6e716",
   "metadata": {
    "editable": true,
    "slideshow": {
     "slide_type": ""
    }
   },
   "outputs": [],
   "source": [
    "welcome_message = \"Welcome, User\""
   ]
  },
  {
   "cell_type": "code",
   "execution_count": null,
   "id": "d11dd969",
   "metadata": {
    "editable": true,
    "slideshow": {
     "slide_type": ""
    }
   },
   "outputs": [],
   "source": [
    "print(welcome_message)"
   ]
  },
  {
   "cell_type": "markdown",
   "id": "2a63c2dd",
   "metadata": {
    "editable": false,
    "slideshow": {
     "slide_type": "fragment"
    }
   },
   "source": [
    "---\n",
    "New values can be obtained by applying operators to old values, for example, mathematical operators on numerical data types `int` or `float`."
   ]
  },
  {
   "cell_type": "markdown",
   "id": "50a4347d",
   "metadata": {
    "editable": false,
    "slideshow": {
     "slide_type": "subslide"
    }
   },
   "source": [
    "<u>**String Concatenation**</u>  \n",
    "\n",
    "We can combine strings together."
   ]
  },
  {
   "cell_type": "code",
   "execution_count": null,
   "id": "d9fadfdc",
   "metadata": {
    "editable": true,
    "slideshow": {
     "slide_type": ""
    }
   },
   "outputs": [],
   "source": [
    "# String concatenation\n",
    "hello_world = \"Hello,\" + \" World!\"\n",
    "print(hello_world)"
   ]
  },
  {
   "cell_type": "markdown",
   "id": "20bd7ef4",
   "metadata": {
    "editable": false,
    "slideshow": {
     "slide_type": "fragment"
    }
   },
   "source": [
    "---"
   ]
  },
  {
   "cell_type": "markdown",
   "id": "eae67d96",
   "metadata": {
    "editable": false,
    "slideshow": {
     "slide_type": "subslide"
    }
   },
   "source": [
    "<u>**Logical Operators**</u>  \n",
    "We can also determine conditions based on Boolean logic: `and`, `or`, `not`"
   ]
  },
  {
   "cell_type": "markdown",
   "id": "b38b2739",
   "metadata": {
    "editable": false,
    "slideshow": {
     "slide_type": "fragment"
    }
   },
   "source": [
    "---\n",
    "**AND:**"
   ]
  },
  {
   "cell_type": "code",
   "execution_count": null,
   "id": "db33e773",
   "metadata": {
    "editable": true,
    "slideshow": {
     "slide_type": ""
    }
   },
   "outputs": [],
   "source": [
    "a = True\n",
    "b = False\n",
    "\n",
    "if a and b:\n",
    "    print(\"Both True!\")\n",
    "else:\n",
    "    print(\"At least one False!\")"
   ]
  },
  {
   "cell_type": "markdown",
   "id": "8b00b658",
   "metadata": {
    "editable": false,
    "slideshow": {
     "slide_type": "fragment"
    }
   },
   "source": [
    "---\n",
    "**OR:**"
   ]
  },
  {
   "cell_type": "code",
   "execution_count": null,
   "id": "725d0173",
   "metadata": {
    "editable": true,
    "slideshow": {
     "slide_type": ""
    }
   },
   "outputs": [],
   "source": [
    "a = True\n",
    "b = False\n",
    "\n",
    "if a or b:\n",
    "    print(\"At least one True!\")\n",
    "else:\n",
    "    print(\"Both False!\")"
   ]
  },
  {
   "cell_type": "markdown",
   "id": "6a10fe2f",
   "metadata": {
    "editable": false,
    "slideshow": {
     "slide_type": "fragment"
    }
   },
   "source": [
    "---\n",
    "**NOT:**"
   ]
  },
  {
   "cell_type": "code",
   "execution_count": null,
   "id": "27378611",
   "metadata": {
    "editable": true,
    "slideshow": {
     "slide_type": ""
    }
   },
   "outputs": [],
   "source": [
    "a = True\n",
    "\n",
    "if not a:\n",
    "    print(\"It is False!\")  # If a is false\n",
    "else:\n",
    "    print(\"It is True!\")"
   ]
  },
  {
   "cell_type": "markdown",
   "id": "09239ea2",
   "metadata": {
    "editable": false,
    "slideshow": {
     "slide_type": "fragment"
    }
   },
   "source": [
    "---"
   ]
  },
  {
   "cell_type": "markdown",
   "id": "b68a5bbf",
   "metadata": {
    "editable": false,
    "slideshow": {
     "slide_type": "subslide"
    }
   },
   "source": [
    "<u>**Numerical Operators**</u>  \n",
    "\n",
    "- Numerical data: `+`, `-`, `*`, `/`, `%`, `**`, built-in functions `abs`, ...\n",
    "- Order of execution:\n",
    "    1. `()`\n",
    "    2. `**`\n",
    "    3. `*`, `/`\n",
    "    4. `+`, `-`\n",
    "    5. Left-to-right (except exponentiation!)\n",
    "\n",
    "So, use parenthesis to make sure!"
   ]
  },
  {
   "cell_type": "code",
   "execution_count": null,
   "id": "af62e441",
   "metadata": {
    "editable": true,
    "slideshow": {
     "slide_type": ""
    }
   },
   "outputs": [],
   "source": [
    "print(\"Addition:\", 1 + 2)"
   ]
  },
  {
   "cell_type": "code",
   "execution_count": null,
   "id": "7e7ef933",
   "metadata": {
    "editable": true,
    "slideshow": {
     "slide_type": ""
    }
   },
   "outputs": [],
   "source": [
    "print(\"Subtraction:\", 1 - 2)"
   ]
  },
  {
   "cell_type": "code",
   "execution_count": null,
   "id": "28810d42",
   "metadata": {
    "editable": true,
    "slideshow": {
     "slide_type": ""
    }
   },
   "outputs": [],
   "source": [
    "print(\"Multiplication:\", 5 * 10)"
   ]
  },
  {
   "cell_type": "code",
   "execution_count": null,
   "id": "8b66a0a4",
   "metadata": {
    "editable": true,
    "slideshow": {
     "slide_type": ""
    }
   },
   "outputs": [],
   "source": [
    "print(\"Division:\", 10 / 5)"
   ]
  },
  {
   "cell_type": "code",
   "execution_count": null,
   "id": "6984dbe1",
   "metadata": {
    "editable": true,
    "slideshow": {
     "slide_type": ""
    }
   },
   "outputs": [],
   "source": [
    "print(\"Modulus:\", 10 % 3)"
   ]
  },
  {
   "cell_type": "code",
   "execution_count": null,
   "id": "74e37711",
   "metadata": {
    "editable": true,
    "slideshow": {
     "slide_type": ""
    }
   },
   "outputs": [],
   "source": [
    "print(\"Exponentiation:\", 2 ** 3)"
   ]
  },
  {
   "cell_type": "markdown",
   "id": "b0056a4d",
   "metadata": {
    "editable": true,
    "slideshow": {
     "slide_type": ""
    }
   },
   "source": [
    "---"
   ]
  },
  {
   "cell_type": "markdown",
   "id": "d20cb9b3",
   "metadata": {
    "editable": false,
    "slideshow": {
     "slide_type": "slide"
    }
   },
   "source": [
    "## Comments"
   ]
  },
  {
   "cell_type": "markdown",
   "id": "7ac031a7",
   "metadata": {
    "editable": false,
    "slideshow": {
     "slide_type": "fragment"
    }
   },
   "source": [
    "Used to write notes or comments about code, as well as description of what the code is doing, or the variables used."
   ]
  },
  {
   "cell_type": "code",
   "execution_count": null,
   "id": "41b7cdfe",
   "metadata": {
    "editable": true,
    "slideshow": {
     "slide_type": ""
    }
   },
   "outputs": [],
   "source": [
    "# A single-line comment!\n",
    "welcome_message = \"Welcome, User!\"\n",
    "print(welcome_message)  # Print welcome message"
   ]
  },
  {
   "cell_type": "code",
   "execution_count": null,
   "id": "9c50f102",
   "metadata": {
    "editable": true,
    "slideshow": {
     "slide_type": ""
    }
   },
   "outputs": [],
   "source": [
    "'''\n",
    "A multi-line comment!\n",
    "'''"
   ]
  },
  {
   "cell_type": "code",
   "execution_count": null,
   "id": "3f72dedf",
   "metadata": {
    "editable": true,
    "slideshow": {
     "slide_type": ""
    }
   },
   "outputs": [],
   "source": [
    "\"\"\"\n",
    "Another multi-line comment!\n",
    "\"\"\""
   ]
  },
  {
   "cell_type": "markdown",
   "id": "0be99748",
   "metadata": {
    "editable": false,
    "slideshow": {
     "slide_type": "fragment"
    }
   },
   "source": [
    "---"
   ]
  },
  {
   "cell_type": "markdown",
   "id": "8ee98ee9",
   "metadata": {
    "editable": false,
    "slideshow": {
     "slide_type": "slide"
    }
   },
   "source": [
    "## User Input"
   ]
  },
  {
   "cell_type": "markdown",
   "id": "6b2e3c6e",
   "metadata": {
    "editable": false,
    "slideshow": {
     "slide_type": "fragment"
    }
   },
   "source": [
    "You can use `input()` to read user input: "
   ]
  },
  {
   "cell_type": "code",
   "execution_count": null,
   "id": "a1178a62",
   "metadata": {
    "editable": true,
    "slideshow": {
     "slide_type": ""
    }
   },
   "outputs": [],
   "source": [
    "inputted_variable = float(input())\n",
    "print(inputted_variable)  # Print what we just input!\n",
    "type(inputted_variable)"
   ]
  },
  {
   "cell_type": "markdown",
   "id": "269709a3",
   "metadata": {
    "editable": false,
    "slideshow": {
     "slide_type": "fragment"
    }
   },
   "source": [
    "---"
   ]
  },
  {
   "cell_type": "markdown",
   "id": "52819c95",
   "metadata": {
    "editable": false,
    "slideshow": {
     "slide_type": "slide"
    }
   },
   "source": [
    "## Reading and Writing Files"
   ]
  },
  {
   "cell_type": "markdown",
   "id": "a0966820",
   "metadata": {
    "editable": false,
    "slideshow": {
     "slide_type": "subslide"
    }
   },
   "source": [
    "<u>**Opening a File**</u>\n",
    "\n",
    "Two things to note here:\n",
    " - My object `my_file` is different from my file `\"testfile.txt\"`!\n",
    " - There are different modes:\n",
    "     - read: `'r'`\n",
    "     - (over-)write: `'w'`\n",
    "     - append: `'a'`\n",
    "     - read+write: `'w+'` or `'r+'`\n",
    "\n",
    "[Python Documentation (mode)](https://docs.python.org/3/tutorial/inputoutput.html#reading-and-writing-files)"
   ]
  },
  {
   "cell_type": "code",
   "execution_count": null,
   "id": "104d19bb",
   "metadata": {
    "editable": true,
    "slideshow": {
     "slide_type": ""
    }
   },
   "outputs": [],
   "source": [
    "# Opening and reading a file\n",
    "text_file = open('./data/data_file.txt', 'r')\n",
    "content = text_file.read()\n",
    "print(content)\n",
    "text_file.close()"
   ]
  },
  {
   "cell_type": "markdown",
   "id": "4ee34b80",
   "metadata": {
    "editable": false,
    "slideshow": {
     "slide_type": "fragment"
    }
   },
   "source": [
    "_NOTE_: Ensure closure of the file object when working with files in this way, or changes may not be written."
   ]
  },
  {
   "cell_type": "markdown",
   "id": "bdbf7ee5",
   "metadata": {
    "editable": false,
    "slideshow": {
     "slide_type": "fragment"
    }
   },
   "source": [
    "---\n",
    "We can use the context manager (`with`) to allow us to simplify setup and closure of the file."
   ]
  },
  {
   "cell_type": "code",
   "execution_count": null,
   "id": "38966db9",
   "metadata": {
    "editable": true,
    "slideshow": {
     "slide_type": ""
    }
   },
   "outputs": [],
   "source": [
    "# Using a with statement\n",
    "with open('./data/data_file.txt', 'r') as text_file:\n",
    "    content = text_file.read()\n",
    "    print(content)"
   ]
  },
  {
   "cell_type": "markdown",
   "id": "7124148f",
   "metadata": {
    "editable": false,
    "slideshow": {
     "slide_type": "fragment"
    }
   },
   "source": [
    "---"
   ]
  },
  {
   "cell_type": "markdown",
   "id": "aadba414",
   "metadata": {
    "editable": false,
    "slideshow": {
     "slide_type": "subslide"
    }
   },
   "source": [
    "<u>**Reading from a File**</u>\n",
    "\n",
    "Here are some file functions for reading from a file:\n",
    "\n",
    "* file.read() - Read the entire file content line-by-line\n",
    "* file.readlines() - Read all lines into a List object"
   ]
  },
  {
   "cell_type": "code",
   "execution_count": null,
   "id": "7f0a6056",
   "metadata": {
    "editable": true,
    "slideshow": {
     "slide_type": ""
    }
   },
   "outputs": [],
   "source": [
    "with open(\"./data/data_file.txt\") as text_file:\n",
    "    print(text_file.read())"
   ]
  },
  {
   "cell_type": "code",
   "execution_count": null,
   "id": "ec567746",
   "metadata": {
    "editable": true,
    "slideshow": {
     "slide_type": ""
    }
   },
   "outputs": [],
   "source": [
    "with open(\"./data/data_file.txt\") as text_file:\n",
    "    print(text_file.readlines())"
   ]
  },
  {
   "cell_type": "markdown",
   "id": "dcf15c58",
   "metadata": {
    "editable": false,
    "slideshow": {
     "slide_type": "fragment"
    }
   },
   "source": [
    "---"
   ]
  },
  {
   "cell_type": "markdown",
   "id": "1f1185e6",
   "metadata": {
    "editable": false,
    "slideshow": {
     "slide_type": "subslide"
    }
   },
   "source": [
    "<u>**Writing to a File**</u>"
   ]
  },
  {
   "cell_type": "markdown",
   "id": "179f132a",
   "metadata": {
    "editable": false,
    "slideshow": {
     "slide_type": "fragment"
    }
   },
   "source": [
    "One way we can write to files is using the `write()` function."
   ]
  },
  {
   "cell_type": "code",
   "execution_count": null,
   "id": "578aee4d",
   "metadata": {
    "editable": true,
    "slideshow": {
     "slide_type": ""
    }
   },
   "outputs": [],
   "source": [
    "text_file = open(\"./data/testfile.txt\", \"w\")\n",
    "text_file.write(\"Some words \\n\")\n",
    "text_file.write(str(25))\n",
    "text_file.close()"
   ]
  },
  {
   "cell_type": "markdown",
   "id": "e998f8fe",
   "metadata": {
    "editable": false,
    "slideshow": {
     "slide_type": "fragment"
    }
   },
   "source": [
    "---\n",
    "Using the `with` keyword:"
   ]
  },
  {
   "cell_type": "code",
   "execution_count": null,
   "id": "911d44b3",
   "metadata": {
    "editable": true,
    "slideshow": {
     "slide_type": ""
    }
   },
   "outputs": [],
   "source": [
    "with open(\"./data/testfile.txt\", \"w\") as text_file:\n",
    "    text_file.write(\"Some words \\n\")\n",
    "    text_file.write(str(25))"
   ]
  },
  {
   "cell_type": "markdown",
   "id": "255d02cd",
   "metadata": {
    "editable": false,
    "slideshow": {
     "slide_type": "fragment"
    }
   },
   "source": [
    "---"
   ]
  },
  {
   "cell_type": "markdown",
   "id": "b61a8691",
   "metadata": {
    "editable": false,
    "slideshow": {
     "slide_type": "slide"
    }
   },
   "source": [
    "## Lists"
   ]
  },
  {
   "cell_type": "markdown",
   "id": "9c82edee",
   "metadata": {
    "editable": false,
    "slideshow": {
     "slide_type": ""
    }
   },
   "source": [
    "Python can work not only with basic data types mentioned before, but also with compound ones. Compound data types in Python are a powerful tool for organizing and storing data. Among the most commonly used is _lists_ which we learned about in the beginner's course.\n",
    "\n",
    "* [List](https://docs.python.org/3/tutorial/datastructures.html#Lists)\n",
    "\n",
    "We'll learn about other data structures later today."
   ]
  },
  {
   "cell_type": "markdown",
   "id": "8bb91a15",
   "metadata": {
    "editable": false,
    "slideshow": {
     "slide_type": ""
    }
   },
   "source": [
    "An ordered list of items, accessed by a numerical index (starting at `0`). Elements within a list can be removed, modified, or accessed by their index, and a list can have values added to it.\n",
    "\n",
    "Defined using square brackets `[]`."
   ]
  },
  {
   "cell_type": "code",
   "execution_count": null,
   "id": "fdc8600e",
   "metadata": {
    "editable": true,
    "slideshow": {
     "slide_type": ""
    }
   },
   "outputs": [],
   "source": [
    "odd_list = [1, 3, 5, 7, 9]  # A list of odd numbers\n",
    "print(odd_list)"
   ]
  },
  {
   "cell_type": "markdown",
   "id": "b672a126",
   "metadata": {
    "editable": false,
    "slideshow": {
     "slide_type": "fragment"
    }
   },
   "source": [
    "---"
   ]
  },
  {
   "cell_type": "markdown",
   "id": "efc747a1",
   "metadata": {
    "editable": false,
    "slideshow": {
     "slide_type": "subslide"
    }
   },
   "source": [
    "<u>**List Access**</u>  \n",
    "You can access a list using its index value, starting from `0`."
   ]
  },
  {
   "cell_type": "code",
   "execution_count": null,
   "id": "2b2c4dee",
   "metadata": {
    "editable": true,
    "slideshow": {
     "slide_type": ""
    }
   },
   "outputs": [],
   "source": [
    "odd_list[0]"
   ]
  },
  {
   "cell_type": "code",
   "execution_count": null,
   "id": "3f87d56b",
   "metadata": {
    "editable": true,
    "slideshow": {
     "slide_type": ""
    }
   },
   "outputs": [],
   "source": [
    "odd_list[1]"
   ]
  },
  {
   "cell_type": "markdown",
   "id": "201da402",
   "metadata": {
    "editable": false,
    "slideshow": {
     "slide_type": "fragment"
    }
   },
   "source": [
    "---\n",
    "_NOTE_: You can access lists in reverse index order, where `-1` is the final index. "
   ]
  },
  {
   "cell_type": "code",
   "execution_count": null,
   "id": "b686d58d",
   "metadata": {
    "editable": true,
    "slideshow": {
     "slide_type": ""
    }
   },
   "outputs": [],
   "source": [
    "odd_list[-1]"
   ]
  },
  {
   "cell_type": "code",
   "execution_count": null,
   "id": "1f916c68",
   "metadata": {
    "editable": true,
    "slideshow": {
     "slide_type": ""
    }
   },
   "outputs": [],
   "source": [
    "odd_list[-2]"
   ]
  },
  {
   "cell_type": "markdown",
   "id": "238dacd4",
   "metadata": {
    "editable": false,
    "slideshow": {
     "slide_type": "fragment"
    }
   },
   "source": [
    "---"
   ]
  },
  {
   "cell_type": "markdown",
   "id": "b8369a1a",
   "metadata": {
    "editable": false,
    "slideshow": {
     "slide_type": "subslide"
    }
   },
   "source": [
    "<u>**Slicing**</u>   \n",
    "You can also use slicing for specific partial list access."
   ]
  },
  {
   "cell_type": "code",
   "execution_count": null,
   "id": "e0fac9bf",
   "metadata": {
    "editable": true,
    "slideshow": {
     "slide_type": ""
    }
   },
   "outputs": [],
   "source": [
    "odd_list[1:4] # Slicing from index 1 (inclusive), to 4 (exclusive)"
   ]
  },
  {
   "cell_type": "code",
   "execution_count": null,
   "id": "586edf14",
   "metadata": {
    "editable": true,
    "slideshow": {
     "slide_type": ""
    }
   },
   "outputs": [],
   "source": [
    "odd_list[3:]  # Slicing from index 3 to end."
   ]
  },
  {
   "cell_type": "code",
   "execution_count": null,
   "id": "9f0dea38",
   "metadata": {
    "editable": true,
    "slideshow": {
     "slide_type": ""
    }
   },
   "outputs": [],
   "source": [
    "odd_list[:3]  # Slicing from beginning to index 3"
   ]
  },
  {
   "cell_type": "code",
   "execution_count": null,
   "id": "bab8e8a0",
   "metadata": {
    "editable": true,
    "slideshow": {
     "slide_type": ""
    }
   },
   "outputs": [],
   "source": [
    "odd_list[::2]  # Slicing with a step of 2"
   ]
  },
  {
   "cell_type": "markdown",
   "id": "b5c83f0d",
   "metadata": {
    "editable": false,
    "slideshow": {
     "slide_type": "fragment"
    }
   },
   "source": [
    "---"
   ]
  },
  {
   "cell_type": "markdown",
   "id": "fe6ffaf2",
   "metadata": {
    "editable": false,
    "slideshow": {
     "slide_type": "subslide"
    }
   },
   "source": [
    "<u>**Empty List**</u>   \n",
    "You can create empty lists:"
   ]
  },
  {
   "cell_type": "code",
   "execution_count": null,
   "id": "0edf3fa6",
   "metadata": {
    "editable": true,
    "slideshow": {
     "slide_type": ""
    }
   },
   "outputs": [],
   "source": [
    "new_list = []  # An empty list\n",
    "print(new_list)"
   ]
  },
  {
   "cell_type": "markdown",
   "id": "8267abc5",
   "metadata": {
    "editable": false,
    "slideshow": {
     "slide_type": "fragment"
    }
   },
   "source": [
    "---"
   ]
  },
  {
   "cell_type": "markdown",
   "id": "f87cfa0f",
   "metadata": {
    "editable": false,
    "slideshow": {
     "slide_type": "slide"
    }
   },
   "source": [
    "## Repetitions and Conditions"
   ]
  },
  {
   "cell_type": "markdown",
   "id": "9303b3ff",
   "metadata": {
    "editable": false,
    "slideshow": {
     "slide_type": "subslide"
    }
   },
   "source": [
    "<u>**Conditions**</u>  \n",
    "In order to control program flow, and whether or not code is executed, we can do conditions based on variable values."
   ]
  },
  {
   "cell_type": "code",
   "execution_count": null,
   "id": "a0af6ea1",
   "metadata": {
    "editable": true,
    "slideshow": {
     "slide_type": ""
    }
   },
   "outputs": [],
   "source": [
    "x = 5\n",
    "\n",
    "if x > 2:  # If x is GREATER THAN 2\n",
    "    print(\"x =\", x, \"is GREATER THAN 2\")\n",
    "\n",
    "if x == 3:  # If x is EQUAL TO 3\n",
    "    print(\"x =\", x, \"is EQUAL TO 3\")\n",
    "\n",
    "if x >= 3:  # If x is GREATER THAN or EQUAL TO 3\n",
    "    print(\"x =\", x, \"is GREATER THAN or EQUAL TO 3\")\n",
    "\n",
    "if x != 0:  # If x IS NOT 0\n",
    "    print(\"x =\", x, \"IS NOT 0\")\n",
    "\n",
    "if x < 4:  # If X is LESS THAN 4\n",
    "    print(\"x =\", x, \"is LESS THAN 4\")"
   ]
  },
  {
   "cell_type": "markdown",
   "id": "c9a654bb",
   "metadata": {
    "editable": false,
    "slideshow": {
     "slide_type": "fragment"
    }
   },
   "source": [
    "---"
   ]
  },
  {
   "cell_type": "markdown",
   "id": "3246bbe1",
   "metadata": {
    "editable": false,
    "slideshow": {
     "slide_type": "subslide"
    }
   },
   "source": [
    "<u>**Else/Elif**</u>  \n",
    "\n",
    "We may also specify either/or with `if/else`, and even add extra conditions with `elif`."
   ]
  },
  {
   "cell_type": "code",
   "execution_count": null,
   "id": "8cab77e6",
   "metadata": {
    "editable": true,
    "slideshow": {
     "slide_type": ""
    }
   },
   "outputs": [],
   "source": [
    "x = 10\n",
    "\n",
    "if x > 0:\n",
    "    print(\"x is positive\")\n",
    "elif x < 0:\n",
    "    print(\"x is negative\")\n",
    "else:\n",
    "    print(\"x is zero\")"
   ]
  },
  {
   "cell_type": "markdown",
   "id": "bd56a213",
   "metadata": {
    "editable": false,
    "slideshow": {
     "slide_type": "fragment"
    }
   },
   "source": [
    "---"
   ]
  },
  {
   "cell_type": "markdown",
   "id": "8c87d3f8",
   "metadata": {
    "editable": false,
    "slideshow": {
     "slide_type": "subslide"
    }
   },
   "source": [
    "<u>**Repetitions**</u>  \n",
    "There are a number of ways for us to repeat lines or blocks of code within our program, to do this we use `loops`:"
   ]
  },
  {
   "cell_type": "markdown",
   "id": "095edef4",
   "metadata": {
    "editable": false,
    "slideshow": {
     "slide_type": "subslide"
    }
   },
   "source": [
    "<u>For Each Loop:</u>  \n",
    "A for each loop will execute its code for each item specified within the loop definition"
   ]
  },
  {
   "cell_type": "code",
   "execution_count": null,
   "id": "c7dc2e03",
   "metadata": {
    "editable": true,
    "slideshow": {
     "slide_type": ""
    }
   },
   "outputs": [],
   "source": [
    "animal_list = [\"Cat\", \"Dog\", \"Bird\"]\n",
    "\n",
    "for animal in animal_list:\n",
    "    print(\"Current animal is:\", animal)"
   ]
  },
  {
   "cell_type": "markdown",
   "id": "76e99a09",
   "metadata": {
    "editable": false,
    "slideshow": {
     "slide_type": "fragment"
    }
   },
   "source": [
    "The above describes `for each animal in animal_list`."
   ]
  },
  {
   "cell_type": "markdown",
   "id": "e5b05a2c",
   "metadata": {
    "editable": false,
    "slideshow": {
     "slide_type": "fragment"
    }
   },
   "source": [
    "---\n",
    "We are able to use a range-based for loop:"
   ]
  },
  {
   "cell_type": "code",
   "execution_count": null,
   "id": "b14f546d",
   "metadata": {
    "editable": true,
    "slideshow": {
     "slide_type": ""
    }
   },
   "outputs": [],
   "source": [
    "for i in range(0, 5):\n",
    "    print(i * 2) # Here we are manipulating the value each time!"
   ]
  },
  {
   "cell_type": "code",
   "execution_count": null,
   "id": "713884f6",
   "metadata": {
    "editable": true,
    "slideshow": {
     "slide_type": ""
    }
   },
   "outputs": [],
   "source": [
    "for i in range(0, 10, 2):  # Here we define a step of 2!\n",
    "    print(i)"
   ]
  },
  {
   "cell_type": "code",
   "execution_count": null,
   "id": "b3078796",
   "metadata": {
    "editable": true,
    "slideshow": {
     "slide_type": ""
    }
   },
   "outputs": [],
   "source": [
    "for i in range(10, 0, -1):  # Counting down from 10, in steps of 1\n",
    "    print(i)"
   ]
  },
  {
   "cell_type": "markdown",
   "id": "a0d6ae4f",
   "metadata": {
    "editable": false,
    "slideshow": {
     "slide_type": "fragment"
    }
   },
   "source": [
    "---"
   ]
  },
  {
   "cell_type": "markdown",
   "id": "99b52e73",
   "metadata": {
    "editable": false,
    "slideshow": {
     "slide_type": "subslide"
    }
   },
   "source": [
    "<u>While Loop</u>  \n",
    "A `while` loop will continue until the defined condition has been met, which can potentially not happen and cause an infinite loop.\n",
    "\n",
    "Here we are printing `n`, then incrementing it by 1, while `n` is LESS THAN 10."
   ]
  },
  {
   "cell_type": "code",
   "execution_count": null,
   "id": "136268d9",
   "metadata": {
    "editable": true,
    "slideshow": {
     "slide_type": ""
    }
   },
   "outputs": [],
   "source": [
    "n = 0\n",
    "\n",
    "while n < 10:\n",
    "    print(n)\n",
    "    n += 1"
   ]
  },
  {
   "cell_type": "markdown",
   "id": "89cd06cc",
   "metadata": {
    "editable": false,
    "slideshow": {
     "slide_type": "fragment"
    }
   },
   "source": [
    "_NOTE_: The `break` keyword can be used to stop execution of a loop.  \n",
    "_NOTE_: Use `ctrl+C` to break execution in your terminal if needed."
   ]
  },
  {
   "cell_type": "markdown",
   "id": "b6c7b631",
   "metadata": {
    "editable": true,
    "slideshow": {
     "slide_type": "slide"
    }
   },
   "source": [
    "## Functions"
   ]
  },
  {
   "cell_type": "markdown",
   "id": "ad3766a1",
   "metadata": {
    "editable": false,
    "slideshow": {
     "slide_type": ""
    }
   },
   "source": [
    "A function is a reusable block of code used to perform a specific task.\n",
    "\n",
    "We define a function using the `def` keyword, then parenthesis, which may contain the function `parameters` or `arguments` (different terms, same thing).\n",
    "\n",
    "_NOTE_: You should give your functions and arguments explanative names."
   ]
  },
  {
   "cell_type": "markdown",
   "id": "b83eb9fd",
   "metadata": {
    "editable": false,
    "slideshow": {
     "slide_type": "subslide"
    }
   },
   "source": [
    "<u>**Parameters/Arguments**</u>  \n",
    "A function can receive 0 or more variables as arguments which are 'passed' through and are used during the execution of the function as required."
   ]
  },
  {
   "cell_type": "markdown",
   "id": "25dddacf",
   "metadata": {
    "editable": false,
    "slideshow": {
     "slide_type": "fragment"
    }
   },
   "source": [
    "<u>**Returns**</u>  \n",
    "A function may return a single variable, or variables, it may also return nothing where it is required to just execute some logic."
   ]
  },
  {
   "cell_type": "markdown",
   "id": "aa2983d4",
   "metadata": {
    "editable": false,
    "slideshow": {
     "slide_type": "fragment"
    }
   },
   "source": [
    "Here is a very basic example of a function:"
   ]
  },
  {
   "cell_type": "code",
   "execution_count": null,
   "id": "d4ca99fa",
   "metadata": {
    "editable": true,
    "slideshow": {
     "slide_type": ""
    }
   },
   "outputs": [],
   "source": [
    "def sum_numbers(val_one, val_two):\n",
    "    \"\"\"Sums and returns two numbers\"\"\"\n",
    "    return val_one + val_two  # Sum of both numbers\n",
    "\n",
    "calculated_value = sum_numbers(1, 1)\n",
    "print(calculated_value)"
   ]
  },
  {
   "cell_type": "markdown",
   "id": "429c78c2",
   "metadata": {
    "editable": false,
    "slideshow": {
     "slide_type": "fragment"
    }
   },
   "source": [
    "Note that we are able to save the result of `sum_numbers`, to a variable which we have aptly named `calculated_value`, which can be reused later."
   ]
  },
  {
   "cell_type": "markdown",
   "id": "f64d31aa",
   "metadata": {
    "slideshow": {
     "slide_type": "fragment"
    }
   },
   "source": [
    "---\n",
    "Here we are modifying setting a default value for our `name` argument:"
   ]
  },
  {
   "cell_type": "code",
   "execution_count": null,
   "id": "643f4038",
   "metadata": {
    "editable": true,
    "slideshow": {
     "slide_type": ""
    }
   },
   "outputs": [],
   "source": [
    "def generate_greeting(name='Guest'):\n",
    "    \"\"\"\n",
    "    Generate the default greeting message.\n",
    "    Name will default to 'guest'.\n",
    "    \"\"\"\n",
    "    print(f\"Hello, {name}!\")\n",
    "\n",
    "generate_greeting()\n",
    "generate_greeting(\"User\")"
   ]
  },
  {
   "cell_type": "markdown",
   "id": "b07b62ef",
   "metadata": {
    "editable": false,
    "slideshow": {
     "slide_type": "fragment"
    }
   },
   "source": [
    "Without specifying the `name` argument, the `generate_greeting` will use the default value specified within the function definition."
   ]
  },
  {
   "cell_type": "markdown",
   "id": "7e95592e",
   "metadata": {
    "editable": false,
    "slideshow": {
     "slide_type": "slide"
    }
   },
   "source": [
    "# <ins>2.</ins> Data structures\n",
    "In the _Beginner_ level course, we've introduced to _lists_, the most commonly used compound data structure in Python. Here, we'll learn about methods for lists and we'll introduce to other data structures: _**dictionaries**_, _**sets**_ and _**tuples**_.\n",
    "\n",
    "You can learn more about data structures in Python here: : [Python Documentation(Data Structures)](https://docs.python.org/3/tutorial/datastructures.html)"
   ]
  },
  {
   "cell_type": "markdown",
   "id": "aae1eed3",
   "metadata": {
    "editable": false,
    "slideshow": {
     "slide_type": "subslide"
    }
   },
   "source": [
    "## List methods\n",
    "There is a number of useful methods that can be applied to lists, let use this one as example"
   ]
  },
  {
   "cell_type": "code",
   "execution_count": null,
   "id": "cb25df04",
   "metadata": {
    "editable": true,
    "slideshow": {
     "slide_type": ""
    }
   },
   "outputs": [],
   "source": [
    "lst = [33, 84, 11]\n",
    "print(lst)"
   ]
  },
  {
   "cell_type": "markdown",
   "id": "50327676",
   "metadata": {
    "editable": false,
    "slideshow": {
     "slide_type": "fragment"
    }
   },
   "source": [
    "We can access the number of elements with `len`"
   ]
  },
  {
   "cell_type": "code",
   "execution_count": null,
   "id": "250138ea",
   "metadata": {
    "editable": true,
    "slideshow": {
     "slide_type": ""
    }
   },
   "outputs": [],
   "source": [
    "print(len(lst))"
   ]
  },
  {
   "cell_type": "markdown",
   "id": "6139127f",
   "metadata": {
    "editable": false,
    "slideshow": {
     "slide_type": "fragment"
    }
   },
   "source": [
    "---"
   ]
  },
  {
   "cell_type": "markdown",
   "id": "5bda75d6",
   "metadata": {
    "editable": false,
    "slideshow": {
     "slide_type": "subslide"
    }
   },
   "source": [
    "### Adding and removing values\n",
    "We can add an element with `insert` and `append`. Notice that this in the grand scheme of things this is slow, so if you can avoid this, you should:"
   ]
  },
  {
   "cell_type": "code",
   "execution_count": null,
   "id": "e1027891",
   "metadata": {
    "editable": true,
    "slideshow": {
     "slide_type": ""
    }
   },
   "outputs": [],
   "source": [
    "# add a value\n",
    "lst.insert(3, 112)\n",
    "print(lst)"
   ]
  },
  {
   "cell_type": "code",
   "execution_count": null,
   "id": "48a12e4a",
   "metadata": {
    "editable": true,
    "slideshow": {
     "slide_type": ""
    }
   },
   "outputs": [],
   "source": [
    "# add a value at the end\n",
    "lst.append(53)\n",
    "print(lst)"
   ]
  },
  {
   "cell_type": "markdown",
   "id": "7e4b1b25",
   "metadata": {
    "editable": false,
    "slideshow": {
     "slide_type": "fragment"
    }
   },
   "source": [
    "removing a specific element"
   ]
  },
  {
   "cell_type": "code",
   "execution_count": null,
   "id": "3a23bbd1",
   "metadata": {
    "editable": true,
    "slideshow": {
     "slide_type": ""
    }
   },
   "outputs": [],
   "source": [
    "# remove the value 11\n",
    "lst.remove(11)\n",
    "print(lst)"
   ]
  },
  {
   "cell_type": "markdown",
   "id": "b45c9101",
   "metadata": {
    "editable": false,
    "slideshow": {
     "slide_type": "fragment"
    }
   },
   "source": [
    "---"
   ]
  },
  {
   "cell_type": "markdown",
   "id": "290722a8",
   "metadata": {
    "editable": false,
    "slideshow": {
     "slide_type": "subslide"
    }
   },
   "source": [
    "### Iterating over lists\n",
    "with the `for ... in` construct we can iterate over each element of a list"
   ]
  },
  {
   "cell_type": "code",
   "execution_count": null,
   "id": "54db3f5f",
   "metadata": {
    "editable": true,
    "slideshow": {
     "slide_type": ""
    }
   },
   "outputs": [],
   "source": [
    "# print the values in a list with a for loop\n",
    "for i in lst:\n",
    "    print(i)"
   ]
  },
  {
   "cell_type": "markdown",
   "id": "81d1f392",
   "metadata": {
    "editable": false,
    "slideshow": {
     "slide_type": "fragment"
    }
   },
   "source": [
    "we can iterate over the list starting from the back using `reversed`"
   ]
  },
  {
   "cell_type": "code",
   "execution_count": null,
   "id": "230fdc57",
   "metadata": {
    "editable": true,
    "slideshow": {
     "slide_type": ""
    }
   },
   "outputs": [],
   "source": [
    "for i in reversed(lst):\n",
    "    print(i)"
   ]
  },
  {
   "cell_type": "markdown",
   "id": "f6fce9a1",
   "metadata": {
    "editable": false,
    "slideshow": {
     "slide_type": "fragment"
    }
   },
   "source": [
    "and `sorted`, sorts the values"
   ]
  },
  {
   "cell_type": "code",
   "execution_count": null,
   "id": "100c9390",
   "metadata": {
    "editable": true,
    "slideshow": {
     "slide_type": ""
    }
   },
   "outputs": [],
   "source": [
    "for i in sorted(lst):\n",
    "    print(i)"
   ]
  },
  {
   "cell_type": "markdown",
   "id": "b26074d7",
   "metadata": {
    "editable": false,
    "slideshow": {
     "slide_type": "fragment"
    }
   },
   "source": [
    "If you want a reversed new list you need to convert the iterator into a list"
   ]
  },
  {
   "cell_type": "code",
   "execution_count": null,
   "id": "5279a6b8",
   "metadata": {
    "editable": true,
    "slideshow": {
     "slide_type": ""
    }
   },
   "outputs": [],
   "source": [
    "# print the iterator\n",
    "print(reversed(lst))"
   ]
  },
  {
   "cell_type": "code",
   "execution_count": null,
   "id": "ad34c0bf",
   "metadata": {
    "editable": true,
    "slideshow": {
     "slide_type": ""
    }
   },
   "outputs": [],
   "source": [
    "# print the converted list\n",
    "print(list(reversed(lst)))"
   ]
  },
  {
   "cell_type": "markdown",
   "id": "f1cf71f5",
   "metadata": {
    "editable": false,
    "slideshow": {
     "slide_type": "fragment"
    }
   },
   "source": [
    "---"
   ]
  },
  {
   "cell_type": "markdown",
   "id": "e00e5f84",
   "metadata": {
    "editable": false,
    "slideshow": {
     "slide_type": "subslide"
    }
   },
   "source": [
    "### Checking if an item is in a list\n",
    "\n",
    "with the `in` keyword you can check whether an item is in a list, with `.index(el)` you can get the index of an element"
   ]
  },
  {
   "cell_type": "code",
   "execution_count": null,
   "id": "0e61b0ef",
   "metadata": {
    "editable": true,
    "slideshow": {
     "slide_type": ""
    }
   },
   "outputs": [],
   "source": [
    "if 84 in lst:\n",
    "    position = lst.index(84)\n",
    "    print(f'84 is at index {position}')\n",
    "print(lst)"
   ]
  },
  {
   "cell_type": "markdown",
   "id": "868b6810",
   "metadata": {
    "editable": false,
    "slideshow": {
     "slide_type": "fragment"
    }
   },
   "source": [
    "---"
   ]
  },
  {
   "cell_type": "markdown",
   "id": "8be77c84",
   "metadata": {
    "editable": false,
    "slideshow": {
     "slide_type": "subslide"
    }
   },
   "source": [
    "### Emptying a list"
   ]
  },
  {
   "cell_type": "code",
   "execution_count": null,
   "id": "867aa292",
   "metadata": {
    "editable": true,
    "slideshow": {
     "slide_type": ""
    }
   },
   "outputs": [],
   "source": [
    "print(lst.clear())"
   ]
  },
  {
   "cell_type": "markdown",
   "id": "30869d50",
   "metadata": {
    "editable": false,
    "slideshow": {
     "slide_type": "fragment"
    }
   },
   "source": [
    "---"
   ]
  },
  {
   "cell_type": "markdown",
   "id": "04d87890",
   "metadata": {
    "editable": false,
    "slideshow": {
     "slide_type": "subslide"
    }
   },
   "source": [
    "## _Tuples_\n",
    "A _tuple_ is essentially an immutable list. Indexing and slicing work the same as with lists. As with lists, you can get the length of the tuple by using the `len` function, and, like lists, tuples have `count` and `index` methods. However, since a _tuple_ is immutable, it does not have any of the other methods that lists have (such as `sort` or `reverse`). Tuples are enclosed in parentheses (`()`), though the parentheses are actually optional."
   ]
  },
  {
   "cell_type": "code",
   "execution_count": null,
   "id": "3afd38d5",
   "metadata": {
    "editable": true,
    "slideshow": {
     "slide_type": ""
    }
   },
   "outputs": [],
   "source": [
    "# An empty tuple\n",
    "my_tuple = tuple()\n",
    "my_tuple"
   ]
  },
  {
   "cell_type": "code",
   "execution_count": null,
   "id": "4bf75e76",
   "metadata": {
    "editable": true,
    "slideshow": {
     "slide_type": ""
    }
   },
   "outputs": [],
   "source": [
    "# Initialising a tuple (different ways)\n",
    "my_tuple = (1,2,3)\n",
    "print(my_tuple)\n",
    "my_tuple = 4,5,6\n",
    "print(my_tuple)\n",
    "\n",
    "# The way to get a tuple with one element is like this:\n",
    "my_tuple = (1,)\n",
    "print(my_tuple)"
   ]
  },
  {
   "cell_type": "code",
   "execution_count": null,
   "id": "4775ecb7",
   "metadata": {
    "editable": true,
    "slideshow": {
     "slide_type": ""
    }
   },
   "outputs": [],
   "source": [
    "# A practical way to exchange values between variables through tuples\n",
    "a = 1\n",
    "b = 2\n",
    "print(a, b)\n",
    "a, b = b, a\n",
    "print(a, b)"
   ]
  },
  {
   "cell_type": "code",
   "execution_count": null,
   "id": "8f3c40be",
   "metadata": {
    "editable": true,
    "slideshow": {
     "slide_type": ""
    }
   },
   "outputs": [],
   "source": [
    "# Converting a list to a tuple\n",
    "t1 = tuple([1,2,3])\n",
    "print(t1)"
   ]
  },
  {
   "cell_type": "code",
   "execution_count": null,
   "id": "53246a69",
   "metadata": {
    "editable": true,
    "slideshow": {
     "slide_type": ""
    }
   },
   "outputs": [],
   "source": [
    "# Converting a string to a tuple\n",
    "t2 = tuple( 'abcde ')\n",
    "print(t2)"
   ]
  },
  {
   "cell_type": "markdown",
   "id": "812d5a14",
   "metadata": {
    "editable": false,
    "slideshow": {
     "slide_type": "fragment"
    }
   },
   "source": [
    "The dictionary method `items` returns a list of tuples (see an exercise after _dictionaries_)."
   ]
  },
  {
   "cell_type": "markdown",
   "id": "66b0bb86",
   "metadata": {
    "editable": false,
    "slideshow": {
     "slide_type": "subslide"
    }
   },
   "source": [
    "## _Sets_\n",
    "A _set_ is unordered collection of unique elements, representing a mathematical set. Pythoh stores the data in a set in whatever order it wants to, so indexing has no meaning for sets unlike for lists. It looks like a list, but with no repeats, and is denoted by curly braces (`{}`)."
   ]
  },
  {
   "cell_type": "code",
   "execution_count": null,
   "id": "a9622e5a",
   "metadata": {
    "editable": true,
    "slideshow": {
     "slide_type": ""
    }
   },
   "outputs": [],
   "source": [
    "# An empty set\n",
    "my_set = set()\n",
    "my_set"
   ]
  },
  {
   "cell_type": "code",
   "execution_count": null,
   "id": "95e68a89",
   "metadata": {
    "editable": true,
    "slideshow": {
     "slide_type": ""
    }
   },
   "outputs": [],
   "source": [
    "# Initialising a set\n",
    "my_set = {1, 2, 3, 4, 5}\n",
    "my_set"
   ]
  },
  {
   "cell_type": "code",
   "execution_count": null,
   "id": "d84ee17a",
   "metadata": {
    "editable": true,
    "slideshow": {
     "slide_type": ""
    }
   },
   "outputs": [],
   "source": [
    "# Converting a list to a set\n",
    "set([1,4,4,4,5,1,2,1,3])"
   ]
  },
  {
   "cell_type": "code",
   "execution_count": null,
   "id": "3a80f2b0",
   "metadata": {
    "editable": true,
    "slideshow": {
     "slide_type": ""
    }
   },
   "outputs": [],
   "source": [
    "# Converting a string to a set\n",
    "set('this is a string')"
   ]
  },
  {
   "cell_type": "markdown",
   "id": "4131293a",
   "metadata": {
    "editable": false,
    "slideshow": {
     "slide_type": "fragment"
    }
   },
   "source": [
    "There are a few operators that work with sets as well as some useful methods:\n",
    "\n",
    "| Operator | Description          | Example                        |\n",
    "|----------|----------------------|--------------------------------|\n",
    "| `\\|`     | union                | `{1,2,3} \\| {3,4} → {1,2,3,4}` |\n",
    "| `&`      | intersection         | `{1,2,3} & {3,4} → {3}`        |\n",
    "| `-`      | difference           | `{1,2,3} - {3,4} → {1,2}`      |\n",
    "| `^`      | symmetric difference | `{1,2,3} ^ {3,4} → {1,2,4}`    |\n",
    "| `in`     | is an element of     | `3 in {1,2,3} → True`          |\n",
    "\n",
    "| Method            | Description                                   |\n",
    "|-------------------|-----------------------------------------------|\n",
    "| `S.add(x)`        | Add `x` to the set                            |\n",
    "| `S.remove(x)`     | Remove `x` from the set                       |\n",
    "| `S.issubset(A)`   | Returns `True` if S ⊂ A and `False` otherwise |\n",
    "| `S.issuperset(A)` | Returns `True` if A ⊂ S and `False` otherwise |\n",
    "\n",
    "There are also _set comprehensions_ just like list comprehensions."
   ]
  },
  {
   "cell_type": "code",
   "execution_count": null,
   "id": "c71d5eb4",
   "metadata": {
    "editable": true,
    "slideshow": {
     "slide_type": ""
    }
   },
   "outputs": [],
   "source": [
    "s = {i**2 for i in range(12)}\n",
    "print(s)"
   ]
  },
  {
   "cell_type": "markdown",
   "id": "cd0a6364",
   "metadata": {
    "editable": false,
    "slideshow": {
     "slide_type": "fragment"
    }
   },
   "source": [
    "---"
   ]
  },
  {
   "cell_type": "markdown",
   "id": "03763f24",
   "metadata": {
    "editable": false,
    "slideshow": {
     "slide_type": "subslide"
    }
   },
   "source": [
    "### _Example 1_\n",
    "Removing repeated elements from lists"
   ]
  },
  {
   "cell_type": "code",
   "execution_count": null,
   "id": "18bac89c",
   "metadata": {
    "editable": true,
    "slideshow": {
     "slide_type": ""
    }
   },
   "outputs": [],
   "source": [
    "L = [1,4,4,4,5,1,2,1,3]\n",
    "L = list(set(L))\n",
    "print(L)"
   ]
  },
  {
   "cell_type": "markdown",
   "id": "d0501b3f",
   "metadata": {
    "editable": false,
    "slideshow": {
     "slide_type": "fragment"
    }
   },
   "source": [
    "### _Example 2_\n",
    "Wordplay: an example of an `if` statement that uses a `set` to see if every letter in a\n",
    "word is either an `a`, `b`, `c`, `d`, or `e`:"
   ]
  },
  {
   "cell_type": "code",
   "execution_count": null,
   "id": "a924df94",
   "metadata": {
    "editable": true,
    "slideshow": {
     "slide_type": ""
    }
   },
   "outputs": [],
   "source": [
    "word = \"bed\"\n",
    "\n",
    "if set(word).issubset(\"abcde\"):\n",
    "    print(f\"All letters in '{word}' are within 'abcde'.\")\n",
    "else:\n",
    "    print(f\"'{word}' contains letters outside of 'abcde'.\")"
   ]
  },
  {
   "cell_type": "markdown",
   "id": "b561a129",
   "metadata": {
    "editable": false,
    "slideshow": {
     "slide_type": "fragment"
    }
   },
   "source": [
    "---"
   ]
  },
  {
   "cell_type": "markdown",
   "id": "245d1725",
   "metadata": {
    "editable": false,
    "slideshow": {
     "slide_type": "subslide"
    }
   },
   "source": [
    "## _Dictionaries_\n",
    "A _dictionary_ is an unordered collection of key-value pairs, representing flexible mapping of keys to values. It's like a more general version of a list. In other words, it's an associative container permitting access based on a key, not an index. Dictionary items are colon-connected (`:`) key-value pairs enclosed by curly braces (`{}`)."
   ]
  },
  {
   "cell_type": "markdown",
   "id": "8b83afd4",
   "metadata": {
    "editable": false,
    "slideshow": {
     "slide_type": null
    }
   },
   "source": [
    "- _Dictionaries_ are like labelled drawers:\n",
    "  - the label of the drawer is called a key;\n",
    "  - however dictionaries are \"kind of\" unordered;\n",
    "  - the content of that drawer is called the value;\n",
    "  - like lists, the types of keys and values do not have to match;\n",
    "  - keys need to be \"hashable\", usually basic data types.\n",
    "\n",
    "The syntax is `{'key': value}` or `dict(key=value)`."
   ]
  },
  {
   "cell_type": "code",
   "execution_count": null,
   "id": "200a2eba",
   "metadata": {
    "editable": true,
    "slideshow": {
     "slide_type": ""
    }
   },
   "outputs": [],
   "source": [
    "# An empty dictionary\n",
    "my_dict = {}\n",
    "my_dict"
   ]
  },
  {
   "cell_type": "code",
   "execution_count": null,
   "id": "eb9476c1",
   "metadata": {
    "editable": true,
    "slideshow": {
     "slide_type": ""
    }
   },
   "outputs": [],
   "source": [
    "# Another empty dictionary\n",
    "my_dict = dict()\n",
    "my_dict"
   ]
  },
  {
   "cell_type": "code",
   "execution_count": null,
   "id": "553707eb",
   "metadata": {
    "editable": true,
    "slideshow": {
     "slide_type": ""
    }
   },
   "outputs": [],
   "source": [
    "# Initialising a dictionary\n",
    "my_dict = {\n",
    "    'temperature_k': 298.5,\n",
    "    'pressure': 1.015\n",
    "}\n",
    "my_dict"
   ]
  },
  {
   "cell_type": "code",
   "execution_count": null,
   "id": "112e1c7b",
   "metadata": {
    "editable": true,
    "slideshow": {
     "slide_type": ""
    }
   },
   "outputs": [],
   "source": [
    "# Another way to initialise a dictionary\n",
    "my_dict = dict(temperature_k=298.5, pressure=1.015)\n",
    "my_dict"
   ]
  },
  {
   "cell_type": "code",
   "execution_count": null,
   "id": "9affafb3",
   "metadata": {
    "editable": true,
    "slideshow": {
     "slide_type": ""
    }
   },
   "outputs": [],
   "source": [
    "# Add a new key-value pair to the dictionary\n",
    "my_dict['volume'] = 100.0\n",
    "my_dict"
   ]
  },
  {
   "cell_type": "markdown",
   "id": "d9cf4995",
   "metadata": {
    "editable": false,
    "slideshow": {
     "slide_type": "fragment"
    }
   },
   "source": [
    "---"
   ]
  },
  {
   "cell_type": "markdown",
   "id": "d98de28c",
   "metadata": {
    "editable": false,
    "slideshow": {
     "slide_type": "subslide"
    }
   },
   "source": [
    "### _Example_\n",
    "Extending a list to a dictionary"
   ]
  },
  {
   "cell_type": "code",
   "execution_count": null,
   "id": "d8631eaf",
   "metadata": {
    "editable": true,
    "slideshow": {
     "slide_type": ""
    }
   },
   "outputs": [],
   "source": [
    "# A list containing the number of days in the months of the year\n",
    "days = [31, 28, 31, 30, 31, 30, 31, 31, 30, 31, 30, 31]"
   ]
  },
  {
   "cell_type": "code",
   "execution_count": null,
   "id": "b24fcdc0",
   "metadata": {
    "editable": true,
    "slideshow": {
     "slide_type": ""
    }
   },
   "outputs": [],
   "source": [
    "# How many days in January and in June? Not the best idea to store this data in lists\n",
    "print(f\"In January, there are {days[0]} days\")\n",
    "print(f\"In June, there are {days[5]} days\")"
   ]
  },
  {
   "cell_type": "markdown",
   "id": "90fcd749",
   "metadata": {
    "editable": false,
    "slideshow": {
     "slide_type": "fragment"
    }
   },
   "source": [
    "---"
   ]
  },
  {
   "cell_type": "markdown",
   "id": "f73a79d3",
   "metadata": {
    "editable": false,
    "slideshow": {
     "slide_type": "subslide"
    }
   },
   "source": [
    "## Notes on _lists_, _strings_, _tuples_, _sets_, and  _dictionaries_"
   ]
  },
  {
   "cell_type": "markdown",
   "id": "624091b9",
   "metadata": {
    "editable": false,
    "slideshow": {
     "slide_type": ""
    }
   },
   "source": [
    "* **_Lists_** and **_dictionaries_** are _mutable_, which means their contents can be changed.\n",
    "* **_Strings_** and **_tuples_** are _immutable_, which means they cannot be changed.\n",
    "* **_Lists_** are typically for homogeneous data sequences (ingredients, names) whereas **_tuples_** are ideal for heterogeneous data (entries with different meanings)."
   ]
  },
  {
   "cell_type": "markdown",
   "id": "7271e95a",
   "metadata": {
    "editable": false,
    "slideshow": {
     "slide_type": "fragment"
    }
   },
   "source": [
    "Similarities of _lists_ and _strings_:\n",
    "* `len` function: the number of items in a list/string\n",
    "* `in` operator: tells if a list/string contains something\n",
    "* `+` and `*` operators: concatenating and repeating"
   ]
  },
  {
   "cell_type": "code",
   "execution_count": null,
   "id": "502cadb7",
   "metadata": {
    "editable": true,
    "slideshow": {
     "slide_type": ""
    }
   },
   "outputs": [],
   "source": [
    "[7, 8] + [3, 4, 5]"
   ]
  },
  {
   "cell_type": "code",
   "execution_count": null,
   "id": "3f76fba0",
   "metadata": {
    "editable": true,
    "slideshow": {
     "slide_type": ""
    }
   },
   "outputs": [],
   "source": [
    "[0] * 5"
   ]
  },
  {
   "cell_type": "markdown",
   "id": "b35c5868",
   "metadata": {
    "editable": false,
    "slideshow": {
     "slide_type": "fragment"
    }
   },
   "source": [
    "---\n",
    "* _Indexing_: simple to \"grab\" an item/character in a list/string if you know where it sits\n",
    "* _Slicing_: use `:` to \"grab\" a range defined subsection of a list/string:"
   ]
  },
  {
   "cell_type": "code",
   "execution_count": null,
   "id": "662c5a6c",
   "metadata": {
    "editable": true,
    "slideshow": {
     "slide_type": ""
    }
   },
   "outputs": [],
   "source": [
    "a_lst = ['a','b','c','d','e','f','g','h','i','j']\n",
    "print(a_lst[4])\n",
    "a_str = \"abcdefghij\"\n",
    "print(a_str[4])\n",
    "start=3\n",
    "stop=7\n",
    "# items start to stop-1\n",
    "print(a_lst[start:stop])\n",
    "print(a_str[start:stop])\n",
    "# items start to the end of list/string\n",
    "print(a_lst[start:])\n",
    "print(a_str[start:])\n",
    "# items from beginning of list/string to stop-1\n",
    "print(a_lst[:stop])\n",
    "print(a_str[:stop])\n",
    "# whole list/string\n",
    "print(a_lst[:])\n",
    "print(a_str[:])"
   ]
  },
  {
   "cell_type": "markdown",
   "id": "43f36824",
   "metadata": {
    "editable": false,
    "slideshow": {
     "slide_type": "fragment"
    }
   },
   "source": [
    "---\n",
    "* _Looping_:"
   ]
  },
  {
   "cell_type": "code",
   "execution_count": null,
   "id": "9aa6ee9e",
   "metadata": {
    "editable": true,
    "lines_to_next_cell": 0,
    "slideshow": {
     "slide_type": ""
    }
   },
   "outputs": [],
   "source": [
    "for i in range(len(a_lst)):\n",
    "    print(a_lst[i])"
   ]
  },
  {
   "cell_type": "code",
   "execution_count": null,
   "id": "d53ac221",
   "metadata": {
    "editable": true,
    "lines_to_next_cell": 0,
    "slideshow": {
     "slide_type": ""
    }
   },
   "outputs": [],
   "source": [
    "for item in a_lst:\n",
    "    print(item)"
   ]
  },
  {
   "cell_type": "code",
   "execution_count": null,
   "id": "12dc5ea0",
   "metadata": {
    "editable": true,
    "lines_to_next_cell": 0,
    "slideshow": {
     "slide_type": ""
    }
   },
   "outputs": [],
   "source": [
    "for i in range(len(a_str)):\n",
    "    print(a_str[i])"
   ]
  },
  {
   "cell_type": "code",
   "execution_count": null,
   "id": "876b7655",
   "metadata": {
    "editable": true,
    "slideshow": {
     "slide_type": ""
    }
   },
   "outputs": [],
   "source": [
    "for item in a_str:\n",
    "    print(item)"
   ]
  },
  {
   "cell_type": "markdown",
   "id": "70429b28",
   "metadata": {
    "editable": false,
    "slideshow": {
     "slide_type": "fragment"
    }
   },
   "source": [
    "---\n",
    "_Lists_ and _strings_ behave differently when we try to make copies."
   ]
  },
  {
   "cell_type": "code",
   "execution_count": null,
   "id": "ceb379c2",
   "metadata": {
    "editable": true,
    "slideshow": {
     "slide_type": ""
    }
   },
   "outputs": [],
   "source": [
    "s = 'Hello '\n",
    "copy = s\n",
    "s = s + '!!! '\n",
    "print( 's is now: ', s, '; Copy: ', copy)"
   ]
  },
  {
   "cell_type": "code",
   "execution_count": null,
   "id": "d7738594",
   "metadata": {
    "editable": true,
    "slideshow": {
     "slide_type": ""
    }
   },
   "outputs": [],
   "source": [
    "L = [1,2,3]\n",
    "copy = L\n",
    "L[0] = 9\n",
    "print( 'L is now: ', L, 'Copy: ', copy)"
   ]
  },
  {
   "cell_type": "markdown",
   "id": "36c080f0",
   "metadata": {
    "editable": false,
    "slideshow": {
     "slide_type": "fragment"
    }
   },
   "source": [
    "---\n",
    "Everything in Python is an object. This includes numbers, strings, and lists and any other data structure. When we\n",
    "do a simple assignment for a scalar _variable_, like `x=487`, the variable `x` acts as a _reference_ to that object. All objects are treated the same way. In the example of a _string_ above, `copy` is another reference to `'Hello'`. When we do `s=s+'!!!'`, `s` is now referencing another new string object because strings are _immutable_. Whereas in the example of a _list_, when we change an element in the list, no new list is created, the old list is actually changed _in place_ because lists are _mutable_.\n",
    "\n",
    "So, how to modify the example with a list, so that it behaves as expected? We need to create a new copy of the entire list, which is done by `L[:]`"
   ]
  },
  {
   "cell_type": "code",
   "execution_count": null,
   "id": "e4dfb2cb",
   "metadata": {
    "editable": true,
    "slideshow": {
     "slide_type": ""
    }
   },
   "outputs": [],
   "source": [
    "L = [1,2,3]\n",
    "copy = L[:]\n",
    "L[0] = 9\n",
    "print( 'L is now: ', L, 'Copy: ', copy)"
   ]
  },
  {
   "cell_type": "markdown",
   "id": "45ec2d1c",
   "metadata": {
    "editable": false,
    "slideshow": {
     "slide_type": "fragment"
    }
   },
   "source": [
    "---"
   ]
  },
  {
   "cell_type": "markdown",
   "id": "b424a761",
   "metadata": {
    "editable": false,
    "slideshow": {
     "slide_type": "slide"
    }
   },
   "source": [
    "## Have a Play!"
   ]
  },
  {
   "cell_type": "markdown",
   "id": "38cc0279",
   "metadata": {
    "editable": false,
    "slideshow": {
     "slide_type": "subslide"
    }
   },
   "source": [
    "### _Exercise 1 (dictionaries)_"
   ]
  },
  {
   "cell_type": "markdown",
   "id": "3f494a2e",
   "metadata": {
    "editable": false,
    "lines_to_next_cell": 2,
    "slideshow": {
     "slide_type": ""
    }
   },
   "source": [
    "1) Create a dictionary of the days in the months of the year.\n",
    "2) Print out the number of the days for any month as it was done for lists."
   ]
  },
  {
   "cell_type": "markdown",
   "id": "71b2e23a",
   "metadata": {
    "lines_to_next_cell": 0
   },
   "source": [
    "<!-- #solution -->"
   ]
  },
  {
   "cell_type": "code",
   "execution_count": null,
   "id": "3ae9acd3",
   "metadata": {
    "editable": true,
    "lines_to_next_cell": 0,
    "slideshow": {
     "slide_type": ""
    }
   },
   "outputs": [],
   "source": [
    "# Create the dictionary with months as keys and days as values\n",
    "months_days = {\n",
    "    \"January\": 31,\n",
    "    \"February\": 28,  # ignoring leap years for simplicity\n",
    "    \"March\": 31,\n",
    "    \"April\": 30,\n",
    "    \"May\": 31,\n",
    "    \"June\": 30,\n",
    "    \"July\": 31,\n",
    "    \"August\": 31,\n",
    "    \"September\": 30,\n",
    "    \"October\": 31,\n",
    "    \"November\": 30,\n",
    "    \"December\": 31\n",
    "}\n",
    "\n",
    "# Ask the user for a month\n",
    "month_input = input(\"Enter the name of a month (e.g., 'January'): \")\n",
    "\n",
    "# Print the number of days for the entered month\n",
    "if month_input in months_days:\n",
    "    print(f\"{month_input} has {months_days[month_input]} days.\")\n",
    "else:\n",
    "    print(\"That doesn't seem to be a valid month name.\")\n"
   ]
  },
  {
   "cell_type": "markdown",
   "id": "3b1cb352",
   "metadata": {},
   "source": [
    "<!-- #endsolution -->"
   ]
  },
  {
   "cell_type": "markdown",
   "id": "48832b82",
   "metadata": {
    "editable": true,
    "slideshow": {
     "slide_type": ""
    }
   },
   "source": [
    "---"
   ]
  },
  {
   "cell_type": "markdown",
   "id": "1178f7dc",
   "metadata": {
    "editable": false,
    "slideshow": {
     "slide_type": "subslide"
    }
   },
   "source": [
    "### _Exercise 2 (dictionaries)_"
   ]
  },
  {
   "cell_type": "markdown",
   "id": "31e0b17b",
   "metadata": {
    "editable": false,
    "jp-MarkdownHeadingCollapsed": true,
    "slideshow": {
     "slide_type": ""
    }
   },
   "source": [
    "1. Create a dictionary of several countries and capitals. Think about what's going to be a key and a value.\n",
    "2. Try create the initial dictionary by initialising it.\n",
    "   Try to add new countries with their capitals.\n",
    "3. Print out the whole dictionary line by line in a loop each representing a country and its capital respectfully."
   ]
  },
  {
   "cell_type": "markdown",
   "id": "5e739e0a",
   "metadata": {
    "lines_to_next_cell": 0
   },
   "source": [
    "<!-- #solution -->"
   ]
  },
  {
   "cell_type": "code",
   "execution_count": null,
   "id": "d3e579d3",
   "metadata": {
    "editable": true,
    "lines_to_next_cell": 0,
    "slideshow": {
     "slide_type": ""
    }
   },
   "outputs": [],
   "source": [
    "# 1) Create a dictionary of countries and their respective capitals\n",
    "capitals = {\n",
    "    \"United States\": \"Washington, D.C.\",\n",
    "    \"Germany\": \"Berlin\",\n",
    "    \"France\": \"Paris\"\n",
    "}\n",
    "\n",
    "# 2) Add new countries with their capitals\n",
    "capitals[\"Italy\"] = \"Rome\"\n",
    "capitals[\"Spain\"] = \"Madrid\"\n",
    "\n",
    "# 3) Print out each country and its capital\n",
    "for country, capital in capitals.items():\n",
    "    print(f\"The capital of {country} is {capital}.\")\n"
   ]
  },
  {
   "cell_type": "markdown",
   "id": "b98022a5",
   "metadata": {},
   "source": [
    "<!-- #endsolution -->"
   ]
  },
  {
   "cell_type": "markdown",
   "id": "9e95b1bb",
   "metadata": {
    "editable": false,
    "slideshow": {
     "slide_type": "fragment"
    }
   },
   "source": [
    "---"
   ]
  },
  {
   "cell_type": "markdown",
   "id": "07d53abe",
   "metadata": {
    "editable": false,
    "slideshow": {
     "slide_type": "subslide"
    }
   },
   "source": [
    "### _Exercise 3 (tuples)_"
   ]
  },
  {
   "cell_type": "markdown",
   "id": "6e83da5f",
   "metadata": {
    "editable": false,
    "slideshow": {
     "slide_type": ""
    }
   },
   "source": [
    "Try `items()` method on the dictionary you've created before. Print that out. What kind of data structure does it return?"
   ]
  },
  {
   "cell_type": "markdown",
   "id": "adb1abd8",
   "metadata": {
    "lines_to_next_cell": 0
   },
   "source": [
    "<!-- #solution -->"
   ]
  },
  {
   "cell_type": "code",
   "execution_count": null,
   "id": "fb62cca7",
   "metadata": {
    "editable": true,
    "lines_to_next_cell": 0,
    "slideshow": {
     "slide_type": ""
    }
   },
   "outputs": [],
   "source": [
    "# Get the items() of the dictionary\n",
    "items_result = capitals.items()\n",
    "\n",
    "# Print the result\n",
    "print(\"Items:\", items_result)\n",
    "\n",
    "# Print the type of the returned data structure\n",
    "print(\"Type:\", type(items_result))\n"
   ]
  },
  {
   "cell_type": "markdown",
   "id": "c2e63db1",
   "metadata": {},
   "source": [
    "<!-- #endsolution -->"
   ]
  },
  {
   "cell_type": "markdown",
   "id": "8eb3bbf7",
   "metadata": {
    "editable": false,
    "slideshow": {
     "slide_type": "notes"
    }
   },
   "source": [
    "_Note_: the data structure returned by `dict.items()` is of type `dict_items`,\n",
    "which is an iterable view object displaying the dictionary’s (key, value) pairs"
   ]
  },
  {
   "cell_type": "markdown",
   "id": "a59e34c1",
   "metadata": {
    "editable": false,
    "slideshow": {
     "slide_type": "fragment"
    }
   },
   "source": [
    "---"
   ]
  },
  {
   "cell_type": "markdown",
   "id": "f2ad81c8",
   "metadata": {
    "editable": false,
    "slideshow": {
     "slide_type": "subslide"
    }
   },
   "source": [
    "### _Exercise 4 (lists)_"
   ]
  },
  {
   "cell_type": "markdown",
   "id": "7c84ec76",
   "metadata": {
    "editable": false,
    "slideshow": {
     "slide_type": ""
    }
   },
   "source": [
    "Given this list: "
   ]
  },
  {
   "cell_type": "code",
   "execution_count": null,
   "id": "f964f97b",
   "metadata": {
    "editable": true,
    "slideshow": {
     "slide_type": ""
    }
   },
   "outputs": [],
   "source": [
    "numbers = [42, 15, 7, 29, 89, 15]"
   ]
  },
  {
   "cell_type": "markdown",
   "id": "01378c1c",
   "metadata": {
    "editable": false,
    "slideshow": {
     "slide_type": "fragment"
    }
   },
   "source": [
    "Complete these tasks:"
   ]
  },
  {
   "cell_type": "markdown",
   "id": "b6b6380a",
   "metadata": {
    "lines_to_next_cell": 0
   },
   "source": [
    "<!-- #solution -->"
   ]
  },
  {
   "cell_type": "code",
   "execution_count": null,
   "id": "9ad284dd",
   "metadata": {
    "editable": true,
    "lines_to_next_cell": 0,
    "slideshow": {
     "slide_type": ""
    }
   },
   "outputs": [],
   "source": [
    "# 1. Print all numbers in reverse order using reversed()\n",
    "# Expected output: 15 89 29 7 15 42\n",
    "for num in reversed(numbers):\n",
    "    print(num, end=' ')\n",
    "\n",
    "# 2. Create a new sorted list called 'sorted_numbers' without modifying the original\n",
    "# Expected output: [7, 15, 15, 29, 42, 89]\n",
    "sorted_numbers = sorted(numbers)\n",
    "\n",
    "# 3. Check if 29 is in the list. If it is, print its index position\n",
    "# Expected output: \"29 is at index 3\"\n",
    "if 29 in numbers:\n",
    "    print(f\"29 is at index {numbers.index(29)}\")\n"
   ]
  },
  {
   "cell_type": "markdown",
   "id": "f77b3d5e",
   "metadata": {
    "editable": false,
    "slideshow": {
     "slide_type": "slide"
    }
   },
   "source": [
    "## _Comprehensions_"
   ]
  },
  {
   "cell_type": "markdown",
   "id": "789efc14",
   "metadata": {},
   "source": [
    "<!-- #endsolution -->"
   ]
  },
  {
   "cell_type": "markdown",
   "id": "0002904e",
   "metadata": {
    "editable": false,
    "slideshow": {
     "slide_type": "subslide"
    }
   },
   "source": [
    "### `list` comprehensions"
   ]
  },
  {
   "cell_type": "markdown",
   "id": "fba1d4bd",
   "metadata": {
    "editable": false,
    "slideshow": {
     "slide_type": ""
    }
   },
   "source": [
    "Multiples of three:"
   ]
  },
  {
   "cell_type": "code",
   "execution_count": null,
   "id": "7fa7800c",
   "metadata": {
    "editable": true,
    "slideshow": {
     "slide_type": ""
    }
   },
   "outputs": [],
   "source": [
    "multiples_of_three = [i for i in range(20) if i%3 == 0]\n",
    "print(multiples_of_three)"
   ]
  },
  {
   "cell_type": "markdown",
   "id": "2baa3254",
   "metadata": {
    "editable": false,
    "slideshow": {
     "slide_type": "fragment"
    }
   },
   "source": [
    "For instance you would usually do something like this:"
   ]
  },
  {
   "cell_type": "code",
   "execution_count": null,
   "id": "d2d4f618",
   "metadata": {
    "editable": true,
    "slideshow": {
     "slide_type": ""
    }
   },
   "outputs": [],
   "source": [
    "squared = []\n",
    "for x in range(10):\n",
    "    squared.append(x**2)\n",
    "print(squared)"
   ]
  },
  {
   "cell_type": "markdown",
   "id": "2b2a108f",
   "metadata": {
    "editable": false,
    "slideshow": {
     "slide_type": "fragment"
    }
   },
   "source": [
    "You can simplify it using list comprehensions:"
   ]
  },
  {
   "cell_type": "code",
   "execution_count": null,
   "id": "8e6b943b",
   "metadata": {
    "editable": true,
    "slideshow": {
     "slide_type": ""
    }
   },
   "outputs": [],
   "source": [
    "squared = [x**2 for x in range(10)]\n",
    "print(squared)"
   ]
  },
  {
   "cell_type": "markdown",
   "id": "30ad4e6f",
   "metadata": {
    "editable": false,
    "slideshow": {
     "slide_type": "fragment"
    }
   },
   "source": [
    "---"
   ]
  },
  {
   "cell_type": "markdown",
   "id": "23631ac8",
   "metadata": {
    "editable": false,
    "slideshow": {
     "slide_type": "subslide"
    }
   },
   "source": [
    "### `dict` comprehensions"
   ]
  },
  {
   "cell_type": "code",
   "execution_count": null,
   "id": "b19190dc",
   "metadata": {
    "editable": true,
    "slideshow": {
     "slide_type": ""
    }
   },
   "outputs": [],
   "source": [
    "mcase = {'a': 10, 'b': 34, 'A': 7, 'Z': 3}\n",
    "mcase_frequency = {\n",
    "    k.lower(): mcase.get(k.lower(), 0) + mcase.get(k.upper(), 0)\n",
    "    for k in mcase.keys()\n",
    "}\n",
    "print(mcase_frequency)"
   ]
  },
  {
   "cell_type": "markdown",
   "id": "04550039",
   "metadata": {
    "editable": false,
    "slideshow": {
     "slide_type": "fragment"
    }
   },
   "source": [
    "---"
   ]
  },
  {
   "cell_type": "markdown",
   "id": "2d4e0235",
   "metadata": {
    "editable": false,
    "slideshow": {
     "slide_type": "subslide"
    }
   },
   "source": [
    "### `set` comprehensions"
   ]
  },
  {
   "cell_type": "code",
   "execution_count": null,
   "id": "27175fde",
   "metadata": {
    "editable": true,
    "slideshow": {
     "slide_type": ""
    }
   },
   "outputs": [],
   "source": [
    "squared = {x**2 for x in [1, 1, 2]}\n",
    "print(squared)"
   ]
  },
  {
   "cell_type": "markdown",
   "id": "f8beaad4",
   "metadata": {
    "editable": false,
    "slideshow": {
     "slide_type": "slide"
    }
   },
   "source": [
    "## Have a play!\n",
    "\n",
    "#### List Comprehension Basics\n",
    "Create a list of even numbers between 1 and 20 using a list comprehension.\n",
    "\n",
    "Hint Remember the `range()` function and modulo operator `%`"
   ]
  },
  {
   "cell_type": "markdown",
   "id": "2d22b269",
   "metadata": {
    "lines_to_next_cell": 0
   },
   "source": [
    "<!-- #solution -->"
   ]
  },
  {
   "cell_type": "code",
   "execution_count": null,
   "id": "72ee6d83",
   "metadata": {
    "editable": true,
    "lines_to_next_cell": 0,
    "slideshow": {
     "slide_type": ""
    }
   },
   "outputs": [],
   "source": [
    "# Uncomment below and continue with your solution:\n",
    "#even_numbers =\n",
    "even_numbers = [x for x in range(1, 21) if x % 2 == 0]\n",
    "even_numbers\n"
   ]
  },
  {
   "cell_type": "markdown",
   "id": "145411f0",
   "metadata": {},
   "source": [
    "<!-- #endsolution -->"
   ]
  },
  {
   "cell_type": "markdown",
   "id": "befa7038",
   "metadata": {
    "editable": false,
    "slideshow": {
     "slide_type": "fragment"
    }
   },
   "source": [
    "---"
   ]
  },
  {
   "cell_type": "markdown",
   "id": "2092afdb",
   "metadata": {
    "editable": false,
    "slideshow": {
     "slide_type": "subslide"
    }
   },
   "source": [
    "#### Dictionary Comprehension\n",
    "Given this dictionary of fruits and their quantities, create a now dictionary where the number of fruits are doubled"
   ]
  },
  {
   "cell_type": "markdown",
   "id": "fd0da6d2",
   "metadata": {
    "lines_to_next_cell": 0
   },
   "source": [
    "<!-- #solution -->"
   ]
  },
  {
   "cell_type": "code",
   "execution_count": null,
   "id": "9dc013da",
   "metadata": {
    "editable": true,
    "lines_to_next_cell": 0,
    "slideshow": {
     "slide_type": ""
    }
   },
   "outputs": [],
   "source": [
    "# Uncomment below and continue with your solution:\n",
    "#fruits = {'apple': 5, 'banana': 3, 'orange': 2, 'pear': 1}\n",
    "fruits = {'apple': 5, 'banana': 3, 'orange': 2, 'pear': 1}\n",
    "doubled_fruits = {fruit: amount * 2 for fruit, amount in fruits.items()}\n",
    "doubled_fruits\n"
   ]
  },
  {
   "cell_type": "markdown",
   "id": "00f6f36c",
   "metadata": {
    "editable": false,
    "slideshow": {
     "slide_type": "fragment"
    }
   },
   "source": [
    "---"
   ]
  },
  {
   "cell_type": "markdown",
   "id": "f6deeae0",
   "metadata": {
    "editable": false,
    "slideshow": {
     "slide_type": "slide"
    }
   },
   "source": [
    "# <ins>3.</ins> Advanced string manipulation"
   ]
  },
  {
   "cell_type": "markdown",
   "id": "0110fae4",
   "metadata": {
    "editable": false,
    "slideshow": {
     "slide_type": ""
    }
   },
   "source": [
    "* Adjusting case\n",
    "* Formatting strings\n",
    "  - _Note_: Modification requires assignment, because these functions return a copy, not modifying the original string\n",
    "* `find()` and `index()`: return index of a substring, but the latter raises a `ValueError` exception when not found (_exception handling_)\n",
    "* Quering the existence, replacing, splitting"
   ]
  },
  {
   "cell_type": "code",
   "execution_count": null,
   "id": "1f26c482",
   "metadata": {
    "editable": true,
    "slideshow": {
     "slide_type": ""
    }
   },
   "outputs": [],
   "source": [
    "line = \"the quick brown fox jumped over a lazy dog\"\n",
    "print(line.find('fox'))\n",
    "print(line.startswith('the'))\n",
    "print(line.endswith('fox'))\n",
    "print(line.replace('brown', 'red'))\n",
    "print(line.split())\n",
    "try:\n",
    "    index = line.index('bear')\n",
    "    print(index)\n",
    "except ValueError:\n",
    "    print(\"A bear isn't mentioned in the text\")"
   ]
  },
  {
   "cell_type": "code",
   "execution_count": null,
   "id": "8a5ef0f4",
   "metadata": {
    "editable": true,
    "slideshow": {
     "slide_type": ""
    }
   },
   "outputs": [],
   "source": [
    "arc_update = \"ThE HAmILton suPERcompUTER is beiNg UPGraded\"\n",
    "print(arc_update.upper())\n",
    "print(arc_update.title())\n",
    "print(arc_update.capitalize())\n",
    "print(arc_update)\n",
    "arc_update = \"   RSE   \"\n",
    "print(arc_update.strip())\n",
    "print(arc_update.rstrip())\n",
    "print(arc_update.lstrip())"
   ]
  },
  {
   "cell_type": "markdown",
   "id": "543f269d",
   "metadata": {
    "editable": false,
    "slideshow": {
     "slide_type": "fragment"
    }
   },
   "source": [
    "---"
   ]
  },
  {
   "cell_type": "markdown",
   "id": "16df807e",
   "metadata": {
    "editable": false,
    "slideshow": {
     "slide_type": "subslide"
    }
   },
   "source": [
    "* The canonical way to search a string (if not interested in the index) is very simple:"
   ]
  },
  {
   "cell_type": "code",
   "execution_count": null,
   "id": "47c2d357",
   "metadata": {
    "editable": true,
    "slideshow": {
     "slide_type": ""
    }
   },
   "outputs": [],
   "source": [
    "line = \"the quick brown fox jumped over a lazy dog\"\n",
    "if \"fox\" in line:\n",
    "    print(\"A fox has been seen\")"
   ]
  },
  {
   "cell_type": "markdown",
   "id": "1c088d6c",
   "metadata": {
    "editable": false,
    "slideshow": {
     "slide_type": "fragment"
    }
   },
   "source": [
    "---\n",
    "* _F-strings_ provide a way to embed expressions inside string literals, using a minimal syntax\n",
    "  - expressions are evaluated at runtime and replaced with their values"
   ]
  },
  {
   "cell_type": "code",
   "execution_count": null,
   "id": "502ef949",
   "metadata": {
    "editable": true,
    "slideshow": {
     "slide_type": ""
    }
   },
   "outputs": [],
   "source": [
    "interests = [\"football\", \"zoom\"]\n",
    "print(f\"Bob enjoys {interests[0]} and {interests[1]}\")\n",
    "\n",
    "weekdays = [\"Mon\", \"Tue\", \"Wed\", \"Thu\", \"Fri\"]\n",
    "for weekday in weekdays:\n",
    "    print(f\"Today is {weekday}\")\n",
    "\n",
    "age = 70\n",
    "print(f\"Soon I'll be {age+1}!\")"
   ]
  },
  {
   "cell_type": "markdown",
   "id": "9c3e1f4d",
   "metadata": {
    "editable": false,
    "slideshow": {
     "slide_type": "fragment"
    }
   },
   "source": [
    "---"
   ]
  },
  {
   "cell_type": "markdown",
   "id": "5bc9a961",
   "metadata": {
    "editable": false,
    "slideshow": {
     "slide_type": "slide"
    },
    "tags": []
   },
   "source": [
    "# <ins>4.</ins> Conditional expressions\n",
    "They are known as _ternary operators_ in other languages. They became a part of Python from version 2.4"
   ]
  },
  {
   "cell_type": "markdown",
   "id": "96b1482c",
   "metadata": {
    "editable": false,
    "slideshow": {
     "slide_type": "fragment"
    }
   },
   "source": [
    "---"
   ]
  },
  {
   "cell_type": "code",
   "execution_count": null,
   "id": "56986833",
   "metadata": {
    "editable": true,
    "slideshow": {
     "slide_type": ""
    },
    "tags": []
   },
   "outputs": [],
   "source": [
    "hungry = True\n",
    "state = \"grumpy\" if hungry else \"content\"\n",
    "print(state)"
   ]
  },
  {
   "cell_type": "markdown",
   "id": "fc9c29e9",
   "metadata": {
    "editable": false,
    "slideshow": {
     "slide_type": "fragment"
    }
   },
   "source": [
    "---\n",
    "Another more obscure and not widely used example involves tuples"
   ]
  },
  {
   "cell_type": "code",
   "execution_count": null,
   "id": "429965c5",
   "metadata": {
    "editable": true,
    "slideshow": {
     "slide_type": ""
    }
   },
   "outputs": [],
   "source": [
    "nice = False\n",
    "personality = (\"mean\", \"nice\")[nice]\n",
    "print(\"The cat is\", personality)"
   ]
  },
  {
   "cell_type": "markdown",
   "id": "21217bab",
   "metadata": {
    "editable": false,
    "slideshow": {
     "slide_type": "fragment"
    }
   },
   "source": [
    "---\n",
    "There is also a shorter version of the normal ternary operator you have seen above (introduced in Python 2.5)"
   ]
  },
  {
   "cell_type": "code",
   "execution_count": null,
   "id": "81768bf7",
   "metadata": {
    "editable": true,
    "slideshow": {
     "slide_type": ""
    }
   },
   "outputs": [],
   "source": [
    "output = None\n",
    "msg = output or \"No data returned\"\n",
    "print(msg)"
   ]
  },
  {
   "cell_type": "markdown",
   "id": "63274497",
   "metadata": {
    "editable": false,
    "slideshow": {
     "slide_type": "fragment"
    }
   },
   "source": [
    "---\n",
    "As a simple way to define function parameters with dynamic default values"
   ]
  },
  {
   "cell_type": "code",
   "execution_count": null,
   "id": "40fb97c5",
   "metadata": {
    "editable": true,
    "slideshow": {
     "slide_type": ""
    }
   },
   "outputs": [],
   "source": [
    "def my_function(real_name, optional_display_name=None):\n",
    "    optional_display_name = optional_display_name or real_name\n",
    "    print(optional_display_name)\n",
    "\n",
    "my_function(\"John\")"
   ]
  },
  {
   "cell_type": "code",
   "execution_count": null,
   "id": "23e5335e",
   "metadata": {
    "editable": true,
    "slideshow": {
     "slide_type": ""
    }
   },
   "outputs": [],
   "source": [
    "my_function(\"Mike\", \"anonymous123\")"
   ]
  },
  {
   "cell_type": "markdown",
   "id": "a6f9d70c-8116-4e65-b719-e3eb2afa7338",
   "metadata": {},
   "source": [
    "## Have a play!"
   ]
  },
  {
   "cell_type": "markdown",
   "id": "7ebeeb27",
   "metadata": {},
   "source": [
    "<!-- #endsolution -->"
   ]
  },
  {
   "cell_type": "markdown",
   "id": "6dd1230b",
   "metadata": {
    "editable": false,
    "slideshow": {
     "slide_type": "subslide"
    }
   },
   "source": [
    "#### Conditional Expression\n",
    "Write a function that takes a number and returns 'positive' if > 0, 'negative' if < 0, and 'zero' if 0, using a conditional expression."
   ]
  },
  {
   "cell_type": "markdown",
   "id": "abc59e24",
   "metadata": {
    "lines_to_next_cell": 0
   },
   "source": [
    "<!-- #solution -->"
   ]
  },
  {
   "cell_type": "code",
   "execution_count": null,
   "id": "30eb5d01",
   "metadata": {
    "editable": true,
    "lines_to_next_cell": 0,
    "slideshow": {
     "slide_type": ""
    }
   },
   "outputs": [],
   "source": [
    "# Uncomment below and continue with your solution:\n",
    "#def check_number(num):\n",
    "#    return # Your code here\n",
    "def check_number(num):\n",
    "    return 'positive' if num > 0 else 'negative' if num < 0 else 'zero'\n",
    "check_number(5)\n"
   ]
  },
  {
   "cell_type": "markdown",
   "id": "930a9ea5",
   "metadata": {
    "editable": false,
    "slideshow": {
     "slide_type": "slide"
    },
    "tags": []
   },
   "source": [
    "# <ins>**Part II**</ins>"
   ]
  },
  {
   "cell_type": "markdown",
   "id": "8c734fbe",
   "metadata": {
    "editable": false,
    "slideshow": {
     "slide_type": "slide"
    },
    "tags": []
   },
   "source": [
    "# <ins>5.</ins> Iterators beneath control flows"
   ]
  },
  {
   "cell_type": "markdown",
   "id": "341a5462",
   "metadata": {
    "editable": false,
    "slideshow": {
     "slide_type": ""
    },
    "tags": []
   },
   "source": [
    "What is the for loop doing under the hood?"
   ]
  },
  {
   "cell_type": "markdown",
   "id": "4f4bb670",
   "metadata": {
    "editable": false,
    "slideshow": {
     "slide_type": ""
    }
   },
   "source": [
    "1. `iter()` is called on the container object returning an iterator object\n",
    "2. The iterator object defines a `__next__()` function which facilitates access to elements one at a time\n",
    "3. `__next()__` tells for loop when there are no more elements raising StopIteration exception"
   ]
  },
  {
   "cell_type": "code",
   "execution_count": null,
   "id": "ca2a44a5",
   "metadata": {
    "editable": true,
    "slideshow": {
     "slide_type": ""
    }
   },
   "outputs": [],
   "source": [
    "uni = \"Durham\"\n",
    "it = iter(uni)\n",
    "it"
   ]
  },
  {
   "cell_type": "code",
   "execution_count": null,
   "id": "13f73ce2",
   "metadata": {
    "editable": true,
    "slideshow": {
     "slide_type": ""
    }
   },
   "outputs": [],
   "source": [
    "next(it)"
   ]
  },
  {
   "cell_type": "code",
   "execution_count": null,
   "id": "02bccb61",
   "metadata": {},
   "outputs": [],
   "source": [
    "next(it)"
   ]
  },
  {
   "cell_type": "code",
   "execution_count": null,
   "id": "59b16151",
   "metadata": {},
   "outputs": [],
   "source": [
    "next(it)"
   ]
  },
  {
   "cell_type": "code",
   "execution_count": null,
   "id": "b1ce625c",
   "metadata": {},
   "outputs": [],
   "source": [
    "next(it)"
   ]
  },
  {
   "cell_type": "code",
   "execution_count": null,
   "id": "79547dc9",
   "metadata": {},
   "outputs": [],
   "source": [
    "next(it)"
   ]
  },
  {
   "cell_type": "code",
   "execution_count": null,
   "id": "06e2259a",
   "metadata": {},
   "outputs": [],
   "source": [
    "next(it)"
   ]
  },
  {
   "cell_type": "code",
   "execution_count": null,
   "id": "91b1e087",
   "metadata": {
    "editable": true,
    "slideshow": {
     "slide_type": ""
    }
   },
   "outputs": [],
   "source": [
    "next(it)"
   ]
  },
  {
   "cell_type": "markdown",
   "id": "4d6c0c2a",
   "metadata": {
    "editable": false,
    "slideshow": {
     "slide_type": "fragment"
    }
   },
   "source": [
    "---"
   ]
  },
  {
   "cell_type": "markdown",
   "id": "ed8760d2",
   "metadata": {
    "editable": false,
    "slideshow": {
     "slide_type": "slide"
    },
    "tags": []
   },
   "source": [
    "# <ins>6.</ins>  Lambda functions"
   ]
  },
  {
   "cell_type": "markdown",
   "id": "3bf2cfdd",
   "metadata": {
    "editable": false,
    "slideshow": {
     "slide_type": "subslide"
    },
    "tags": []
   },
   "source": [
    "**_Lambda functions_** for compact inline function definitions. Useful when you don’t want to use a function twice:\n",
    "\n",
    "`lambda arguments : manipulate(argument)`\n",
    "\n",
    "Or more generally:\n",
    "\n",
    "`somefunc = lambda a1, a2, ... : some_expression`"
   ]
  },
  {
   "cell_type": "code",
   "execution_count": null,
   "id": "dac0e9e2",
   "metadata": {
    "editable": true,
    "slideshow": {
     "slide_type": ""
    }
   },
   "outputs": [],
   "source": [
    "add = lambda x, y: x + y\n",
    "print(add(3, 5))"
   ]
  },
  {
   "cell_type": "markdown",
   "id": "1ea61e3b",
   "metadata": {
    "editable": false,
    "slideshow": {
     "slide_type": "fragment"
    }
   },
   "source": [
    "---\n",
    "_Example_: List sorting"
   ]
  },
  {
   "cell_type": "code",
   "execution_count": null,
   "id": "b1cca538",
   "metadata": {
    "editable": true,
    "slideshow": {
     "slide_type": ""
    }
   },
   "outputs": [],
   "source": [
    "a = [(1, 2), (4, 1), (9, 10), (13, -3)]\n",
    "a.sort(key=lambda x: x[1])\n",
    "print(a)"
   ]
  },
  {
   "cell_type": "markdown",
   "id": "edad7584",
   "metadata": {
    "editable": true,
    "slideshow": {
     "slide_type": "fragment"
    }
   },
   "source": [
    "---\n",
    "_Example_: Parallel sorting of lists"
   ]
  },
  {
   "cell_type": "code",
   "execution_count": null,
   "id": "3f0c93b6",
   "metadata": {
    "editable": true,
    "slideshow": {
     "slide_type": ""
    }
   },
   "outputs": [],
   "source": [
    "list1 = [\"New York\", \"Moscow\", \"Tokyo\"]\n",
    "list2 = [8804190, 13010112, 14187176]\n",
    "data = zip(list1, list2)\n",
    "print(data)\n",
    "data = sorted(data)\n",
    "print(data)\n",
    "list1, list2 = map(lambda t: list(t), zip(*data))\n",
    "print(list1)\n",
    "print(list2)"
   ]
  },
  {
   "cell_type": "markdown",
   "id": "4732f1c2",
   "metadata": {
    "editable": false,
    "slideshow": {
     "slide_type": "fragment"
    }
   },
   "source": [
    "---"
   ]
  },
  {
   "cell_type": "markdown",
   "id": "e3751d80",
   "metadata": {
    "editable": false,
    "slideshow": {
     "slide_type": "subslide"
    }
   },
   "source": [
    "**_Map_** applies a function to all the items in an iterable:\n",
    "\n",
    "`map(function_to_apply, list_of_inputs)`"
   ]
  },
  {
   "cell_type": "code",
   "execution_count": null,
   "id": "a1f8c6b9",
   "metadata": {
    "editable": true,
    "slideshow": {
     "slide_type": ""
    }
   },
   "outputs": [],
   "source": [
    "items = [1,2,3,4,5]\n",
    "squared = []\n",
    "for i in items:\n",
    "    squared.append(i**2)\n",
    "print(squared)"
   ]
  },
  {
   "cell_type": "code",
   "execution_count": null,
   "id": "88f1d8d7",
   "metadata": {
    "editable": true,
    "slideshow": {
     "slide_type": ""
    }
   },
   "outputs": [],
   "source": [
    "squared = list(map(lambda x: x**3, items))\n",
    "print(squared)"
   ]
  },
  {
   "cell_type": "markdown",
   "id": "dd62f9b8",
   "metadata": {
    "editable": false,
    "slideshow": {
     "slide_type": "fragment"
    }
   },
   "source": [
    "---"
   ]
  },
  {
   "cell_type": "markdown",
   "id": "6463ff56-8d6b-4a5e-9921-ca805a5e12e5",
   "metadata": {},
   "source": [
    "## Have a play!"
   ]
  },
  {
   "cell_type": "markdown",
   "id": "11bc6e0d",
   "metadata": {
    "editable": false,
    "slideshow": {
     "slide_type": "fragment"
    },
    "tags": []
   },
   "source": [
    "---"
   ]
  },
  {
   "cell_type": "markdown",
   "id": "c658598e",
   "metadata": {
    "editable": false,
    "slideshow": {
     "slide_type": "subslide"
    }
   },
   "source": [
    "#### Lambda and Sorting\n",
    "Sort this list of dictionaries by the 'age' key using a lambda function.\n",
    "\n",
    "Hint: The `sort`/`sorted` function takes a key parameter"
   ]
  },
  {
   "cell_type": "markdown",
   "id": "fd1c7168",
   "metadata": {
    "lines_to_next_cell": 0
   },
   "source": [
    "<!-- #solution -->"
   ]
  },
  {
   "cell_type": "code",
   "execution_count": null,
   "id": "66dfef7e",
   "metadata": {
    "editable": true,
    "lines_to_next_cell": 0,
    "slideshow": {
     "slide_type": ""
    }
   },
   "outputs": [],
   "source": [
    "# Continue with your solution below:\n",
    "people = [\n",
    "    {'name': 'Alice', 'age': 25},\n",
    "    {'name': 'Bob', 'age': 20},\n",
    "    {'name': 'Charlie', 'age': 30}\n",
    "]\n",
    "#sorted_people = # Your code here\n",
    "sorted_people = sorted(people, key=lambda x: x['age'])\n",
    "sorted_people\n"
   ]
  },
  {
   "cell_type": "markdown",
   "id": "8be2c739",
   "metadata": {},
   "source": [
    "<!-- #endsolution -->"
   ]
  },
  {
   "cell_type": "markdown",
   "id": "a33bb784",
   "metadata": {
    "editable": false,
    "slideshow": {
     "slide_type": "fragment"
    }
   },
   "source": [
    "---"
   ]
  },
  {
   "cell_type": "markdown",
   "id": "ecad0562",
   "metadata": {
    "editable": false,
    "slideshow": {
     "slide_type": "slide"
    },
    "tags": []
   },
   "source": [
    "# <ins>7.</ins> Introduction to modules\n",
    "A _module_ is a single file (or collection of files) that is intended to be imported and used in other Python programs. It can include functions, classes, variables, and runnable code."
   ]
  },
  {
   "cell_type": "markdown",
   "id": "9e1c43a8",
   "metadata": {
    "editable": false,
    "slideshow": {
     "slide_type": "slide"
    }
   },
   "source": [
    "## Importing _modules_"
   ]
  },
  {
   "cell_type": "markdown",
   "id": "eed64626",
   "metadata": {
    "editable": false,
    "slideshow": {
     "slide_type": ""
    }
   },
   "source": [
    "Python comes with hundreds of _modules_ doing all sorts of things. Also, many 3rd-party modules are available to download from the Internet."
   ]
  },
  {
   "cell_type": "markdown",
   "id": "db90a278",
   "metadata": {
    "editable": false,
    "slideshow": {
     "slide_type": ""
    }
   },
   "source": [
    "There are several ways of importing _modules_:"
   ]
  },
  {
   "cell_type": "code",
   "execution_count": null,
   "id": "0f8ee4bb",
   "metadata": {
    "editable": true,
    "slideshow": {
     "slide_type": ""
    }
   },
   "outputs": [],
   "source": [
    "# import the whole module\n",
    "import math\n",
    "\n",
    "# module's function name is in the module's namespace\n",
    "print(math.sqrt(16.0))"
   ]
  },
  {
   "cell_type": "code",
   "execution_count": null,
   "id": "338eca3f",
   "metadata": {
    "editable": true,
    "slideshow": {
     "slide_type": ""
    }
   },
   "outputs": [],
   "source": [
    "# import several modules at once\n",
    "import os, sys, time"
   ]
  },
  {
   "cell_type": "code",
   "execution_count": null,
   "id": "2f29773e",
   "metadata": {
    "editable": true,
    "slideshow": {
     "slide_type": ""
    }
   },
   "outputs": [],
   "source": [
    "# use 'as' keyword to change the name of the module\n",
    "import math as m\n",
    "print(m.sqrt(36.0))"
   ]
  },
  {
   "cell_type": "code",
   "execution_count": null,
   "id": "77b96e95",
   "metadata": {
    "editable": true,
    "slideshow": {
     "slide_type": ""
    }
   },
   "outputs": [],
   "source": [
    "# import only a selected function from a module\n",
    "from math import sqrt\n",
    "\n",
    "# the function's name is in the global namespace\n",
    "print(sqrt(49))"
   ]
  },
  {
   "cell_type": "code",
   "execution_count": null,
   "id": "ce4f29f0",
   "metadata": {
    "editable": true,
    "slideshow": {
     "slide_type": ""
    }
   },
   "outputs": [],
   "source": [
    "# change the name of the function in the module\n",
    "from math import sqrt as square_root\n",
    "print(square_root(25))"
   ]
  },
  {
   "cell_type": "code",
   "execution_count": null,
   "id": "44c18b00",
   "metadata": {
    "editable": true,
    "slideshow": {
     "slide_type": ""
    }
   },
   "outputs": [],
   "source": [
    "# import all functions, variables, and classes from a module into the global namespace\n",
    "# - better to avoid this as some names from the module can interfere with your own variable names in the global namespace\n",
    "from math import *\n",
    "print(int(sqrt(4.0)))"
   ]
  },
  {
   "cell_type": "markdown",
   "id": "d1cc0855",
   "metadata": {
    "editable": false,
    "slideshow": {
     "slide_type": "fragment"
    }
   },
   "source": [
    "---\n",
    "To get help on a module at the Python shell, import it the whole (the very first way), then you can..."
   ]
  },
  {
   "cell_type": "code",
   "execution_count": null,
   "id": "558e0d9e",
   "metadata": {
    "editable": true,
    "slideshow": {
     "slide_type": ""
    }
   },
   "outputs": [],
   "source": [
    "# get a list of the functions and variables in the module\n",
    "dir(math)"
   ]
  },
  {
   "cell_type": "code",
   "execution_count": null,
   "id": "01d2c703",
   "metadata": {
    "editable": true,
    "slideshow": {
     "slide_type": ""
    }
   },
   "outputs": [],
   "source": [
    "# get a long description\n",
    "help(math)"
   ]
  },
  {
   "cell_type": "markdown",
   "id": "8e33b8e3",
   "metadata": {
    "editable": false,
    "slideshow": {
     "slide_type": "fragment"
    }
   },
   "source": [
    "---"
   ]
  },
  {
   "cell_type": "markdown",
   "id": "b14a6818",
   "metadata": {
    "editable": false,
    "slideshow": {
     "slide_type": "slide"
    }
   },
   "source": [
    "## Some useful _modules_"
   ]
  },
  {
   "cell_type": "markdown",
   "id": "012efab2",
   "metadata": {
    "editable": false,
    "slideshow": {
     "slide_type": ""
    }
   },
   "source": [
    "Python comes with a program called pip which will automatically fetch packages released and listed on PyPI: `pip install <some-module>`"
   ]
  },
  {
   "cell_type": "markdown",
   "id": "eb000d98",
   "metadata": {
    "editable": false,
    "slideshow": {
     "slide_type": ""
    }
   },
   "source": [
    "| Name       | Description |\n",
    "|------------------|-------------|\n",
    "| **`time`**       | functions for dealing with time\n",
    "| **`datetime`**   | allows to work with dates and times together\n",
    "| **`os`**         | functions for working with files, directories and operating system\n",
    "| **`shutils`**    | contains a function to copy files\n",
    "| **`sys`**        | contains a function to quit your program\n",
    "| **`zipfile`**    | allows to compress/extract files or directory of files into/from a zip file\n",
    "| **`urllib`**     | allows to get files from the internet\n",
    "| **`math`**       | math functions such as `sin`, `cos`, `tan`, `exp`, `log`, `sqrt`, `floor`, `ceil` |\n",
    "| **`numpy`**      | fundamental package for scientific computing (a multidimensional array object; routines for fast operations on arrays, including mathematical, logical, shape manipulation, sorting, selecting; basic linear algebra, basic statistical operations, random simulation and much more) |\n",
    "| **`scipy`**      | a collection of mathematical algorithms and convenience functions built on the NumPy extension (high-level commands and classes for the manipulation and visualization of data) |\n",
    "| **`matplotlib`** | library for plotting\n",
    "| **`sympy`**      | symbolic computations\n",
    "| **`itertools`**  | provides a generator-like object named `permutations`\n",
    "| **`csv`**        | parsing and writing `csv` files"
   ]
  },
  {
   "cell_type": "markdown",
   "id": "4e16a864",
   "metadata": {
    "editable": false,
    "slideshow": {
     "slide_type": "slide"
    }
   },
   "source": [
    "## Using _modules_"
   ]
  },
  {
   "cell_type": "markdown",
   "id": "17798548",
   "metadata": {
    "editable": false,
    "slideshow": {
     "slide_type": "subslide"
    }
   },
   "source": [
    "### _Example_\n",
    "Interfacing with the operating system: **`os`**"
   ]
  },
  {
   "cell_type": "code",
   "execution_count": null,
   "id": "acfd6a4d",
   "metadata": {
    "editable": true,
    "slideshow": {
     "slide_type": ""
    }
   },
   "outputs": [],
   "source": [
    "import os\n",
    "home = \"/home\"\n",
    "print(os.path.join(home, os.environ[\"USER\"], \"holiday_planning.txt\"))\n",
    "print(os.listdir(\"/home/dmitry/Desktop\"))\n",
    "if not os.path.exists(\"nofile.txt\"):\n",
    "    print(\"File not found\")\n",
    "    exit(1)"
   ]
  },
  {
   "cell_type": "markdown",
   "id": "4e9801e0",
   "metadata": {
    "editable": false,
    "slideshow": {
     "slide_type": "fragment"
    }
   },
   "source": [
    "---\n",
    "We'll demonstrate how to use modules in the actual code using the example of reading/writing files. In the _Beginner_ course, we showed the basic reading/writing files using the built-in functions of Python. But there's a better way of doing that by means of the specialised module called **`csv`**."
   ]
  },
  {
   "cell_type": "markdown",
   "id": "a306f3cb",
   "metadata": {
    "editable": false,
    "slideshow": {
     "slide_type": "fragment"
    }
   },
   "source": [
    "Writing a csv file:"
   ]
  },
  {
   "cell_type": "code",
   "execution_count": null,
   "id": "b10a1b92",
   "metadata": {
    "editable": true,
    "slideshow": {
     "slide_type": ""
    }
   },
   "outputs": [],
   "source": [
    "import csv, math\n",
    "\n",
    "with open (\"example.csv\", 'w') as out_f:\n",
    "    writer = csv.writer(out_f, delimiter=',')\n",
    "    writer.writerow([\"x_axis\", \"y_axis\"])\n",
    "    x_axis = [x * 0.1 for x in range(0, 100)]\n",
    "    for x in x_axis:\n",
    "        writer.writerow([x, math.cos(x)])"
   ]
  },
  {
   "cell_type": "markdown",
   "id": "3a9c7b35",
   "metadata": {
    "editable": false,
    "jp-MarkdownHeadingCollapsed": true,
    "slideshow": {
     "slide_type": "fragment"
    }
   },
   "source": [
    "---\n",
    "Now, let’s extract the value for `y_axis` when `x_axis` is `1.0` for the csv we just wrote:"
   ]
  },
  {
   "cell_type": "code",
   "execution_count": null,
   "id": "b4f9954b",
   "metadata": {
    "editable": true,
    "slideshow": {
     "slide_type": ""
    }
   },
   "outputs": [],
   "source": [
    "import csv\n",
    "\n",
    "with open (\"example.csv\", 'r') as in_f:\n",
    "    reader = csv.reader(in_f, delimiter=',')\n",
    "    next(reader) # skip header\n",
    "    for row in reader:\n",
    "        if row[0] == \"1.0\":\n",
    "            print(row[1])\n",
    "            break"
   ]
  },
  {
   "cell_type": "markdown",
   "id": "6ee8121a",
   "metadata": {
    "editable": false,
    "slideshow": {
     "slide_type": "fragment"
    }
   },
   "source": [
    "---"
   ]
  },
  {
   "cell_type": "markdown",
   "id": "a00f019b",
   "metadata": {
    "editable": false,
    "slideshow": {
     "slide_type": "slide"
    }
   },
   "source": [
    "## Building your own module\n",
    "\n",
    "  - If you have a .py file in a path that is available to python, you can import any object defined in that file.\n",
    "  - If you have `mymodule.py` in your folder you can just write:\n",
    "    `import mymodule`\n",
    "    and use a function defined in there with `mymodule.my_function(arg)`\n",
    "  - of course you can also use the  method\n",
    "    `from mymodule import my_function`"
   ]
  },
  {
   "cell_type": "markdown",
   "id": "47dd6a0c",
   "metadata": {
    "editable": false,
    "slideshow": {
     "slide_type": "subslide"
    }
   },
   "source": [
    "### ```__main__``` special built-in variable\n",
    "So python files can be executed with \n",
    "`python mymodule.py` or loaded from with `import`\n",
    "However, all commands just put into a python file will be executed on import.\n",
    "\n",
    "The answer is to introduce a `__main__` block that is only executed when the file is called as a script.\n",
    "It is good practice to have all code executed in a script to be either in a function or in this block.\n"
   ]
  },
  {
   "cell_type": "markdown",
   "id": "7f4123ae",
   "metadata": {
    "editable": false,
    "slideshow": {
     "slide_type": "fragment"
    }
   },
   "source": [
    "\n",
    "### Example content of `mymodule.py`:\n",
    "```python\n",
    "def myfunction():\n",
    "    print(\"I will be only printed when the function is called\")\n",
    "\n",
    "print(\"I will be called on import and execution as a script\")\n",
    "\n",
    "if __name__ == \"__main__\":\n",
    "    print(\"I will only executed when called as a script\")\n",
    "```"
   ]
  },
  {
   "cell_type": "markdown",
   "id": "bbe2196d",
   "metadata": {
    "editable": false,
    "slideshow": {
     "slide_type": "slide"
    }
   },
   "source": [
    "## Have a play!\n",
    "\n",
    " - (1) Try to put the example content from the last slide into a `mymodule.py` in your folder, (2) import `myfunction` into this notebook and (3) run it.\n",
    " - (4) Add your own function that returns the sine of a value (you might need to restart the kernel in the tab _Kernel_-> _Restart Kernel_) if you have already executed the import.\n",
    " - (5) Test it (import the module with your new function and run it).\n"
   ]
  },
  {
   "cell_type": "markdown",
   "id": "eb0ccdf4",
   "metadata": {
    "lines_to_next_cell": 0
   },
   "source": [
    "<!-- #solution -->"
   ]
  },
  {
   "cell_type": "code",
   "execution_count": null,
   "id": "be842bd3",
   "metadata": {
    "editable": true,
    "lines_to_next_cell": 0,
    "slideshow": {
     "slide_type": ""
    }
   },
   "outputs": [],
   "source": [
    "# solution hint, cell 1\n",
    "# (this is done with this notebook here, but usually you create this outside of python in an external editor)\n",
    "# Write the content into the module file:\n",
    "\n",
    "module_path = 'mymodule.py'\n",
    "\n",
    "module_content = \"\"\"\n",
    "def myfunction():\n",
    "    print(\"I will be only printed when the function is called\")\n",
    "\n",
    "print(\"I will be called on import and execution as a script\")\n",
    "\n",
    "if __name__ == \"__main__\":\n",
    "    print(\"I will only executed when called as a script\")\n",
    "\"\"\"\n",
    "\n",
    "with open(module_path, 'w') as fobj:\n",
    "    fobj.write(module_content)\n"
   ]
  },
  {
   "cell_type": "markdown",
   "id": "9853f26b",
   "metadata": {
    "lines_to_next_cell": 0
   },
   "source": [
    "<!-- #endsolution -->\n",
    "\n",
    "<!-- #solution -->"
   ]
  },
  {
   "cell_type": "code",
   "execution_count": null,
   "id": "506cd6b2",
   "metadata": {
    "editable": true,
    "lines_to_next_cell": 0,
    "slideshow": {
     "slide_type": ""
    }
   },
   "outputs": [],
   "source": [
    "# solution hint, cell 2\n",
    "# Import the module:\n",
    "import mymodule\n"
   ]
  },
  {
   "cell_type": "markdown",
   "id": "e97a61f0",
   "metadata": {
    "lines_to_next_cell": 0
   },
   "source": [
    "<!-- #endsolution -->\n",
    "\n",
    "<!-- #solution -->"
   ]
  },
  {
   "cell_type": "code",
   "execution_count": null,
   "id": "454b088a",
   "metadata": {
    "editable": true,
    "lines_to_next_cell": 0,
    "slideshow": {
     "slide_type": ""
    }
   },
   "outputs": [],
   "source": [
    "# solution hint, cell 3\n",
    "# Call the function from the module:\n",
    "mymodule.myfunction()\n"
   ]
  },
  {
   "cell_type": "markdown",
   "id": "82817742",
   "metadata": {
    "lines_to_next_cell": 0
   },
   "source": [
    "<!-- #endsolution -->\n",
    "\n",
    "<!-- #solution -->"
   ]
  },
  {
   "cell_type": "code",
   "execution_count": null,
   "id": "faee9ea4",
   "metadata": {
    "editable": true,
    "lines_to_next_cell": 0,
    "slideshow": {
     "slide_type": ""
    }
   },
   "outputs": [],
   "source": [
    "# solution hint, cell 4\n",
    "# To avoid the kernel restart, we output into a second file:\n",
    "module_path = 'mymodule2.py'\n",
    "\n",
    "module_content2 = \"\"\"\n",
    "import math\n",
    "\n",
    "def useless_sine(value):\n",
    "\n",
    "\n",
    "def myfunction():\n",
    "    print(\"I will be only printed when the function is called\")\n",
    "\n",
    "print(\"I will be called on import and execution as a script\")\n",
    "\n",
    "if __name__ == \"__main__\":\n",
    "    print(\"I will only executed when called as a script\")\n",
    "\"\"\"\n",
    "\n",
    "with open(module_path, 'w') as fobj:\n",
    "    fobj.write(module_content)\n"
   ]
  },
  {
   "cell_type": "markdown",
   "id": "57afc82f",
   "metadata": {
    "lines_to_next_cell": 0
   },
   "source": [
    "<!-- #endsolution -->\n",
    "\n",
    "<!-- #solution -->"
   ]
  },
  {
   "cell_type": "code",
   "execution_count": null,
   "id": "c8b612fa",
   "metadata": {
    "editable": true,
    "lines_to_next_cell": 0,
    "slideshow": {
     "slide_type": ""
    }
   },
   "outputs": [],
   "source": [
    "# solution hint, cell 4\n",
    "# Import your module and run the sine function from your own module:\n",
    "mymodule2.useless_sine(1.57)\n"
   ]
  },
  {
   "cell_type": "markdown",
   "id": "3eea9b90",
   "metadata": {},
   "source": [
    "<!-- #endsolution -->\n"
   ]
  },
  {
   "cell_type": "markdown",
   "id": "6522c182",
   "metadata": {
    "editable": false,
    "slideshow": {
     "slide_type": "fragment"
    }
   },
   "source": [
    "---"
   ]
  },
  {
   "cell_type": "markdown",
   "id": "b58c6682",
   "metadata": {
    "editable": false,
    "slideshow": {
     "slide_type": "slide"
    },
    "tags": []
   },
   "source": [
    "# <ins>8.</ins> Brief introduction to classes"
   ]
  },
  {
   "cell_type": "markdown",
   "id": "2bc46488",
   "metadata": {
    "editable": false,
    "slideshow": {
     "slide_type": ""
    }
   },
   "source": [
    "* Python is an object oriented programming language. Object-Oriented Programming is a programming paradigm based on the concept of \"objects\" which can contain:\n",
    "  - Data (attributes)\n",
    "  - Code (methods)"
   ]
  },
  {
   "cell_type": "markdown",
   "id": "e1593f5d",
   "metadata": {
    "editable": false,
    "slideshow": {
     "slide_type": "subslide"
    }
   },
   "source": [
    "### What is OOP?\n",
    "Key OOP Concepts:\n",
    "\n",
    "1. **Classes and Objects**\n",
    "   - Class: A blueprint for creating objects\n",
    "   - Object: An instance of a class\n",
    "\n",
    "\n",
    "A simple example:"
   ]
  },
  {
   "cell_type": "code",
   "execution_count": null,
   "id": "1407e76f",
   "metadata": {
    "editable": true,
    "slideshow": {
     "slide_type": ""
    }
   },
   "outputs": [],
   "source": [
    "# Simple example\n",
    "class Dog:\n",
    "    def __init__(self, name):\n",
    "        self.name = name  # attribute\n",
    "        \n",
    "    def bark(self):      # method\n",
    "        print(f\"{self.name} says woof!\")\n",
    "\n",
    "# Creating objects\n",
    "dog1 = Dog(\"Rex\")\n",
    "dog2 = Dog(\"Buddy\")\n",
    "dog1.bark()  # Rex says woof!"
   ]
  },
  {
   "cell_type": "markdown",
   "id": "28ce7852",
   "metadata": {},
   "source": [
    "- `__init__`: The constructor method to initialize the attributes."
   ]
  },
  {
   "cell_type": "markdown",
   "id": "f4eb6d0f",
   "metadata": {
    "editable": false,
    "slideshow": {
     "slide_type": "subslide"
    }
   },
   "source": [
    "2. **Encapsulation**\n",
    "   - Bundling data and methods that work on that data within one unit\n",
    "   - Restricting access to certain details"
   ]
  },
  {
   "cell_type": "code",
   "execution_count": null,
   "id": "68e70b7d",
   "metadata": {
    "editable": true,
    "slideshow": {
     "slide_type": ""
    }
   },
   "outputs": [],
   "source": [
    "class BankAccount:\n",
    "    def __init__(self):\n",
    "        self._balance = 0  # protected attribute\n",
    "        \n",
    "    def deposit(self, amount):\n",
    "        if amount > 0:\n",
    "            self._balance += amount\n",
    "            \n",
    "    def get_balance(self):\n",
    "        return self._balance"
   ]
  },
  {
   "cell_type": "markdown",
   "id": "0b6b8520",
   "metadata": {
    "editable": false,
    "slideshow": {
     "slide_type": "subslide"
    }
   },
   "source": [
    "3. **Inheritance**\n",
    "   - Creating new classes that are built upon existing classes"
   ]
  },
  {
   "cell_type": "code",
   "execution_count": null,
   "id": "556d6e71",
   "metadata": {
    "editable": true,
    "slideshow": {
     "slide_type": ""
    }
   },
   "outputs": [],
   "source": [
    "class Animal:\n",
    "    def __init__(self, name):\n",
    "        self.name = name\n",
    "        \n",
    "    def speak(self):\n",
    "        pass\n",
    "\n",
    "class Cat(Animal):\n",
    "    def speak(self):\n",
    "        return f\"{self.name} says meow!\""
   ]
  },
  {
   "cell_type": "markdown",
   "id": "1ef78472",
   "metadata": {
    "editable": false,
    "slideshow": {
     "slide_type": "subslide"
    }
   },
   "source": [
    "4. **Polymorphism**\n",
    "   - Different classes can be treated through the same interface"
   ]
  },
  {
   "cell_type": "code",
   "execution_count": null,
   "id": "dcb8d647",
   "metadata": {
    "editable": true,
    "slideshow": {
     "slide_type": ""
    }
   },
   "outputs": [],
   "source": [
    "def make_speak(animal):\n",
    "    print(animal.speak())\n",
    "\n",
    "cat = Cat(\"Whiskers\")\n",
    "make_speak(cat)  # Whiskers says meow!"
   ]
  },
  {
   "cell_type": "markdown",
   "id": "ccfa919b",
   "metadata": {
    "editable": false,
    "slideshow": {
     "slide_type": "subslide"
    }
   },
   "source": [
    "\"Real-World\" Example: The Elephant and Refrigerator\n",
    "\n",
    "How do you put an elephant into a refrigerator? Old style (without classes):"
   ]
  },
  {
   "cell_type": "code",
   "execution_count": null,
   "id": "50b261ea",
   "metadata": {
    "editable": true,
    "slideshow": {
     "slide_type": ""
    }
   },
   "outputs": [],
   "source": [
    "# define elephant size\n",
    "elephant_x = 5\n",
    "elephant_y = 5\n",
    "elephamt_h = 5\n",
    "\n",
    "# define refrigerator size\n",
    "refrigerator_x = 6\n",
    "refrigerator_y = 6\n",
    "refrigerator_h = 6\n",
    "\n",
    "def open_refrigerator_door():\n",
    "    print('Refrigerator door is opened')\n",
    "\n",
    "def package_elephant():\n",
    "    print('Elephant is packaged')\n",
    "\n",
    "def put_elephant_to_refrigerator():\n",
    "    print('Elephant is in the fridge already')\n",
    "\n",
    "def close_refrigerator_door():\n",
    "    print('Close the refrigerator door')\n",
    "\n",
    "# compare size\n",
    "if elephant_x < refrigerator_x and elephant_y < refrigerator_y and elephamt_h < refrigerator_h:\n",
    "   open_refrigerator_door()\n",
    "   package_elephant()\n",
    "   put_elephant_to_refrigerator()\n",
    "   close_refrigerator_door()\n",
    "else:\n",
    "    print('refrigerator is too small to put elephant')"
   ]
  },
  {
   "cell_type": "markdown",
   "id": "11511b20",
   "metadata": {
    "editable": false,
    "slideshow": {
     "slide_type": "fragment"
    }
   },
   "source": [
    "---"
   ]
  },
  {
   "cell_type": "markdown",
   "id": "793739ed",
   "metadata": {
    "editable": false,
    "slideshow": {
     "slide_type": "subslide"
    }
   },
   "source": [
    "Now let's look at our elephant and refrigerator example through OOP principles:\n",
    "\n",
    "1. **Encapsulation**: Both `Elephant` and `Refrigerator` classes keep their properties (dimensions) and behaviors (package, open_door) together\n",
    "2. **Abstraction**: The complex logic of putting an elephant in a refrigerator is hidden behind simple method calls\n",
    "3. **Object Interaction**: The `Refrigerator` class works with `Elephant` objects"
   ]
  },
  {
   "cell_type": "code",
   "execution_count": null,
   "id": "8f12aac9",
   "metadata": {
    "editable": true,
    "slideshow": {
     "slide_type": ""
    }
   },
   "outputs": [],
   "source": [
    "class Elephant:\n",
    "    def __init__(self, x, y, h):\n",
    "        self.x = x\n",
    "        self.y = y\n",
    "        self.h = h\n",
    "\n",
    "    def package(self):\n",
    "        print('Elephant is packaged')\n",
    "\n",
    "class Refrigerator:\n",
    "    def __init__(self, x, y, h):\n",
    "        self.x = x\n",
    "        self.y = y\n",
    "        self.h = h\n",
    "        self.is_door_open = False\n",
    "\n",
    "    def open_door(self):\n",
    "        self.is_door_open = True\n",
    "        print('Refrigerator door is opened')\n",
    "\n",
    "    def close_door(self):\n",
    "        self.is_door_open = False\n",
    "        print('Close the refrigerator door')\n",
    "\n",
    "    def put_elephant(self, elephant):\n",
    "        if not self.is_door_open:\n",
    "            self.open_door()\n",
    "        if elephant.x < self.x and elephant.y < self.y and elephant.h < self.h:\n",
    "            elephant.package()\n",
    "            print('Elephant is in the fridge already')\n",
    "        else:\n",
    "            print('Refrigerator is too small to put elephant')\n",
    "        self.close_door()\n",
    "\n",
    "# Define element sizes\n",
    "elephant_x = 5\n",
    "elephant_y = 5\n",
    "elephant_h = 5\n",
    "\n",
    "# Define refrigerator sizes\n",
    "refrigerator_x = 6\n",
    "refrigerator_y = 6\n",
    "refrigerator_h = 6\n",
    "\n",
    "# Create instances of Elephant and Refrigerator classes\n",
    "elephant = Elephant(elephant_x, elephant_y, elephant_h)\n",
    "refrigerator = Refrigerator(refrigerator_x, refrigerator_y, refrigerator_h)\n",
    "\n",
    "# Put the elephant in the refrigerator\n",
    "refrigerator.put_elephant(elephant)"
   ]
  },
  {
   "cell_type": "markdown",
   "id": "4cb7ed7a",
   "metadata": {
    "editable": false,
    "slideshow": {
     "slide_type": "fragment"
    }
   },
   "source": [
    "---\n",
    "1. The `Elephant` class contains the `package` method.\n",
    "\n",
    "2. The `Refrigerator` class contains methods for opening and closing the door (`open_door` and `close_door`) \n",
    "as well as putting the elephant inside (`put_elephant`).\n",
    "\n",
    "3. The logic to determine if the elephant fits into the refrigerator is now part of the `put_elephant` method.\n",
    "\n",
    "4. We create instances of the `Elephant` and `Refrigerator` classes and use the `put_elephant` method to put the elephant into the refrigerator."
   ]
  },
  {
   "cell_type": "markdown",
   "id": "6b3d4d5a",
   "metadata": {
    "editable": false,
    "slideshow": {
     "slide_type": "slide"
    }
   },
   "source": [
    "## Have a play!"
   ]
  },
  {
   "cell_type": "markdown",
   "id": "3915bd19",
   "metadata": {
    "editable": false,
    "slideshow": {
     "slide_type": "subslide"
    }
   },
   "source": [
    "### Exercise: Building a Car Management System 🚗\n",
    "\n",
    "Create a `Car` class that simulates basic car operations. This exercise will help you practice working with class attributes and methods.\n",
    "\n",
    "1. Create a `Car` class with the following features:\n",
    "   - Store basic car information:\n",
    "     - `make`: The make of the car (e.g., Toyota, Honda);\n",
    "     - `model`: The model of the car (e.g., Camry, Civic);\n",
    "     - `year`: The year the car was manufactured;\n",
    "     - `color`: The color of the car;\n",
    "     - `mileage`: The current mileage of the car.\n",
    "   - Allow the car to be driven:\n",
    "     - `drive(distance)`: A method that takes a distance in miles as a parameter and increases the mileage of the car accordingly.\n",
    "   - Enable car repainting:\n",
    "     - `paint(new_color)`: A method that changes the color of the car;\n",
    "   - Display car information:\n",
    "     - `display_info()`: A method that displays all the information about the car (make, model, year, color, and mileage)."
   ]
  },
  {
   "cell_type": "markdown",
   "id": "f669ef80",
   "metadata": {
    "lines_to_next_cell": 0
   },
   "source": [
    "<!-- #solution -->"
   ]
  },
  {
   "cell_type": "code",
   "execution_count": null,
   "id": "5c9d1d39",
   "metadata": {
    "editable": true,
    "lines_to_next_cell": 0,
    "slideshow": {
     "slide_type": ""
    }
   },
   "outputs": [],
   "source": [
    "# Uncomment below and continue with your solution:\n",
    "#class Car:\n",
    "#    def __init__(...):\n",
    "\n",
    "class Car:\n",
    "    def __init__(self, make, model, year, color, mileage, num):\n",
    "        self.make = make\n",
    "        self.model = model\n",
    "        self.year = year\n",
    "        self.color = color\n",
    "        self.mileage = mileage\n",
    "        self.num = num\n",
    "\n",
    "    def drive(self, distance):\n",
    "        self.mileage += distance\n",
    "\n",
    "    def paint(self, new_color):\n",
    "        self.color = new_color\n",
    "\n",
    "    def re_register(self, new_num):\n",
    "        self.num = new_num\n",
    "\n",
    "    def display_info(self):\n",
    "        print(f\"Make: {self.make}\")\n",
    "        print(f\"Model: {self.model}\")\n",
    "        print(f\"Year: {self.year}\")\n",
    "        print(f\"Color: {self.color}\")\n",
    "        print(f\"Mileage: {self.mileage}\")\n",
    "        print(f\"plate number: {self.num}\")\n",
    "\n",
    "\n",
    "# Test the Car class\n",
    "car1 = Car(\"Toyota\", \"Camry\", 2020, \"Blue\", 15000, \"DUR 888\")\n",
    "car1.display_info()\n",
    "\n",
    "car1.drive(100)\n",
    "car1.paint(\"Red\")\n",
    "car1.display_info()\n",
    "################\n",
    "car1.re_register('DUR 666')\n",
    "car1.display_info()"
   ]
  },
  {
   "cell_type": "markdown",
   "id": "cea4a098",
   "metadata": {},
   "source": [
    "<!-- #endsolution -->"
   ]
  },
  {
   "cell_type": "markdown",
   "id": "9d61d027",
   "metadata": {
    "editable": false,
    "slideshow": {
     "slide_type": "fragment"
    }
   },
   "source": [
    "---"
   ]
  },
  {
   "cell_type": "markdown",
   "id": "ef9b73ae",
   "metadata": {
    "editable": false,
    "slideshow": {
     "slide_type": "slide"
    }
   },
   "source": [
    "# Thank You for Attending! 👋\n",
    "\n",
    "- Feedback would really be appreciated (see the link in the email I've sent)\n",
    "- Check out our other training courses at ARC:\n",
    "  - https://www.durham.ac.uk/research/institutes-and-centres/advanced-research-computing/training-/\n",
    "- RSE support by ARC at Durham University:\n",
    "  - https://www.durham.ac.uk/research/institutes-and-centres/advanced-research-computing/research-software-engineering/\n",
    "\n",
    "#### Contact\n",
    "- Email: arc-rse@durham.ac.uk\n",
    "\n",
    "Happy Coding! 🐍"
   ]
  }
 ],
 "metadata": {
  "kernelspec": {
   "display_name": "Python 3 (ipykernel)",
   "language": "python",
   "name": "python3"
  },
  "language_info": {
   "codemirror_mode": {
    "name": "ipython",
    "version": 3
   },
   "file_extension": ".py",
   "mimetype": "text/x-python",
   "name": "python",
   "nbconvert_exporter": "python",
   "pygments_lexer": "ipython3",
   "version": "3.12.3"
  }
 },
 "nbformat": 4,
 "nbformat_minor": 5
}
