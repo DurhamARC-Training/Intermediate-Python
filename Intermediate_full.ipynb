{
 "cells": [
  {
   "cell_type": "markdown",
   "id": "872c6494",
   "metadata": {
    "editable": true,
    "slideshow": {
     "slide_type": "slide"
    },
    "tags": []
   },
   "source": [
    "ARC course \"Coding with Python\" (Intermediate level)\n",
    "====================================================\n",
    "![icons8-python-48.png](images/icons8-python-48.png)"
   ]
  },
  {
   "cell_type": "markdown",
   "id": "2cd478b7",
   "metadata": {
    "editable": true,
    "slideshow": {
     "slide_type": ""
    }
   },
   "source": [
    "Welcome to our ARC course \"Coding with Python\" (Intermediate level).\n",
    "\n",
    "Some general information on how the course will run:\n",
    "\n",
    "* The course will run for three hours from 09:00 to 12:00. We plan a coffee break between 2 parts at around 10:30 for ~10-15 min.\n",
    "\n",
    "* This material builds upon the knowledge acquired in the previous Beginner level course.\n",
    "\n",
    "* Each topic will be presented wih code demonstrations followed by practical exercises.\n",
    "\n",
    "* We are happy to answer any questions during the course and to help during the exercises.\n",
    "\n",
    "Upon completion of the course, please, don't forget to scan the activity QR code to record your attendance.\n",
    "\n",
    "Enjoy coding with Python!"
   ]
  },
  {
   "cell_type": "markdown",
   "id": "4d58fde4",
   "metadata": {
    "editable": true,
    "slideshow": {
     "slide_type": "slide"
    }
   },
   "source": [
    "## Set up your Python environment"
   ]
  },
  {
   "cell_type": "markdown",
   "id": "1366a29a",
   "metadata": {
    "editable": true,
    "slideshow": {
     "slide_type": ""
    }
   },
   "source": [
    "There are several option how you can read and run this Jupyter notebook:"
   ]
  },
  {
   "cell_type": "markdown",
   "id": "ed65e163",
   "metadata": {
    "editable": true,
    "slideshow": {
     "slide_type": "subslide"
    }
   },
   "source": [
    "#### <ins>Option 1 (preferred)</ins>: The Jupyter Notebook server set up by Daniel Maitre from the Physics department"
   ]
  },
  {
   "cell_type": "markdown",
   "id": "233e191c",
   "metadata": {
    "editable": true,
    "slideshow": {
     "slide_type": ""
    }
   },
   "source": [
    "1) Log in with your CIS account (loading process can take some time):\n",
    "   - https://notebooks.dmaitre.phyip3.dur.ac.uk/arc\n",
    "\n",
    "2) Upload this tutorial course\n",
    "   - Go to the repository: https://github.com/DurhamARC-Training/Intermediate-Python\n",
    "   - Download `pull_files_from_repo.py` file into your environment and upload it to the Jupyter Notebook server\n",
    "   - Open the terminal on the Jupyter Notebook server and execute `python pull_files_from_repo.py`. It'll upload the entire tutorial from GitHub to the server"
   ]
  },
  {
   "cell_type": "markdown",
   "id": "e673e2cd",
   "metadata": {
    "editable": true,
    "slideshow": {
     "slide_type": "slide"
    }
   },
   "source": [
    "# <ins>Table of Contents</ins>"
   ]
  },
  {
   "cell_type": "markdown",
   "id": "85069fdb",
   "metadata": {
    "editable": true,
    "slideshow": {
     "slide_type": ""
    },
    "tags": []
   },
   "source": [
    "  - [0. Introduction](#0.-Introduction)\n",
    "    - [Set up your Python environment](#Set-up-your-Python-environment)\n",
    "    - [Course objectives](#Course-objectives)\n",
    "    - [Useful resources](#Useful-resources)\n",
    "- [Part I](#Part-I)\n",
    "  - [1. Recap](#1.-Recap)\n",
    "  - [2. Data structures](#2.-Data-structures)\n",
    "  - [3. Conditional expression](#3.-Conditional-expressions)\n",
    "  - [4. Comprehensions](#4.-comprehensions)\n",
    "  - [5. Advanced string manipulation](#5.-Advanced-string-manipulation)\n",
    "\n",
    "- [Part II](#Part-II)\n",
    "  - [6. Iterators beneath control flows](#6.-Iterators-beneath-control-flows)\n",
    "  - [7. Lambda functions](#7.-Lambda-functions)\n",
    "  - [8. Introduction to modules](#8.-Introduction-to-modules)\n",
    "  - [9. Brief introduction to classes](#9.-Brief-introduction-to-classes)"
   ]
  },
  {
   "cell_type": "markdown",
   "id": "153ed362",
   "metadata": {
    "editable": true,
    "slideshow": {
     "slide_type": "slide"
    }
   },
   "source": [
    "# <ins>0.</ins> Introduction"
   ]
  },
  {
   "cell_type": "markdown",
   "id": "6ba842c0",
   "metadata": {
    "editable": true,
    "slideshow": {
     "slide_type": "slide"
    }
   },
   "source": [
    "## Course objectives"
   ]
  },
  {
   "cell_type": "markdown",
   "id": "b1d20fc9",
   "metadata": {
    "editable": true,
    "slideshow": {
     "slide_type": ""
    }
   },
   "source": [
    "By the end of this course, you should know:\n",
    "\n",
    "- How to write more efficient and _Pythonic_ code using advanced language features.\n",
    "- How to simplify your code with _comprehensions_ and _conditional expressions_.\n",
    "- How to write and utilize _lambdas_ (anonymous functions).\n",
    "- How to perform advanced _string manipulation_ techniques.\n",
    "- How to import and use _modules_ to extend your programs.\n",
    "- How to work with various data structures and understand the concept of _immutability_.\n",
    "- How to create and use basic _classes_ to implement object-oriented programming principles."
   ]
  },
  {
   "cell_type": "markdown",
   "id": "cdfa9441",
   "metadata": {
    "editable": true,
    "slideshow": {
     "slide_type": "slide"
    }
   },
   "source": [
    "## Useful resources"
   ]
  },
  {
   "cell_type": "markdown",
   "id": "3eadf8e2",
   "metadata": {
    "editable": true,
    "slideshow": {
     "slide_type": ""
    }
   },
   "source": [
    "There are plenty of resources to learn Python in the Internet from. These can be recommended by this tutorial for further learning:\n",
    "\n",
    "- [The Python Tutorial](https://docs.python.org/3/tutorial/) from Python documentation\n",
    "- [Python Cheat Sheets](https://pythononeliners.com/)\n",
    "- [Collection of free Python books](https://blog.finxter.com/free-python-books/)\n",
    "- [Python tips](https://book.pythontips.com/en/latest/index.html)"
   ]
  },
  {
   "cell_type": "markdown",
   "id": "26d2d446",
   "metadata": {
    "editable": true,
    "slideshow": {
     "slide_type": "slide"
    },
    "tags": []
   },
   "source": [
    "# <ins>**Part I**</ins>"
   ]
  },
  {
   "cell_type": "markdown",
   "id": "4e49802b",
   "metadata": {
    "editable": true,
    "slideshow": {
     "slide_type": "slide"
    },
    "tags": []
   },
   "source": [
    "# <ins>**1.**</ins> Recap"
   ]
  },
  {
   "cell_type": "markdown",
   "id": "f99bdeea",
   "metadata": {
    "editable": true,
    "slideshow": {
     "slide_type": ""
    }
   },
   "source": [
    "This section is a brief recap of materials covered in the Beginner Python course:\n",
    "\n",
    "* Data Types, variables, operators\n",
    "* Comments\n",
    "* User input\n",
    "* Reading and Writing Files\n",
    "* Lists\n",
    "* Repetitions and Conditions\n",
    "* Functions\n"
   ]
  },
  {
   "cell_type": "markdown",
   "id": "b721c83a",
   "metadata": {
    "editable": true,
    "slideshow": {
     "slide_type": "slide"
    },
    "tags": []
   },
   "source": [
    "## Data Types, variables, operators"
   ]
  },
  {
   "cell_type": "markdown",
   "id": "de74f8e6",
   "metadata": {
    "@deathbeds/jupyterlab-fonts": {
     "styles": {
      "": {
       "body[data-jp-deck-mode='presenting'] &": {
        "opacity": null
       }
      }
     }
    },
    "editable": true,
    "slideshow": {
     "slide_type": "fragment"
    }
   },
   "source": [
    "## Variables\n",
    "Hold the value of a data type in memory!\n",
    "\n",
    "**NOTE:** Please give variables clear and explanative names."
   ]
  },
  {
   "cell_type": "code",
   "execution_count": null,
   "id": "decd8f2c",
   "metadata": {
    "editable": true,
    "slideshow": {
     "slide_type": ""
    }
   },
   "outputs": [],
   "source": [
    "enrolled_students = 728"
   ]
  },
  {
   "cell_type": "code",
   "execution_count": null,
   "id": "1489fa3d",
   "metadata": {
    "editable": true,
    "slideshow": {
     "slide_type": ""
    }
   },
   "outputs": [],
   "source": [
    "work_hours = 7.5"
   ]
  },
  {
   "cell_type": "code",
   "execution_count": null,
   "id": "fb6110d3",
   "metadata": {
    "editable": true,
    "slideshow": {
     "slide_type": ""
    }
   },
   "outputs": [],
   "source": [
    "is_loaded = False"
   ]
  },
  {
   "cell_type": "code",
   "execution_count": null,
   "id": "ac31e498",
   "metadata": {
    "editable": true,
    "slideshow": {
     "slide_type": ""
    }
   },
   "outputs": [],
   "source": [
    "welcome_message = \"Welcome!\""
   ]
  },
  {
   "cell_type": "markdown",
   "id": "e1bd297e",
   "metadata": {
    "editable": true,
    "slideshow": {
     "slide_type": "fragment"
    }
   },
   "source": [
    "---\n",
    "**NOTE:** Values can be overwritten!\n",
    "\n",
    "If we define a new `welcome_message`, it changes."
   ]
  },
  {
   "cell_type": "code",
   "execution_count": null,
   "id": "94b6e716",
   "metadata": {
    "editable": true,
    "slideshow": {
     "slide_type": ""
    }
   },
   "outputs": [],
   "source": [
    "welcome_message = \"Welcome, User\""
   ]
  },
  {
   "cell_type": "code",
   "execution_count": null,
   "id": "d11dd969",
   "metadata": {
    "editable": true,
    "slideshow": {
     "slide_type": ""
    }
   },
   "outputs": [],
   "source": [
    "print(welcome_message)"
   ]
  },
  {
   "cell_type": "markdown",
   "id": "2a63c2dd",
   "metadata": {
    "editable": true,
    "slideshow": {
     "slide_type": "fragment"
    }
   },
   "source": [
    "## Data types"
   ]
  },
  {
   "cell_type": "markdown",
   "id": "7ab44bf2",
   "metadata": {
    "editable": true,
    "slideshow": {
     "slide_type": ""
    },
    "tags": []
   },
   "source": [
    "As with any programming language, Python can deal with many different data types. Among the basic ones are `str` strings, `int` integers, `float` floating-point numbers and `bool` booleans.\n",
    "\n",
    "* an example of a _numeric_ value, _integer_ value;\n",
    "* an integer _expression_, a basic building block of a Python _statement_;\n",
    "* normal arithmetic addition"
   ]
  },
  {
   "cell_type": "markdown",
   "id": "c33c20f5",
   "metadata": {
    "editable": true,
    "slideshow": {
     "slide_type": "subslide"
    },
    "tags": []
   },
   "source": [
    "#### <u>Numerical</u>"
   ]
  },
  {
   "cell_type": "markdown",
   "id": "7a797eab",
   "metadata": {
    "editable": true,
    "slideshow": {
     "slide_type": "fragment"
    },
    "tags": []
   },
   "source": [
    "##### Floating-point representation:\n",
    "* A built-in `float` is typically a double-precision (64-bit) floating-point number, following the IEEE 754 standard\n",
    "\n",
    "| Title | Storage | Smallest Magnitude | Largest Magnitude | Minimum Precision |\n",
    "|-------|---------|--------------------|-------------------|-------------------|\n",
    "| float | 64 bits | 2.22507 × 10e−308  | 1.79769 × 10+308  | ~15-17 digits     |"
   ]
  },
  {
   "cell_type": "code",
   "execution_count": null,
   "id": "c13d9a15",
   "metadata": {
    "editable": true,
    "slideshow": {
     "slide_type": ""
    }
   },
   "outputs": [],
   "source": [
    "pi = 3.14159\n",
    "print(\"Pi =\", pi)"
   ]
  },
  {
   "cell_type": "code",
   "execution_count": null,
   "id": "26b8760c",
   "metadata": {
    "editable": true,
    "slideshow": {
     "slide_type": ""
    }
   },
   "outputs": [],
   "source": [
    "type(pi) # float"
   ]
  },
  {
   "cell_type": "markdown",
   "id": "b9324c88",
   "metadata": {
    "editable": true,
    "slideshow": {
     "slide_type": "fragment"
    }
   },
   "source": [
    "_NOTE_: Scientific notation is supported!"
   ]
  },
  {
   "cell_type": "code",
   "execution_count": null,
   "id": "3253e3d0",
   "metadata": {
    "editable": true,
    "slideshow": {
     "slide_type": ""
    }
   },
   "outputs": [],
   "source": [
    "avogadros_number = 6.022e23\n",
    "c = 2.998e8\n",
    "print(\"Avogadro's number =\", avogadros_number)\n",
    "print(\"Speed of light =\", c)"
   ]
  },
  {
   "cell_type": "markdown",
   "id": "397f9f86",
   "metadata": {
    "editable": true,
    "slideshow": {
     "slide_type": "fragment"
    }
   },
   "source": [
    "##### Integer representation:\n",
    "* No Fixed Bounds. You can store extremely large positive or negative integers, constrained only by the available memory\n",
    "* No explicit smallest or largest representable `int`"
   ]
  },
  {
   "cell_type": "code",
   "execution_count": null,
   "id": "3342a922",
   "metadata": {
    "editable": true,
    "slideshow": {
     "slide_type": ""
    }
   },
   "outputs": [],
   "source": [
    "n = 3\n",
    "print(n)"
   ]
  },
  {
   "cell_type": "code",
   "execution_count": null,
   "id": "36e671e1",
   "metadata": {
    "editable": true,
    "slideshow": {
     "slide_type": ""
    }
   },
   "outputs": [],
   "source": [
    "type(n) # integer"
   ]
  },
  {
   "cell_type": "markdown",
   "id": "b68a5bbf",
   "metadata": {
    "editable": true,
    "slideshow": {
     "slide_type": "subslide"
    }
   },
   "source": [
    "<u>**Numerical Operators**</u>  \n",
    "\n",
    "- Numerical data: `+`, `-`, `*`, `/`, `%`, `**`, built-in functions `abs`, ...\n",
    "- Order of execution:\n",
    "    1. `()`\n",
    "    2. `**`\n",
    "    3. `*`, `/`\n",
    "    4. `+`, `-`\n",
    "    5. Left-to-right (except exponentiation!)\n",
    "\n",
    "So, use parenthesis to make sure!"
   ]
  },
  {
   "cell_type": "code",
   "execution_count": null,
   "id": "af62e441",
   "metadata": {
    "editable": true,
    "slideshow": {
     "slide_type": ""
    }
   },
   "outputs": [],
   "source": [
    "print(\"Addition:\", 1 + 2)"
   ]
  },
  {
   "cell_type": "code",
   "execution_count": null,
   "id": "7e7ef933",
   "metadata": {
    "editable": true,
    "slideshow": {
     "slide_type": ""
    }
   },
   "outputs": [],
   "source": [
    "print(\"Subtraction:\", 1 - 2)"
   ]
  },
  {
   "cell_type": "code",
   "execution_count": null,
   "id": "28810d42",
   "metadata": {
    "editable": true,
    "slideshow": {
     "slide_type": ""
    }
   },
   "outputs": [],
   "source": [
    "print(\"Multiplication:\", 5 * 10)"
   ]
  },
  {
   "cell_type": "code",
   "execution_count": null,
   "id": "8b66a0a4",
   "metadata": {
    "editable": true,
    "slideshow": {
     "slide_type": ""
    }
   },
   "outputs": [],
   "source": [
    "print(\"Division:\", 10 / 5)"
   ]
  },
  {
   "cell_type": "code",
   "execution_count": null,
   "id": "6984dbe1",
   "metadata": {
    "editable": true,
    "slideshow": {
     "slide_type": ""
    }
   },
   "outputs": [],
   "source": [
    "print(\"Modulus:\", 10 % 3)"
   ]
  },
  {
   "cell_type": "code",
   "execution_count": null,
   "id": "74e37711",
   "metadata": {
    "editable": true,
    "slideshow": {
     "slide_type": ""
    }
   },
   "outputs": [],
   "source": [
    "print(\"Exponentiation:\", 2 ** 3)"
   ]
  },
  {
   "cell_type": "markdown",
   "id": "9ca15865",
   "metadata": {
    "editable": true,
    "slideshow": {
     "slide_type": "subslide"
    }
   },
   "source": [
    "#### <u>Boolean</u>"
   ]
  },
  {
   "cell_type": "code",
   "execution_count": null,
   "id": "d7b7abb8",
   "metadata": {
    "editable": true,
    "slideshow": {
     "slide_type": ""
    }
   },
   "outputs": [],
   "source": [
    "b1 = False\n",
    "b2 = True\n",
    "print(b1)"
   ]
  },
  {
   "cell_type": "code",
   "execution_count": null,
   "id": "9296bb88",
   "metadata": {
    "editable": true,
    "slideshow": {
     "slide_type": ""
    }
   },
   "outputs": [],
   "source": [
    "type(True) # boolean"
   ]
  },
  {
   "cell_type": "markdown",
   "id": "2cddcb7d",
   "metadata": {
    "editable": true,
    "slideshow": {
     "slide_type": "fragment"
    }
   },
   "source": [
    "---"
   ]
  },
  {
   "cell_type": "markdown",
   "id": "eae67d96",
   "metadata": {
    "editable": true,
    "slideshow": {
     "slide_type": "subslide"
    }
   },
   "source": [
    "<u>**Logical Operators**</u>  \n",
    "We can also determine conditions based on Boolean logic: `and`, `or`, `not`"
   ]
  },
  {
   "cell_type": "markdown",
   "id": "b38b2739",
   "metadata": {
    "editable": true,
    "slideshow": {
     "slide_type": "fragment"
    }
   },
   "source": [
    "---\n",
    "**AND:**"
   ]
  },
  {
   "cell_type": "code",
   "execution_count": null,
   "id": "db33e773",
   "metadata": {
    "editable": true,
    "slideshow": {
     "slide_type": ""
    }
   },
   "outputs": [],
   "source": [
    "a = True\n",
    "b = False\n",
    "\n",
    "a and b"
   ]
  },
  {
   "cell_type": "markdown",
   "id": "8b00b658",
   "metadata": {
    "editable": true,
    "slideshow": {
     "slide_type": "fragment"
    }
   },
   "source": [
    "---\n",
    "**OR:**"
   ]
  },
  {
   "cell_type": "code",
   "execution_count": null,
   "id": "725d0173",
   "metadata": {
    "editable": true,
    "slideshow": {
     "slide_type": ""
    }
   },
   "outputs": [],
   "source": [
    "a = True\n",
    "b = False\n",
    "\n",
    "a or b"
   ]
  },
  {
   "cell_type": "markdown",
   "id": "6a10fe2f",
   "metadata": {
    "editable": true,
    "slideshow": {
     "slide_type": "fragment"
    }
   },
   "source": [
    "---\n",
    "**NOT:**"
   ]
  },
  {
   "cell_type": "code",
   "execution_count": null,
   "id": "27378611",
   "metadata": {
    "editable": true,
    "slideshow": {
     "slide_type": ""
    }
   },
   "outputs": [],
   "source": [
    "a = True\n",
    "\n",
    "not a"
   ]
  },
  {
   "cell_type": "markdown",
   "id": "a5e3ab30",
   "metadata": {
    "editable": true,
    "slideshow": {
     "slide_type": "subslide"
    }
   },
   "source": [
    "#### <u>String</u>"
   ]
  },
  {
   "cell_type": "markdown",
   "id": "ba570bf4",
   "metadata": {
    "editable": true,
    "slideshow": {
     "slide_type": "fragment"
    }
   },
   "source": [
    "A string is a series of characters enclosed in quotes, either single or double, used to represent text."
   ]
  },
  {
   "cell_type": "code",
   "execution_count": null,
   "id": "ea3df5a1",
   "metadata": {
    "editable": true,
    "slideshow": {
     "slide_type": ""
    }
   },
   "outputs": [],
   "source": [
    "s = 'Hello, World!'\n",
    "s = \"Hello, World!\"\n",
    "print(s)"
   ]
  },
  {
   "cell_type": "code",
   "execution_count": null,
   "id": "e3c09d2d",
   "metadata": {
    "editable": true,
    "slideshow": {
     "slide_type": ""
    }
   },
   "outputs": [],
   "source": [
    "type(s) # string"
   ]
  },
  {
   "cell_type": "markdown",
   "id": "50a4347d",
   "metadata": {
    "editable": true,
    "slideshow": {
     "slide_type": "subslide"
    }
   },
   "source": [
    "<u>**String Concatenation**</u>  \n",
    "\n",
    "We can combine strings together."
   ]
  },
  {
   "cell_type": "code",
   "execution_count": null,
   "id": "d9fadfdc",
   "metadata": {
    "editable": true,
    "slideshow": {
     "slide_type": ""
    }
   },
   "outputs": [],
   "source": [
    "# String concatenation\n",
    "hello_world = \"Hello,\" + \" World!\"\n",
    "print(hello_world)"
   ]
  },
  {
   "cell_type": "markdown",
   "id": "d20cb9b3",
   "metadata": {
    "editable": true,
    "slideshow": {
     "slide_type": "slide"
    }
   },
   "source": [
    "## Comments"
   ]
  },
  {
   "cell_type": "markdown",
   "id": "7ac031a7",
   "metadata": {
    "editable": true,
    "slideshow": {
     "slide_type": "fragment"
    }
   },
   "source": [
    "Used to write notes or comments about code, as well as description of what the code is doing, or the variables used."
   ]
  },
  {
   "cell_type": "code",
   "execution_count": null,
   "id": "41b7cdfe",
   "metadata": {
    "editable": true,
    "slideshow": {
     "slide_type": ""
    }
   },
   "outputs": [],
   "source": [
    "# A single-line comment!\n",
    "welcome_message = \"Welcome, User!\"\n",
    "print(welcome_message)  # Print welcome message"
   ]
  },
  {
   "cell_type": "code",
   "execution_count": null,
   "id": "9c50f102",
   "metadata": {
    "editable": true,
    "slideshow": {
     "slide_type": ""
    }
   },
   "outputs": [],
   "source": [
    "'''\n",
    "A multi-line comment!\n",
    "'''\n",
    "print(\"something\")"
   ]
  },
  {
   "cell_type": "code",
   "execution_count": null,
   "id": "3f72dedf",
   "metadata": {
    "editable": true,
    "slideshow": {
     "slide_type": ""
    }
   },
   "outputs": [],
   "source": [
    "\"\"\"\n",
    "Another multi-line comment!\n",
    "\"\"\"\n",
    "print(\"something else\")"
   ]
  },
  {
   "cell_type": "markdown",
   "id": "8ee98ee9",
   "metadata": {
    "editable": true,
    "slideshow": {
     "slide_type": "slide"
    }
   },
   "source": [
    "## User Input"
   ]
  },
  {
   "cell_type": "markdown",
   "id": "6b2e3c6e",
   "metadata": {
    "editable": true,
    "slideshow": {
     "slide_type": "fragment"
    }
   },
   "source": [
    "You can use `input()` to read user input: "
   ]
  },
  {
   "cell_type": "code",
   "execution_count": null,
   "id": "a1178a62",
   "metadata": {
    "editable": true,
    "slideshow": {
     "slide_type": ""
    }
   },
   "outputs": [
    {
     "data": {
      "text/plain": [
       "float"
      ]
     },
     "execution_count": 30,
     "metadata": {},
     "output_type": "execute_result"
    }
   ],
   "source": [
    "inputted_variable = float(input())\n",
    "print(inputted_variable)  # Print what we just input!\n",
    "type(inputted_variable)"
   ]
  },
  {
   "cell_type": "markdown",
   "id": "52819c95",
   "metadata": {
    "editable": true,
    "slideshow": {
     "slide_type": "slide"
    }
   },
   "source": [
    "## Reading and Writing Files"
   ]
  },
  {
   "cell_type": "markdown",
   "id": "a0966820",
   "metadata": {
    "editable": true,
    "slideshow": {
     "slide_type": "subslide"
    }
   },
   "source": [
    "<u>**Opening a File**</u>\n",
    "\n",
    "Two things to note here:\n",
    " - My object `my_file` is different from my file `\"testfile.txt\"`!\n",
    " - There are different modes:\n",
    "     - read: `'r'`\n",
    "     - (over-)write: `'w'`\n",
    "     - append: `'a'`\n",
    "     - read+write: `'w+'` or `'r+'`\n",
    "\n",
    "[Python Documentation (mode)](https://docs.python.org/3/tutorial/inputoutput.html#reading-and-writing-files)"
   ]
  },
  {
   "cell_type": "code",
   "execution_count": null,
   "id": "38966db9",
   "metadata": {
    "editable": true,
    "slideshow": {
     "slide_type": ""
    }
   },
   "outputs": [],
   "source": [
    "# Using a with statement\n",
    "with open('./data/data_file.txt', 'r') as text_file:\n",
    "    content = text_file.read()\n",
    "    print(content)"
   ]
  },
  {
   "cell_type": "markdown",
   "id": "7124148f",
   "metadata": {
    "editable": true,
    "slideshow": {
     "slide_type": "fragment"
    }
   },
   "source": [
    "---"
   ]
  },
  {
   "cell_type": "markdown",
   "id": "aadba414",
   "metadata": {
    "editable": true,
    "slideshow": {
     "slide_type": "subslide"
    }
   },
   "source": [
    "<u>**Reading from a File**</u>\n",
    "\n",
    "Here are some file functions for reading from a file:\n",
    "\n",
    "* file.read() - Read the entire file content line-by-line\n",
    "* file.readlines() - Read all lines into a List object"
   ]
  },
  {
   "cell_type": "code",
   "execution_count": null,
   "id": "7f0a6056",
   "metadata": {
    "editable": true,
    "slideshow": {
     "slide_type": ""
    }
   },
   "outputs": [],
   "source": [
    "with open(\"./data/data_file.txt\") as text_file:\n",
    "    print(text_file.read())"
   ]
  },
  {
   "cell_type": "code",
   "execution_count": null,
   "id": "ec567746",
   "metadata": {
    "editable": true,
    "slideshow": {
     "slide_type": ""
    }
   },
   "outputs": [],
   "source": [
    "with open(\"./data/data_file.txt\") as text_file:\n",
    "    print(text_file.readlines())"
   ]
  },
  {
   "cell_type": "markdown",
   "id": "dcf15c58",
   "metadata": {
    "editable": true,
    "slideshow": {
     "slide_type": "fragment"
    }
   },
   "source": [
    "---"
   ]
  },
  {
   "cell_type": "markdown",
   "id": "1f1185e6",
   "metadata": {
    "editable": true,
    "slideshow": {
     "slide_type": "subslide"
    }
   },
   "source": [
    "<u>**Writing to a File**</u>"
   ]
  },
  {
   "cell_type": "markdown",
   "id": "179f132a",
   "metadata": {
    "editable": true,
    "slideshow": {
     "slide_type": "fragment"
    }
   },
   "source": [
    "One way we can write to files is using the `write()` function."
   ]
  },
  {
   "cell_type": "markdown",
   "id": "e998f8fe",
   "metadata": {
    "editable": true,
    "slideshow": {
     "slide_type": "fragment"
    }
   },
   "source": [
    "Using the `with` keyword:"
   ]
  },
  {
   "cell_type": "code",
   "execution_count": null,
   "id": "911d44b3",
   "metadata": {
    "editable": true,
    "slideshow": {
     "slide_type": ""
    }
   },
   "outputs": [],
   "source": [
    "with open(\"./data/testfile.txt\", \"w\") as text_file:\n",
    "    text_file.write(\"Some words \\n\")\n",
    "    text_file.write(str(25))"
   ]
  },
  {
   "cell_type": "markdown",
   "id": "255d02cd",
   "metadata": {
    "editable": true,
    "slideshow": {
     "slide_type": "fragment"
    }
   },
   "source": [
    "---"
   ]
  },
  {
   "cell_type": "markdown",
   "id": "b61a8691",
   "metadata": {
    "editable": true,
    "slideshow": {
     "slide_type": "slide"
    }
   },
   "source": [
    "## Lists"
   ]
  },
  {
   "cell_type": "markdown",
   "id": "9c82edee",
   "metadata": {
    "editable": true,
    "slideshow": {
     "slide_type": ""
    }
   },
   "source": [
    "Python can work not only with basic data types mentioned before, but also with compound ones. Compound data types in Python are a powerful tool for organizing and storing data. Among the most commonly used is _lists_ which we learned about in the beginner's course.\n",
    "\n",
    "* [List](https://docs.python.org/3/tutorial/datastructures.html#Lists)\n",
    "\n",
    "We'll learn about other data structures later today."
   ]
  },
  {
   "cell_type": "markdown",
   "id": "8bb91a15",
   "metadata": {
    "editable": true,
    "slideshow": {
     "slide_type": ""
    }
   },
   "source": [
    "An ordered list of items, accessed by a numerical index (starting at `0`). Elements within a list can be removed, modified, or accessed by their index, and a list can have values added to it.\n",
    "\n",
    "Defined using square brackets `[]`."
   ]
  },
  {
   "cell_type": "code",
   "execution_count": null,
   "id": "fdc8600e",
   "metadata": {
    "editable": true,
    "slideshow": {
     "slide_type": ""
    }
   },
   "outputs": [],
   "source": [
    "odd_list = [1, 3, 5, 7, 9]  # A list of odd numbers\n",
    "print(odd_list)"
   ]
  },
  {
   "cell_type": "markdown",
   "id": "b672a126",
   "metadata": {
    "editable": true,
    "slideshow": {
     "slide_type": "fragment"
    }
   },
   "source": [
    "---"
   ]
  },
  {
   "cell_type": "markdown",
   "id": "efc747a1",
   "metadata": {
    "editable": true,
    "slideshow": {
     "slide_type": "subslide"
    }
   },
   "source": [
    "<u>**List Access**</u>  \n",
    "You can access a list using its index value, starting from `0`."
   ]
  },
  {
   "cell_type": "code",
   "execution_count": null,
   "id": "2b2c4dee",
   "metadata": {
    "editable": true,
    "slideshow": {
     "slide_type": ""
    }
   },
   "outputs": [],
   "source": [
    "odd_list[0]"
   ]
  },
  {
   "cell_type": "code",
   "execution_count": null,
   "id": "3f87d56b",
   "metadata": {
    "editable": true,
    "slideshow": {
     "slide_type": ""
    }
   },
   "outputs": [],
   "source": [
    "odd_list[1]"
   ]
  },
  {
   "cell_type": "markdown",
   "id": "201da402",
   "metadata": {
    "editable": true,
    "slideshow": {
     "slide_type": "fragment"
    }
   },
   "source": [
    "\n",
    "---\n",
    "_NOTE_: You can access lists in reverse index order, where `-1` is the final index. "
   ]
  },
  {
   "cell_type": "code",
   "execution_count": null,
   "id": "b686d58d",
   "metadata": {
    "editable": true,
    "slideshow": {
     "slide_type": ""
    }
   },
   "outputs": [],
   "source": [
    "odd_list[-1]"
   ]
  },
  {
   "cell_type": "code",
   "execution_count": null,
   "id": "1f916c68",
   "metadata": {
    "editable": true,
    "slideshow": {
     "slide_type": ""
    }
   },
   "outputs": [],
   "source": [
    "odd_list[-2]"
   ]
  },
  {
   "cell_type": "markdown",
   "id": "238dacd4",
   "metadata": {
    "editable": true,
    "slideshow": {
     "slide_type": "fragment"
    }
   },
   "source": [
    "---"
   ]
  },
  {
   "cell_type": "markdown",
   "id": "b8369a1a",
   "metadata": {
    "editable": true,
    "slideshow": {
     "slide_type": "subslide"
    }
   },
   "source": [
    "<u>**Slicing**</u>   \n",
    "You can also use slicing for specific partial list access."
   ]
  },
  {
   "cell_type": "code",
   "execution_count": null,
   "id": "e0fac9bf",
   "metadata": {
    "editable": true,
    "slideshow": {
     "slide_type": ""
    }
   },
   "outputs": [],
   "source": [
    "odd_list[1:4] # Slicing from index 1 (inclusive), to 4 (exclusive)"
   ]
  },
  {
   "cell_type": "code",
   "execution_count": null,
   "id": "586edf14",
   "metadata": {
    "editable": true,
    "slideshow": {
     "slide_type": ""
    }
   },
   "outputs": [],
   "source": [
    "odd_list[3:]  # Slicing from index 3 to end."
   ]
  },
  {
   "cell_type": "code",
   "execution_count": null,
   "id": "9f0dea38",
   "metadata": {
    "editable": true,
    "slideshow": {
     "slide_type": ""
    }
   },
   "outputs": [],
   "source": [
    "odd_list[:3]  # Slicing from beginning to index 3"
   ]
  },
  {
   "cell_type": "code",
   "execution_count": null,
   "id": "bab8e8a0",
   "metadata": {
    "editable": true,
    "slideshow": {
     "slide_type": ""
    }
   },
   "outputs": [],
   "source": [
    "odd_list[::2]  # Slicing with a step of 2"
   ]
  },
  {
   "cell_type": "markdown",
   "id": "b5c83f0d",
   "metadata": {
    "editable": true,
    "slideshow": {
     "slide_type": "fragment"
    }
   },
   "source": [
    "---"
   ]
  },
  {
   "cell_type": "markdown",
   "id": "fe6ffaf2",
   "metadata": {
    "editable": true,
    "slideshow": {
     "slide_type": "subslide"
    }
   },
   "source": [
    "<u>**Empty List**</u>   \n",
    "You can create empty lists:"
   ]
  },
  {
   "cell_type": "code",
   "execution_count": null,
   "id": "0edf3fa6",
   "metadata": {
    "editable": true,
    "slideshow": {
     "slide_type": ""
    }
   },
   "outputs": [],
   "source": [
    "new_list = []  # An empty list\n",
    "print(new_list)"
   ]
  },
  {
   "cell_type": "markdown",
   "id": "8267abc5",
   "metadata": {
    "editable": true,
    "slideshow": {
     "slide_type": "fragment"
    }
   },
   "source": [
    "---"
   ]
  },
  {
   "cell_type": "markdown",
   "id": "f87cfa0f",
   "metadata": {
    "editable": true,
    "slideshow": {
     "slide_type": "slide"
    }
   },
   "source": [
    "## Repetitions and Conditions"
   ]
  },
  {
   "cell_type": "markdown",
   "id": "9303b3ff",
   "metadata": {
    "editable": true,
    "slideshow": {
     "slide_type": "subslide"
    }
   },
   "source": [
    "<u>**Conditions**</u>  \n",
    "In order to control program flow, and whether or not code is executed, we can do conditions based on variable values."
   ]
  },
  {
   "cell_type": "code",
   "execution_count": null,
   "id": "a0af6ea1",
   "metadata": {
    "editable": true,
    "slideshow": {
     "slide_type": ""
    }
   },
   "outputs": [],
   "source": [
    "x = 5\n",
    "\n",
    "if x > 2:\n",
    "    print(\"x =\", x, \"is GREATER THAN 2\")\n",
    "\n",
    "if x == 3:\n",
    "    print(\"x =\", x, \"is EQUAL TO 3\")\n",
    "\n",
    "if x >= 3:\n",
    "    print(\"x =\", x, \"is GREATER THAN or EQUAL TO 3\")\n",
    "\n",
    "if x != 0:\n",
    "    print(\"x =\", x, \"IS NOT 0\")\n",
    "\n",
    "if x < 4:\n",
    "    print(\"x =\", x, \"is LESS THAN 4\")"
   ]
  },
  {
   "cell_type": "markdown",
   "id": "c9a654bb",
   "metadata": {
    "editable": true,
    "slideshow": {
     "slide_type": "fragment"
    }
   },
   "source": [
    "---"
   ]
  },
  {
   "cell_type": "markdown",
   "id": "3246bbe1",
   "metadata": {
    "editable": true,
    "slideshow": {
     "slide_type": "subslide"
    }
   },
   "source": [
    "<u>**Else/Elif**</u>  \n",
    "\n",
    "We may also specify either/or with `if/else`, and even add extra conditions with `elif`."
   ]
  },
  {
   "cell_type": "code",
   "execution_count": null,
   "id": "8cab77e6",
   "metadata": {
    "editable": true,
    "slideshow": {
     "slide_type": ""
    }
   },
   "outputs": [],
   "source": [
    "x = 10\n",
    "\n",
    "if x > 0:\n",
    "    print(\"x is positive\")\n",
    "elif x < 0:\n",
    "    print(\"x is negative\")\n",
    "else:\n",
    "    print(\"x is zero\")"
   ]
  },
  {
   "cell_type": "markdown",
   "id": "bd56a213",
   "metadata": {
    "editable": true,
    "slideshow": {
     "slide_type": "fragment"
    }
   },
   "source": [
    "---"
   ]
  },
  {
   "cell_type": "markdown",
   "id": "8c87d3f8",
   "metadata": {
    "editable": true,
    "slideshow": {
     "slide_type": "subslide"
    }
   },
   "source": [
    "<u>**Repetitions**</u>  \n",
    "There are a number of ways for us to repeat lines or blocks of code within our program, to do this we use `loops`:"
   ]
  },
  {
   "cell_type": "markdown",
   "id": "095edef4",
   "metadata": {
    "editable": true,
    "slideshow": {
     "slide_type": "subslide"
    }
   },
   "source": [
    "<u>For Each Loop:</u>  \n",
    "A for each loop will execute its code for each item specified within the loop definition"
   ]
  },
  {
   "cell_type": "code",
   "execution_count": null,
   "id": "c7dc2e03",
   "metadata": {
    "editable": true,
    "slideshow": {
     "slide_type": ""
    }
   },
   "outputs": [],
   "source": [
    "animal_list = [\"Cat\", \"Dog\", \"Bird\"]\n",
    "\n",
    "for animal in animal_list:\n",
    "    print(\"Current animal is:\", animal)"
   ]
  },
  {
   "cell_type": "markdown",
   "id": "76e99a09",
   "metadata": {
    "editable": true,
    "slideshow": {
     "slide_type": "fragment"
    }
   },
   "source": [
    "The above describes `for each animal in animal_list`."
   ]
  },
  {
   "cell_type": "markdown",
   "id": "e5b05a2c",
   "metadata": {
    "editable": true,
    "slideshow": {
     "slide_type": "fragment"
    }
   },
   "source": [
    "---\n",
    "We are able to use a range-based for loop:"
   ]
  },
  {
   "cell_type": "code",
   "execution_count": null,
   "id": "b14f546d",
   "metadata": {
    "editable": true,
    "slideshow": {
     "slide_type": ""
    }
   },
   "outputs": [],
   "source": [
    "for i in range(0, 5):\n",
    "    print(i * 2) # Here we are manipulating the value each time!"
   ]
  },
  {
   "cell_type": "code",
   "execution_count": null,
   "id": "713884f6",
   "metadata": {
    "editable": true,
    "slideshow": {
     "slide_type": ""
    }
   },
   "outputs": [],
   "source": [
    "for i in range(0, 10, 2):  # Here we define a step of 2!\n",
    "    print(i)"
   ]
  },
  {
   "cell_type": "code",
   "execution_count": null,
   "id": "b3078796",
   "metadata": {
    "editable": true,
    "slideshow": {
     "slide_type": ""
    }
   },
   "outputs": [],
   "source": [
    "for i in range(10, 0, -1):  # Counting down from 10, in steps of 1\n",
    "    print(i)"
   ]
  },
  {
   "cell_type": "markdown",
   "id": "a0d6ae4f",
   "metadata": {
    "editable": true,
    "slideshow": {
     "slide_type": "fragment"
    }
   },
   "source": [
    "---"
   ]
  },
  {
   "cell_type": "markdown",
   "id": "99b52e73",
   "metadata": {
    "editable": true,
    "slideshow": {
     "slide_type": "subslide"
    }
   },
   "source": [
    "<u>While Loop</u>  \n",
    "A `while` loop will continue until the defined condition has been met, which can potentially not happen and cause an infinite loop.\n",
    "\n",
    "Here we are printing `n`, then incrementing it by 1, while `n` is LESS THAN 10."
   ]
  },
  {
   "cell_type": "code",
   "execution_count": null,
   "id": "136268d9",
   "metadata": {
    "editable": true,
    "slideshow": {
     "slide_type": ""
    }
   },
   "outputs": [],
   "source": [
    "n = 0\n",
    "\n",
    "while n < 10:\n",
    "    print(n)\n",
    "    n += 1"
   ]
  },
  {
   "cell_type": "markdown",
   "id": "89cd06cc",
   "metadata": {
    "editable": true,
    "slideshow": {
     "slide_type": "fragment"
    }
   },
   "source": [
    "_NOTE_: The `break` keyword can be used to stop execution of a loop.  \n",
    "_NOTE_: Use `ctrl+C` to break execution in your terminal if needed."
   ]
  },
  {
   "cell_type": "markdown",
   "id": "b6c7b631",
   "metadata": {
    "editable": true,
    "slideshow": {
     "slide_type": "slide"
    }
   },
   "source": [
    "## Functions"
   ]
  },
  {
   "cell_type": "markdown",
   "id": "ad3766a1",
   "metadata": {
    "editable": true,
    "slideshow": {
     "slide_type": ""
    }
   },
   "source": [
    "A function is a reusable block of code used to perform a specific task.\n",
    "\n",
    "We define a function using the `def` keyword, then parenthesis, which may contain the function `parameters` or `arguments` (different terms, same thing).\n",
    "\n",
    "_NOTE_: You should give your functions and arguments explanative names."
   ]
  },
  {
   "cell_type": "markdown",
   "id": "b83eb9fd",
   "metadata": {
    "editable": true,
    "slideshow": {
     "slide_type": "subslide"
    }
   },
   "source": [
    "<u>**Parameters/Arguments**</u>  \n",
    "A function can receive 0 or more variables as arguments which are 'passed' through and are used during the execution of the function as required."
   ]
  },
  {
   "cell_type": "markdown",
   "id": "25dddacf",
   "metadata": {
    "editable": true,
    "slideshow": {
     "slide_type": "fragment"
    }
   },
   "source": [
    "<u>**Returns**</u>  \n",
    "A function may return a single variable, or variables, it may also return nothing where it is required to just execute some logic."
   ]
  },
  {
   "cell_type": "markdown",
   "id": "aa2983d4",
   "metadata": {
    "editable": true,
    "slideshow": {
     "slide_type": "fragment"
    }
   },
   "source": [
    "Here is a very basic example of a function:"
   ]
  },
  {
   "cell_type": "code",
   "execution_count": null,
   "id": "d4ca99fa",
   "metadata": {
    "editable": true,
    "slideshow": {
     "slide_type": ""
    }
   },
   "outputs": [],
   "source": [
    "def sum_numbers(val_one, val_two):\n",
    "    \"\"\"Sums and returns two numbers\"\"\"\n",
    "    return val_one + val_two  # Sum of both numbers\n",
    "\n",
    "calculated_value = sum_numbers(1, 1)\n",
    "print(calculated_value)"
   ]
  },
  {
   "cell_type": "markdown",
   "id": "429c78c2",
   "metadata": {
    "editable": true,
    "slideshow": {
     "slide_type": "fragment"
    }
   },
   "source": [
    "Note that we are able to save the result of `sum_numbers`, to a variable which we have aptly named `calculated_value`, which can be reused later."
   ]
  },
  {
   "cell_type": "markdown",
   "id": "f64d31aa",
   "metadata": {
    "slideshow": {
     "slide_type": "fragment"
    }
   },
   "source": [
    "---\n",
    "Here we are modifying setting a default value for our `name` argument:"
   ]
  },
  {
   "cell_type": "code",
   "execution_count": null,
   "id": "643f4038",
   "metadata": {
    "editable": true,
    "slideshow": {
     "slide_type": ""
    },
    "tags": []
   },
   "outputs": [],
   "source": [
    "def generate_greeting(name='Guest'):\n",
    "    \"\"\"\n",
    "    Generate the default greeting message.\n",
    "    Name will default to 'guest'.\n",
    "    \"\"\"\n",
    "    print(f\"Hello, {name}!\")\n",
    "\n",
    "generate_greeting()\n",
    "generate_greeting(\"User\")"
   ]
  },
  {
   "cell_type": "markdown",
   "id": "b07b62ef",
   "metadata": {
    "editable": true,
    "slideshow": {
     "slide_type": "fragment"
    }
   },
   "source": [
    "Without specifying the `name` argument, the `generate_greeting` will use the default value specified within the function definition."
   ]
  },
  {
   "cell_type": "markdown",
   "id": "7e95592e",
   "metadata": {
    "editable": true,
    "slideshow": {
     "slide_type": "slide"
    },
    "tags": []
   },
   "source": [
    "# <ins>2.</ins> Data structures\n",
    "In the _Beginner_ level course, we've introduced to _lists_, the most commonly used compound data structure in Python. Here, we'll learn about methods for lists and we'll introduce to other data structures: _**dictionaries**_, _**sets**_ and _**tuples**_.\n",
    "\n",
    "You can learn more about data structures in Python here: : [Python Documentation(Data Structures)](https://docs.python.org/3/tutorial/datastructures.html)"
   ]
  },
  {
   "cell_type": "markdown",
   "id": "aae1eed3",
   "metadata": {
    "editable": true,
    "slideshow": {
     "slide_type": "subslide"
    },
    "tags": []
   },
   "source": [
    "## List methods\n",
    "There is a number of useful methods that can be applied to lists, let use this one as example"
   ]
  },
  {
   "cell_type": "code",
   "execution_count": null,
   "id": "cb25df04",
   "metadata": {
    "editable": true,
    "remove_code": "non-comments",
    "slideshow": {
     "slide_type": ""
    }
   },
   "outputs": [],
   "source": [
    "# generate a list with three integer values\n",
    "lst = [33, 84, 11]\n",
    "print(lst)"
   ]
  },
  {
   "cell_type": "markdown",
   "id": "50327676",
   "metadata": {
    "editable": true,
    "slideshow": {
     "slide_type": "fragment"
    }
   },
   "source": [
    "We can access the number of elements with `len`"
   ]
  },
  {
   "cell_type": "code",
   "execution_count": null,
   "id": "250138ea",
   "metadata": {
    "editable": true,
    "remove_code": "non-comments",
    "slideshow": {
     "slide_type": ""
    }
   },
   "outputs": [],
   "source": [
    "# print the number of elements in a list\n",
    "print(len(lst))"
   ]
  },
  {
   "cell_type": "markdown",
   "id": "6139127f",
   "metadata": {
    "editable": true,
    "slideshow": {
     "slide_type": "fragment"
    }
   },
   "source": [
    "---"
   ]
  },
  {
   "cell_type": "markdown",
   "id": "5bda75d6",
   "metadata": {
    "editable": true,
    "slideshow": {
     "slide_type": "subslide"
    }
   },
   "source": [
    "### Adding and removing values\n",
    "We can add an element with `insert` and `append`. Notice that this in the grand scheme of things this is slow, so if you can avoid this, you should:"
   ]
  },
  {
   "cell_type": "code",
   "execution_count": null,
   "id": "e1027891",
   "metadata": {
    "editable": true,
    "remove_code": "non-comments",
    "slideshow": {
     "slide_type": ""
    }
   },
   "outputs": [],
   "source": [
    "# add a value in the middle\n",
    "lst.insert(3, 112)\n",
    "print(lst)"
   ]
  },
  {
   "cell_type": "code",
   "execution_count": null,
   "id": "48a12e4a",
   "metadata": {
    "editable": true,
    "remove_code": "non-comments",
    "slideshow": {
     "slide_type": ""
    }
   },
   "outputs": [],
   "source": [
    "# add a value at the end\n",
    "lst.append(53)\n",
    "print(lst)"
   ]
  },
  {
   "cell_type": "markdown",
   "id": "7e4b1b25",
   "metadata": {
    "editable": true,
    "slideshow": {
     "slide_type": "fragment"
    }
   },
   "source": [
    "removing a specific element"
   ]
  },
  {
   "cell_type": "code",
   "execution_count": null,
   "id": "3a23bbd1",
   "metadata": {
    "editable": true,
    "remove_code": "non-comments",
    "slideshow": {
     "slide_type": ""
    }
   },
   "outputs": [],
   "source": [
    "# remove a value\n",
    "lst.remove(11)\n",
    "print(lst)"
   ]
  },
  {
   "cell_type": "markdown",
   "id": "b45c9101",
   "metadata": {
    "editable": true,
    "slideshow": {
     "slide_type": "fragment"
    }
   },
   "source": [
    "---"
   ]
  },
  {
   "cell_type": "markdown",
   "id": "290722a8",
   "metadata": {
    "editable": true,
    "slideshow": {
     "slide_type": "subslide"
    }
   },
   "source": [
    "### Iterating over lists\n",
    "with the `for ... in` construct we can iterate over each element of a list"
   ]
  },
  {
   "cell_type": "code",
   "execution_count": null,
   "id": "54db3f5f",
   "metadata": {
    "editable": true,
    "remove_code": "non-comments",
    "slideshow": {
     "slide_type": ""
    }
   },
   "outputs": [],
   "source": [
    "# print the values in a list with a for loop\n",
    "for i in lst:\n",
    "    print(i)"
   ]
  },
  {
   "cell_type": "markdown",
   "id": "81d1f392",
   "metadata": {
    "editable": true,
    "slideshow": {
     "slide_type": "fragment"
    }
   },
   "source": [
    "we can iterate over the list starting from the back using `reversed`"
   ]
  },
  {
   "cell_type": "code",
   "execution_count": null,
   "id": "230fdc57",
   "metadata": {
    "editable": true,
    "slideshow": {
     "slide_type": ""
    }
   },
   "outputs": [],
   "source": [
    "# print the reversed elements\n",
    "for i in reversed(lst):\n",
    "    print(i)"
   ]
  },
  {
   "cell_type": "markdown",
   "id": "f6fce9a1",
   "metadata": {
    "editable": true,
    "slideshow": {
     "slide_type": "fragment"
    }
   },
   "source": [
    "and `sorted`, sorts the values"
   ]
  },
  {
   "cell_type": "code",
   "execution_count": null,
   "id": "100c9390",
   "metadata": {
    "editable": true,
    "remove_code": "non-comments",
    "slideshow": {
     "slide_type": ""
    }
   },
   "outputs": [],
   "source": [
    "# print the sorted elements\n",
    "for i in sorted(lst):\n",
    "    print(i)"
   ]
  },
  {
   "cell_type": "markdown",
   "id": "b26074d7",
   "metadata": {
    "editable": true,
    "slideshow": {
     "slide_type": "fragment"
    }
   },
   "source": [
    "If you want a reversed new list you need to convert the iterator into a list"
   ]
  },
  {
   "cell_type": "code",
   "execution_count": null,
   "id": "5279a6b8",
   "metadata": {
    "editable": true,
    "remove_code": "non-comments",
    "slideshow": {
     "slide_type": ""
    }
   },
   "outputs": [],
   "source": [
    "# print the iterator\n",
    "print(reversed(lst))"
   ]
  },
  {
   "cell_type": "code",
   "execution_count": null,
   "id": "ad34c0bf",
   "metadata": {
    "editable": true,
    "remove_code": "non-comments",
    "slideshow": {
     "slide_type": ""
    }
   },
   "outputs": [],
   "source": [
    "# print the converted list\n",
    "print(list(reversed(lst)))"
   ]
  },
  {
   "cell_type": "markdown",
   "id": "f1cf71f5",
   "metadata": {
    "editable": true,
    "slideshow": {
     "slide_type": "fragment"
    }
   },
   "source": [
    "---"
   ]
  },
  {
   "cell_type": "markdown",
   "id": "e00e5f84",
   "metadata": {
    "editable": true,
    "slideshow": {
     "slide_type": "subslide"
    }
   },
   "source": [
    "### Checking if an item is in a list\n",
    "\n",
    "with the `in` keyword you can check whether an item is in a list, with `.index(el)` you can get the index of an element"
   ]
  },
  {
   "cell_type": "code",
   "execution_count": null,
   "id": "0e61b0ef",
   "metadata": {
    "editable": true,
    "remove_code": "non-comments",
    "slideshow": {
     "slide_type": ""
    }
   },
   "outputs": [],
   "source": [
    "# Check whether an item is in the list and if yes print its position\n",
    "if 84 in lst:\n",
    "    position = lst.index(84)\n",
    "    print(f'84 is at index {position}')\n",
    "print(lst)"
   ]
  },
  {
   "cell_type": "markdown",
   "id": "868b6810",
   "metadata": {
    "editable": true,
    "slideshow": {
     "slide_type": "fragment"
    }
   },
   "source": [
    "---"
   ]
  },
  {
   "cell_type": "markdown",
   "id": "8be77c84",
   "metadata": {
    "editable": true,
    "slideshow": {
     "slide_type": "subslide"
    }
   },
   "source": [
    "### Emptying a list"
   ]
  },
  {
   "cell_type": "code",
   "execution_count": null,
   "id": "867aa292",
   "metadata": {
    "editable": true,
    "remove_code": "non-comments",
    "slideshow": {
     "slide_type": ""
    }
   },
   "outputs": [],
   "source": [
    "# empty a list completely\n",
    "print(lst.clear())"
   ]
  },
  {
   "cell_type": "markdown",
   "id": "30869d50",
   "metadata": {
    "editable": true,
    "slideshow": {
     "slide_type": "fragment"
    }
   },
   "source": [
    "---"
   ]
  },
  {
   "cell_type": "markdown",
   "id": "04d87890",
   "metadata": {
    "editable": true,
    "slideshow": {
     "slide_type": "subslide"
    }
   },
   "source": [
    "## _Tuples_\n",
    "A _tuple_ is essentially an immutable list. Indexing and slicing work the same as with lists. As with lists, you can get the length of the tuple by using the `len` function, and, like lists, tuples have `count` and `index` methods. However, since a _tuple_ is immutable, it does not have any of the other methods that lists have (such as `sort` or `reverse`). Tuples are enclosed in parentheses (`()`), though the parentheses are actually optional."
   ]
  },
  {
   "cell_type": "code",
   "execution_count": null,
   "id": "3afd38d5",
   "metadata": {
    "editable": true,
    "remove_code": "non-comments",
    "slideshow": {
     "slide_type": ""
    }
   },
   "outputs": [],
   "source": [
    "# Initialise an empty tuple\n",
    "my_tuple = tuple()\n",
    "my_tuple"
   ]
  },
  {
   "cell_type": "code",
   "execution_count": null,
   "id": "4bf75e76",
   "metadata": {
    "editable": true,
    "remove_code": "non-comments",
    "slideshow": {
     "slide_type": ""
    }
   },
   "outputs": [],
   "source": [
    "# Initialising a tuple with values\n",
    "my_tuple = (1,2,3)\n",
    "print(my_tuple)\n",
    "\n",
    "# Initialising a tuple with one value\n",
    "my_tuple = (1,)\n",
    "print(my_tuple)"
   ]
  },
  {
   "cell_type": "code",
   "execution_count": null,
   "id": "4775ecb7",
   "metadata": {
    "editable": true,
    "remove_code": "non-comments",
    "slideshow": {
     "slide_type": ""
    }
   },
   "outputs": [],
   "source": [
    "# A practical way to exchange values between variables through tuples\n",
    "# Define\n",
    "a = 1\n",
    "b = 2\n",
    "# print original\n",
    "print(a, b)\n",
    "# exchange\n",
    "a, b = b, a\n",
    "# print exchanged\n",
    "print(a, b)"
   ]
  },
  {
   "cell_type": "code",
   "execution_count": null,
   "id": "8f3c40be",
   "metadata": {
    "editable": true,
    "slideshow": {
     "slide_type": ""
    }
   },
   "outputs": [],
   "source": [
    "# Converting a list to a tuple\n",
    "t1 = tuple([1,2,3])\n",
    "print(t1)"
   ]
  },
  {
   "cell_type": "markdown",
   "id": "812d5a14",
   "metadata": {
    "editable": true,
    "slideshow": {
     "slide_type": "fragment"
    },
    "tags": []
   },
   "source": [
    "The dictionary method `items` returns a list of tuples (see an exercise after _dictionaries_)."
   ]
  },
  {
   "cell_type": "markdown",
   "id": "66b0bb86",
   "metadata": {
    "editable": true,
    "slideshow": {
     "slide_type": "subslide"
    },
    "tags": []
   },
   "source": [
    "## _Sets_\n",
    "A _set_ is unordered collection of unique elements, representing a mathematical set. Python stores the data in a set in whatever order it wants to, so indexing has no meaning for sets unlike for lists. It looks like a list, but with no repeats, and is denoted by curly braces (`{}`)."
   ]
  },
  {
   "cell_type": "code",
   "execution_count": null,
   "id": "a9622e5a",
   "metadata": {
    "editable": true,
    "remove_code": "non-comments",
    "slideshow": {
     "slide_type": ""
    },
    "tags": []
   },
   "outputs": [],
   "source": [
    "# An empty set\n",
    "my_set = set()\n",
    "my_set"
   ]
  },
  {
   "cell_type": "code",
   "execution_count": null,
   "id": "95e68a89",
   "metadata": {
    "editable": true,
    "remove_code": "non-comments",
    "slideshow": {
     "slide_type": ""
    },
    "tags": []
   },
   "outputs": [],
   "source": [
    "# Initialising a set with values\n",
    "my_set = {1, 2, 3, 4, 5}\n",
    "my_set"
   ]
  },
  {
   "cell_type": "code",
   "execution_count": null,
   "id": "d84ee17a",
   "metadata": {
    "editable": true,
    "remove_code": "non-comments",
    "slideshow": {
     "slide_type": ""
    }
   },
   "outputs": [],
   "source": [
    "# Converting a list to a set\n",
    "set([1,4,4,4,5,1,2,1,3])"
   ]
  },
  {
   "cell_type": "markdown",
   "id": "4131293a",
   "metadata": {
    "editable": true,
    "slideshow": {
     "slide_type": "fragment"
    },
    "tags": []
   },
   "source": [
    "There are a few operators that work with sets as well as some useful methods:\n",
    "\n",
    "| Operator | Description          | Example                        |\n",
    "|----------|----------------------|--------------------------------|\n",
    "| `\\|`     | union                | `{1,2,3} \\| {3,4} → {1,2,3,4}` |\n",
    "| `&`      | intersection         | `{1,2,3} & {3,4} → {3}`        |\n",
    "| `-`      | difference           | `{1,2,3} - {3,4} → {1,2}`      |\n",
    "| `^`      | symmetric difference | `{1,2,3} ^ {3,4} → {1,2,4}`    |\n",
    "| `in`     | is an element of     | `3 in {1,2,3} → True`          |\n",
    "\n",
    "| Method            | Description                                   |\n",
    "|-------------------|-----------------------------------------------|\n",
    "| `S.add(x)`        | Add `x` to the set                            |\n",
    "| `S.remove(x)`     | Remove `x` from the set                       |\n",
    "| `S.issubset(A)`   | Returns `True` if S ⊂ A and `False` otherwise |\n",
    "| `S.issuperset(A)` | Returns `True` if A ⊂ S and `False` otherwise |\n"
   ]
  },
  {
   "cell_type": "markdown",
   "id": "cd0a6364",
   "metadata": {
    "editable": true,
    "slideshow": {
     "slide_type": "fragment"
    },
    "tags": []
   },
   "source": [
    "---"
   ]
  },
  {
   "cell_type": "markdown",
   "id": "03763f24",
   "metadata": {
    "editable": true,
    "slideshow": {
     "slide_type": "subslide"
    }
   },
   "source": [
    "### _Example 1_\n",
    "Removing repeated elements from lists"
   ]
  },
  {
   "cell_type": "code",
   "execution_count": null,
   "id": "18bac89c",
   "metadata": {
    "editable": true,
    "remove_code": "non-comments",
    "slideshow": {
     "slide_type": ""
    },
    "tags": []
   },
   "outputs": [],
   "source": [
    "my_list = [1,4,4,4,5,1,2,1,3]\n",
    "my_list = list(set(my_list))\n",
    "print(my_list)"
   ]
  },
  {
   "cell_type": "markdown",
   "id": "d0501b3f",
   "metadata": {
    "editable": true,
    "slideshow": {
     "slide_type": "fragment"
    }
   },
   "source": [
    "### _Example 2_\n",
    "Wordplay: an example of an `if` statement that uses a `set` to see if every letter in a\n",
    "word is either an `a`, `b`, `c`, `d`, or `e`:"
   ]
  },
  {
   "cell_type": "code",
   "execution_count": null,
   "id": "a924df94",
   "metadata": {
    "editable": true,
    "slideshow": {
     "slide_type": ""
    }
   },
   "outputs": [],
   "source": [
    "word = \"bed\"\n",
    "\n",
    "if set(word).issubset(\"abcde\"):\n",
    "    print(f\"All letters in '{word}' are within 'abcde'.\")\n",
    "else:\n",
    "    print(f\"'{word}' contains letters outside of 'abcde'.\")"
   ]
  },
  {
   "cell_type": "markdown",
   "id": "b561a129",
   "metadata": {
    "editable": true,
    "slideshow": {
     "slide_type": "fragment"
    }
   },
   "source": [
    "---"
   ]
  },
  {
   "cell_type": "markdown",
   "id": "245d1725",
   "metadata": {
    "editable": true,
    "slideshow": {
     "slide_type": "subslide"
    },
    "tags": []
   },
   "source": [
    "## _Dictionaries_\n",
    "A _dictionary_ is an unordered collection of key-value pairs, representing flexible mapping of keys to values. It's like a more general version of a list. In other words, it's an associative container permitting access based on a key, not an index. Dictionary items are colon-connected (`:`) key-value pairs enclosed by curly braces (`{}`)."
   ]
  },
  {
   "cell_type": "markdown",
   "id": "8b83afd4",
   "metadata": {
    "editable": true,
    "slideshow": {
     "slide_type": null
    },
    "tags": []
   },
   "source": [
    "- _Dictionaries_ are like labelled drawers:\n",
    "  - the label of the drawer is called a key;\n",
    "  - however dictionaries are \"kind of\" unordered;\n",
    "  - the content of that drawer is called the value;\n",
    "  - like lists, the types of keys and values do not have to match;\n",
    "  - keys need to be \"hashable\", usually basic data types.\n",
    "\n",
    "The syntax is `{'key': value}` or `dict(key=value)`."
   ]
  },
  {
   "cell_type": "code",
   "execution_count": null,
   "id": "200a2eba",
   "metadata": {
    "editable": true,
    "slideshow": {
     "slide_type": ""
    }
   },
   "outputs": [],
   "source": [
    "# An empty dictionary\n",
    "my_dict = {}\n",
    "my_dict"
   ]
  },
  {
   "cell_type": "code",
   "execution_count": null,
   "id": "553707eb",
   "metadata": {
    "editable": true,
    "remove_code": "non-comments",
    "slideshow": {
     "slide_type": ""
    }
   },
   "outputs": [],
   "source": [
    "# Initialising a dictionary with two values\n",
    "my_dict = {\n",
    "    'temperature_k': 298.5,\n",
    "    'pressure': 1.015\n",
    "}\n",
    "my_dict"
   ]
  },
  {
   "cell_type": "code",
   "execution_count": null,
   "id": "eb9476c1",
   "metadata": {
    "editable": true,
    "remove_code": "non-comments",
    "slideshow": {
     "slide_type": ""
    },
    "tags": []
   },
   "outputs": [],
   "source": [
    "# Another empty dictionary by dict\n",
    "my_dict = dict()\n",
    "my_dict"
   ]
  },
  {
   "cell_type": "code",
   "execution_count": null,
   "id": "112e1c7b",
   "metadata": {
    "editable": true,
    "remove_code": "non-comments",
    "slideshow": {
     "slide_type": ""
    },
    "tags": []
   },
   "outputs": [],
   "source": [
    "# Another way to initialise a dictionary with keyword arguments\n",
    "my_dict = dict(temperature_k=298.5, pressure=1.015)\n",
    "my_dict"
   ]
  },
  {
   "cell_type": "code",
   "execution_count": null,
   "id": "9affafb3",
   "metadata": {
    "editable": true,
    "remove_code": "non-comments",
    "slideshow": {
     "slide_type": ""
    },
    "tags": []
   },
   "outputs": [],
   "source": [
    "# Add a new key-value pair to the dictionary\n",
    "my_dict['volume'] = 100.0\n",
    "my_dict"
   ]
  },
  {
   "cell_type": "markdown",
   "id": "de3b6a25-6150-4fb7-8cab-e97872f8974e",
   "metadata": {
    "editable": true,
    "slideshow": {
     "slide_type": "slide"
    },
    "tags": []
   },
   "source": [
    "### Accessing values from dictionaries"
   ]
  },
  {
   "cell_type": "markdown",
   "id": "1e999366-3c44-4fa2-ae18-6825939303df",
   "metadata": {},
   "source": [
    "We can use the square brackets to access values from a `dict`"
   ]
  },
  {
   "cell_type": "code",
   "execution_count": null,
   "id": "a71f9c99-e59e-4470-aa19-fde963cbb276",
   "metadata": {
    "editable": true,
    "remove_code": "non-comments",
    "slideshow": {
     "slide_type": ""
    },
    "tags": []
   },
   "outputs": [],
   "source": [
    "# print existing values from dict\n",
    "print(my_dict['volume'])"
   ]
  },
  {
   "cell_type": "markdown",
   "id": "3f3d4fa3-67d1-4d84-ae6c-452a8a436c55",
   "metadata": {},
   "source": [
    "Alternatively we can use `get`, which allows do define a default value for a non-existing key"
   ]
  },
  {
   "cell_type": "code",
   "execution_count": null,
   "id": "3a6e30f1-c169-4ecb-9d59-f0e7cef1fb56",
   "metadata": {
    "editable": true,
    "remove_code": "non-comments",
    "slideshow": {
     "slide_type": ""
    },
    "tags": []
   },
   "outputs": [],
   "source": [
    "# demonstrate get with set default for existing or missing key\n",
    "print(my_dict.get('volume', False))\n",
    "print(my_dict.get('starlight', False))"
   ]
  },
  {
   "cell_type": "markdown",
   "id": "968a105e-1cc1-45e7-aa30-d19ce18943fe",
   "metadata": {
    "editable": true,
    "slideshow": {
     "slide_type": "slide"
    },
    "tags": []
   },
   "source": [
    "### Looping over a dictionary"
   ]
  },
  {
   "cell_type": "markdown",
   "id": "30dcc6cd-7be8-4ed8-a17c-be18747ec0d6",
   "metadata": {},
   "source": [
    "There is three main functions to loop over an dictionary: `keys()`, `values()`, and `items()`."
   ]
  },
  {
   "cell_type": "code",
   "execution_count": null,
   "id": "6081d62b-efd5-4b51-ba91-7307e53c9a36",
   "metadata": {
    "editable": true,
    "remove_code": "non-comments",
    "slideshow": {
     "slide_type": ""
    },
    "tags": []
   },
   "outputs": [],
   "source": [
    "# demonstrate for loop with keys\n",
    "for key in my_dict.keys():\n",
    "    print(key)"
   ]
  },
  {
   "cell_type": "code",
   "execution_count": null,
   "id": "b65b03ae-768e-4bee-8502-b0ea4d633e5c",
   "metadata": {
    "editable": true,
    "remove_code": "non-comments",
    "slideshow": {
     "slide_type": ""
    },
    "tags": []
   },
   "outputs": [],
   "source": [
    "# demonstrate for loop with values\n",
    "for value in my_dict.values():\n",
    "    print(value)"
   ]
  },
  {
   "cell_type": "code",
   "execution_count": null,
   "id": "2ff80eea-453f-44ac-8ddf-5f084008127b",
   "metadata": {
    "editable": true,
    "remove_code": "non-comments",
    "slideshow": {
     "slide_type": ""
    },
    "tags": []
   },
   "outputs": [],
   "source": [
    "# demonstrate items, first as one tuple, then with unpacking\n",
    "for key, val in my_dict.items():\n",
    "    print(key, val)       "
   ]
  },
  {
   "cell_type": "markdown",
   "id": "f73a79d3",
   "metadata": {
    "editable": true,
    "slideshow": {
     "slide_type": "slide"
    },
    "tags": []
   },
   "source": [
    "## Notes on _lists_, _strings_, _tuples_, _sets_, and  _dictionaries_"
   ]
  },
  {
   "cell_type": "markdown",
   "id": "624091b9",
   "metadata": {
    "editable": true,
    "slideshow": {
     "slide_type": ""
    },
    "tags": []
   },
   "source": [
    "* **_Lists_** and **_dictionaries_** are _mutable_, which means their contents can be changed.\n",
    "* **_Strings_** and **_tuples_** are _immutable_, which means they cannot be changed.\n",
    "* **_Lists_** are typically for homogeneous data sequences (ingredients, names) whereas **_tuples_** are ideal for heterogeneous data (entries with different meanings)."
   ]
  },
  {
   "cell_type": "markdown",
   "id": "7271e95a",
   "metadata": {
    "editable": true,
    "slideshow": {
     "slide_type": "slide"
    },
    "tags": []
   },
   "source": [
    "## Similarities of _lists_ and _strings_:\n",
    "* `len` function: the number of items in a list/string\n",
    "* `in` operator: tells if a list/string contains something\n",
    "* `+` and `*` operators: concatenating and repeating"
   ]
  },
  {
   "cell_type": "code",
   "execution_count": null,
   "id": "502cadb7",
   "metadata": {
    "editable": true,
    "remove_code": "non-comments",
    "slideshow": {
     "slide_type": ""
    },
    "tags": []
   },
   "outputs": [],
   "source": [
    "# concatenation of two lists\n",
    "print([7, 8] + [3, 4, 5])\n",
    "# concatenation of two strings\n",
    "print(\"Du\" + \"rham\")"
   ]
  },
  {
   "cell_type": "code",
   "execution_count": null,
   "id": "3f76fba0",
   "metadata": {
    "editable": true,
    "remove_code": "non-comments",
    "slideshow": {
     "slide_type": ""
    },
    "tags": []
   },
   "outputs": [],
   "source": [
    "# repeating a list\n",
    "print([0] * 5)\n",
    "# repeating a string\n",
    "print(\"Thanks\" * 5)"
   ]
  },
  {
   "cell_type": "markdown",
   "id": "b35c5868",
   "metadata": {
    "editable": true,
    "slideshow": {
     "slide_type": "fragment"
    },
    "tags": []
   },
   "source": [
    "---\n",
    "* _Indexing_: simple to \"grab\" an item/character in a list/string if you know where it sits\n",
    "* _Slicing_: use `:` to \"grab\" a range defined subsection of a list/string:"
   ]
  },
  {
   "cell_type": "code",
   "execution_count": null,
   "id": "662c5a6c",
   "metadata": {
    "editable": true,
    "slideshow": {
     "slide_type": ""
    },
    "tags": []
   },
   "outputs": [],
   "source": [
    "a_lst = ['a','b','c','d','e','f','g','h','i','j']\n",
    "print(a_lst[4])\n",
    "a_str = \"abcdefghij\"\n",
    "print(a_str[4])\n",
    "start=3\n",
    "stop=7\n",
    "# items start to stop-1\n",
    "print(a_lst[start:stop])\n",
    "print(a_str[start:stop])"
   ]
  },
  {
   "cell_type": "markdown",
   "id": "70429b28",
   "metadata": {
    "editable": true,
    "slideshow": {
     "slide_type": "fragment"
    },
    "tags": []
   },
   "source": [
    "## _Lists_ and _strings_ behave differently when we try to make copies."
   ]
  },
  {
   "cell_type": "code",
   "execution_count": null,
   "id": "ceb379c2",
   "metadata": {
    "editable": true,
    "slideshow": {
     "slide_type": ""
    },
    "tags": []
   },
   "outputs": [],
   "source": [
    "s = 'Hello '\n",
    "copy = s\n",
    "s = s + '!!! '\n",
    "print( 's is now: ', s, '; Copy: ', copy)"
   ]
  },
  {
   "cell_type": "code",
   "execution_count": null,
   "id": "d7738594",
   "metadata": {
    "editable": true,
    "slideshow": {
     "slide_type": ""
    },
    "tags": []
   },
   "outputs": [],
   "source": [
    "a_list = [1,2,3]\n",
    "copy = a_list\n",
    "a_list[0] = 9\n",
    "print( 'a_list is now: ', a_list, 'Copy: ', copy)"
   ]
  },
  {
   "cell_type": "markdown",
   "id": "36c080f0",
   "metadata": {
    "editable": true,
    "slideshow": {
     "slide_type": "fragment"
    },
    "tags": []
   },
   "source": [
    "Everything in Python is an object. This includes numbers, strings, and lists and any other data structure. When we\n",
    "do a simple assignment for a scalar _variable_, like `x=487`, the variable `x` acts as a _reference_ to that object. All objects are treated the same way. In the example of a _string_ above, `copy` is another reference to `'Hello'`. When we do `s=s+'!!!'`, `s` is now referencing another new string object because strings are _immutable_. Whereas in the example of a _list_, when we change an element in the list, no new list is created, the old list is actually changed _in place_ because lists are _mutable_.\n",
    "\n",
    "So, how to modify the example with a list, so that it behaves as expected? We need to create a new copy of the entire list, which is done by `a_list[:]`"
   ]
  },
  {
   "cell_type": "code",
   "execution_count": null,
   "id": "e4dfb2cb",
   "metadata": {
    "editable": true,
    "slideshow": {
     "slide_type": ""
    },
    "tags": []
   },
   "outputs": [],
   "source": [
    "a_list = [1,2,3]\n",
    "copy = a_list[:]\n",
    "a_list[0] = 9\n",
    "print( 'a_list is now: ', a_list, 'Copy: ', copy)"
   ]
  },
  {
   "cell_type": "markdown",
   "id": "45ec2d1c",
   "metadata": {
    "editable": true,
    "slideshow": {
     "slide_type": "fragment"
    }
   },
   "source": [
    "---"
   ]
  },
  {
   "cell_type": "markdown",
   "id": "b424a761",
   "metadata": {
    "editable": true,
    "slideshow": {
     "slide_type": "slide"
    }
   },
   "source": [
    "## Have a Play!"
   ]
  },
  {
   "cell_type": "markdown",
   "id": "38cc0279",
   "metadata": {
    "editable": true,
    "slideshow": {
     "slide_type": "subslide"
    }
   },
   "source": [
    "### _Exercise 1 (dictionaries)_"
   ]
  },
  {
   "cell_type": "markdown",
   "id": "3f494a2e",
   "metadata": {
    "editable": true,
    "lines_to_next_cell": 2,
    "slideshow": {
     "slide_type": ""
    }
   },
   "source": [
    "1) Create a dictionary of the days in the months of the year.\n",
    "2) Print out the number of the days for any month as it was done for lists."
   ]
  },
  {
   "cell_type": "markdown",
   "id": "71b2e23a",
   "metadata": {
    "lines_to_next_cell": 0
   },
   "source": [
    "<!-- #solution -->"
   ]
  },
  {
   "cell_type": "code",
   "execution_count": null,
   "id": "3ae9acd3",
   "metadata": {
    "editable": true,
    "lines_to_next_cell": 0,
    "remove_code": "non-comments",
    "slideshow": {
     "slide_type": ""
    },
    "tags": []
   },
   "outputs": [
    {
     "name": "stdout",
     "output_type": "stream",
     "text": [
      "That doesn't seem to be a valid month name.\n"
     ]
    }
   ],
   "source": [
    "# Create the dictionary with months as keys and days as values\n",
    "months_days = {\n",
    "    \"January\": 31,\n",
    "    \"February\": 28,  # ignoring leap years for simplicity\n",
    "    \"March\": 31,\n",
    "    \"April\": 30,\n",
    "    \"May\": 31,\n",
    "    \"June\": 30,\n",
    "    \"July\": 31,\n",
    "    \"August\": 31,\n",
    "    \"September\": 30,\n",
    "    \"October\": 31,\n",
    "    \"November\": 30,\n",
    "    \"December\": 31\n",
    "}\n",
    "\n",
    "# Ask the user for a month\n",
    "month_input = input(\"Enter the name of a month (e.g., 'January'): \")\n",
    "\n",
    "# Print the number of days for the entered month\n",
    "if month_input in months_days:\n",
    "    print(f\"{month_input} has {months_days[month_input]} days.\")\n",
    "else:\n",
    "    print(\"That doesn't seem to be a valid month name.\")\n"
   ]
  },
  {
   "cell_type": "markdown",
   "id": "3b1cb352",
   "metadata": {},
   "source": [
    "<!-- #endsolution -->"
   ]
  },
  {
   "cell_type": "markdown",
   "id": "48832b82",
   "metadata": {
    "editable": true,
    "slideshow": {
     "slide_type": ""
    }
   },
   "source": [
    "---"
   ]
  },
  {
   "cell_type": "markdown",
   "id": "1178f7dc",
   "metadata": {
    "editable": true,
    "slideshow": {
     "slide_type": "subslide"
    }
   },
   "source": [
    "### _Exercise 2 (dictionaries)_"
   ]
  },
  {
   "cell_type": "markdown",
   "id": "31e0b17b",
   "metadata": {
    "editable": true,
    "jp-MarkdownHeadingCollapsed": true,
    "slideshow": {
     "slide_type": ""
    }
   },
   "source": [
    "1. Create a dictionary of several countries and capitals. Think about what's going to be a key and a value.\n",
    "2. Try create the initial dictionary by initialising it.\n",
    "   Try to add new countries with their capitals.\n",
    "3. Print out the whole dictionary line by line in a loop each representing a country and its capital respectfully."
   ]
  },
  {
   "cell_type": "markdown",
   "id": "5e739e0a",
   "metadata": {
    "lines_to_next_cell": 0
   },
   "source": [
    "<!-- #solution -->"
   ]
  },
  {
   "cell_type": "code",
   "execution_count": null,
   "id": "d3e579d3",
   "metadata": {
    "editable": true,
    "lines_to_next_cell": 0,
    "remove_code": "non-comments",
    "slideshow": {
     "slide_type": ""
    },
    "tags": []
   },
   "outputs": [],
   "source": [
    "# 1) Create a dictionary of countries and their respective capitals\n",
    "capitals = {\n",
    "    \"United States\": \"Washington, D.C.\",\n",
    "    \"Germany\": \"Berlin\",\n",
    "    \"France\": \"Paris\"\n",
    "}\n",
    "\n",
    "# 2) Add new countries with their capitals\n",
    "capitals[\"Italy\"] = \"Rome\"\n",
    "capitals[\"Spain\"] = \"Madrid\"\n",
    "\n",
    "# 3) Print out each country and its capital\n",
    "for country, capital in capitals.items():\n",
    "    print(f\"The capital of {country} is {capital}.\")\n"
   ]
  },
  {
   "cell_type": "markdown",
   "id": "b98022a5",
   "metadata": {},
   "source": [
    "<!-- #endsolution -->"
   ]
  },
  {
   "cell_type": "markdown",
   "id": "9e95b1bb",
   "metadata": {
    "editable": true,
    "slideshow": {
     "slide_type": "fragment"
    }
   },
   "source": [
    "---"
   ]
  },
  {
   "cell_type": "markdown",
   "id": "07d53abe",
   "metadata": {
    "editable": true,
    "slideshow": {
     "slide_type": "subslide"
    }
   },
   "source": [
    "### _Exercise 3 (tuples)_"
   ]
  },
  {
   "cell_type": "markdown",
   "id": "6e83da5f",
   "metadata": {
    "editable": true,
    "slideshow": {
     "slide_type": ""
    }
   },
   "source": [
    "Try `items()` method on the dictionary you've created before. Print that out. What kind of data structure does it return?"
   ]
  },
  {
   "cell_type": "markdown",
   "id": "adb1abd8",
   "metadata": {
    "lines_to_next_cell": 0
   },
   "source": [
    "<!-- #solution -->"
   ]
  },
  {
   "cell_type": "code",
   "execution_count": null,
   "id": "fb62cca7",
   "metadata": {
    "editable": true,
    "lines_to_next_cell": 0,
    "remove_code": "non-comments",
    "slideshow": {
     "slide_type": ""
    },
    "tags": []
   },
   "outputs": [],
   "source": [
    "# Get the items() of the dictionary\n",
    "items_result = capitals.items()\n",
    "\n",
    "# Print the result\n",
    "print(\"Items:\", items_result)\n",
    "\n",
    "# Print the type of the returned data structure\n",
    "print(\"Type:\", type(items_result))\n"
   ]
  },
  {
   "cell_type": "markdown",
   "id": "c2e63db1",
   "metadata": {},
   "source": [
    "<!-- #endsolution -->"
   ]
  },
  {
   "cell_type": "markdown",
   "id": "8eb3bbf7",
   "metadata": {
    "editable": true,
    "slideshow": {
     "slide_type": "notes"
    }
   },
   "source": [
    "_Note_: the data structure returned by `dict.items()` is of type `dict_items`,\n",
    "which is an iterable view object displaying the dictionary’s (key, value) pairs"
   ]
  },
  {
   "cell_type": "markdown",
   "id": "a59e34c1",
   "metadata": {
    "editable": true,
    "slideshow": {
     "slide_type": "fragment"
    }
   },
   "source": [
    "---"
   ]
  },
  {
   "cell_type": "markdown",
   "id": "f2ad81c8",
   "metadata": {
    "editable": true,
    "slideshow": {
     "slide_type": "subslide"
    }
   },
   "source": [
    "### _Exercise 4 (lists)_"
   ]
  },
  {
   "cell_type": "markdown",
   "id": "7c84ec76",
   "metadata": {
    "editable": true,
    "slideshow": {
     "slide_type": ""
    }
   },
   "source": [
    "Given this list: "
   ]
  },
  {
   "cell_type": "code",
   "execution_count": null,
   "id": "f964f97b",
   "metadata": {
    "editable": true,
    "slideshow": {
     "slide_type": ""
    },
    "tags": []
   },
   "outputs": [],
   "source": [
    "numbers = [42, 15, 7, 29, 89, 15]"
   ]
  },
  {
   "cell_type": "markdown",
   "id": "01378c1c",
   "metadata": {
    "editable": true,
    "slideshow": {
     "slide_type": "fragment"
    }
   },
   "source": [
    "Complete these tasks:"
   ]
  },
  {
   "cell_type": "markdown",
   "id": "b6b6380a",
   "metadata": {
    "lines_to_next_cell": 0
   },
   "source": [
    "<!-- #solution -->"
   ]
  },
  {
   "cell_type": "code",
   "execution_count": null,
   "id": "9ad284dd",
   "metadata": {
    "editable": true,
    "lines_to_next_cell": 0,
    "remove_code": "non-comments",
    "slideshow": {
     "slide_type": ""
    },
    "tags": []
   },
   "outputs": [],
   "source": [
    "# 1. Print all numbers in reverse order using reversed()\n",
    "# Expected output: 15 89 29 7 15 42\n",
    "for num in reversed(numbers):\n",
    "    print(num, end=' ')\n",
    "\n",
    "# 2. Create a new sorted list called 'sorted_numbers' without modifying the original\n",
    "# Expected output: [7, 15, 15, 29, 42, 89]\n",
    "sorted_numbers = sorted(numbers)\n",
    "\n",
    "# 3. Check if 29 is in the list. If it is, print its index position\n",
    "# Expected output: \"29 is at index 3\"\n",
    "if 29 in numbers:\n",
    "    print(f\"29 is at index {numbers.index(29)}\")\n"
   ]
  },
  {
   "cell_type": "markdown",
   "id": "5bc9a961",
   "metadata": {
    "editable": true,
    "slideshow": {
     "slide_type": "slide"
    },
    "tags": []
   },
   "source": [
    "# <ins>3.</ins> Conditional expressions\n",
    "They are known as _ternary operators_ in other languages."
   ]
  },
  {
   "cell_type": "markdown",
   "id": "96b1482c",
   "metadata": {
    "editable": true,
    "slideshow": {
     "slide_type": "fragment"
    },
    "tags": []
   },
   "source": [
    "---"
   ]
  },
  {
   "cell_type": "code",
   "execution_count": null,
   "id": "56986833",
   "metadata": {
    "editable": true,
    "remove_code": "after:# make the state 'grumpy' if hungry",
    "slideshow": {
     "slide_type": ""
    },
    "tags": []
   },
   "outputs": [],
   "source": [
    "hungry = True\n",
    "\n",
    "# make the state 'grumpy' if hungry\n",
    "state = \"grumpy\" if hungry else \"content\"\n",
    "print(state)"
   ]
  },
  {
   "cell_type": "markdown",
   "id": "21217bab",
   "metadata": {
    "editable": true,
    "slideshow": {
     "slide_type": "fragment"
    }
   },
   "source": [
    "---\n",
    "`or` can be used to handle data that is `None`"
   ]
  },
  {
   "cell_type": "code",
   "execution_count": null,
   "id": "81768bf7",
   "metadata": {
    "editable": true,
    "remove_code": "# catch None with or",
    "slideshow": {
     "slide_type": ""
    },
    "tags": []
   },
   "outputs": [],
   "source": [
    "output = None\n",
    "\n",
    "# catch None with or\n",
    "msg = output or \"No data returned\"\n",
    "print(msg)"
   ]
  },
  {
   "cell_type": "markdown",
   "id": "63274497",
   "metadata": {
    "editable": true,
    "slideshow": {
     "slide_type": "fragment"
    },
    "tags": []
   },
   "source": [
    "---\n",
    "As a simple way to define function parameters with dynamic default values"
   ]
  },
  {
   "cell_type": "code",
   "execution_count": null,
   "id": "40fb97c5",
   "metadata": {
    "editable": true,
    "slideshow": {
     "slide_type": ""
    },
    "tags": []
   },
   "outputs": [],
   "source": [
    "def my_function(real_name, optional_display_name=None):\n",
    "    optional_display_name = optional_display_name or real_name\n",
    "    print(optional_display_name)\n",
    "\n",
    "my_function(\"John\")"
   ]
  },
  {
   "cell_type": "code",
   "execution_count": null,
   "id": "23e5335e",
   "metadata": {
    "editable": true,
    "slideshow": {
     "slide_type": ""
    },
    "tags": []
   },
   "outputs": [],
   "source": [
    "my_function(\"Mike\", \"anonymous123\")"
   ]
  },
  {
   "cell_type": "markdown",
   "id": "a6f9d70c-8116-4e65-b719-e3eb2afa7338",
   "metadata": {},
   "source": [
    "## Have a play!"
   ]
  },
  {
   "cell_type": "markdown",
   "id": "7ebeeb27",
   "metadata": {},
   "source": [
    "<!-- #endsolution -->"
   ]
  },
  {
   "cell_type": "markdown",
   "id": "6dd1230b",
   "metadata": {
    "editable": true,
    "slideshow": {
     "slide_type": "subslide"
    }
   },
   "source": [
    "#### Conditional Expression\n",
    "Write a function that takes a number and returns 'positive' if > 0, 'negative' if < 0, and 'zero' if 0, using a conditional expression."
   ]
  },
  {
   "cell_type": "markdown",
   "id": "abc59e24",
   "metadata": {
    "lines_to_next_cell": 0
   },
   "source": [
    "<!-- #solution -->"
   ]
  },
  {
   "cell_type": "code",
   "execution_count": null,
   "id": "30eb5d01",
   "metadata": {
    "editable": true,
    "lines_to_next_cell": 0,
    "remove_code": "non-comments",
    "slideshow": {
     "slide_type": ""
    },
    "tags": []
   },
   "outputs": [],
   "source": [
    "# Uncomment below and continue with your solution:\n",
    "#def check_number(num):\n",
    "#    return # Your code here\n",
    "def check_number(num):\n",
    "    return 'positive' if num > 0 else 'negative' if num < 0 else 'zero'\n",
    "check_number(5)\n"
   ]
  },
  {
   "cell_type": "markdown",
   "id": "f77b3d5e",
   "metadata": {
    "editable": true,
    "slideshow": {
     "slide_type": "slide"
    },
    "tags": []
   },
   "source": [
    "# <ins>4.</ins> Comprehensions"
   ]
  },
  {
   "cell_type": "markdown",
   "id": "789efc14",
   "metadata": {
    "editable": true,
    "slideshow": {
     "slide_type": ""
    },
    "tags": []
   },
   "source": [
    "<!-- #endsolution -->"
   ]
  },
  {
   "cell_type": "markdown",
   "id": "0002904e",
   "metadata": {
    "editable": true,
    "slideshow": {
     "slide_type": "subslide"
    }
   },
   "source": [
    "### `list` comprehensions\n",
    "Say we had this function"
   ]
  },
  {
   "cell_type": "code",
   "execution_count": null,
   "id": "d2d4f618",
   "metadata": {
    "editable": true,
    "slideshow": {
     "slide_type": ""
    }
   },
   "outputs": [],
   "source": [
    "squared = []\n",
    "for x in range(10):\n",
    "    squared.append(x**2)\n",
    "print(squared)"
   ]
  },
  {
   "cell_type": "markdown",
   "id": "2b2a108f",
   "metadata": {
    "editable": true,
    "slideshow": {
     "slide_type": "fragment"
    }
   },
   "source": [
    "You can simplify it using list comprehensions:"
   ]
  },
  {
   "cell_type": "code",
   "execution_count": null,
   "id": "8e6b943b",
   "metadata": {
    "editable": true,
    "remove_code": "non-comments",
    "slideshow": {
     "slide_type": ""
    },
    "tags": []
   },
   "outputs": [],
   "source": [
    "# write a list comprehension\n",
    "squared = [x**2 for x in range(10)]\n",
    "print(squared)"
   ]
  },
  {
   "cell_type": "markdown",
   "id": "fba1d4bd",
   "metadata": {
    "editable": true,
    "slideshow": {
     "slide_type": ""
    }
   },
   "source": [
    "We can create a list for only a subset with a condition:"
   ]
  },
  {
   "cell_type": "code",
   "execution_count": null,
   "id": "7fa7800c",
   "metadata": {
    "editable": true,
    "remove_code": "non-comments",
    "slideshow": {
     "slide_type": ""
    },
    "tags": []
   },
   "outputs": [],
   "source": [
    "# only get multiples of three from a complete range\n",
    "multiples_of_three = [i for i in range(20) if i % 3 == 0]\n",
    "print(multiples_of_three)"
   ]
  },
  {
   "cell_type": "markdown",
   "id": "6bf06bb9-70d0-43e5-9c71-279f038da7c1",
   "metadata": {},
   "source": [
    "We can also use ternary expressions in list comprehensions"
   ]
  },
  {
   "cell_type": "code",
   "execution_count": null,
   "id": "ef3ac491-86bf-4e69-9c32-1e320773202d",
   "metadata": {
    "editable": true,
    "remove_code": "non-comments",
    "slideshow": {
     "slide_type": ""
    },
    "tags": []
   },
   "outputs": [],
   "source": [
    "# get a range of numbers as string, but replace with 'Fizz' for multiples of five\n",
    "[\"Fizz\" if i % 5 == 0 else str(i) for i in range(1, 20)]"
   ]
  },
  {
   "cell_type": "markdown",
   "id": "30ad4e6f",
   "metadata": {
    "editable": true,
    "slideshow": {
     "slide_type": "fragment"
    }
   },
   "source": [
    "---"
   ]
  },
  {
   "cell_type": "markdown",
   "id": "23631ac8",
   "metadata": {
    "editable": true,
    "slideshow": {
     "slide_type": "slide"
    },
    "tags": []
   },
   "source": [
    "### `dict` comprehensions"
   ]
  },
  {
   "cell_type": "code",
   "execution_count": null,
   "id": "b19190dc",
   "metadata": {
    "editable": true,
    "remove_code": "non-comments",
    "slideshow": {
     "slide_type": ""
    },
    "tags": []
   },
   "outputs": [],
   "source": [
    "names = ['Alice', 'Bob', 'Charlie']\n",
    "\n",
    "# print a dictionaries of lengths for the names\n",
    "name_lengths = {name: len(name) for name in names}\n",
    "print(name_lengths)"
   ]
  },
  {
   "cell_type": "markdown",
   "id": "04550039",
   "metadata": {
    "editable": true,
    "slideshow": {
     "slide_type": "fragment"
    }
   },
   "source": [
    "---"
   ]
  },
  {
   "cell_type": "markdown",
   "id": "2d4e0235",
   "metadata": {
    "editable": true,
    "slideshow": {
     "slide_type": "slide"
    },
    "tags": []
   },
   "source": [
    "### `set` comprehensions"
   ]
  },
  {
   "cell_type": "code",
   "execution_count": null,
   "id": "27175fde",
   "metadata": {
    "editable": true,
    "remove_code": "non-comments",
    "slideshow": {
     "slide_type": ""
    },
    "tags": []
   },
   "outputs": [],
   "source": [
    "squared = {x**2 for x in [1, 1, 2]}\n",
    "print(squared)"
   ]
  },
  {
   "cell_type": "markdown",
   "id": "f8beaad4",
   "metadata": {
    "editable": true,
    "slideshow": {
     "slide_type": "slide"
    },
    "tags": []
   },
   "source": [
    "## Have a play!\n",
    "\n",
    "#### List Comprehension Basics\n",
    "Create a list of even numbers between 1 and 20 using a list comprehension.\n",
    "\n",
    "Hint Remember the `range()` function and modulo operator `%`"
   ]
  },
  {
   "cell_type": "markdown",
   "id": "2d22b269",
   "metadata": {
    "lines_to_next_cell": 0
   },
   "source": [
    "<!-- #solution -->"
   ]
  },
  {
   "cell_type": "code",
   "execution_count": null,
   "id": "72ee6d83",
   "metadata": {
    "editable": true,
    "lines_to_next_cell": 0,
    "remove_code": "non-comments",
    "slideshow": {
     "slide_type": ""
    },
    "tags": []
   },
   "outputs": [],
   "source": [
    "# Uncomment below and continue with your solution:\n",
    "#even_numbers =\n",
    "even_numbers = [x for x in range(1, 21) if x % 2 == 0]\n",
    "even_numbers\n"
   ]
  },
  {
   "cell_type": "markdown",
   "id": "145411f0",
   "metadata": {},
   "source": [
    "<!-- #endsolution -->"
   ]
  },
  {
   "cell_type": "markdown",
   "id": "befa7038",
   "metadata": {
    "editable": true,
    "slideshow": {
     "slide_type": "fragment"
    }
   },
   "source": [
    "---"
   ]
  },
  {
   "cell_type": "markdown",
   "id": "2092afdb",
   "metadata": {
    "editable": true,
    "slideshow": {
     "slide_type": "subslide"
    }
   },
   "source": [
    "#### Dictionary Comprehension\n",
    "Given this dictionary of fruits and their quantities, create a now dictionary where the number of fruits are doubled"
   ]
  },
  {
   "cell_type": "markdown",
   "id": "fd0da6d2",
   "metadata": {
    "lines_to_next_cell": 0
   },
   "source": [
    "<!-- #solution -->"
   ]
  },
  {
   "cell_type": "code",
   "execution_count": null,
   "id": "9dc013da",
   "metadata": {
    "editable": true,
    "lines_to_next_cell": 0,
    "remove_code": "after:# your solution",
    "slideshow": {
     "slide_type": ""
    },
    "tags": []
   },
   "outputs": [],
   "source": [
    "fruits = {'apple': 5, 'banana': 3, 'orange': 2, 'pear': 1}\n",
    "# your solution\n",
    "\n",
    "doubled_fruits = {fruit: amount * 2 for fruit, amount in fruits.items()}\n",
    "doubled_fruits\n"
   ]
  },
  {
   "cell_type": "markdown",
   "id": "00f6f36c",
   "metadata": {
    "editable": true,
    "slideshow": {
     "slide_type": "fragment"
    }
   },
   "source": [
    "---"
   ]
  },
  {
   "cell_type": "markdown",
   "id": "f6deeae0",
   "metadata": {
    "editable": true,
    "slideshow": {
     "slide_type": "slide"
    },
    "tags": []
   },
   "source": [
    "# <ins>5.</ins> Advanced string manipulation"
   ]
  },
  {
   "cell_type": "markdown",
   "id": "0110fae4",
   "metadata": {
    "editable": true,
    "slideshow": {
     "slide_type": ""
    },
    "tags": []
   },
   "source": [
    "* Adjusting case\n",
    "* Formatting strings\n",
    "  - _Note_: Modification requires assignment, because these functions return a copy, not modifying the original string\n",
    "* Quering the existence, replacing, splitting"
   ]
  },
  {
   "cell_type": "markdown",
   "id": "449de01c-e64b-4769-980f-0d05fc84db27",
   "metadata": {
    "editable": true,
    "slideshow": {
     "slide_type": "slide"
    },
    "tags": []
   },
   "source": [
    "## Finding values \n",
    "* `find()` and `index()` both return index of a substring,\n",
    "   - `index()` raises a `ValueError` exception when not found (_exception handling_)\n",
    "   - `find()` returns `-1` when a values was not found\n"
   ]
  },
  {
   "cell_type": "code",
   "execution_count": null,
   "id": "0eab0a2d-eea9-4c33-b700-56eb293ef28b",
   "metadata": {
    "editable": true,
    "slideshow": {
     "slide_type": ""
    },
    "tags": []
   },
   "outputs": [],
   "source": [
    "line = \"the quick brown fox jumped over a lazy dog\"\n",
    "print(line.find('fox'))\n",
    "print(line.index('fox'))"
   ]
  },
  {
   "cell_type": "code",
   "execution_count": null,
   "id": "134c6eba-8897-4ee8-a6e5-f3740a0a4d21",
   "metadata": {
    "editable": true,
    "slideshow": {
     "slide_type": ""
    },
    "tags": []
   },
   "outputs": [],
   "source": [
    "print(line.find('wombat'))"
   ]
  },
  {
   "cell_type": "code",
   "execution_count": null,
   "id": "fc5a28ef-8a31-434a-a653-1662cc274945",
   "metadata": {
    "editable": true,
    "slideshow": {
     "slide_type": ""
    },
    "tags": []
   },
   "outputs": [],
   "source": [
    "try:\n",
    "    print(line.index('wombat'))\n",
    "except ValueError:\n",
    "    print(\"A wombat isn't mentioned in the text\")"
   ]
  },
  {
   "cell_type": "markdown",
   "id": "979c27b9-fdf3-4a44-b9b1-c59ea9fc7dc4",
   "metadata": {
    "editable": true,
    "slideshow": {
     "slide_type": "slide"
    },
    "tags": []
   },
   "source": [
    "## Checking conditions on strings\n",
    "\n",
    "Checking whether a string starts or ends a certain way is really common and easy"
   ]
  },
  {
   "cell_type": "code",
   "execution_count": null,
   "id": "77d4d329-9e07-4100-a84e-bd8e55287b5d",
   "metadata": {
    "editable": true,
    "slideshow": {
     "slide_type": ""
    },
    "tags": []
   },
   "outputs": [],
   "source": [
    "line = \"the quick brown fox jumped over a lazy dog\"\n",
    "\n",
    "print(line.startswith('the'))\n",
    "print(line.endswith('fox'))"
   ]
  },
  {
   "cell_type": "markdown",
   "id": "16df807e",
   "metadata": {
    "editable": true,
    "slideshow": {
     "slide_type": "subslide"
    }
   },
   "source": [
    "* The canonical way to search a string (if not interested in the index):"
   ]
  },
  {
   "cell_type": "code",
   "execution_count": null,
   "id": "47c2d357",
   "metadata": {
    "editable": true,
    "slideshow": {
     "slide_type": ""
    },
    "tags": []
   },
   "outputs": [],
   "source": [
    "if \"fox\" in line:\n",
    "    print(\"A fox has been seen\")"
   ]
  },
  {
   "cell_type": "markdown",
   "id": "50a5912a-f819-4984-b0e9-d2c571288bab",
   "metadata": {
    "editable": true,
    "slideshow": {
     "slide_type": "slide"
    },
    "tags": []
   },
   "source": [
    "## Replacing a value:"
   ]
  },
  {
   "cell_type": "code",
   "execution_count": null,
   "id": "292d8b56-1142-4927-9320-9c6331f5a962",
   "metadata": {
    "editable": true,
    "slideshow": {
     "slide_type": ""
    },
    "tags": []
   },
   "outputs": [],
   "source": [
    "line = \"the quick brown fox jumped over a lazy dog\"\n",
    "print(line)\n",
    "print(line.replace('brown', 'red'))\n"
   ]
  },
  {
   "cell_type": "markdown",
   "id": "0218827f-67aa-41b5-865b-5ae72505e6c8",
   "metadata": {
    "editable": true,
    "slideshow": {
     "slide_type": "slide"
    },
    "tags": []
   },
   "source": [
    "## Bring all words to a common case"
   ]
  },
  {
   "cell_type": "code",
   "execution_count": null,
   "id": "a95784ad-44fc-4e7c-9b16-caa09fedbc60",
   "metadata": {
    "editable": true,
    "slideshow": {
     "slide_type": ""
    }
   },
   "outputs": [],
   "source": [
    "arc_update = \"ThE HAmILton suPERcompUTER is beiNg UPGraded\"\n",
    "print(arc_update)\n",
    "print(arc_update.upper())\n",
    "print(arc_update.title())\n",
    "print(arc_update.capitalize())"
   ]
  },
  {
   "cell_type": "markdown",
   "id": "d94fa618-30a8-4aae-9b3a-2abfc4919eba",
   "metadata": {
    "editable": true,
    "slideshow": {
     "slide_type": "slide"
    },
    "tags": []
   },
   "source": [
    "## Removing white space"
   ]
  },
  {
   "cell_type": "code",
   "execution_count": null,
   "id": "22763b5f-7576-43c5-a237-925dce9b88aa",
   "metadata": {
    "editable": true,
    "slideshow": {
     "slide_type": ""
    }
   },
   "outputs": [],
   "source": [
    "arc_update = \"   RSE   \"\n",
    "print(arc_update.strip())\n",
    "print(arc_update.rstrip())\n",
    "print(arc_update.lstrip())"
   ]
  },
  {
   "cell_type": "markdown",
   "id": "018d883a-3ca3-4619-b1e7-e10e52c9ade8",
   "metadata": {
    "editable": true,
    "slideshow": {
     "slide_type": "slide"
    },
    "tags": []
   },
   "source": [
    "## Extracting/concatenating the individual words or parts"
   ]
  },
  {
   "cell_type": "code",
   "execution_count": null,
   "id": "1f26c482",
   "metadata": {
    "editable": true,
    "slideshow": {
     "slide_type": ""
    },
    "tags": []
   },
   "outputs": [],
   "source": [
    "line = \"the quick brown fox jumped over a lazy dog\"\n",
    "\n",
    "# split by space\n",
    "print(line.split())\n",
    "\n",
    "# split by word\n",
    "print(line.split('jumped'))"
   ]
  },
  {
   "cell_type": "markdown",
   "id": "6588dc8d-73dc-4f57-b084-38130b482cc2",
   "metadata": {},
   "source": [
    "The operation in the other direction is `a_string.join()` where `a_string` is placed between every string of a list"
   ]
  },
  {
   "cell_type": "code",
   "execution_count": null,
   "id": "5c81a93d-6fca-40e5-ae22-6697a9352272",
   "metadata": {
    "editable": true,
    "slideshow": {
     "slide_type": ""
    },
    "tags": []
   },
   "outputs": [],
   "source": [
    "string_list = [\"A\", \"list\", \"of\", \"split\", \"words\"]\n",
    "print(\" \".join(string_list))"
   ]
  },
  {
   "cell_type": "code",
   "execution_count": null,
   "id": "cb9837fc-dd67-447c-b503-8029678581ab",
   "metadata": {
    "editable": true,
    "slideshow": {
     "slide_type": ""
    },
    "tags": []
   },
   "outputs": [],
   "source": [
    "line_list = [\"First line\", \"Second line\"]\n",
    "print(\"\\n\".join(line_list))"
   ]
  },
  {
   "cell_type": "markdown",
   "id": "930a9ea5",
   "metadata": {
    "editable": true,
    "slideshow": {
     "slide_type": "slide"
    },
    "tags": []
   },
   "source": [
    "# <ins>**Part II**</ins>"
   ]
  },
  {
   "cell_type": "markdown",
   "id": "8c734fbe",
   "metadata": {
    "editable": true,
    "slideshow": {
     "slide_type": "slide"
    },
    "tags": []
   },
   "source": [
    "# <ins>6.</ins> Iterators beneath control flows"
   ]
  },
  {
   "cell_type": "markdown",
   "id": "341a5462",
   "metadata": {
    "editable": true,
    "slideshow": {
     "slide_type": ""
    },
    "tags": []
   },
   "source": [
    "What is the for loop doing under the hood?"
   ]
  },
  {
   "cell_type": "markdown",
   "id": "4f4bb670",
   "metadata": {
    "editable": true,
    "slideshow": {
     "slide_type": ""
    }
   },
   "source": [
    "1. `iter()` is called on the container object returning an iterator object\n",
    "2. The iterator object defines a `__next__()` function which facilitates access to elements one at a time\n",
    "3. `__next()__` tells for loop when there are no more elements raising StopIteration exception"
   ]
  },
  {
   "cell_type": "code",
   "execution_count": null,
   "id": "ca2a44a5",
   "metadata": {
    "editable": true,
    "slideshow": {
     "slide_type": ""
    }
   },
   "outputs": [],
   "source": [
    "uni = \"Durham\"\n",
    "it = iter(uni)\n",
    "it"
   ]
  },
  {
   "cell_type": "code",
   "execution_count": null,
   "id": "13f73ce2",
   "metadata": {
    "editable": true,
    "slideshow": {
     "slide_type": ""
    }
   },
   "outputs": [],
   "source": [
    "next(it)"
   ]
  },
  {
   "cell_type": "code",
   "execution_count": null,
   "id": "02bccb61",
   "metadata": {},
   "outputs": [],
   "source": [
    "next(it)"
   ]
  },
  {
   "cell_type": "code",
   "execution_count": null,
   "id": "59b16151",
   "metadata": {},
   "outputs": [],
   "source": [
    "next(it)"
   ]
  },
  {
   "cell_type": "code",
   "execution_count": null,
   "id": "b1ce625c",
   "metadata": {},
   "outputs": [],
   "source": [
    "next(it)"
   ]
  },
  {
   "cell_type": "code",
   "execution_count": null,
   "id": "79547dc9",
   "metadata": {},
   "outputs": [],
   "source": [
    "next(it)"
   ]
  },
  {
   "cell_type": "code",
   "execution_count": null,
   "id": "06e2259a",
   "metadata": {},
   "outputs": [],
   "source": [
    "next(it)"
   ]
  },
  {
   "cell_type": "code",
   "execution_count": null,
   "id": "91b1e087",
   "metadata": {
    "editable": true,
    "slideshow": {
     "slide_type": ""
    }
   },
   "outputs": [],
   "source": [
    "next(it)"
   ]
  },
  {
   "cell_type": "markdown",
   "id": "4d6c0c2a",
   "metadata": {
    "editable": true,
    "slideshow": {
     "slide_type": "fragment"
    }
   },
   "source": [
    "---"
   ]
  },
  {
   "cell_type": "markdown",
   "id": "ed8760d2",
   "metadata": {
    "editable": true,
    "slideshow": {
     "slide_type": "slide"
    },
    "tags": []
   },
   "source": [
    "# <ins>7.</ins>  Lambda functions"
   ]
  },
  {
   "cell_type": "markdown",
   "id": "3bf2cfdd",
   "metadata": {
    "editable": true,
    "slideshow": {
     "slide_type": "subslide"
    },
    "tags": []
   },
   "source": [
    "**_Lambda functions_** for compact inline function definitions. Useful when you don’t want to use a function twice:\n",
    "\n",
    "`lambda arguments : manipulate(argument)`\n",
    "\n",
    "Or more generally:\n",
    "\n",
    "`somefunc = lambda a1, a2, ... : some_expression`"
   ]
  },
  {
   "cell_type": "code",
   "execution_count": null,
   "id": "dac0e9e2",
   "metadata": {
    "editable": true,
    "slideshow": {
     "slide_type": ""
    },
    "tags": []
   },
   "outputs": [],
   "source": [
    "add = lambda x, y: x + y\n",
    "print(add(3, 5))"
   ]
  },
  {
   "cell_type": "markdown",
   "id": "1ea61e3b",
   "metadata": {
    "editable": true,
    "slideshow": {
     "slide_type": "fragment"
    }
   },
   "source": [
    "---\n",
    "_Example_: List sorting"
   ]
  },
  {
   "cell_type": "code",
   "execution_count": null,
   "id": "b1cca538",
   "metadata": {
    "editable": true,
    "slideshow": {
     "slide_type": ""
    }
   },
   "outputs": [],
   "source": [
    "a = [(1, 2), (4, 1), (9, 10), (13, -3)]\n",
    "a.sort(key=lambda x: x[1])\n",
    "print(a)"
   ]
  },
  {
   "cell_type": "markdown",
   "id": "edad7584",
   "metadata": {
    "editable": true,
    "slideshow": {
     "slide_type": "fragment"
    }
   },
   "source": [
    "---\n",
    "_Example_: Parallel sorting of lists"
   ]
  },
  {
   "cell_type": "code",
   "execution_count": null,
   "id": "3f0c93b6",
   "metadata": {
    "editable": true,
    "slideshow": {
     "slide_type": ""
    }
   },
   "outputs": [],
   "source": [
    "list1 = [\"New York\", \"Moscow\", \"Tokyo\"]\n",
    "list2 = [8804190, 13010112, 14187176]\n",
    "data = zip(list1, list2)\n",
    "print(data)\n",
    "data = sorted(data)\n",
    "print(data)\n",
    "list1, list2 = map(lambda t: list(t), zip(*data))\n",
    "print(list1)\n",
    "print(list2)"
   ]
  },
  {
   "cell_type": "markdown",
   "id": "4732f1c2",
   "metadata": {
    "editable": true,
    "slideshow": {
     "slide_type": "fragment"
    }
   },
   "source": [
    "---"
   ]
  },
  {
   "cell_type": "markdown",
   "id": "e3751d80",
   "metadata": {
    "editable": true,
    "slideshow": {
     "slide_type": "subslide"
    }
   },
   "source": [
    "**_Map_** applies a function to all the items in an iterable:\n",
    "\n",
    "`map(function_to_apply, list_of_inputs)`"
   ]
  },
  {
   "cell_type": "code",
   "execution_count": null,
   "id": "a1f8c6b9",
   "metadata": {
    "editable": true,
    "slideshow": {
     "slide_type": ""
    }
   },
   "outputs": [],
   "source": [
    "items = [1,2,3,4,5]\n",
    "squared = []\n",
    "for i in items:\n",
    "    squared.append(i**2)\n",
    "print(squared)"
   ]
  },
  {
   "cell_type": "code",
   "execution_count": null,
   "id": "88f1d8d7",
   "metadata": {
    "editable": true,
    "slideshow": {
     "slide_type": ""
    }
   },
   "outputs": [],
   "source": [
    "squared = list(map(lambda x: x**3, items))\n",
    "print(squared)"
   ]
  },
  {
   "cell_type": "markdown",
   "id": "dd62f9b8",
   "metadata": {
    "editable": true,
    "slideshow": {
     "slide_type": "fragment"
    }
   },
   "source": [
    "---"
   ]
  },
  {
   "cell_type": "markdown",
   "id": "6463ff56-8d6b-4a5e-9921-ca805a5e12e5",
   "metadata": {},
   "source": [
    "## Have a play!"
   ]
  },
  {
   "cell_type": "markdown",
   "id": "11bc6e0d",
   "metadata": {
    "editable": true,
    "slideshow": {
     "slide_type": "fragment"
    },
    "tags": []
   },
   "source": [
    "---"
   ]
  },
  {
   "cell_type": "markdown",
   "id": "c658598e",
   "metadata": {
    "editable": true,
    "slideshow": {
     "slide_type": "subslide"
    }
   },
   "source": [
    "#### Lambda and Sorting\n",
    "Sort this list of dictionaries by the 'age' key using a lambda function.\n",
    "\n",
    "Hint: The `sort`/`sorted` function takes a key parameter"
   ]
  },
  {
   "cell_type": "markdown",
   "id": "fd1c7168",
   "metadata": {
    "lines_to_next_cell": 0
   },
   "source": [
    "<!-- #solution -->"
   ]
  },
  {
   "cell_type": "code",
   "execution_count": null,
   "id": "66dfef7e",
   "metadata": {
    "editable": true,
    "lines_to_next_cell": 0,
    "remove_code": "after:#sorted_people = # Your code here",
    "slideshow": {
     "slide_type": ""
    },
    "tags": []
   },
   "outputs": [],
   "source": [
    "# Continue with your solution below:\n",
    "people = [\n",
    "    {'name': 'Alice', 'age': 25},\n",
    "    {'name': 'Bob', 'age': 20},\n",
    "    {'name': 'Charlie', 'age': 30}\n",
    "]\n",
    "#sorted_people = # Your code here\n",
    "sorted_people = sorted(people, key=lambda x: x['age'])\n",
    "sorted_people\n"
   ]
  },
  {
   "cell_type": "markdown",
   "id": "8be2c739",
   "metadata": {},
   "source": [
    "<!-- #endsolution -->"
   ]
  },
  {
   "cell_type": "markdown",
   "id": "a33bb784",
   "metadata": {
    "editable": true,
    "slideshow": {
     "slide_type": "fragment"
    }
   },
   "source": [
    "---"
   ]
  },
  {
   "cell_type": "markdown",
   "id": "ecad0562",
   "metadata": {
    "editable": true,
    "slideshow": {
     "slide_type": "slide"
    },
    "tags": []
   },
   "source": [
    "# <ins>8.</ins> Introduction to modules\n",
    "A _module_ is a single file (or collection of files) that is intended to be imported and used in other Python programs. It can include functions, classes, variables, and runnable code."
   ]
  },
  {
   "cell_type": "markdown",
   "id": "9e1c43a8",
   "metadata": {
    "editable": true,
    "slideshow": {
     "slide_type": "slide"
    }
   },
   "source": [
    "## Importing _modules_"
   ]
  },
  {
   "cell_type": "markdown",
   "id": "eed64626",
   "metadata": {
    "editable": true,
    "slideshow": {
     "slide_type": ""
    }
   },
   "source": [
    "Python comes with hundreds of _modules_ doing all sorts of things. Also, many 3rd-party modules are available to download from the Internet."
   ]
  },
  {
   "cell_type": "markdown",
   "id": "db90a278",
   "metadata": {
    "editable": true,
    "slideshow": {
     "slide_type": ""
    }
   },
   "source": [
    "There are several ways of importing _modules_:"
   ]
  },
  {
   "cell_type": "code",
   "execution_count": null,
   "id": "0f8ee4bb",
   "metadata": {
    "editable": true,
    "slideshow": {
     "slide_type": ""
    }
   },
   "outputs": [],
   "source": [
    "# import the whole module\n",
    "import math\n",
    "\n",
    "# module's function name is in the module's namespace\n",
    "print(math.sqrt(16.0))"
   ]
  },
  {
   "cell_type": "code",
   "execution_count": null,
   "id": "338eca3f",
   "metadata": {
    "editable": true,
    "slideshow": {
     "slide_type": ""
    }
   },
   "outputs": [],
   "source": [
    "# import several modules at once\n",
    "import pathlib, sys, time"
   ]
  },
  {
   "cell_type": "code",
   "execution_count": null,
   "id": "2f29773e",
   "metadata": {
    "editable": true,
    "slideshow": {
     "slide_type": ""
    }
   },
   "outputs": [],
   "source": [
    "# use 'as' keyword to change the name of the module\n",
    "import math as m\n",
    "print(m.sqrt(36.0))"
   ]
  },
  {
   "cell_type": "code",
   "execution_count": null,
   "id": "77b96e95",
   "metadata": {
    "editable": true,
    "slideshow": {
     "slide_type": ""
    }
   },
   "outputs": [],
   "source": [
    "# import only a selected function from a module\n",
    "from math import sqrt\n",
    "\n",
    "# the function's name is in the global namespace\n",
    "print(sqrt(49))"
   ]
  },
  {
   "cell_type": "code",
   "execution_count": null,
   "id": "ce4f29f0",
   "metadata": {
    "editable": true,
    "slideshow": {
     "slide_type": ""
    }
   },
   "outputs": [],
   "source": [
    "# change the name of the function in the module\n",
    "from math import sqrt as square_root\n",
    "print(square_root(25))"
   ]
  },
  {
   "cell_type": "code",
   "execution_count": null,
   "id": "44c18b00",
   "metadata": {
    "editable": true,
    "slideshow": {
     "slide_type": ""
    }
   },
   "outputs": [],
   "source": [
    "# import all functions, variables, and classes from a module into the global namespace\n",
    "# - better to avoid this as some names from the module can interfere with your own variable names in the global namespace\n",
    "from math import *\n",
    "print(int(sqrt(4.0)))"
   ]
  },
  {
   "cell_type": "markdown",
   "id": "d1cc0855",
   "metadata": {
    "editable": true,
    "slideshow": {
     "slide_type": "fragment"
    }
   },
   "source": [
    "---\n",
    "To get help on a module at the Python shell, import it the whole (the very first way), then you can..."
   ]
  },
  {
   "cell_type": "code",
   "execution_count": null,
   "id": "558e0d9e",
   "metadata": {
    "editable": true,
    "slideshow": {
     "slide_type": ""
    }
   },
   "outputs": [],
   "source": [
    "# get a list of the functions and variables in the module\n",
    "dir(math)"
   ]
  },
  {
   "cell_type": "code",
   "execution_count": null,
   "id": "01d2c703",
   "metadata": {
    "editable": true,
    "slideshow": {
     "slide_type": ""
    }
   },
   "outputs": [],
   "source": [
    "# get a long description\n",
    "help(math)"
   ]
  },
  {
   "cell_type": "markdown",
   "id": "8e33b8e3",
   "metadata": {
    "editable": true,
    "slideshow": {
     "slide_type": "fragment"
    }
   },
   "source": [
    "---"
   ]
  },
  {
   "cell_type": "markdown",
   "id": "b14a6818",
   "metadata": {
    "editable": true,
    "slideshow": {
     "slide_type": "slide"
    }
   },
   "source": [
    "## Some useful _modules_"
   ]
  },
  {
   "cell_type": "markdown",
   "id": "012efab2",
   "metadata": {
    "editable": true,
    "slideshow": {
     "slide_type": ""
    }
   },
   "source": [
    "Python comes with a program called pip which will automatically fetch packages released and listed on PyPI: `pip install <some-module>`"
   ]
  },
  {
   "cell_type": "markdown",
   "id": "eb000d98",
   "metadata": {
    "editable": true,
    "slideshow": {
     "slide_type": ""
    }
   },
   "source": [
    "| Name       | Description |\n",
    "|------------------|-------------|\n",
    "| **`time`**       | functions for dealing with time\n",
    "| **`datetime`**   | allows to work with dates and times together\n",
    "| **`os`**         | functions for working with files, directories and operating system (lowlevel)\n",
    "| **`pathlib`**    | Classes for working with pathes files and directories in a higher level implementation\n",
    "| **`shutils`**    | contains a function to copy files\n",
    "| **`sys`**        | contains a function to quit your program\n",
    "| **`zipfile`**    | allows to compress/extract files or directory of files into/from a zip file\n",
    "| **`urllib`**     | allows to get files from the internet\n",
    "| **`math`**       | math functions such as `sin`, `cos`, `tan`, `exp`, `log`, `sqrt`, `floor`, `ceil` |\n",
    "| **`numpy`**      | fundamental package for scientific computing (a multidimensional array object; routines for fast operations on arrays, including mathematical, logical, shape manipulation, sorting, selecting; basic linear algebra, basic statistical operations, random simulation and much more) |\n",
    "| **`scipy`**      | a collection of mathematical algorithms and convenience functions built on the NumPy extension (high-level commands and classes for the manipulation and visualization of data) |\n",
    "| **`matplotlib`** | library for plotting\n",
    "| **`sympy`**      | symbolic computations\n",
    "| **`itertools`**  | provides a generator-like object named `permutations`\n",
    "| **`csv`**        | parsing and writing `csv` files"
   ]
  },
  {
   "cell_type": "markdown",
   "id": "4e16a864",
   "metadata": {
    "editable": true,
    "slideshow": {
     "slide_type": "slide"
    }
   },
   "source": [
    "## Using _modules_"
   ]
  },
  {
   "cell_type": "markdown",
   "id": "17798548",
   "metadata": {
    "editable": true,
    "slideshow": {
     "slide_type": "subslide"
    },
    "tags": []
   },
   "source": [
    "### _Example_\n",
    "Interfacing with the files: **`pathlib`**"
   ]
  },
  {
   "cell_type": "code",
   "execution_count": null,
   "id": "acfd6a4d",
   "metadata": {
    "editable": true,
    "slideshow": {
     "slide_type": ""
    },
    "tags": []
   },
   "outputs": [],
   "source": [
    "from pathlib import Path\n",
    "# Create a Path object for the current directory\n",
    "current_directory = Path('.')\n",
    "# List all files in the current directory\n",
    "for file in current_directory.iterdir():\n",
    "    print(file.name)\n",
    "\n",
    "# list all ipynb files in the current directory\n",
    "for file in current_directory.glob('*.ipynb'):\n",
    "    print(file.name)\n",
    "\n",
    "# Check whether a file exists\n",
    "file_path = current_directory / 'data' / 'data_file.txt'\n",
    "if file_path.exists():\n",
    "    print(f\"The file {file_path} exists.\")"
   ]
  },
  {
   "cell_type": "code",
   "execution_count": null,
   "id": "04329a55",
   "metadata": {
    "editable": true,
    "slideshow": {
     "slide_type": ""
    },
    "tags": []
   },
   "outputs": [],
   "source": [
    "# Create a new test folder\n",
    "new_folder = current_directory / 'test_folder'\n",
    "new_folder.mkdir(exist_ok=True)  # exist_ok=True prevents error if folder already exists\n",
    "\n",
    "# Create a new file in the test folder\n",
    "output = \"This is some output\\nSecond line!\"\n",
    "output_file = new_folder / 'output.txt'\n",
    "output_file.write_text(output)\n",
    "\n",
    "# Read the content a file\n",
    "test_file = current_directory / 'data' / 'testfile.txt'\n",
    "content = test_file.read_text()\n",
    "print(\"Content of output.txt:\")\n",
    "print(content)"
   ]
  },
  {
   "cell_type": "markdown",
   "id": "4e9801e0",
   "metadata": {
    "editable": true,
    "slideshow": {
     "slide_type": "fragment"
    }
   },
   "source": [
    "---\n",
    "We'll demonstrate how to use modules in the actual code using the example of reading/writing files. In the _Beginner_ course, we showed the basic reading/writing files using the built-in functions of Python. But there's a better way of doing that by means of the specialised module called **`csv`**."
   ]
  },
  {
   "cell_type": "markdown",
   "id": "a306f3cb",
   "metadata": {
    "editable": true,
    "slideshow": {
     "slide_type": "fragment"
    }
   },
   "source": [
    "Writing a csv file:"
   ]
  },
  {
   "cell_type": "code",
   "execution_count": null,
   "id": "b10a1b92",
   "metadata": {
    "editable": true,
    "slideshow": {
     "slide_type": ""
    },
    "tags": []
   },
   "outputs": [],
   "source": [
    "import csv, math\n",
    "\n",
    "with open (\"example.csv\", 'w') as out_f:\n",
    "    writer = csv.writer(out_f, delimiter=',')\n",
    "    writer.writerow([\"x_axis\", \"y_axis\"])\n",
    "    x_axis = [x * 0.1 for x in range(0, 100)]\n",
    "    for x in x_axis:\n",
    "        writer.writerow([x, math.cos(x)])"
   ]
  },
  {
   "cell_type": "markdown",
   "id": "3a9c7b35",
   "metadata": {
    "editable": true,
    "jp-MarkdownHeadingCollapsed": true,
    "slideshow": {
     "slide_type": "fragment"
    }
   },
   "source": [
    "---\n",
    "Now, let’s extract the value for `y_axis` when `x_axis` is `1.0` for the csv we just wrote:"
   ]
  },
  {
   "cell_type": "code",
   "execution_count": null,
   "id": "b4f9954b",
   "metadata": {
    "editable": true,
    "slideshow": {
     "slide_type": ""
    },
    "tags": []
   },
   "outputs": [],
   "source": [
    "import csv\n",
    "\n",
    "with open (\"example.csv\", 'r') as in_f:\n",
    "    reader = csv.reader(in_f, delimiter=',')\n",
    "    next(reader) # skip header\n",
    "    for row in reader:\n",
    "        if row[0] == \"1.0\":\n",
    "            print(row[1])\n",
    "            break"
   ]
  },
  {
   "cell_type": "markdown",
   "id": "6ee8121a",
   "metadata": {
    "editable": true,
    "slideshow": {
     "slide_type": "fragment"
    }
   },
   "source": [
    "---"
   ]
  },
  {
   "cell_type": "markdown",
   "id": "a00f019b",
   "metadata": {
    "editable": true,
    "slideshow": {
     "slide_type": "slide"
    }
   },
   "source": [
    "## Building your own module\n",
    "\n",
    "  - If you have a .py file in a path that is available to python, you can import any object defined in that file.\n",
    "  - If you have `mymodule.py` in your folder you can just write:\n",
    "    `import mymodule`\n",
    "    and use a function defined in there with `mymodule.my_function(arg)`\n",
    "  - of course you can also use the  method\n",
    "    `from mymodule import my_function`"
   ]
  },
  {
   "cell_type": "markdown",
   "id": "47dd6a0c",
   "metadata": {
    "editable": true,
    "slideshow": {
     "slide_type": "subslide"
    }
   },
   "source": [
    "### ```__main__``` special built-in variable\n",
    "So python files can be executed with \n",
    "`python mymodule.py` or loaded from with `import`\n",
    "However, all commands just put into a python file will be executed on import.\n",
    "\n",
    "The answer is to introduce a `__main__` block that is only executed when the file is called as a script.\n",
    "It is good practice to have all code executed in a script to be either in a function or in this block.\n"
   ]
  },
  {
   "cell_type": "markdown",
   "id": "7f4123ae",
   "metadata": {
    "editable": true,
    "slideshow": {
     "slide_type": "fragment"
    }
   },
   "source": [
    "\n",
    "### Example content of `mymodule.py`:\n",
    "```python\n",
    "def myfunction():\n",
    "    print(\"I will be only printed when the function is called\")\n",
    "\n",
    "print(\"I will be called on import and execution as a script\")\n",
    "\n",
    "if __name__ == \"__main__\":\n",
    "    print(\"I will only executed when called as a script\")\n",
    "```"
   ]
  },
  {
   "cell_type": "markdown",
   "id": "bbe2196d",
   "metadata": {
    "editable": true,
    "slideshow": {
     "slide_type": "slide"
    },
    "tags": []
   },
   "source": [
    "## Have a play!\n",
    "\n",
    " - (1) Try to put the example content from the last slide into a `mymodule.py` in your folder, (2) import `myfunction` into this notebook and (3) run it.\n",
    " - (4) Add your own function that returns the sine of a value (you might need to restart the kernel in the tab _Kernel_-> _Restart Kernel_) if you have already executed the import.\n",
    " - (5) Test it (import the module with your new function and run it).\n"
   ]
  },
  {
   "cell_type": "markdown",
   "id": "eb0ccdf4",
   "metadata": {
    "editable": true,
    "lines_to_next_cell": 0,
    "slideshow": {
     "slide_type": ""
    },
    "tags": []
   },
   "source": [
    "<!-- #solution -->"
   ]
  },
  {
   "cell_type": "code",
   "execution_count": null,
   "id": "be842bd3",
   "metadata": {
    "editable": true,
    "lines_to_next_cell": 0,
    "remove_code": "non-comments",
    "slideshow": {
     "slide_type": ""
    },
    "tags": []
   },
   "outputs": [],
   "source": [
    "# solution hint, cell 1\n",
    "# (In the solution writing to a module is done as code in this cell)\n",
    "# Write the content into the module file:\n",
    "\n",
    "module_path = 'mymodule.py'\n",
    "\n",
    "module_content = \"\"\"\n",
    "def myfunction():\n",
    "    print(\"I will be only printed when the function is called\")\n",
    "\n",
    "print(\"I will be called on import and execution as a script\")\n",
    "\n",
    "if __name__ == \"__main__\":\n",
    "    print(\"I will only executed when called as a script\")\n",
    "\"\"\"\n",
    "\n",
    "with open(module_path, 'w') as fobj:\n",
    "    fobj.write(module_content)\n"
   ]
  },
  {
   "cell_type": "markdown",
   "id": "9853f26b",
   "metadata": {
    "lines_to_next_cell": 0
   },
   "source": [
    "<!-- #endsolution -->\n",
    "\n",
    "<!-- #solution -->"
   ]
  },
  {
   "cell_type": "code",
   "execution_count": null,
   "id": "506cd6b2",
   "metadata": {
    "editable": true,
    "lines_to_next_cell": 0,
    "remove_code": "non-comments",
    "slideshow": {
     "slide_type": ""
    },
    "tags": []
   },
   "outputs": [],
   "source": [
    "# solution hint, cell 2\n",
    "# Import the module:\n",
    "import mymodule\n"
   ]
  },
  {
   "cell_type": "markdown",
   "id": "e97a61f0",
   "metadata": {
    "lines_to_next_cell": 0
   },
   "source": [
    "<!-- #endsolution -->\n",
    "\n",
    "<!-- #solution -->"
   ]
  },
  {
   "cell_type": "code",
   "execution_count": null,
   "id": "454b088a",
   "metadata": {
    "editable": true,
    "lines_to_next_cell": 0,
    "remove_code": "non-comments",
    "slideshow": {
     "slide_type": ""
    },
    "tags": []
   },
   "outputs": [],
   "source": [
    "# solution hint, cell 3\n",
    "# Call the function from the module:\n",
    "mymodule.myfunction()\n"
   ]
  },
  {
   "cell_type": "markdown",
   "id": "82817742",
   "metadata": {
    "lines_to_next_cell": 0
   },
   "source": [
    "<!-- #endsolution -->\n",
    "\n",
    "<!-- #solution -->"
   ]
  },
  {
   "cell_type": "code",
   "execution_count": null,
   "id": "faee9ea4",
   "metadata": {
    "editable": true,
    "lines_to_next_cell": 0,
    "remove_code": "non-comments",
    "slideshow": {
     "slide_type": ""
    },
    "tags": []
   },
   "outputs": [],
   "source": [
    "# solution hint, cell 4\n",
    "# (In the solution writing to a module is done as code in this cell)\n",
    "# To avoid the kernel restart, we output into a second file:\n",
    "module_path = 'mymodule2.py'\n",
    "\n",
    "module_content2 = \"\"\"\n",
    "import math\n",
    "\n",
    "def useless_sine(value):\n",
    "\n",
    "\n",
    "def myfunction():\n",
    "    print(\"I will be only printed when the function is called\")\n",
    "\n",
    "print(\"I will be called on import and execution as a script\")\n",
    "\n",
    "if __name__ == \"__main__\":\n",
    "    print(\"I will only executed when called as a script\")\n",
    "\"\"\"\n",
    "\n",
    "with open(module_path, 'w') as fobj:\n",
    "    fobj.write(module_content)\n"
   ]
  },
  {
   "cell_type": "markdown",
   "id": "57afc82f",
   "metadata": {
    "lines_to_next_cell": 0
   },
   "source": [
    "<!-- #endsolution -->\n",
    "\n",
    "<!-- #solution -->"
   ]
  },
  {
   "cell_type": "code",
   "execution_count": null,
   "id": "c8b612fa",
   "metadata": {
    "editable": true,
    "lines_to_next_cell": 0,
    "remove_code": "non-comments",
    "slideshow": {
     "slide_type": ""
    },
    "tags": []
   },
   "outputs": [],
   "source": [
    "# solution hint, cell 4\n",
    "# Import your module and run the sine function from your own module:\n",
    "mymodule2.useless_sine(1.57)\n"
   ]
  },
  {
   "cell_type": "markdown",
   "id": "3eea9b90",
   "metadata": {
    "editable": true,
    "slideshow": {
     "slide_type": ""
    },
    "tags": []
   },
   "source": [
    "<!-- #endsolution -->\n"
   ]
  },
  {
   "cell_type": "markdown",
   "id": "6522c182",
   "metadata": {
    "editable": true,
    "slideshow": {
     "slide_type": "fragment"
    }
   },
   "source": [
    "---"
   ]
  },
  {
   "cell_type": "markdown",
   "id": "b58c6682",
   "metadata": {
    "editable": true,
    "slideshow": {
     "slide_type": "slide"
    },
    "tags": []
   },
   "source": [
    "# <ins>9.</ins> Brief introduction to classes"
   ]
  },
  {
   "cell_type": "markdown",
   "id": "2bc46488",
   "metadata": {
    "editable": true,
    "slideshow": {
     "slide_type": ""
    },
    "tags": []
   },
   "source": [
    "* Python is an object oriented programming language. Object-Oriented Programming is a programming paradigm based on the concept of \"objects\" which can contain:\n",
    "  - Data (attributes)\n",
    "  - Code (methods)"
   ]
  },
  {
   "cell_type": "markdown",
   "id": "e1593f5d",
   "metadata": {
    "editable": true,
    "slideshow": {
     "slide_type": "subslide"
    }
   },
   "source": [
    "### What is OOP?\n",
    "Key OOP Concepts:\n",
    "\n",
    "1. **Classes and Objects**\n",
    "   - Class: A blueprint for creating objects\n",
    "   - Object: An instance of a class\n",
    "\n",
    "\n",
    "A simple example:"
   ]
  },
  {
   "cell_type": "code",
   "execution_count": null,
   "id": "1407e76f",
   "metadata": {
    "editable": true,
    "slideshow": {
     "slide_type": ""
    }
   },
   "outputs": [],
   "source": [
    "# Simple example\n",
    "class Dog:\n",
    "    def __init__(self, name):\n",
    "        self.name = name  # attribute\n",
    "        \n",
    "    def bark(self):      # method\n",
    "        print(f\"{self.name} says woof!\")\n",
    "\n",
    "# Creating objects\n",
    "dog1 = Dog(\"Rex\")\n",
    "dog2 = Dog(\"Buddy\")\n",
    "dog1.bark()  # Rex says woof!"
   ]
  },
  {
   "cell_type": "markdown",
   "id": "28ce7852",
   "metadata": {},
   "source": [
    "- `__init__`: The constructor method to initialize the attributes."
   ]
  },
  {
   "cell_type": "markdown",
   "id": "f4eb6d0f",
   "metadata": {
    "editable": true,
    "slideshow": {
     "slide_type": "subslide"
    }
   },
   "source": [
    "2. **Encapsulation**\n",
    "   - Bundling data and methods that work on that data within one unit\n",
    "   - Restricting access to certain details"
   ]
  },
  {
   "cell_type": "code",
   "execution_count": null,
   "id": "68e70b7d",
   "metadata": {
    "editable": true,
    "slideshow": {
     "slide_type": ""
    }
   },
   "outputs": [],
   "source": [
    "class BankAccount:\n",
    "    def __init__(self):\n",
    "        self._balance = 0  # protected attribute\n",
    "        \n",
    "    def deposit(self, amount):\n",
    "        if amount > 0:\n",
    "            self._balance += amount\n",
    "            \n",
    "    def get_balance(self):\n",
    "        return self._balance"
   ]
  },
  {
   "cell_type": "markdown",
   "id": "0b6b8520",
   "metadata": {
    "editable": true,
    "slideshow": {
     "slide_type": "subslide"
    }
   },
   "source": [
    "3. **Inheritance**\n",
    "   - Creating new classes that are built upon existing classes"
   ]
  },
  {
   "cell_type": "code",
   "execution_count": null,
   "id": "556d6e71",
   "metadata": {
    "editable": true,
    "slideshow": {
     "slide_type": ""
    }
   },
   "outputs": [],
   "source": [
    "class Animal:\n",
    "    def __init__(self, name):\n",
    "        self.name = name\n",
    "        \n",
    "    def speak(self):\n",
    "        pass\n",
    "\n",
    "class Cat(Animal):\n",
    "    def speak(self):\n",
    "        return f\"{self.name} says meow!\""
   ]
  },
  {
   "cell_type": "markdown",
   "id": "1ef78472",
   "metadata": {
    "editable": true,
    "slideshow": {
     "slide_type": "subslide"
    }
   },
   "source": [
    "4. **Polymorphism**\n",
    "   - Different classes can be treated through the same interface"
   ]
  },
  {
   "cell_type": "code",
   "execution_count": null,
   "id": "dcb8d647",
   "metadata": {
    "editable": true,
    "slideshow": {
     "slide_type": ""
    }
   },
   "outputs": [],
   "source": [
    "def make_speak(animal):\n",
    "    print(animal.speak())\n",
    "\n",
    "cat = Cat(\"Whiskers\")\n",
    "make_speak(cat)  # Whiskers says meow!"
   ]
  },
  {
   "cell_type": "markdown",
   "id": "ccfa919b",
   "metadata": {
    "editable": true,
    "slideshow": {
     "slide_type": "subslide"
    }
   },
   "source": [
    "\"Real-World\" Example: The Elephant and Refrigerator\n",
    "\n",
    "How do you put an elephant into a refrigerator? Old style (without classes):"
   ]
  },
  {
   "cell_type": "code",
   "execution_count": null,
   "id": "50b261ea",
   "metadata": {
    "editable": true,
    "slideshow": {
     "slide_type": ""
    },
    "tags": []
   },
   "outputs": [],
   "source": [
    "# define elephant size\n",
    "elephant_x = 5\n",
    "elephant_y = 5\n",
    "elephamt_h = 5\n",
    "\n",
    "# define refrigerator size\n",
    "refrigerator_x = 6\n",
    "refrigerator_y = 6\n",
    "refrigerator_h = 6\n",
    "\n",
    "def open_refrigerator_door():\n",
    "    print('Refrigerator door is opened')\n",
    "\n",
    "def package_elephant():\n",
    "    print('Elephant is packaged')\n",
    "\n",
    "def put_elephant_to_refrigerator():\n",
    "    print('Elephant is in the fridge already')\n",
    "\n",
    "def close_refrigerator_door():\n",
    "    print('Close the refrigerator door')\n",
    "\n",
    "# compare size\n",
    "if elephant_x < refrigerator_x and elephant_y < refrigerator_y and elephamt_h < refrigerator_h:\n",
    "   open_refrigerator_door()\n",
    "   package_elephant()\n",
    "   put_elephant_to_refrigerator()\n",
    "   close_refrigerator_door()\n",
    "else:\n",
    "    print('refrigerator is too small to put elephant')"
   ]
  },
  {
   "cell_type": "markdown",
   "id": "11511b20",
   "metadata": {
    "editable": true,
    "slideshow": {
     "slide_type": "fragment"
    }
   },
   "source": [
    "---"
   ]
  },
  {
   "cell_type": "markdown",
   "id": "793739ed",
   "metadata": {
    "editable": true,
    "slideshow": {
     "slide_type": "subslide"
    }
   },
   "source": [
    "Now let's look at our elephant and refrigerator example through OOP principles:\n",
    "\n",
    "1. **Encapsulation**: Both `Elephant` and `Refrigerator` classes keep their properties (dimensions) and behaviors (package, open_door) together\n",
    "2. **Abstraction**: The complex logic of putting an elephant in a refrigerator is hidden behind simple method calls\n",
    "3. **Object Interaction**: The `Refrigerator` class works with `Elephant` objects"
   ]
  },
  {
   "cell_type": "code",
   "execution_count": null,
   "id": "8f12aac9",
   "metadata": {
    "editable": true,
    "slideshow": {
     "slide_type": ""
    }
   },
   "outputs": [],
   "source": [
    "class Elephant:\n",
    "    def __init__(self, x, y, h):\n",
    "        self.x = x\n",
    "        self.y = y\n",
    "        self.h = h\n",
    "\n",
    "    def package(self):\n",
    "        print('Elephant is packaged')\n",
    "\n",
    "class Refrigerator:\n",
    "    def __init__(self, x, y, h):\n",
    "        self.x = x\n",
    "        self.y = y\n",
    "        self.h = h\n",
    "        self.is_door_open = False\n",
    "\n",
    "    def open_door(self):\n",
    "        self.is_door_open = True\n",
    "        print('Refrigerator door is opened')\n",
    "\n",
    "    def close_door(self):\n",
    "        self.is_door_open = False\n",
    "        print('Close the refrigerator door')\n",
    "\n",
    "    def put_elephant(self, elephant):\n",
    "        if not self.is_door_open:\n",
    "            self.open_door()\n",
    "        if elephant.x < self.x and elephant.y < self.y and elephant.h < self.h:\n",
    "            elephant.package()\n",
    "            print('Elephant is in the fridge already')\n",
    "        else:\n",
    "            print('Refrigerator is too small to put elephant')\n",
    "        self.close_door()\n",
    "\n",
    "# Define element sizes\n",
    "elephant_x = 5\n",
    "elephant_y = 5\n",
    "elephant_h = 5\n",
    "\n",
    "# Define refrigerator sizes\n",
    "refrigerator_x = 6\n",
    "refrigerator_y = 6\n",
    "refrigerator_h = 6\n",
    "\n",
    "# Create instances of Elephant and Refrigerator classes\n",
    "elephant = Elephant(elephant_x, elephant_y, elephant_h)\n",
    "refrigerator = Refrigerator(refrigerator_x, refrigerator_y, refrigerator_h)\n",
    "\n",
    "# Put the elephant in the refrigerator\n",
    "refrigerator.put_elephant(elephant)"
   ]
  },
  {
   "cell_type": "markdown",
   "id": "4cb7ed7a",
   "metadata": {
    "editable": true,
    "slideshow": {
     "slide_type": "fragment"
    }
   },
   "source": [
    "---\n",
    "1. The `Elephant` class contains the `package` method.\n",
    "\n",
    "2. The `Refrigerator` class contains methods for opening and closing the door (`open_door` and `close_door`) \n",
    "as well as putting the elephant inside (`put_elephant`).\n",
    "\n",
    "3. The logic to determine if the elephant fits into the refrigerator is now part of the `put_elephant` method.\n",
    "\n",
    "4. We create instances of the `Elephant` and `Refrigerator` classes and use the `put_elephant` method to put the elephant into the refrigerator."
   ]
  },
  {
   "cell_type": "markdown",
   "id": "6b3d4d5a",
   "metadata": {
    "editable": true,
    "slideshow": {
     "slide_type": "slide"
    }
   },
   "source": [
    "## Have a play!"
   ]
  },
  {
   "cell_type": "markdown",
   "id": "cea4a098",
   "metadata": {},
   "source": [
    "<!-- #endsolution -->"
   ]
  },
  {
   "cell_type": "markdown",
   "id": "27127ad2",
   "metadata": {
    "editable": true,
    "slideshow": {
     "slide_type": ""
    },
    "tags": []
   },
   "source": [
    "### Plant Sensor API Exercise\n",
    "You've been given a virtual sensor API module which you can import with (`import sensor_api`) that can monitor plants. \n",
    "The API provides three functions:\n",
    "\n",
    "- `connect(sensor_id)`: Connects to a sensor (returns True/False)\n",
    "- `disconnect(sensor_id)`: Disconnects from a sensor (returns True/False)  \n",
    "- `send_message(message)`: Sends a command and receives a reading (returns float or None)\n",
    "\n",
    "#### Message Format\n",
    "Messages must be formatted as: `\"SENSOR_ID:COMMAND\"`\n",
    "\n",
    "Available commands:\n",
    "- `SOIL_HUMIDITY`: Get soil humidity (0-100%)\n",
    "- `AIR_HUMIDITY`: Get air humidity (0-100%)\n",
    "- `TEMPERATURE`: Get temperature in Celsius\n",
    "\n",
    "#### Before\n",
    "This is how working with the API would currently look:\n",
    "\n",
    "```python\n",
    "import sensor_api\n",
    "\n",
    "sensor_id = \"GREENHOUSE_01\"\n",
    "sensor_api.connect(sensor_id)\n",
    "\n",
    "soil_humidity = float(sensor_api.send_message(f\"{id}:SOIL_HUMIDITY\"))\n",
    "air_humidity = float(sensor_api.send_message(f\"{id}:AIR_HUMIDITY\"))\n",
    "temperature = float(sensor_api.send_message(f\"{id}:TEMPERATURE\"))\n",
    "\n",
    "print(f\"\\n=== Plant Sensor {sensor_id} Readings ===\")\n",
    "print(f\"Soil Humidity: {soil_humidity}%\")\n",
    "print(f\"Air Humidity: {air_humidity}%\")\n",
    "print(f\"Temperature: {temperature}°C\")\n",
    "print(\"=\" * 35)\n",
    "sensor_api.disconnect(id)\n",
    "```\n",
    "\n",
    "#### Your Task\n",
    "Create a `PlantSensor` class that:\n",
    "\n",
    "1. Stores the sensor ID when created\n",
    "2. Automatically connects when initialized\n",
    "3. Provides easy-to-use methods for each measurement type\n",
    "4. Properly disconnects when done\n",
    "5. Displays all readings in a nice format\n",
    "\n",
    "\n",
    "\n",
    "#### Desired result\n",
    "```python\n",
    "# This is how your class should work:\n",
    "sensor = PlantSensor(\"PLANT_01\")\n",
    "soil = sensor.get_soil_humidity()\n",
    "air = sensor.get_air_humidity()\n",
    "temp = sensor.get_temperature()\n",
    "sensor.display_readings()\n",
    "sensor.disconnect()\n",
    "```"
   ]
  },
  {
   "cell_type": "markdown",
   "id": "23ddcf95",
   "metadata": {
    "editable": true,
    "slideshow": {
     "slide_type": ""
    },
    "tags": []
   },
   "source": [
    "### Solution"
   ]
  },
  {
   "cell_type": "code",
   "execution_count": null,
   "id": "09a8dd1a",
   "metadata": {
    "editable": true,
    "remove_code": "all",
    "slideshow": {
     "slide_type": ""
    },
    "tags": []
   },
   "outputs": [],
   "source": [
    "import sensor_api\n",
    "\n",
    "class PlantSensor:\n",
    "    def __init__(self, sensor_id):\n",
    "        \"\"\"Initialize the sensor with an ID and connect to it.\"\"\"\n",
    "        self.sensor_id = sensor_id\n",
    "        self.connected = sensor_api.connect(sensor_id)\n",
    "        \n",
    "        # Store readings\n",
    "        self.soil_humidity = None\n",
    "        self.air_humidity = None\n",
    "        self.temperature = None\n",
    "    \n",
    "    def get_soil_humidity(self):\n",
    "        \"\"\"Get soil humidity reading.\"\"\"\n",
    "        if self.connected:\n",
    "            message = f\"{self.sensor_id}:SOIL_HUMIDITY\"\n",
    "            self.soil_humidity = sensor_api.send_message(message)\n",
    "            return float(self.soil_humidity)\n",
    "        return None\n",
    "    \n",
    "    def get_air_humidity(self):\n",
    "        \"\"\"Get air humidity reading.\"\"\"\n",
    "        if self.connected:\n",
    "            message = f\"{self.sensor_id}:AIR_HUMIDITY\"\n",
    "            self.air_humidity = sensor_api.send_message(message)\n",
    "            return float(self.air_humidity)\n",
    "        return None\n",
    "    \n",
    "    def get_temperature(self):\n",
    "        \"\"\"Get temperature reading.\"\"\"\n",
    "        if self.connected:\n",
    "            message = f\"{self.sensor_id}:TEMPERATURE\"\n",
    "            self.temperature = sensor_api.send_message(message)\n",
    "            return float(self.temperature)\n",
    "        return None\n",
    "    \n",
    "    def display_readings(self):\n",
    "        \"\"\"Display all sensor readings.\"\"\"\n",
    "        print(f\"\\n=== Plant Sensor {self.sensor_id} Readings ===\")\n",
    "        print(f\"Soil Humidity: {self.soil_humidity}%\")\n",
    "        print(f\"Air Humidity: {self.air_humidity}%\")\n",
    "        print(f\"Temperature: {self.temperature}°C\")\n",
    "        print(\"=\" * 35)\n",
    "    \n",
    "    def disconnect(self):\n",
    "        \"\"\"Disconnect from the sensor.\"\"\"\n",
    "        if self.connected:\n",
    "            sensor_api.disconnect(self.sensor_id)\n",
    "            self.connected = False"
   ]
  },
  {
   "cell_type": "code",
   "execution_count": null,
   "id": "8fa2a8d3",
   "metadata": {
    "editable": true,
    "slideshow": {
     "slide_type": ""
    },
    "tags": []
   },
   "outputs": [],
   "source": [
    "my_plant = PlantSensor(\"GREENHOUSE_01\")\n",
    "\n",
    "# Take readings\n",
    "my_plant.get_soil_humidity()\n",
    "my_plant.get_air_humidity()\n",
    "my_plant.get_temperature()\n",
    "\n",
    "# Display results\n",
    "my_plant.display_readings()\n",
    "\n",
    "# Clean up\n",
    "my_plant.disconnect()"
   ]
  },
  {
   "cell_type": "markdown",
   "id": "ef9b73ae",
   "metadata": {
    "editable": true,
    "slideshow": {
     "slide_type": "slide"
    }
   },
   "source": [
    "# Thank You for Attending! 👋\n",
    "\n",
    "- Feedback would really be appreciated (see the link in the email I've sent)\n",
    "- Check out our other training courses at ARC:\n",
    "  - https://www.durham.ac.uk/research/institutes-and-centres/advanced-research-computing/training-/\n",
    "- RSE support by ARC at Durham University:\n",
    "  - https://www.durham.ac.uk/research/institutes-and-centres/advanced-research-computing/research-software-engineering/\n",
    "\n",
    "#### Contact\n",
    "- Email: arc-rse@durham.ac.uk\n",
    "\n",
    "Happy Coding! 🐍"
   ]
  }
 ],
 "metadata": {
  "kernelspec": {
   "display_name": "Python 3 (ipykernel)",
   "language": "python",
   "name": "python3"
  },
  "language_info": {
   "codemirror_mode": {
    "name": "ipython",
    "version": 3
   },
   "file_extension": ".py",
   "mimetype": "text/x-python",
   "name": "python",
   "nbconvert_exporter": "python",
   "pygments_lexer": "ipython3",
   "version": "3.13.2"
  }
 },
 "nbformat": 4,
 "nbformat_minor": 5
}
