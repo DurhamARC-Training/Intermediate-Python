{
 "cells": [
  {
   "cell_type": "markdown",
   "id": "former-queue",
   "metadata": {},
   "source": [
    "# Intermediate Python - tutorials"
   ]
  },
  {
   "cell_type": "markdown",
   "id": "variable-thickness",
   "metadata": {},
   "source": [
    "## Part 1:\n",
    "\n",
    "Control flow, functions, Lambdas, lists and strings"
   ]
  },
  {
   "cell_type": "markdown",
   "id": "duplicate-baseball",
   "metadata": {},
   "source": [
    "Place a break statement in the for loop so that it prints from 0 to 7 only (including 7). Give some thought to how a continue statement would lead to different behaviour."
   ]
  },
  {
   "cell_type": "code",
   "execution_count": null,
   "id": "serious-blanket",
   "metadata": {},
   "outputs": [],
   "source": [
    "for i in range(100):\n",
    "    if i > 7:\n",
    "        break\n",
    "    print(i)\n",
    "\n",
    "# compare with a continue statement (here the loop continues).\n",
    "# We can prove this with an extra print statement.\n",
    "\n",
    "for i in range(100):\n",
    "    print(\"This loop is still ongoing!\")\n",
    "    if i > 7:\n",
    "        continue\n",
    "    print(i)"
   ]
  },
  {
   "cell_type": "markdown",
   "id": "weighted-interface",
   "metadata": {},
   "source": [
    "Define a function that takes a list of integers as an argument, squares each element in that list and returns the list"
   ]
  },
  {
   "cell_type": "code",
   "execution_count": null,
   "id": "organizational-hobby",
   "metadata": {},
   "outputs": [],
   "source": [
    "def squaring(number_list):\n",
    "    squared_elements = []\n",
    "    for num in number_list:\n",
    "        squared_elements.append(num**2)\n",
    "    return squared_elements\n",
    "\n",
    "    \n",
    "# note it would have been correct to use list comprehension here or a lambda with map()\n",
    "\n",
    "# def squaring(number_list):\n",
    "#     return [num**2 for num in number_list]\n",
    "\n",
    "# def squaring(number_list):\n",
    "#     return list(map(lambda num: num**2, number_list))"
   ]
  },
  {
   "cell_type": "markdown",
   "id": "stable-rates",
   "metadata": {},
   "source": [
    "Initialise a list with a call to the *squaring* function"
   ]
  },
  {
   "cell_type": "code",
   "execution_count": null,
   "id": "annoying-planning",
   "metadata": {},
   "outputs": [],
   "source": [
    "exponential_curve = squaring([1, 2, 3, 4, 5])\n",
    "\n",
    "print(exponential_curve)"
   ]
  },
  {
   "cell_type": "markdown",
   "id": "interracial-strength",
   "metadata": {},
   "source": [
    "Write a function called *print_names* that accepts a variable number of arguments. It should print the strings it receives as arguments:"
   ]
  },
  {
   "cell_type": "code",
   "execution_count": null,
   "id": "dietary-shape",
   "metadata": {},
   "outputs": [],
   "source": [
    "# Define a the function print_names() here\n",
    "\n",
    "def print_names(*args):\n",
    "    for arg in args:\n",
    "        print(arg)\n",
    "\n",
    "\n",
    "# Function calls to your implementation:\n",
    "print_names(\"Python\", \"C++\", \"Java\", \"R\")\n",
    "print()\n",
    "print_names(\"Ruby\")"
   ]
  },
  {
   "cell_type": "markdown",
   "id": "alive-geneva",
   "metadata": {},
   "source": [
    "Use list comprehension to generate a list of the first 10 multiples of five"
   ]
  },
  {
   "cell_type": "code",
   "execution_count": null,
   "id": "accompanied-neighborhood",
   "metadata": {},
   "outputs": [],
   "source": [
    "multiples_of_five = [num * 5 for num in range(10)]\n",
    "\n",
    "print(multiples_of_five)"
   ]
  },
  {
   "cell_type": "markdown",
   "id": "abroad-warren",
   "metadata": {},
   "source": [
    "Translate the following into a ternary expression:"
   ]
  },
  {
   "cell_type": "code",
   "execution_count": null,
   "id": "ignored-missile",
   "metadata": {},
   "outputs": [],
   "source": [
    "is_sunny = True\n",
    "if is_sunny:\n",
    "    state = \"Happy\"\n",
    "else:\n",
    "    state = \"Disappointed\"\n",
    "    \n",
    "# Translation:\n",
    "state = \"Happy\" if is_sunny else \"Disappointed\"\n",
    "\n",
    "print(state)"
   ]
  },
  {
   "cell_type": "markdown",
   "id": "ancient-annex",
   "metadata": {},
   "source": [
    "### List slicing:\n",
    "\n",
    "Use slicing to access:\n",
    "\n",
    "    1) The last element of alphabet\n",
    "\n",
    "    2) The last two elements of alphabet\n",
    "\n",
    "    3) Everything but the last to elements of alphabet\n",
    "\n",
    "    4) Every other letter of alphabet\n",
    "\n",
    "Check you've got it right with a print statement"
   ]
  },
  {
   "cell_type": "code",
   "execution_count": null,
   "id": "incomplete-bruce",
   "metadata": {},
   "outputs": [],
   "source": [
    "alphabet = ['a', 'b', 'c', 'd', 'e', 'f', 'g', 'h', 'i', 'j']\n",
    "\n",
    "# Q1:\n",
    "print(alphabet[-1])\n",
    "\n",
    "# Q2:\n",
    "print(alphabet[-2:])\n",
    "\n",
    "# Q3:\n",
    "print(alphabet[:-2])\n",
    "\n",
    "# Q4:\n",
    "print(alphabet[::2])"
   ]
  },
  {
   "cell_type": "markdown",
   "id": "attended-clinton",
   "metadata": {},
   "source": [
    "Write a lambda function which takes an integer as a parameter and returns the value of the integer times 11.\n",
    "\n",
    "Assign the lambda to the variable named: f."
   ]
  },
  {
   "cell_type": "code",
   "execution_count": null,
   "id": "french-gasoline",
   "metadata": {},
   "outputs": [],
   "source": [
    "i = 9\n",
    "\n",
    "f = lambda num: num * 11\n",
    "\n",
    "print(f(i))"
   ]
  },
  {
   "cell_type": "markdown",
   "id": "intelligent-ground",
   "metadata": {},
   "source": [
    "Using a filter function and a lambda, extract only the animals beginning with 'A' from list *L* into *L2*"
   ]
  },
  {
   "cell_type": "code",
   "execution_count": null,
   "id": "acknowledged-texture",
   "metadata": {},
   "outputs": [],
   "source": [
    "L = ['Kingfisher', 'Ant', 'Antelope', 'Lion']\n",
    "\n",
    "L2 = list(filter(lambda animal: animal if animal.startswith('A') else None, L))\n",
    "print(L2)"
   ]
  },
  {
   "cell_type": "markdown",
   "id": "selective-neighborhood",
   "metadata": {},
   "source": [
    "### Strings:"
   ]
  },
  {
   "cell_type": "markdown",
   "id": "seven-semester",
   "metadata": {},
   "source": [
    "Clean the following string by:\n",
    "\n",
    "    1) Correcting capitalistion\n",
    "\n",
    "    2) removing the % symbols \n",
    "\n",
    "    3) replacing the double spaces with single spaces \n",
    "\n",
    "    4) removing the word 'GOOD' that shouldn't be there\n"
   ]
  },
  {
   "cell_type": "code",
   "execution_count": null,
   "id": "relative-morning",
   "metadata": {},
   "outputs": [],
   "source": [
    "raw_string = \"i aM GOOD the most inTeRESTING  sent%%%en%%ce yOu wi%%%ll ever  ReaD!\"\n",
    "\n",
    "cleaned_string = raw_string.capitalize()\n",
    "cleaned_string = cleaned_string.replace('%', '')\n",
    "cleaned_string = ' '.join(cleaned_string.split())\n",
    "cleaned_string = cleaned_string.replace('good ', '')\n",
    "\n",
    "print(cleaned_string)"
   ]
  },
  {
   "cell_type": "markdown",
   "id": "noble-soundtrack",
   "metadata": {},
   "source": [
    "Split the Haiku into separate lines (you may have to read the documentation to work out how to do this). Print each line, preceded with a line number."
   ]
  },
  {
   "cell_type": "code",
   "execution_count": null,
   "id": "serious-sunglasses",
   "metadata": {},
   "outputs": [],
   "source": [
    "haiku = \"\"\"matsushima-ya\n",
    "aah matsushima-ya\n",
    "matsushima-ya\"\"\"\n",
    "\n",
    "for line_num, line in enumerate(haiku.splitlines()):\n",
    "    print(f\"Line {line_num}:    {line}\")"
   ]
  },
  {
   "cell_type": "markdown",
   "id": "elegant-procurement",
   "metadata": {},
   "source": [
    "## Part 2"
   ]
  },
  {
   "cell_type": "markdown",
   "id": "favorite-stockholm",
   "metadata": {},
   "source": [
    "### using modules"
   ]
  },
  {
   "cell_type": "markdown",
   "id": "copyrighted-abuse",
   "metadata": {},
   "source": [
    "Try importing the math module explicitly."
   ]
  },
  {
   "cell_type": "code",
   "execution_count": null,
   "id": "given-contract",
   "metadata": {},
   "outputs": [],
   "source": [
    "import math"
   ]
  },
  {
   "cell_type": "markdown",
   "id": "employed-matter",
   "metadata": {},
   "source": [
    "Using the math module, calculate the area of a circle with diameter of 4cm."
   ]
  },
  {
   "cell_type": "code",
   "execution_count": null,
   "id": "incorporated-field",
   "metadata": {},
   "outputs": [],
   "source": [
    "print(math.pi * 4)"
   ]
  },
  {
   "cell_type": "markdown",
   "id": "extraordinary-detroit",
   "metadata": {},
   "source": [
    "Print 100 random numbers (module: random)"
   ]
  },
  {
   "cell_type": "code",
   "execution_count": null,
   "id": "split-sharing",
   "metadata": {},
   "outputs": [],
   "source": [
    "import random\n",
    "\n",
    "for i in range(100):\n",
    "    print(random.random())"
   ]
  },
  {
   "cell_type": "markdown",
   "id": "adjacent-shoulder",
   "metadata": {},
   "source": [
    "Try iterating over all the files in a folder on your computer (module: os); print content of files that have a .txt extension."
   ]
  },
  {
   "cell_type": "code",
   "execution_count": null,
   "id": "blond-swiss",
   "metadata": {},
   "outputs": [],
   "source": [
    "import os\n",
    "\n",
    "for file in os.listdir():\n",
    "    print(file)"
   ]
  },
  {
   "cell_type": "markdown",
   "id": "digital-thriller",
   "metadata": {},
   "source": [
    "Assume an x axis of range 0 to 10 with intervals of size 0.1; print the cosine of each point on the x axis."
   ]
  },
  {
   "cell_type": "code",
   "execution_count": null,
   "id": "regional-question",
   "metadata": {},
   "outputs": [],
   "source": [
    "import math\n",
    "\n",
    "x_axis = [x * 0.1 for x in range(0, 100)]\n",
    "for x in x_axis:\n",
    "    print(math.cos(x))"
   ]
  },
  {
   "cell_type": "markdown",
   "id": "billion-castle",
   "metadata": {},
   "source": [
    "### Data structures"
   ]
  },
  {
   "cell_type": "markdown",
   "id": "powerful-blame",
   "metadata": {},
   "source": [
    "Using the dict below:\n",
    "\n",
    "    1) Print the number of students enrolled in Biology\n",
    "    2) Print the names of courses where more than 80 students are enrolled"
   ]
  },
  {
   "cell_type": "code",
   "execution_count": null,
   "id": "everyday-calculation",
   "metadata": {},
   "outputs": [],
   "source": [
    "# A mapping of subject to number of students enrolled\n",
    "subject_dict = {\n",
    "    'Geography': 73,\n",
    "    'History': 60,\n",
    "    'Biology': 115,\n",
    "    'chemistry': 100,\n",
    "}\n",
    "\n",
    "print(subject_dict['Biology'])\n",
    "\n",
    "for subject, num_students in subject_dict.items():\n",
    "    if num_students > 80:\n",
    "        print(subject)\n"
   ]
  },
  {
   "cell_type": "markdown",
   "id": "royal-testament",
   "metadata": {},
   "source": [
    "Add a start_date field to our namedtuple so the code below runs"
   ]
  },
  {
   "cell_type": "code",
   "execution_count": null,
   "id": "turkish-bulgaria",
   "metadata": {},
   "outputs": [],
   "source": [
    "from collections import namedtuple\n",
    "\n",
    "NINumber = namedtuple('national_insurance_number', 'name start_date NI')\n",
    "employee_data = NINumber('Simon', 'October 1992', '12345678')\n",
    "print(f'Employee {employee_data.name} ({employee_data.start_date}) has NI: {employee_data.NI}')"
   ]
  },
  {
   "cell_type": "markdown",
   "id": "forced-count",
   "metadata": {},
   "source": [
    "### Classes"
   ]
  },
  {
   "cell_type": "markdown",
   "id": "upper-tsunami",
   "metadata": {},
   "source": [
    "Add an `__init__()` function to the class below that initialises this class with a bus number plate and a mileage:"
   ]
  },
  {
   "cell_type": "code",
   "execution_count": null,
   "id": "greatest-brief",
   "metadata": {},
   "outputs": [],
   "source": [
    "class Bus:\n",
    "    \n",
    "    def __init__(self, bus_number, mileage):\n",
    "        self.bus_number = bus_number\n",
    "        self.mileage = mileage\n",
    "    \n",
    "    def get_bus_number(self):\n",
    "        return self.bus_number\n",
    "    \n",
    "    def change_route(self, new_bus_number):\n",
    "        self.bus_number = new_bus_number\n",
    "        \n",
    "bus_1 = Bus(bus_number=337, mileage=83000)\n",
    "bus_2 = Bus(bus_number=493, mileage=40000)\n",
    "\n",
    "print(bus_1.get_bus_number())\n"
   ]
  },
  {
   "cell_type": "markdown",
   "id": "atomic-jacket",
   "metadata": {},
   "source": [
    "Add a member function to the above class, Bus, that can change the bus_number. You will need to rerun the cell above once you have made changes."
   ]
  },
  {
   "cell_type": "code",
   "execution_count": null,
   "id": "concerned-occasion",
   "metadata": {},
   "outputs": [],
   "source": [
    "bus_1.change_route(533)\n",
    "\n",
    "print(bus_1.get_bus_number())"
   ]
  }
 ],
 "metadata": {
  "kernelspec": {
   "display_name": "Python 3",
   "language": "python",
   "name": "python3"
  },
  "language_info": {
   "codemirror_mode": {
    "name": "ipython",
    "version": 3
   },
   "file_extension": ".py",
   "mimetype": "text/x-python",
   "name": "python",
   "nbconvert_exporter": "python",
   "pygments_lexer": "ipython3",
   "version": "3.9.5"
  }
 },
 "nbformat": 4,
 "nbformat_minor": 5
}
