{
 "cells": [
  {
   "attachments": {
    "4bc4187b-d7a8-40d7-9b9b-e39c975e84a1.png": {
     "image/png": "[encoded data removed]"
    }
   },
   "cell_type": "markdown",
   "id": "328c76b4-1264-4de8-8779-b633bece6477",
   "metadata": {
    "jp-MarkdownHeadingCollapsed": true
   },
   "source": [
    "ARC course \"Coding with Python\" (Intermediate level)\n",
    "====================================================\n",
    "![icons8-python-48.png](attachment:4bc4187b-d7a8-40d7-9b9b-e39c975e84a1.png)"
   ]
  },
  {
   "cell_type": "markdown",
   "id": "2a805c89-f13d-4bbb-8697-7a174fc9b204",
   "metadata": {},
   "source": [
    "Welcome to our ARC course \"Coding with Python\" (Intermediate level).\n",
    "\n",
    "Some general information on how the course will run:\n",
    "\n",
    "* The course will run for three hours from 10.00 to 13.00. We plan a coffee break between 2 parts at around 11:30 for ~10-15 min.\n",
    "\n",
    "* This material builds upon the knowledge acquired in the previous beginner's level course.\n",
    "\n",
    "* Each topic will be presented wih code demonstrations followed by practical exercises.\n",
    "\n",
    "* We are happy to answer any questions during the course and to help during the exercises.\n",
    "\n",
    "Upon completion of the course, please, don't forget to scan the activity QR code to record your attendance.\n",
    "\n",
    "Enjoy coding with Python!"
   ]
  },
  {
   "cell_type": "markdown",
   "id": "1c862dea-54c2-4c98-bef3-3629fd16df06",
   "metadata": {},
   "source": [
    "# <ins>Table of Contents</ins>"
   ]
  },
  {
   "cell_type": "markdown",
   "id": "c10de292-d0db-47ac-87fe-6fc47239159f",
   "metadata": {},
   "source": [
    "  - [0. Introduction](#0.-Introduction)\n",
    "    - [Course objectives](#Course-objectives)\n",
    "    - [Useful resources](#Useful-resources)\n",
    "    - [Set up your Python environment](#Set-up-your-Python-environment)\n",
    "- [Part I](#Part-I)\n",
    "  - [1. Recap](#1.-Recap)\n",
    "  - [2. Pythonic concepts](#2.-Pythonic-concepts)\n",
    "  - [3. Advanced string manipulation](#3.-Advanced-string-manipulation)\n",
    "- [Part II](#Part-II)\n",
    "  - [4. Introduction to libraries and modules](#4.-Introduction-to-libraries-and-modules)\n",
    "  - [5. Data structures and containers](#5.-Data-structures-and-containers)\n",
    "  - [6. Brief introduction to classes](#6.-Brief-introduction-to-classes)"
   ]
  },
  {
   "cell_type": "markdown",
   "id": "619cb030-fd5d-469a-a6dd-1bd96cc74c3a",
   "metadata": {
    "jp-MarkdownHeadingCollapsed": true
   },
   "source": [
    "# <ins>0.</ins> Introduction"
   ]
  },
  {
   "cell_type": "markdown",
   "id": "1c719f86-479a-4051-aef9-ae6b0408e835",
   "metadata": {
    "editable": true,
    "jp-MarkdownHeadingCollapsed": true,
    "slideshow": {
     "slide_type": "slide"
    },
    "tags": []
   },
   "source": [
    "## Course objectives"
   ]
  },
  {
   "cell_type": "markdown",
   "id": "d165cc15-2a07-44fc-8028-93d0248ff14f",
   "metadata": {},
   "source": [
    "[TBD]"
   ]
  },
  {
   "cell_type": "markdown",
   "id": "7f6b8f80-4c65-4630-af25-2855b16b5f25",
   "metadata": {
    "editable": true,
    "jp-MarkdownHeadingCollapsed": true,
    "slideshow": {
     "slide_type": "slide"
    },
    "tags": []
   },
   "source": [
    "## Useful resources"
   ]
  },
  {
   "cell_type": "markdown",
   "id": "babdb9d9-b120-4e97-9729-4d87ccb862d0",
   "metadata": {},
   "source": [
    "[TBD]"
   ]
  },
  {
   "cell_type": "markdown",
   "id": "77bfa57e-7790-4683-91fd-6189a99c6c8e",
   "metadata": {
    "editable": true,
    "jp-MarkdownHeadingCollapsed": true,
    "slideshow": {
     "slide_type": "slide"
    },
    "tags": []
   },
   "source": [
    "## Set up your Python environment"
   ]
  },
  {
   "cell_type": "markdown",
   "id": "0554114a-42c2-44c5-a1ab-f631ad1f4cd1",
   "metadata": {},
   "source": [
    "<ins>Option 1</ins>: Jupyter Notebook server set up by Daniel Maitre from the Physics department \n",
    " - log in with you CIS account; loading process can take some time:\n",
    " - https://notebooks.dmaitre.phyip3.dur.ac.uk/arc\n",
    "\n",
    "<ins>Option 2</ins>: Local Python environment `python` or enhanced one `ipython`\n",
    "\n",
    "<ins>Option 3</ins>: Google Colab (https://colab.research.google.com)."
   ]
  },
  {
   "cell_type": "code",
   "execution_count": 1,
   "id": "5c010627-bfbb-46d6-9eac-d69a699a17c3",
   "metadata": {},
   "outputs": [
    {
     "name": "stdin",
     "output_type": "stream",
     "text": [
      "Once deleted, variables cannot be recovered. Proceed (y/[n])?  y\n"
     ]
    }
   ],
   "source": [
    "reset"
   ]
  },
  {
   "cell_type": "code",
   "execution_count": 4,
   "id": "2d1efdba-3807-4410-80c3-40f3371c5e1b",
   "metadata": {
    "editable": true,
    "scrolled": true,
    "slideshow": {
     "slide_type": "skip"
    },
    "tags": []
   },
   "outputs": [
    {
     "data": {
      "text/html": [
       "<style>.jp-Cell { width: 100% !important; margin: 0 auto; }</style>"
      ],
      "text/plain": [
       "<IPython.core.display.HTML object>"
      ]
     },
     "metadata": {},
     "output_type": "display_data"
    }
   ],
   "source": [
    "from IPython.display import display, HTML\n",
    "display(HTML(\"<style>.jp-Cell { width: 100% !important; margin: 0 auto; }</style>\"))"
   ]
  },
  {
   "cell_type": "markdown",
   "id": "0e74f613-f40d-4581-b47c-ce00d37978d9",
   "metadata": {
    "editable": false,
    "jp-MarkdownHeadingCollapsed": true,
    "slideshow": {
     "slide_type": "slide"
    },
    "tags": []
   },
   "source": [
    "### Installation steps for JupyterLab\n",
    "\n",
    "Setting up a conda environment for this document\n",
    "\n",
    "```\n",
    "conda create -n python_intermediate -c conda-forge jupyter jupyterlab\n",
    "```\n",
    "\n",
    "then start normally via local JupyterLab by calling `jupyter lab`"
   ]
  },
  {
   "cell_type": "markdown",
   "id": "0fdcc824-000d-4821-a2b4-9cffbbcfb497",
   "metadata": {
    "editable": true,
    "slideshow": {
     "slide_type": "skip"
    },
    "tags": []
   },
   "source": [
    "Convert to pdf.\n",
    "\n",
    "Run cells you want to run\n",
    "Be sure to save\n",
    "Call `jupyter nbconvert --to slides --post serve ./Intermediate_examples.ipynb`\n",
    "Go to [](http://localhost:8000/Basics.slides.html?print-pdf#/\n",
    "Print via Print to PDF function of your browser"
   ]
  },
  {
   "cell_type": "markdown",
   "id": "2cae5ba8-b56e-4d50-9e43-0bf5ea088bcb",
   "metadata": {},
   "source": [
    "# <ins>**Part I**</ins>"
   ]
  },
  {
   "cell_type": "markdown",
   "id": "0e5eae46-3d33-44df-affc-538d926382bc",
   "metadata": {
    "editable": true,
    "jp-MarkdownHeadingCollapsed": true,
    "slideshow": {
     "slide_type": "slide"
    },
    "tags": []
   },
   "source": [
    "# <ins>1.</ins> Recap\n",
    "[TBD] to move a part to the Basic course and to reduce the Recap section drastically\n",
    "* variables, values, types, type conversion;\n",
    "* user input"
   ]
  },
  {
   "cell_type": "markdown",
   "id": "acfa44b3-d2a6-4b87-9d60-712164cc2c09",
   "metadata": {
    "editable": true,
    "jp-MarkdownHeadingCollapsed": true,
    "slideshow": {
     "slide_type": "subslide"
    },
    "tags": []
   },
   "source": [
    "## data type: integer numbers"
   ]
  },
  {
   "cell_type": "raw",
   "id": "81a58acc-1c59-4979-b8a7-6d9dba0f512b",
   "metadata": {
    "editable": true,
    "raw_mimetype": "",
    "slideshow": {
     "slide_type": "notes"
    },
    "tags": []
   },
   "source": [
    "The interactive shell attempts to evaluate both expressions and statements. The shell executes what is commonly called the _read_, _eval_, _print loop_.\n",
    "\n",
    "* an example of a _numeric_ value, _integer_ value;\n",
    "* an integer _expression_, a basic building block of a Python _statement_;\n",
    "* normal arithmetic addition"
   ]
  },
  {
   "cell_type": "code",
   "execution_count": null,
   "id": "85732409-2839-40ae-8c31-d7a193824688",
   "metadata": {
    "editable": true,
    "slideshow": {
     "slide_type": "fragment"
    },
    "tags": []
   },
   "outputs": [],
   "source": [
    "4"
   ]
  },
  {
   "cell_type": "code",
   "execution_count": null,
   "id": "13972a7d-1c13-4637-9d24-60c68c518de9",
   "metadata": {
    "editable": true,
    "slideshow": {
     "slide_type": "fragment"
    },
    "tags": []
   },
   "outputs": [],
   "source": [
    "1 + 2 + 4 + 10 - 3 * 6"
   ]
  },
  {
   "cell_type": "code",
   "execution_count": 1,
   "id": "14863590-dd43-4765-98da-a74f5895a4a9",
   "metadata": {
    "editable": true,
    "slideshow": {
     "slide_type": "fragment"
    },
    "tags": []
   },
   "outputs": [
    {
     "name": "stdout",
     "output_type": "stream",
     "text": [
      "5\n"
     ]
    }
   ],
   "source": [
    "print(5)"
   ]
  },
  {
   "cell_type": "code",
   "execution_count": null,
   "id": "456c113d-65a8-4997-907f-c15c70471ca4",
   "metadata": {
    "editable": true,
    "slideshow": {
     "slide_type": ""
    },
    "tags": []
   },
   "outputs": [],
   "source": [
    "type(5)"
   ]
  },
  {
   "cell_type": "markdown",
   "id": "884e8dbf-60da-4ec0-94e7-3af4f2ddc505",
   "metadata": {
    "editable": true,
    "slideshow": {
     "slide_type": "fragment"
    },
    "tags": []
   },
   "source": [
    " "
   ]
  },
  {
   "cell_type": "markdown",
   "id": "8930163d-c816-4b93-b6f1-9131560ffbde",
   "metadata": {
    "editable": true,
    "jp-MarkdownHeadingCollapsed": true,
    "slideshow": {
     "slide_type": "subslide"
    },
    "tags": []
   },
   "source": [
    "## data type: floating-point numbers"
   ]
  },
  {
   "cell_type": "code",
   "execution_count": null,
   "id": "5ede41a6-11b4-4055-979e-b350cd86baeb",
   "metadata": {
    "editable": true,
    "slideshow": {
     "slide_type": "fragment"
    },
    "tags": []
   },
   "outputs": [],
   "source": [
    "x = 5.62\n",
    "x"
   ]
  },
  {
   "cell_type": "code",
   "execution_count": null,
   "id": "e22aab67-2d3f-4815-9a19-475256f03c5b",
   "metadata": {
    "editable": true,
    "slideshow": {
     "slide_type": "fragment"
    },
    "tags": []
   },
   "outputs": [],
   "source": [
    "type(x)"
   ]
  },
  {
   "cell_type": "markdown",
   "id": "2b24c0f5-329d-44cf-9250-52e8d6e78c4c",
   "metadata": {
    "editable": true,
    "slideshow": {
     "slide_type": "fragment"
    },
    "tags": []
   },
   "source": [
    "| Title | Storage | Smallest Magnitude | Largest Magnitude | Minimum Precision |\n",
    "|-------|---------|--------------------|-------------------|-------------------|\n",
    "| float | 64 bits | 2.22507 × 10e−308  | 1.79769 × 10+308  | 15 digits         |"
   ]
  },
  {
   "cell_type": "code",
   "execution_count": null,
   "id": "25bf53cd-5843-4341-bdef-6f17855e01bf",
   "metadata": {
    "editable": true,
    "slideshow": {
     "slide_type": "fragment"
    },
    "tags": []
   },
   "outputs": [],
   "source": [
    "pi = 3.14159\n",
    "print(\"Pi =\", pi)\n",
    "print(\"or\", 3.14, \"for short\")"
   ]
  },
  {
   "cell_type": "code",
   "execution_count": null,
   "id": "e7bb360e-6c77-4d35-b52b-84d511fbaf4c",
   "metadata": {
    "editable": true,
    "slideshow": {
     "slide_type": "fragment"
    },
    "tags": []
   },
   "outputs": [],
   "source": [
    "x = 23.3123400654033989\n",
    "x"
   ]
  },
  {
   "cell_type": "markdown",
   "id": "844666e0-bbe0-4639-afc9-6ba583810a60",
   "metadata": {
    "editable": true,
    "slideshow": {
     "slide_type": "fragment"
    },
    "tags": []
   },
   "source": [
    "scientific notation"
   ]
  },
  {
   "cell_type": "code",
   "execution_count": 76,
   "id": "b9b3239d-27c4-4470-8009-20457a9f2294",
   "metadata": {
    "editable": true,
    "slideshow": {
     "slide_type": "fragment"
    },
    "tags": []
   },
   "outputs": [
    {
     "name": "stdout",
     "output_type": "stream",
     "text": [
      "Avogadro's number = 6.022e+23\n",
      "Speed of light = 299800000.0\n"
     ]
    }
   ],
   "source": [
    "avogadros_number = 6.022e23\n",
    "c = 2.998e8\n",
    "print(\"Avogadro's number =\", avogadros_number)\n",
    "print(\"Speed of light =\", c)"
   ]
  },
  {
   "cell_type": "markdown",
   "id": "2b9a526f-9a7e-4848-8f68-cc9545fd064e",
   "metadata": {
    "editable": true,
    "slideshow": {
     "slide_type": "fragment"
    },
    "tags": []
   },
   "source": [
    " "
   ]
  },
  {
   "cell_type": "markdown",
   "id": "d3206c94-0d35-4cc1-a587-08d3e94ce1b4",
   "metadata": {
    "editable": true,
    "jp-MarkdownHeadingCollapsed": true,
    "slideshow": {
     "slide_type": "subslide"
    },
    "tags": []
   },
   "source": [
    "## data type: strings"
   ]
  },
  {
   "cell_type": "raw",
   "id": "65e9bfff-e072-4f10-b496-63385de53542",
   "metadata": {
    "editable": true,
    "raw_mimetype": "text/markdown",
    "slideshow": {
     "slide_type": "notes"
    },
    "tags": []
   },
   "source": [
    "* A _string_ is a sequence of characters.\n",
    "* single quotes (') and double quotes (\")"
   ]
  },
  {
   "cell_type": "code",
   "execution_count": null,
   "id": "83748356-278b-4d52-8499-38a05db8f303",
   "metadata": {
    "editable": true,
    "slideshow": {
     "slide_type": "fragment"
    },
    "tags": []
   },
   "outputs": [],
   "source": [
    "\"19\""
   ]
  },
  {
   "cell_type": "code",
   "execution_count": null,
   "id": "9c236a84-b54f-4132-a1ff-82a2c35743fe",
   "metadata": {
    "editable": true,
    "slideshow": {
     "slide_type": "fragment"
    },
    "tags": []
   },
   "outputs": [],
   "source": [
    "\"Fred\""
   ]
  },
  {
   "cell_type": "code",
   "execution_count": null,
   "id": "23ca1bb9-ea94-48ba-b126-3c8eeafc42d1",
   "metadata": {
    "editable": true,
    "slideshow": {
     "slide_type": "fragment"
    },
    "tags": []
   },
   "outputs": [],
   "source": [
    "'Fred'"
   ]
  },
  {
   "cell_type": "code",
   "execution_count": null,
   "id": "11f6e6f7-bd61-4530-95e9-da1d9dc5b972",
   "metadata": {
    "editable": true,
    "slideshow": {
     "slide_type": ""
    },
    "tags": []
   },
   "outputs": [],
   "source": [
    "type('Fred')"
   ]
  },
  {
   "cell_type": "markdown",
   "id": "b3c8c87b-abce-48bf-80e1-2e7778c84445",
   "metadata": {
    "editable": true,
    "slideshow": {
     "slide_type": "fragment"
    },
    "tags": []
   },
   "source": [
    " "
   ]
  },
  {
   "cell_type": "markdown",
   "id": "8eaa09b4-015f-4dc4-9f12-6d53e65785dc",
   "metadata": {
    "editable": true,
    "jp-MarkdownHeadingCollapsed": true,
    "slideshow": {
     "slide_type": "subslide"
    },
    "tags": []
   },
   "source": [
    "## data type: boolean expressions"
   ]
  },
  {
   "cell_type": "code",
   "execution_count": null,
   "id": "0a45dbcd-f833-4ea6-96be-2dfee2f7fb7b",
   "metadata": {
    "editable": true,
    "slideshow": {
     "slide_type": "fragment"
    },
    "tags": []
   },
   "outputs": [],
   "source": [
    "True"
   ]
  },
  {
   "cell_type": "code",
   "execution_count": null,
   "id": "c1a4eeba-e3ca-4c80-88bc-26c884458891",
   "metadata": {
    "editable": true,
    "slideshow": {
     "slide_type": "fragment"
    },
    "tags": []
   },
   "outputs": [],
   "source": [
    "False"
   ]
  },
  {
   "cell_type": "code",
   "execution_count": null,
   "id": "6aa37f13-3fd5-4635-acdb-eb2328dbbdf8",
   "metadata": {
    "editable": true,
    "slideshow": {
     "slide_type": "fragment"
    },
    "tags": []
   },
   "outputs": [],
   "source": [
    "type(True)"
   ]
  },
  {
   "cell_type": "markdown",
   "id": "b43197ae-493d-4e39-93c3-6650b15bbef9",
   "metadata": {
    "editable": true,
    "slideshow": {
     "slide_type": ""
    },
    "tags": []
   },
   "source": [
    " "
   ]
  },
  {
   "cell_type": "markdown",
   "id": "0ee005ab-04c3-4ed9-a518-2ff92d947e13",
   "metadata": {
    "editable": true,
    "jp-MarkdownHeadingCollapsed": true,
    "slideshow": {
     "slide_type": "subslide"
    },
    "tags": []
   },
   "source": [
    "## built-in functions, operators, type conversion"
   ]
  },
  {
   "cell_type": "raw",
   "id": "960eddcd-42b6-4c8d-bc31-547f330bdffc",
   "metadata": {
    "editable": true,
    "raw_mimetype": "",
    "slideshow": {
     "slide_type": "notes"
    },
    "tags": []
   },
   "source": [
    "* An integer and string expressions.\n",
    "* All expressions in Python have a _type_.\n",
    "* An expression’s type is sometimes denoted as its _class_.\n",
    "* The built-in functions `print`, `type`, `int` and `str`"
   ]
  },
  {
   "cell_type": "code",
   "execution_count": null,
   "id": "49736ac5-1e99-449c-a9c8-c74e271b2b6e",
   "metadata": {
    "editable": true,
    "slideshow": {
     "slide_type": "fragment"
    },
    "tags": []
   },
   "outputs": [],
   "source": [
    "print(8.12)"
   ]
  },
  {
   "cell_type": "code",
   "execution_count": null,
   "id": "dd3a68ae-1463-44fe-bd31-6527df4ac026",
   "metadata": {
    "editable": true,
    "slideshow": {
     "slide_type": "fragment"
    },
    "tags": []
   },
   "outputs": [],
   "source": [
    "print('ABC')"
   ]
  },
  {
   "cell_type": "code",
   "execution_count": null,
   "id": "be3a7c9b-517f-4f3f-8d93-b2f1c912b528",
   "metadata": {
    "editable": true,
    "slideshow": {
     "slide_type": "fragment"
    },
    "tags": []
   },
   "outputs": [],
   "source": [
    "type(4)"
   ]
  },
  {
   "cell_type": "code",
   "execution_count": null,
   "id": "7e055b58-dd2b-4103-8dd4-8bd70ca7061f",
   "metadata": {
    "editable": true,
    "slideshow": {
     "slide_type": "fragment"
    },
    "tags": []
   },
   "outputs": [],
   "source": [
    "type('4')"
   ]
  },
  {
   "cell_type": "code",
   "execution_count": null,
   "id": "a061f9d8-829b-41aa-bfa8-8678f2487302",
   "metadata": {
    "editable": true,
    "slideshow": {
     "slide_type": "fragment"
    },
    "tags": []
   },
   "outputs": [],
   "source": [
    "str(4)"
   ]
  },
  {
   "cell_type": "code",
   "execution_count": null,
   "id": "99bce1d8-44d3-4f69-80ec-6dac696bdfca",
   "metadata": {
    "editable": true,
    "slideshow": {
     "slide_type": "fragment"
    },
    "tags": []
   },
   "outputs": [],
   "source": [
    "int('5')"
   ]
  },
  {
   "cell_type": "code",
   "execution_count": null,
   "id": "4a1278ab-3f8d-46c0-85a0-bac33d55bc99",
   "metadata": {
    "editable": true,
    "slideshow": {
     "slide_type": "fragment"
    },
    "tags": []
   },
   "outputs": [],
   "source": [
    "int(4)"
   ]
  },
  {
   "cell_type": "code",
   "execution_count": null,
   "id": "1b1dc35f-bd40-4b46-b940-3830442ee652",
   "metadata": {
    "editable": true,
    "slideshow": {
     "slide_type": "fragment"
    },
    "tags": []
   },
   "outputs": [],
   "source": [
    "str('Judy')"
   ]
  },
  {
   "cell_type": "code",
   "execution_count": null,
   "id": "844d099e-dcbc-43a2-a43f-17953ce9bcb7",
   "metadata": {
    "editable": true,
    "slideshow": {
     "slide_type": "fragment"
    },
    "tags": []
   },
   "outputs": [],
   "source": [
    "int('wow')"
   ]
  },
  {
   "cell_type": "code",
   "execution_count": null,
   "id": "c7cebd05-57d9-417b-bcf9-0accfb53cdeb",
   "metadata": {
    "editable": true,
    "slideshow": {
     "slide_type": "fragment"
    },
    "tags": []
   },
   "outputs": [],
   "source": [
    "int('3.4')"
   ]
  },
  {
   "cell_type": "code",
   "execution_count": null,
   "id": "fe02f5ad-4692-46a3-a44b-aa07695bf448",
   "metadata": {
    "editable": true,
    "slideshow": {
     "slide_type": "fragment"
    },
    "tags": []
   },
   "outputs": [],
   "source": [
    "5 + 10"
   ]
  },
  {
   "cell_type": "code",
   "execution_count": null,
   "id": "1d86c2ed-1a23-4f59-b177-c03d60f44be4",
   "metadata": {
    "editable": true,
    "slideshow": {
     "slide_type": "fragment"
    },
    "tags": []
   },
   "outputs": [],
   "source": [
    "'5' + '10'"
   ]
  },
  {
   "cell_type": "code",
   "execution_count": null,
   "id": "a27cdf88-33de-49fa-bb7d-87629e7155fa",
   "metadata": {
    "editable": true,
    "slideshow": {
     "slide_type": "fragment"
    },
    "tags": []
   },
   "outputs": [],
   "source": [
    "'abc' + 'xyz'"
   ]
  },
  {
   "cell_type": "code",
   "execution_count": null,
   "id": "01cb778a-edef-44f4-b757-062a9c6e93af",
   "metadata": {
    "editable": true,
    "slideshow": {
     "slide_type": "fragment"
    },
    "tags": []
   },
   "outputs": [],
   "source": [
    "'5' + 10"
   ]
  },
  {
   "cell_type": "code",
   "execution_count": null,
   "id": "c81e5dc3-8478-459d-becf-ed5fa13ddc2c",
   "metadata": {
    "editable": true,
    "slideshow": {
     "slide_type": "fragment"
    },
    "tags": []
   },
   "outputs": [],
   "source": [
    "5 + '10'"
   ]
  },
  {
   "cell_type": "code",
   "execution_count": null,
   "id": "49db8566-f63f-4a1a-9312-c096a230e7e5",
   "metadata": {
    "editable": true,
    "slideshow": {
     "slide_type": "fragment"
    },
    "tags": []
   },
   "outputs": [],
   "source": [
    "5 + int('10')"
   ]
  },
  {
   "cell_type": "code",
   "execution_count": null,
   "id": "2c6f7bf5-b3fb-44d2-9b88-722d03b6e9f5",
   "metadata": {
    "editable": true,
    "slideshow": {
     "slide_type": "fragment"
    },
    "tags": []
   },
   "outputs": [],
   "source": [
    "'5' + str(10)"
   ]
  },
  {
   "cell_type": "code",
   "execution_count": null,
   "id": "0a893a09-1d4e-4d44-a161-671af0633183",
   "metadata": {
    "editable": true,
    "slideshow": {
     "slide_type": "fragment"
    },
    "tags": []
   },
   "outputs": [],
   "source": [
    "type('4' + '7')"
   ]
  },
  {
   "cell_type": "code",
   "execution_count": null,
   "id": "0aeba9d3-7069-4433-9e7c-0b6da51d28c7",
   "metadata": {
    "editable": true,
    "slideshow": {
     "slide_type": "fragment"
    },
    "tags": []
   },
   "outputs": [],
   "source": [
    "type(int('3') + int(4))"
   ]
  },
  {
   "cell_type": "markdown",
   "id": "25d0b6de-dbb0-4e7e-8d0e-7f33ff6c59aa",
   "metadata": {
    "editable": true,
    "slideshow": {
     "slide_type": "fragment"
    },
    "tags": []
   },
   "source": [
    " "
   ]
  },
  {
   "cell_type": "markdown",
   "id": "b9513295-7be5-4f88-867a-68b76cc95bac",
   "metadata": {
    "editable": true,
    "jp-MarkdownHeadingCollapsed": true,
    "slideshow": {
     "slide_type": "subslide"
    },
    "tags": []
   },
   "source": [
    "## assignment statement"
   ]
  },
  {
   "cell_type": "raw",
   "id": "8411cc8a-13c3-445a-ad1b-80676c8e983e",
   "metadata": {
    "editable": true,
    "raw_mimetype": "",
    "slideshow": {
     "slide_type": "notes"
    },
    "tags": []
   },
   "source": [
    "This is an assignment statement. An assignment statement associates a value with a variable. The type of a variable can be changed upon a new assignment."
   ]
  },
  {
   "cell_type": "code",
   "execution_count": null,
   "id": "83bf7d06-41d5-4077-a095-1186116c3420",
   "metadata": {
    "editable": true,
    "slideshow": {
     "slide_type": "fragment"
    },
    "tags": []
   },
   "outputs": [],
   "source": [
    "x = 10\n",
    "print('x = ' + str(x))\n",
    "x = 20\n",
    "print('x = ' + str(x))\n",
    "x = 30\n",
    "print('x = ' + str(x))"
   ]
  },
  {
   "cell_type": "code",
   "execution_count": null,
   "id": "ba93c843-ae99-4587-9536-78e324486c4c",
   "metadata": {
    "editable": true,
    "slideshow": {
     "slide_type": "fragment"
    },
    "tags": []
   },
   "outputs": [],
   "source": [
    "x = 10\n",
    "print('x =', x)\n",
    "x = 20\n",
    "print('x =', x)\n",
    "x = 30\n",
    "print('x =', x)"
   ]
  },
  {
   "cell_type": "code",
   "execution_count": null,
   "id": "3c7c6387-493b-4d63-a6ea-eeaacaf1191e",
   "metadata": {
    "editable": true,
    "slideshow": {
     "slide_type": "fragment"
    },
    "tags": []
   },
   "outputs": [],
   "source": [
    "a = 10\n",
    "print('First, variable a has value', a, 'and type', type(a))\n",
    "a = 'ABC'\n",
    "print('Now, variable a has value', a, 'and type', type(a))"
   ]
  },
  {
   "cell_type": "markdown",
   "id": "b6e3c8af-16a0-409b-8776-d65a4c833413",
   "metadata": {
    "editable": true,
    "slideshow": {
     "slide_type": "fragment"
    },
    "tags": []
   },
   "source": [
    " "
   ]
  },
  {
   "cell_type": "markdown",
   "id": "7fd698dc-cc26-438b-a18b-94967589da36",
   "metadata": {
    "editable": true,
    "jp-MarkdownHeadingCollapsed": true,
    "slideshow": {
     "slide_type": "subslide"
    },
    "tags": []
   },
   "source": [
    "## tuple assignment"
   ]
  },
  {
   "cell_type": "raw",
   "id": "5326a57c-0130-495b-a389-f18a863d87e0",
   "metadata": {
    "editable": true,
    "raw_mimetype": "",
    "slideshow": {
     "slide_type": "notes"
    },
    "tags": []
   },
   "source": [
    "* comma-separated list\n",
    "* A tuple is a comma-separated list of expressions"
   ]
  },
  {
   "cell_type": "code",
   "execution_count": null,
   "id": "440ae6e5-fb1b-49c3-9195-41ed4a5b3512",
   "metadata": {
    "editable": true,
    "slideshow": {
     "slide_type": "fragment"
    },
    "tags": []
   },
   "outputs": [],
   "source": [
    "x, y, z = 100, -45, 0\n",
    "print('x =', x, ' y =', y, ' z =', z)"
   ]
  },
  {
   "cell_type": "code",
   "execution_count": null,
   "id": "b4a3c03b-7e73-47d8-8051-753990505d8b",
   "metadata": {
    "editable": true,
    "slideshow": {
     "slide_type": "fragment"
    },
    "tags": []
   },
   "outputs": [],
   "source": [
    "x, y, z = 45, 3"
   ]
  },
  {
   "cell_type": "code",
   "execution_count": null,
   "id": "e8b20325-7faf-4d64-b2d8-db71e780217f",
   "metadata": {
    "editable": true,
    "slideshow": {
     "slide_type": "fragment"
    },
    "tags": []
   },
   "outputs": [],
   "source": [
    "x, y, z = 45, 3, 23, 8"
   ]
  },
  {
   "cell_type": "markdown",
   "id": "3dd5bc6f-6c5a-4922-a37a-c6ff06341f20",
   "metadata": {
    "editable": true,
    "slideshow": {
     "slide_type": "fragment"
    },
    "tags": []
   },
   "source": [
    " "
   ]
  },
  {
   "cell_type": "markdown",
   "id": "66e683bf-12f3-4125-af7c-e2b3d4e0de88",
   "metadata": {
    "editable": true,
    "jp-MarkdownHeadingCollapsed": true,
    "slideshow": {
     "slide_type": "subslide"
    },
    "tags": []
   },
   "source": [
    "## undefined variable or unbound variable"
   ]
  },
  {
   "cell_type": "raw",
   "id": "da9f4e3d-fef1-46bb-bbb1-f10b1060d0d4",
   "metadata": {
    "editable": true,
    "raw_mimetype": "",
    "slideshow": {
     "slide_type": "notes"
    },
    "tags": []
   },
   "source": [
    "* The del statement"
   ]
  },
  {
   "cell_type": "code",
   "execution_count": null,
   "id": "17b8910a-6558-4002-a1c9-10ac46d2655e",
   "metadata": {
    "editable": true,
    "slideshow": {
     "slide_type": "fragment"
    },
    "tags": []
   },
   "outputs": [],
   "source": [
    "x = 2\n",
    "x\n",
    "y"
   ]
  },
  {
   "cell_type": "code",
   "execution_count": null,
   "id": "c4aa98ac-4128-4df5-939f-b6273cfae7c0",
   "metadata": {
    "editable": true,
    "slideshow": {
     "slide_type": "fragment"
    },
    "tags": []
   },
   "outputs": [],
   "source": [
    "del x\n",
    "x"
   ]
  },
  {
   "cell_type": "code",
   "execution_count": 71,
   "id": "3fbe5438-74a4-4ce5-84f4-bfe0f416941c",
   "metadata": {
    "editable": true,
    "slideshow": {
     "slide_type": "fragment"
    },
    "tags": []
   },
   "outputs": [],
   "source": [
    "a = 0\n",
    "b = 1\n",
    "c = 2\n",
    "del a, b, c"
   ]
  },
  {
   "cell_type": "markdown",
   "id": "aeb3c7b0-fabe-4491-9d22-41d28f8ad1f3",
   "metadata": {
    "editable": true,
    "slideshow": {
     "slide_type": "fragment"
    },
    "tags": []
   },
   "source": [
    " "
   ]
  },
  {
   "cell_type": "markdown",
   "id": "7a8a8611-ebb4-430d-b8d7-2fbe9219b45c",
   "metadata": {
    "editable": true,
    "jp-MarkdownHeadingCollapsed": true,
    "slideshow": {
     "slide_type": "subslide"
    },
    "tags": []
   },
   "source": [
    "## identifiers"
   ]
  },
  {
   "cell_type": "markdown",
   "id": "480f6390-e15f-4c3a-9cb4-1bfe1c2060e5",
   "metadata": {
    "editable": true,
    "slideshow": {
     "slide_type": "fragment"
    },
    "tags": []
   },
   "source": [
    "An _identifier_ is a word used to name things. Identifiers name variables, functions, classes, and methods.\n",
    "* An identifiers must contain at least one character.\n",
    "* The first character of an identifiers must be an alphabetic letter (upper or lower case) or the underscore.\n",
    "* The remaining characters (if any) may be alphabetic characters (upper or lower case), the underscore, or a digit.\n",
    "* No other characters (including spaces) are permitted in identifiers.\n",
    "* A reserved word cannot be used as an identifier.\n",
    "\n",
    "Examples:\n",
    "* `x`, `x2`, `total`, `port_22`, `FLAG`.\n",
    "\n",
    "None of the following words are valid identifiers:\n",
    "* `sub-total`, `first entry`, `4all`, `*2`, `class`."
   ]
  },
  {
   "cell_type": "code",
   "execution_count": null,
   "id": "929923e7-7a68-4b0c-8dde-d5eb4bde4dce",
   "metadata": {
    "editable": true,
    "slideshow": {
     "slide_type": "fragment"
    },
    "tags": []
   },
   "outputs": [],
   "source": [
    "class = 15"
   ]
  },
  {
   "cell_type": "code",
   "execution_count": null,
   "id": "5bb1b309-20fd-4ae5-8f31-ce70a0605927",
   "metadata": {
    "editable": true,
    "slideshow": {
     "slide_type": "fragment"
    },
    "tags": []
   },
   "outputs": [],
   "source": [
    "print('Our good friend print')\n",
    "print\n",
    "type(print)\n",
    "my_print = print\n",
    "print = 77\n",
    "my_print(print)\n",
    "my_print('hello from my_print!')\n",
    "type(my_print)\n",
    "print = my_print\n",
    "print('Our good friend print again')"
   ]
  },
  {
   "cell_type": "markdown",
   "id": "0844f58f-f780-4555-84ab-a8ed69f73aa2",
   "metadata": {
    "editable": true,
    "slideshow": {
     "slide_type": "fragment"
    },
    "tags": []
   },
   "source": [
    " "
   ]
  },
  {
   "cell_type": "markdown",
   "id": "53ceb470-2933-43d9-ad34-6296d6b3c5df",
   "metadata": {
    "editable": true,
    "jp-MarkdownHeadingCollapsed": true,
    "slideshow": {
     "slide_type": "subslide"
    },
    "tags": []
   },
   "source": [
    "## reserved words"
   ]
  },
  {
   "cell_type": "markdown",
   "id": "1df39a40-5581-4b18-a264-5cf21895f730",
   "metadata": {
    "editable": true,
    "slideshow": {
     "slide_type": "fragment"
    },
    "tags": []
   },
   "source": [
    "**Python keywords**\n",
    "\n",
    "and as assert break class continue def del elif else except False finally for from global if import in is lambda None nonlocal not or pass raise return try True while with yield"
   ]
  },
  {
   "cell_type": "markdown",
   "id": "c2254249-87f2-4899-bbfa-bac5b054f4a7",
   "metadata": {
    "editable": true,
    "slideshow": {
     "slide_type": "fragment"
    },
    "tags": []
   },
   "source": [
    " "
   ]
  },
  {
   "cell_type": "markdown",
   "id": "1c980961-1d28-4513-afb2-09726c076b50",
   "metadata": {
    "editable": true,
    "jp-MarkdownHeadingCollapsed": true,
    "slideshow": {
     "slide_type": "subslide"
    },
    "tags": []
   },
   "source": [
    "## user input"
   ]
  },
  {
   "cell_type": "code",
   "execution_count": 2,
   "id": "b894a5ed-4ebf-430f-8c5e-8446ee795822",
   "metadata": {
    "editable": true,
    "slideshow": {
     "slide_type": "fragment"
    },
    "tags": []
   },
   "outputs": [
    {
     "name": "stdout",
     "output_type": "stream",
     "text": [
      "Please enter some text:\n"
     ]
    },
    {
     "name": "stdin",
     "output_type": "stream",
     "text": [
      " hi\n"
     ]
    },
    {
     "name": "stdout",
     "output_type": "stream",
     "text": [
      "Text entered: hi\n",
      "Type: <class 'str'>\n"
     ]
    }
   ],
   "source": [
    "print('Please enter some text:')\n",
    "x = input()\n",
    "print('Text entered:', x)\n",
    "print('Type:', type(x))"
   ]
  },
  {
   "cell_type": "code",
   "execution_count": null,
   "id": "29e298a8-b798-4bcf-ae23-fb02c5498429",
   "metadata": {
    "editable": true,
    "slideshow": {
     "slide_type": "fragment"
    },
    "tags": []
   },
   "outputs": [],
   "source": [
    "num1 = int(input('Please enter an integer value: '))\n",
    "num2 = int(input('Please enter another integer value: '))\n",
    "print(num1, '+', num2, '=', num1 + num2)"
   ]
  },
  {
   "cell_type": "code",
   "execution_count": null,
   "id": "d1287969-b340-48ad-ba31-0447b2af0002",
   "metadata": {
    "editable": true,
    "slideshow": {
     "slide_type": "fragment"
    },
    "tags": []
   },
   "outputs": [],
   "source": [
    "int(3.4)"
   ]
  },
  {
   "cell_type": "code",
   "execution_count": null,
   "id": "8a0459d1-3373-416e-a1d7-3ba68c7e9a49",
   "metadata": {
    "editable": true,
    "slideshow": {
     "slide_type": "fragment"
    },
    "tags": []
   },
   "outputs": [],
   "source": [
    "int('3.4')"
   ]
  },
  {
   "cell_type": "code",
   "execution_count": null,
   "id": "36b1fe8d-ce7c-4a9e-9b7b-8db79998323d",
   "metadata": {
    "editable": true,
    "slideshow": {
     "slide_type": "fragment"
    },
    "tags": []
   },
   "outputs": [],
   "source": [
    "num = int(float(input('Please enter a number: ')))\n",
    "print(num)"
   ]
  },
  {
   "cell_type": "code",
   "execution_count": 3,
   "id": "61fc6ef2-1555-4f00-b7a3-8a2a0e9a1405",
   "metadata": {
    "editable": true,
    "slideshow": {
     "slide_type": "fragment"
    },
    "tags": []
   },
   "outputs": [
    {
     "name": "stdin",
     "output_type": "stream",
     "text": [
      "Please enter a number:  5\n"
     ]
    },
    {
     "name": "stdout",
     "output_type": "stream",
     "text": [
      "8\n"
     ]
    }
   ],
   "source": [
    "num = round(float(input('Please enter a number: ')))\n",
    "print(num+3)"
   ]
  },
  {
   "cell_type": "markdown",
   "id": "ada8bb5c-3f1b-4bea-969e-203e00e38fe9",
   "metadata": {
    "editable": true,
    "slideshow": {
     "slide_type": "slide"
    },
    "tags": []
   },
   "source": [
    "# <ins>2.</ins> Pythonic concepts\n",
    "* list methods, list comprehension, conditional assignment;\n",
    "* iterators (how control flow are actually implemented);\n",
    "* lambda functions"
   ]
  },
  {
   "cell_type": "markdown",
   "id": "d8ef2140-8430-4a46-b930-e5192193240f",
   "metadata": {
    "editable": true,
    "slideshow": {
     "slide_type": "subslide"
    },
    "tags": []
   },
   "source": [
    "## Lists methods\n",
    "[TBD] move a part of the Lists section to the Basic course"
   ]
  },
  {
   "cell_type": "code",
   "execution_count": 1,
   "id": "4a940d99-95b8-4fd5-9652-e09ddce070e5",
   "metadata": {},
   "outputs": [],
   "source": [
    "lst = [1, 3.14, \"Mars\", 'Earth', [1, 2, 3]]"
   ]
  },
  {
   "cell_type": "code",
   "execution_count": 2,
   "id": "b15e5da0-3364-44db-b24c-2997b984d0df",
   "metadata": {},
   "outputs": [
    {
     "name": "stdout",
     "output_type": "stream",
     "text": [
      "[1, 3.14, 'Mars', 'Earth', [1, 2, 3]]\n"
     ]
    }
   ],
   "source": [
    "print(lst)"
   ]
  },
  {
   "cell_type": "code",
   "execution_count": 3,
   "id": "33388d26-0ea7-418e-8ec8-14acfc54219d",
   "metadata": {},
   "outputs": [
    {
     "name": "stdout",
     "output_type": "stream",
     "text": [
      "1\n",
      "3.14\n",
      "Mars\n",
      "Earth\n",
      "[1, 2, 3]\n"
     ]
    }
   ],
   "source": [
    "for i in lst:\n",
    "    print(i)"
   ]
  },
  {
   "cell_type": "code",
   "execution_count": 4,
   "id": "b841ff85-14ef-47a2-8b7c-731b4f1228df",
   "metadata": {},
   "outputs": [
    {
     "data": {
      "text/plain": [
       "5"
      ]
     },
     "execution_count": 4,
     "metadata": {},
     "output_type": "execute_result"
    }
   ],
   "source": [
    "len(lst)"
   ]
  },
  {
   "cell_type": "code",
   "execution_count": 5,
   "id": "79a1fca8-5af5-4915-ba31-5e45fa3aab18",
   "metadata": {},
   "outputs": [
    {
     "data": {
      "text/plain": [
       "1"
      ]
     },
     "execution_count": 5,
     "metadata": {},
     "output_type": "execute_result"
    }
   ],
   "source": [
    "lst[0]"
   ]
  },
  {
   "cell_type": "code",
   "execution_count": 8,
   "id": "a04e8700-08fe-483c-a3b7-bf475951150e",
   "metadata": {},
   "outputs": [
    {
     "data": {
      "text/plain": [
       "2"
      ]
     },
     "execution_count": 8,
     "metadata": {},
     "output_type": "execute_result"
    }
   ],
   "source": [
    "lst[-1][1]"
   ]
  },
  {
   "cell_type": "code",
   "execution_count": 13,
   "id": "7de7582b-4de1-4519-9b4b-da1a8430bce8",
   "metadata": {},
   "outputs": [
    {
     "name": "stdout",
     "output_type": "stream",
     "text": [
      "yes\n"
     ]
    }
   ],
   "source": [
    "if 'Mars' in lst:\n",
    "    print('yes')"
   ]
  },
  {
   "cell_type": "code",
   "execution_count": 19,
   "id": "db02ac75-58de-4201-a68d-4172e59fd8c2",
   "metadata": {},
   "outputs": [
    {
     "data": {
      "text/plain": [
       "[1, 'Mars', [1, 2, 3]]"
      ]
     },
     "execution_count": 19,
     "metadata": {},
     "output_type": "execute_result"
    }
   ],
   "source": [
    "lst[0:5:2]"
   ]
  },
  {
   "cell_type": "code",
   "execution_count": 30,
   "id": "7c711d36-fe51-4264-baa8-427c27fb56ce",
   "metadata": {},
   "outputs": [],
   "source": [
    "def product(*i):\n",
    "    prod = 1\n",
    "    for j in i:\n",
    "        prod *= j\n",
    "    return prod"
   ]
  },
  {
   "cell_type": "code",
   "execution_count": 31,
   "id": "063758ae-40a2-4de1-87e6-d02fef2fd37c",
   "metadata": {},
   "outputs": [
    {
     "name": "stdout",
     "output_type": "stream",
     "text": [
      "24\n"
     ]
    }
   ],
   "source": [
    "j = product(2,3,4)\n",
    "print(j, sep=' ')"
   ]
  },
  {
   "cell_type": "code",
   "execution_count": 34,
   "id": "aa1d8ec1-a5a4-4494-a29b-1974f1e189f5",
   "metadata": {},
   "outputs": [],
   "source": [
    "lst = [j for j in range(10) if j%2]"
   ]
  },
  {
   "cell_type": "code",
   "execution_count": 35,
   "id": "3d089e6e-8947-4b26-8676-f729609495ba",
   "metadata": {},
   "outputs": [
    {
     "data": {
      "text/plain": [
       "[1, 3, 5, 7, 9]"
      ]
     },
     "execution_count": 35,
     "metadata": {},
     "output_type": "execute_result"
    }
   ],
   "source": [
    "lst"
   ]
  },
  {
   "cell_type": "code",
   "execution_count": 48,
   "id": "c4318f32-e39a-4bdf-a2f5-6ef9c26d459d",
   "metadata": {},
   "outputs": [],
   "source": [
    "lst = []"
   ]
  },
  {
   "cell_type": "code",
   "execution_count": 49,
   "id": "0ee6c40e-dc12-4d8c-8362-b4f0efa2958e",
   "metadata": {},
   "outputs": [
    {
     "data": {
      "text/plain": [
       "[]"
      ]
     },
     "execution_count": 49,
     "metadata": {},
     "output_type": "execute_result"
    }
   ],
   "source": [
    "lst"
   ]
  },
  {
   "cell_type": "code",
   "execution_count": 50,
   "id": "458d2042-c77c-4584-b41c-12c144b6848f",
   "metadata": {},
   "outputs": [],
   "source": [
    "lst.append('hello')"
   ]
  },
  {
   "cell_type": "code",
   "execution_count": 51,
   "id": "08b4305e-5143-4c96-8f83-39b059c67db3",
   "metadata": {},
   "outputs": [
    {
     "data": {
      "text/plain": [
       "['hello']"
      ]
     },
     "execution_count": 51,
     "metadata": {},
     "output_type": "execute_result"
    }
   ],
   "source": [
    "lst"
   ]
  },
  {
   "cell_type": "code",
   "execution_count": 52,
   "id": "0e6d9396-8389-4c8a-8d32-82c332e542b9",
   "metadata": {},
   "outputs": [],
   "source": [
    "lst.append('bye')"
   ]
  },
  {
   "cell_type": "code",
   "execution_count": 53,
   "id": "604d7b04-df0e-41cb-b2df-91875ef28b78",
   "metadata": {},
   "outputs": [
    {
     "data": {
      "text/plain": [
       "['hello', 'bye']"
      ]
     },
     "execution_count": 53,
     "metadata": {},
     "output_type": "execute_result"
    }
   ],
   "source": [
    "lst"
   ]
  },
  {
   "cell_type": "code",
   "execution_count": 54,
   "id": "4718b004-4eab-4e66-963d-269ca4a53701",
   "metadata": {},
   "outputs": [],
   "source": [
    "import math"
   ]
  },
  {
   "cell_type": "code",
   "execution_count": 55,
   "id": "1e81fad3-4136-418c-8ca4-0782725ea3b0",
   "metadata": {},
   "outputs": [
    {
     "name": "stdout",
     "output_type": "stream",
     "text": [
      "4.0\n"
     ]
    }
   ],
   "source": [
    "print(math.sqrt(16))"
   ]
  },
  {
   "cell_type": "markdown",
   "id": "1a8ac83d-3976-4a68-8de1-d6283b82165a",
   "metadata": {},
   "source": [
    "## List comprehension"
   ]
  },
  {
   "cell_type": "markdown",
   "id": "bc94678c-c56a-435f-bb86-2d2fabf4beca",
   "metadata": {},
   "source": [
    "## Conditional assignment"
   ]
  },
  {
   "cell_type": "markdown",
   "id": "113bcfec-96fc-41b6-bd05-36cb30e27141",
   "metadata": {},
   "source": [
    "## Iterators beneath control flows"
   ]
  },
  {
   "cell_type": "markdown",
   "id": "0ffd14f4-9256-43f6-ac39-afd6e5340ae3",
   "metadata": {},
   "source": [
    "## Lambda functions"
   ]
  },
  {
   "cell_type": "code",
   "execution_count": 44,
   "id": "d78ddac5-c343-460d-bd09-890041aa8eee",
   "metadata": {},
   "outputs": [],
   "source": [
    "def f(x):\n",
    "    return x**2-1"
   ]
  },
  {
   "cell_type": "code",
   "execution_count": 45,
   "id": "b98e5f65-a243-4d35-862e-a26682a7917e",
   "metadata": {},
   "outputs": [],
   "source": [
    "def diff2(f, x, h=1E-6):\n",
    "    r = (f(x-h) - 2*f(x) + f(x+h))/float(h*h)\n",
    "    return r"
   ]
  },
  {
   "cell_type": "code",
   "execution_count": 46,
   "id": "206f6ea5-bbac-4b88-9ec3-43f18c46252e",
   "metadata": {},
   "outputs": [],
   "source": [
    "df2 = diff2(f, 1.5)"
   ]
  },
  {
   "cell_type": "code",
   "execution_count": 47,
   "id": "9fd08397-c756-4415-8ff0-9fc8df5635a2",
   "metadata": {},
   "outputs": [
    {
     "name": "stdout",
     "output_type": "stream",
     "text": [
      "1.999733711954832\n"
     ]
    }
   ],
   "source": [
    "print(df2)"
   ]
  },
  {
   "cell_type": "code",
   "execution_count": 43,
   "id": "4b301465-e654-4a49-8957-8c32ff3d68c4",
   "metadata": {},
   "outputs": [
    {
     "name": "stdout",
     "output_type": "stream",
     "text": [
      "1.999733711954832\n"
     ]
    }
   ],
   "source": [
    "df2 = diff2(lambda x: x**2-1, 1.5)\n",
    "print(df2)"
   ]
  },
  {
   "cell_type": "markdown",
   "id": "43b3bf25-2da5-43c6-ab86-8884b0199cc0",
   "metadata": {
    "jp-MarkdownHeadingCollapsed": true
   },
   "source": [
    "# <ins>3.</ins> Advanced string manipulation"
   ]
  },
  {
   "cell_type": "markdown",
   "id": "b90024e6-bfdb-4ea9-a4fd-2a2306e8061b",
   "metadata": {},
   "source": [
    "[TBD] to insert from presentation"
   ]
  },
  {
   "cell_type": "markdown",
   "id": "57a8a9df-d38e-4aef-8914-38d6f1cd75ce",
   "metadata": {},
   "source": [
    "# <ins>**Part II**</ins>"
   ]
  },
  {
   "cell_type": "markdown",
   "id": "d737495e-cbda-46a2-9da1-8fd63ec74390",
   "metadata": {},
   "source": [
    "# <ins>4.</ins> Introduction to libraries and modules"
   ]
  },
  {
   "cell_type": "markdown",
   "id": "8b337dc4-9832-47dd-849e-d3a9c9d900e2",
   "metadata": {},
   "source": [
    "[TBD] to insert from presentation"
   ]
  },
  {
   "cell_type": "markdown",
   "id": "7252e590-928a-4269-b44a-6c76a173d310",
   "metadata": {},
   "source": [
    "# <ins>5.</ins> Data structures and containers"
   ]
  },
  {
   "cell_type": "markdown",
   "id": "2b9730f6-d636-41e7-b75a-04a8d32b4e84",
   "metadata": {},
   "source": [
    "[TBD] to insert from presentation"
   ]
  },
  {
   "cell_type": "markdown",
   "id": "7e61f6c8-efa7-4cae-939d-45a18c8d5889",
   "metadata": {},
   "source": [
    "# <ins>6.</ins> Brief introduction to classes"
   ]
  },
  {
   "cell_type": "markdown",
   "id": "22ad2487-f18f-4a1d-affc-ed5868bea800",
   "metadata": {},
   "source": [
    "[TBD] to insert from presentation"
   ]
  }
 ],
 "metadata": {
  "kernelspec": {
   "display_name": "Python 3 (ipykernel)",
   "language": "python",
   "name": "python3"
  },
  "language_info": {
   "codemirror_mode": {
    "name": "ipython",
    "version": 3
   },
   "file_extension": ".py",
   "mimetype": "text/x-python",
   "name": "python",
   "nbconvert_exporter": "python",
   "pygments_lexer": "ipython3",
   "version": "3.10.12"
  },
  "rise": {
   "scroll": true
  }
 },
 "nbformat": 4,
 "nbformat_minor": 5
}
