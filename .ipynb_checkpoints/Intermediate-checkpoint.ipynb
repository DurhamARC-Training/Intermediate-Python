{
 "cells": [
  {
   "attachments": {
    "4bc4187b-d7a8-40d7-9b9b-e39c975e84a1.png": {
     "image/png": "[encoded data removed]"
    }
   },
   "cell_type": "markdown",
   "id": "328c76b4-1264-4de8-8779-b633bece6477",
   "metadata": {},
   "source": [
    "ARC course \"Coding with Python\" (Intermediate level)\n",
    "====================================================\n",
    "![icons8-python-48.png](attachment:4bc4187b-d7a8-40d7-9b9b-e39c975e84a1.png)"
   ]
  },
  {
   "cell_type": "markdown",
   "id": "2a805c89-f13d-4bbb-8697-7a174fc9b204",
   "metadata": {},
   "source": [
    "Welcome to our ARC course \"Coding with Python\" (Intermediate level).\n",
    "\n",
    "Some general information on how the course will run:\n",
    "\n",
    "* The course will run for three hours from 10.00 to 13.00. We plan a coffee break between 2 parts at around 11:30 for ~10-15 min.\n",
    "\n",
    "* This material builds upon the knowledge acquired in the previous beginner's level course.\n",
    "\n",
    "* Each topic will be presented wih code demonstrations followed by practical exercises.\n",
    "\n",
    "* We are happy to answer any questions during the course and to help during the exercises.\n",
    "\n",
    "Upon completion of the course, please, don't forget to scan the activity QR code to record your attendance.\n",
    "\n",
    "Enjoy coding with Python!"
   ]
  },
  {
   "cell_type": "markdown",
   "id": "1c862dea-54c2-4c98-bef3-3629fd16df06",
   "metadata": {},
   "source": [
    "# <ins>Table of Contents</ins>"
   ]
  },
  {
   "cell_type": "markdown",
   "id": "c10de292-d0db-47ac-87fe-6fc47239159f",
   "metadata": {},
   "source": [
    "  - [0. Introduction](#0.-Introduction)\n",
    "    - [Course objectives](#Course-objectives)\n",
    "    - [Useful resources](#Useful-resources)\n",
    "    - [Set up your Python environment](#Set-up-your-Python-environment)\n",
    "- [Part I](#Part-I)\n",
    "  - [1. Recap](#1.-Recap)\n",
    "  - [2. Pythonic concepts](#2.-Pythonic-concepts)\n",
    "  - [3. Advanced string manipulation](#3.-Advanced-string-manipulation)\n",
    "- [Part II](#Part-II)\n",
    "  - [4. Introduction to libraries and modules](#4.-Introduction-to-libraries-and-modules)\n",
    "  - [5. Data structures and containers](#5.-Data-structures-and-containers)\n",
    "  - [6. Brief introduction to classes](#6.-Brief-introduction-to-classes)"
   ]
  },
  {
   "cell_type": "markdown",
   "id": "619cb030-fd5d-469a-a6dd-1bd96cc74c3a",
   "metadata": {},
   "source": [
    "# <ins>0.</ins> Introduction"
   ]
  },
  {
   "cell_type": "markdown",
   "id": "1c719f86-479a-4051-aef9-ae6b0408e835",
   "metadata": {
    "editable": true,
    "slideshow": {
     "slide_type": "slide"
    },
    "tags": []
   },
   "source": [
    "## Course objectives"
   ]
  },
  {
   "cell_type": "markdown",
   "id": "d165cc15-2a07-44fc-8028-93d0248ff14f",
   "metadata": {},
   "source": [
    "Expand on our knowledge from the beginner course, or from beginner knowledge.\n",
    "\n",
    "Touch on some Pythonic concepts, "
   ]
  },
  {
   "cell_type": "markdown",
   "id": "7f6b8f80-4c65-4630-af25-2855b16b5f25",
   "metadata": {
    "editable": true,
    "slideshow": {
     "slide_type": "slide"
    },
    "tags": []
   },
   "source": [
    "## Useful resources"
   ]
  },
  {
   "cell_type": "markdown",
   "id": "babdb9d9-b120-4e97-9729-4d87ccb862d0",
   "metadata": {},
   "source": [
    "[TBD]\n",
    "\n",
    "[The Python Tutorial](https://docs.python.org/3/tutorial/)"
   ]
  },
  {
   "cell_type": "markdown",
   "id": "77bfa57e-7790-4683-91fd-6189a99c6c8e",
   "metadata": {
    "editable": true,
    "slideshow": {
     "slide_type": "slide"
    },
    "tags": []
   },
   "source": [
    "## Set up your Python environment"
   ]
  },
  {
   "cell_type": "markdown",
   "id": "0554114a-42c2-44c5-a1ab-f631ad1f4cd1",
   "metadata": {},
   "source": [
    "<ins>Option 1</ins>: Jupyter Notebook server set up by Daniel Maitre from the Physics department \n",
    " - Log in with your CIS account; loading process can take some time:\n",
    " - https://notebooks.dmaitre.phyip3.dur.ac.uk/arc\n",
    "\n",
    "<ins>Option 2</ins>: Local Python environment `python` or enhanced one `ipython`\n",
    "\n",
    "Python Installation:  \n",
    "Windows:\n",
    "* https://www.python.org/downloads/\n",
    "\n",
    "Linux:\n",
    "* `apt-get install python3` (package manager may differ)\n",
    "\n",
    "Mac:\n",
    "* https://www.python.org/downloads/macos/  \n",
    "OR\n",
    "* `brew install python` (with homebrew)\n",
    "\n",
    "JupyterLab (With Python):\n",
    "\n",
    "Used to run the notebook file.\n",
    "\n",
    "\n",
    "\n",
    "<ins>Option 3</ins>: Google Colab (https://colab.research.google.com)."
   ]
  },
  {
   "cell_type": "markdown",
   "id": "cb101f91-5fcb-430a-897e-bfff785d2a02",
   "metadata": {
    "editable": true,
    "slideshow": {
     "slide_type": "skip"
    },
    "tags": []
   },
   "source": [
    "### Installation steps for JupyterLab"
   ]
  },
  {
   "cell_type": "markdown",
   "id": "fd668699-0f8b-434f-af61-ecf97726f218",
   "metadata": {
    "editable": true,
    "slideshow": {
     "slide_type": "skip"
    },
    "tags": []
   },
   "source": [
    "<u>**Using pip:**</u>  \n",
    "You can install and run JupyterLab using only pip, which comes with Python:\n",
    "\n",
    "* `pip install jupyterlab`  \n",
    "  THEN\n",
    "* `jupyter lab`"
   ]
  },
  {
   "cell_type": "markdown",
   "id": "eda1d099-f53e-447e-94d0-20517492dbba",
   "metadata": {
    "editable": true,
    "slideshow": {
     "slide_type": "skip"
    },
    "tags": []
   },
   "source": [
    "<u>**Using conda:**</u>  \n",
    "Setting up a conda environment for this document\n",
    "\n",
    "```\n",
    "conda create -n python_intermediate -c conda-forge jupyter jupyterlab\n",
    "```\n",
    "\n",
    "then start normally via local JupyterLab by calling `jupyter lab`"
   ]
  },
  {
   "cell_type": "markdown",
   "id": "0fdcc824-000d-4821-a2b4-9cffbbcfb497",
   "metadata": {
    "editable": true,
    "slideshow": {
     "slide_type": "skip"
    },
    "tags": []
   },
   "source": [
    "<u>**Convert to pdf:**</u>\n",
    "\n",
    "Run cells you want to run\n",
    "Be sure to save\n",
    "Call `jupyter nbconvert --to slides --post serve ./Intermediate_examples.ipynb`\n",
    "Go to [](http://localhost:8000/Basics.slides.html?print-pdf#/\n",
    "Print via Print to PDF function of your browser"
   ]
  },
  {
   "cell_type": "markdown",
   "id": "a819c6fc-f59c-4ca4-84eb-909a9773611f",
   "metadata": {},
   "source": [
    "---"
   ]
  },
  {
   "cell_type": "markdown",
   "id": "e3c6bbb5-f43f-4bd6-b4bf-67eeef30ae76",
   "metadata": {},
   "source": [
    "# <ins>**1.**</ins> Recap"
   ]
  },
  {
   "cell_type": "markdown",
   "id": "0e5eae46-3d33-44df-affc-538d926382bc",
   "metadata": {
    "editable": true,
    "slideshow": {
     "slide_type": "slide"
    },
    "tags": []
   },
   "source": [
    "This section is a brief recap of materials covered in the Beginner Python course:\n",
    "\n",
    "* Data Types\n",
    "* Variables\n",
    "* Operators\n",
    "* Comments\n",
    "* Getting Data in and Out\n",
    "* Reading and Writing Files\n",
    "* Data Structures\n",
    "* Repetitions and Conditions\n",
    "* Functions\n"
   ]
  },
  {
   "cell_type": "markdown",
   "id": "acfa44b3-d2a6-4b87-9d60-712164cc2c09",
   "metadata": {
    "editable": true,
    "slideshow": {
     "slide_type": "subslide"
    },
    "tags": []
   },
   "source": [
    "---"
   ]
  },
  {
   "cell_type": "markdown",
   "id": "fd1a8d7b-dd0d-4522-afb1-fac67f26e24e",
   "metadata": {
    "editable": true,
    "slideshow": {
     "slide_type": "subslide"
    },
    "tags": []
   },
   "source": [
    "## <u>Data Types</u>"
   ]
  },
  {
   "cell_type": "markdown",
   "id": "7e02c578-1aa5-43e0-833c-a0f8938d85ba",
   "metadata": {
    "editable": true,
    "slideshow": {
     "slide_type": "subslide"
    },
    "tags": []
   },
   "source": [
    "As with any programming language, Python can deal with many different data types. Among the basic ones are `str` strings, `int` integers, `float` floating-point numbers and `bool` booleans.\n",
    "\n",
    "- Strings: \"Heinz\", 'Banana', 'He said \"Hello\"'\n",
    "- Integers: 1, 2, 3, 22222222, -777\n",
    "- Floats: -1.2, 0.0, 2.7182\n",
    "- Booleans: True, False\n",
    "\n",
    "Here are a few of the most commonly used data types in Python:\n",
    "\n",
    "**See:** [Python Documentation (Data model)](https://docs.python.org/3/reference/datamodel.html#objects-values-and-types)"
   ]
  },
  {
   "cell_type": "markdown",
   "id": "1837b53f-a988-4d12-84f3-27345c296a78",
   "metadata": {
    "editable": true,
    "slideshow": {
     "slide_type": "subslide"
    },
    "tags": []
   },
   "source": [
    "### <u>Numerical</u>"
   ]
  },
  {
   "cell_type": "markdown",
   "id": "f00d6de0-f360-419d-b374-a0e68d168dfb",
   "metadata": {
    "editable": true,
    "slideshow": {
     "slide_type": "subslide"
    },
    "tags": []
   },
   "source": [
    "Used to store numbers, usually either integers, or floating point numbers."
   ]
  },
  {
   "cell_type": "markdown",
   "id": "fa7ec763-2d6e-464d-8355-667df024c6c0",
   "metadata": {
    "editable": true,
    "slideshow": {
     "slide_type": "subslide"
    },
    "tags": []
   },
   "source": [
    "<u>Integer</u>"
   ]
  },
  {
   "cell_type": "code",
   "execution_count": null,
   "id": "69452a05-4fec-40d4-9f0e-f9fb13440ac1",
   "metadata": {},
   "outputs": [],
   "source": [
    "print(2544)"
   ]
  },
  {
   "cell_type": "code",
   "execution_count": null,
   "id": "8d236cdb-096f-4281-8511-da6f62766fcc",
   "metadata": {},
   "outputs": [],
   "source": [
    "type(2544)  # Integer"
   ]
  },
  {
   "cell_type": "markdown",
   "id": "a8bc17a1-a0b9-4a51-9e9d-eb7f38ab7815",
   "metadata": {
    "editable": true,
    "slideshow": {
     "slide_type": "subslide"
    },
    "tags": []
   },
   "source": [
    "<u>Float</u>"
   ]
  },
  {
   "cell_type": "code",
   "execution_count": null,
   "id": "9213e52a-d0d4-4b59-9775-420de2635221",
   "metadata": {},
   "outputs": [],
   "source": [
    "print(2.5)  "
   ]
  },
  {
   "cell_type": "code",
   "execution_count": null,
   "id": "9a32f203-7a52-410e-8ec1-597ab3100da0",
   "metadata": {},
   "outputs": [],
   "source": [
    "type(2.5)  # Float"
   ]
  },
  {
   "cell_type": "markdown",
   "id": "7a7041f0-ad65-4e41-a302-8944f8c4bf70",
   "metadata": {
    "editable": true,
    "slideshow": {
     "slide_type": "subslide"
    },
    "tags": []
   },
   "source": [
    "**NOTE:** Scientific notation is supported!"
   ]
  },
  {
   "cell_type": "code",
   "execution_count": null,
   "id": "a25e80c2-2488-4fa5-8d9f-505f4bd0368c",
   "metadata": {},
   "outputs": [],
   "source": [
    "speed_of_light = 2.998e8\n",
    "print(\"Speed of Light:\", speed_of_light)"
   ]
  },
  {
   "cell_type": "markdown",
   "id": "136e653f-d3c9-4501-b73a-106fcec4d1b1",
   "metadata": {
    "editable": true,
    "slideshow": {
     "slide_type": "subslide"
    },
    "tags": []
   },
   "source": [
    "#### <u>Boolean</u>"
   ]
  },
  {
   "cell_type": "markdown",
   "id": "585f575a-df80-4448-b9a6-4935ee890af4",
   "metadata": {
    "editable": true,
    "slideshow": {
     "slide_type": "subslide"
    },
    "tags": []
   },
   "source": [
    "Used to represent truth values, either \"True\", or \"False\"."
   ]
  },
  {
   "cell_type": "code",
   "execution_count": null,
   "id": "95db5e27-025d-42e9-a77a-153c917befee",
   "metadata": {},
   "outputs": [],
   "source": [
    "print(True)"
   ]
  },
  {
   "cell_type": "code",
   "execution_count": null,
   "id": "b08b0d38-224e-4822-aece-b74f9db7ef17",
   "metadata": {},
   "outputs": [],
   "source": [
    "print(False)"
   ]
  },
  {
   "cell_type": "code",
   "execution_count": null,
   "id": "440a9100-e95c-4af9-8ab0-2cd6a3a96199",
   "metadata": {},
   "outputs": [],
   "source": [
    "type(True)"
   ]
  },
  {
   "cell_type": "markdown",
   "id": "a69c0081-1e8b-4abe-9d90-9f5df56dca49",
   "metadata": {
    "editable": true,
    "slideshow": {
     "slide_type": "subslide"
    },
    "tags": []
   },
   "source": [
    "#### <u>String</u>"
   ]
  },
  {
   "cell_type": "markdown",
   "id": "c194194a-60d0-421b-8133-a2508166a908",
   "metadata": {
    "editable": true,
    "slideshow": {
     "slide_type": "subslide"
    },
    "tags": []
   },
   "source": [
    "A string is a series of characters enclosed in quotes, either single or double, used to represent text."
   ]
  },
  {
   "cell_type": "code",
   "execution_count": null,
   "id": "9c8c15bf-faec-4974-8b4c-c8ac1a25fc1b",
   "metadata": {},
   "outputs": [],
   "source": [
    "print(\"Hello, World!\")"
   ]
  },
  {
   "cell_type": "code",
   "execution_count": null,
   "id": "1ccc9dfa-a91f-46ca-b830-5b7dd83e4938",
   "metadata": {},
   "outputs": [],
   "source": [
    "print('World, Hello!')"
   ]
  },
  {
   "cell_type": "code",
   "execution_count": null,
   "id": "977ae719-c14c-4a27-9b4c-bc934e9c0842",
   "metadata": {},
   "outputs": [],
   "source": [
    "type('World, Hello!')"
   ]
  },
  {
   "cell_type": "markdown",
   "id": "2c7e3660-a604-40a1-abd0-8efae2813790",
   "metadata": {
    "editable": true,
    "slideshow": {
     "slide_type": "subslide"
    },
    "tags": []
   },
   "source": [
    "---"
   ]
  },
  {
   "cell_type": "markdown",
   "id": "04a56ab9-9aba-4a96-afae-7c77f5fb367b",
   "metadata": {
    "editable": true,
    "slideshow": {
     "slide_type": "subslide"
    },
    "tags": []
   },
   "source": [
    "## Variables"
   ]
  },
  {
   "cell_type": "markdown",
   "id": "4b5bb831-8a87-430b-8b5d-fee44fd0c477",
   "metadata": {
    "editable": true,
    "slideshow": {
     "slide_type": "subslide"
    },
    "tags": []
   },
   "source": [
    "Holds the value of a data type in memory!\n",
    "\n",
    "**NOTE:** Please give variables clear and explanative names."
   ]
  },
  {
   "cell_type": "code",
   "execution_count": null,
   "id": "4818940e-b590-4097-b19d-8f6dc44ed761",
   "metadata": {},
   "outputs": [],
   "source": [
    "enrolled_students = 728"
   ]
  },
  {
   "cell_type": "code",
   "execution_count": null,
   "id": "c4d192c3-bab6-4bcf-b0b9-e627b29ae7a8",
   "metadata": {},
   "outputs": [],
   "source": [
    "work_hours = 7.5"
   ]
  },
  {
   "cell_type": "code",
   "execution_count": null,
   "id": "1792cafe-07f2-4228-945e-f21a2e1838fd",
   "metadata": {},
   "outputs": [],
   "source": [
    "is_loaded = False"
   ]
  },
  {
   "cell_type": "code",
   "execution_count": null,
   "id": "d0467d71-4da5-45e9-acc8-350fbfb659bc",
   "metadata": {},
   "outputs": [],
   "source": [
    "welcome_message = \"Welcome!\""
   ]
  },
  {
   "cell_type": "markdown",
   "id": "1a4fa44d-1b91-4e20-acfc-b24f6a7d0b11",
   "metadata": {
    "editable": true,
    "slideshow": {
     "slide_type": "subslide"
    },
    "tags": []
   },
   "source": [
    "**NOTE:** Values can be overwritten!\n",
    "\n",
    "If we define a new `welcome_message`, it changes."
   ]
  },
  {
   "cell_type": "code",
   "execution_count": null,
   "id": "8b5c8638-1c82-4a2a-a034-6b4cb594386c",
   "metadata": {},
   "outputs": [],
   "source": [
    "welcome_message = \"Welcome, User\""
   ]
  },
  {
   "cell_type": "code",
   "execution_count": null,
   "id": "abb6ebfe-437a-44d8-a61a-73e00e31691f",
   "metadata": {},
   "outputs": [],
   "source": [
    "print(welcome_message)"
   ]
  },
  {
   "cell_type": "markdown",
   "id": "817c7210-2b50-465a-9c46-5936e3eede9f",
   "metadata": {
    "editable": true,
    "slideshow": {
     "slide_type": "subslide"
    },
    "tags": []
   },
   "source": [
    "---"
   ]
  },
  {
   "cell_type": "markdown",
   "id": "97a9b466-e93f-457a-b5b2-027455f54909",
   "metadata": {
    "editable": true,
    "slideshow": {
     "slide_type": "subslide"
    },
    "tags": []
   },
   "source": [
    "## Operators"
   ]
  },
  {
   "cell_type": "markdown",
   "id": "a97afee5-a2e1-4cab-81f0-51b642e05df5",
   "metadata": {
    "editable": true,
    "slideshow": {
     "slide_type": "subslide"
    },
    "tags": []
   },
   "source": [
    "New values can be obtained by applying operators to old values, for example, mathematical operators on numerical data types `int` or `float`."
   ]
  },
  {
   "cell_type": "markdown",
   "id": "d5b19885-4a7b-4dd9-9f74-349b5560c10b",
   "metadata": {
    "editable": true,
    "slideshow": {
     "slide_type": "subslide"
    },
    "tags": []
   },
   "source": [
    "<u>**String Concatenation**</u>  \n",
    "\n",
    "We can combine strings together."
   ]
  },
  {
   "cell_type": "code",
   "execution_count": null,
   "id": "e5a7f7ac-af19-44bc-913d-a02a1edc37ee",
   "metadata": {},
   "outputs": [],
   "source": [
    "# String concatenation\n",
    "hello_world = \"Hello,\" + \" World!\"\n",
    "print(hello_world)"
   ]
  },
  {
   "cell_type": "markdown",
   "id": "a5187510-f46c-4939-b676-0afeba353447",
   "metadata": {
    "editable": true,
    "slideshow": {
     "slide_type": "subslide"
    },
    "tags": []
   },
   "source": [
    "<u>**Logical Operators**</u>  \n",
    "We can also determine conditions based on Boolean logic: `and`, `or`, `not`"
   ]
  },
  {
   "cell_type": "markdown",
   "id": "4c020390-1a59-457e-be38-2f110101139f",
   "metadata": {
    "editable": true,
    "slideshow": {
     "slide_type": "subslide"
    },
    "tags": []
   },
   "source": [
    "**AND:**"
   ]
  },
  {
   "cell_type": "code",
   "execution_count": null,
   "id": "45d309f1-5f90-4a3a-8081-d0de4d2f9eed",
   "metadata": {},
   "outputs": [],
   "source": [
    "a = True\n",
    "b = False\n",
    "\n",
    "if a and b:\n",
    "    print(\"Both True!\")\n",
    "else:\n",
    "    print(\"At least one False!\")"
   ]
  },
  {
   "cell_type": "markdown",
   "id": "68898572-834d-4c99-88ef-db0a72fe5ba7",
   "metadata": {
    "editable": true,
    "slideshow": {
     "slide_type": "subslide"
    },
    "tags": []
   },
   "source": [
    "**OR:**"
   ]
  },
  {
   "cell_type": "code",
   "execution_count": null,
   "id": "f7755378-f1dd-48ef-a8d3-e0886170226c",
   "metadata": {},
   "outputs": [],
   "source": [
    "a = True\n",
    "b = False\n",
    "\n",
    "if a or b:\n",
    "    print(\"At least one True!\")\n",
    "else:\n",
    "    print(\"Both False!\")"
   ]
  },
  {
   "cell_type": "markdown",
   "id": "02fa8517-5b63-4eb9-922a-517b087d2ff9",
   "metadata": {
    "editable": true,
    "slideshow": {
     "slide_type": "subslide"
    },
    "tags": []
   },
   "source": [
    "**NOT:**"
   ]
  },
  {
   "cell_type": "code",
   "execution_count": null,
   "id": "29f1cc40-fb94-46c5-8c5f-4c3b7ffcc558",
   "metadata": {},
   "outputs": [],
   "source": [
    "a = True\n",
    "\n",
    "if not a:\n",
    "    print(\"It is False!\")  # If a is false\n",
    "else:\n",
    "    print(\"It is True!\")"
   ]
  },
  {
   "cell_type": "markdown",
   "id": "5da561ab-7810-4b7a-a494-2c98e8624442",
   "metadata": {
    "editable": true,
    "slideshow": {
     "slide_type": "subslide"
    },
    "tags": []
   },
   "source": [
    "<u>**Numerical Operators**</u>  \n",
    "\n",
    "- Numerical data: `+`, `-`, `*`, `/`, `%`, `**`, built-in functions `abs`, ...\n",
    "- Order of execution:\n",
    "    1. `()`\n",
    "    2. `**`\n",
    "    3. `*`, `/`\n",
    "    4. `+`, `-`\n",
    "    5. Left-to-right (except exponentiation!)\n",
    "\n",
    "So, use parenthesis to make sure!"
   ]
  },
  {
   "cell_type": "code",
   "execution_count": null,
   "id": "20c70490-1d48-4947-a2e1-0a34f88c290b",
   "metadata": {},
   "outputs": [],
   "source": [
    "print(\"Addition:\", 1 + 2)"
   ]
  },
  {
   "cell_type": "code",
   "execution_count": null,
   "id": "6c3302d7-7113-4142-bd06-0e023361827d",
   "metadata": {},
   "outputs": [],
   "source": [
    "print(\"Subtraction:\", 1 - 2)"
   ]
  },
  {
   "cell_type": "code",
   "execution_count": null,
   "id": "ba153189-3456-4efd-a720-4816108abb5a",
   "metadata": {},
   "outputs": [],
   "source": [
    "print(\"Multiplication:\", 5 * 10)"
   ]
  },
  {
   "cell_type": "code",
   "execution_count": null,
   "id": "8d30557b-cbf6-4029-90ab-a31f69c9e6cf",
   "metadata": {},
   "outputs": [],
   "source": [
    "print(\"Division:\", 10 / 5)"
   ]
  },
  {
   "cell_type": "code",
   "execution_count": null,
   "id": "f95e1d5d-b091-43ce-86ed-b5b23a0f2fc9",
   "metadata": {},
   "outputs": [],
   "source": [
    "print(\"Modulus:\", 10 % 3)"
   ]
  },
  {
   "cell_type": "code",
   "execution_count": null,
   "id": "75e9fb11-39be-49dd-bcaa-0eb586396c32",
   "metadata": {},
   "outputs": [],
   "source": [
    "print(\"Exponentiation:\", 2 ** 3)"
   ]
  },
  {
   "cell_type": "markdown",
   "id": "1a18c669-445c-4a38-a5cd-9f9809b7a480",
   "metadata": {
    "editable": true,
    "slideshow": {
     "slide_type": "subslide"
    },
    "tags": []
   },
   "source": [
    "---"
   ]
  },
  {
   "cell_type": "markdown",
   "id": "38858a4c-d322-4fea-859c-a69abadc6e61",
   "metadata": {
    "editable": true,
    "slideshow": {
     "slide_type": "subslide"
    },
    "tags": []
   },
   "source": [
    "## Comments"
   ]
  },
  {
   "cell_type": "markdown",
   "id": "423d1287-b3f0-4adf-9d18-6bd6c3a6250c",
   "metadata": {
    "editable": true,
    "slideshow": {
     "slide_type": "subslide"
    },
    "tags": []
   },
   "source": [
    "Used to write notes or comments about code, as well as description of what the code is doing, or the variables used."
   ]
  },
  {
   "cell_type": "code",
   "execution_count": null,
   "id": "2ed56fc3-bd61-4f1d-8d7f-3964d3203311",
   "metadata": {},
   "outputs": [],
   "source": [
    "# A single-line comment!"
   ]
  },
  {
   "cell_type": "code",
   "execution_count": null,
   "id": "6ff7c514-0c9a-49be-80b1-7b4f5e7149c7",
   "metadata": {},
   "outputs": [],
   "source": [
    "welcome_message = \"Welcome, User!\"\n",
    "print(welcome_message)  # Print welcome message"
   ]
  },
  {
   "cell_type": "code",
   "execution_count": null,
   "id": "e46b3d89-6599-4045-98f6-0b12d5cdcdc1",
   "metadata": {},
   "outputs": [],
   "source": [
    "'''\n",
    "A multi-line comment!\n",
    "'''"
   ]
  },
  {
   "cell_type": "code",
   "execution_count": null,
   "id": "4811235b-8e6d-46a8-9525-9292d4eb19fc",
   "metadata": {},
   "outputs": [],
   "source": [
    "\"\"\"\n",
    "Another multi-line comment!\n",
    "\"\"\""
   ]
  },
  {
   "cell_type": "markdown",
   "id": "af046732-3a53-4930-a099-d1cd2f4da930",
   "metadata": {
    "editable": true,
    "slideshow": {
     "slide_type": "subslide"
    },
    "tags": []
   },
   "source": [
    "---"
   ]
  },
  {
   "cell_type": "markdown",
   "id": "99db7141-4e30-4a86-911b-8baba1e35030",
   "metadata": {
    "editable": true,
    "slideshow": {
     "slide_type": "subslide"
    },
    "tags": []
   },
   "source": [
    "## User Input"
   ]
  },
  {
   "cell_type": "markdown",
   "id": "74473d76-37dd-494d-ba08-53d01b86b025",
   "metadata": {
    "editable": true,
    "slideshow": {
     "slide_type": "subslide"
    },
    "tags": []
   },
   "source": [
    "You can use `input()` to read user input: "
   ]
  },
  {
   "cell_type": "code",
   "execution_count": null,
   "id": "94e29968-63f3-41e0-91ff-6da15659b42b",
   "metadata": {},
   "outputs": [],
   "source": [
    "inputted_variable = input()\n",
    "print(inputted_variable)  # Print what we just input!"
   ]
  },
  {
   "cell_type": "markdown",
   "id": "203c2475-fa73-4d3d-845f-7c871af5c517",
   "metadata": {
    "editable": true,
    "slideshow": {
     "slide_type": "subslide"
    },
    "tags": []
   },
   "source": [
    "---"
   ]
  },
  {
   "cell_type": "markdown",
   "id": "e76a37ca-22a2-4e11-8905-84b03ca8cc57",
   "metadata": {
    "editable": true,
    "slideshow": {
     "slide_type": "subslide"
    },
    "tags": []
   },
   "source": [
    "## Reading and Writing Files"
   ]
  },
  {
   "cell_type": "markdown",
   "id": "2f158103-724b-4365-aca2-811f2fb2e0bc",
   "metadata": {
    "editable": true,
    "slideshow": {
     "slide_type": "subslide"
    },
    "tags": []
   },
   "source": [
    "<u>**Opening a File**</u>\n",
    "\n",
    "Two things to note here:\n",
    " - My object `my_file` is different from my file `\"testfile.txt\"`!\n",
    " - There are different modes:\n",
    "     - read: `'r'`\n",
    "     - (over-)write: `'w'`\n",
    "     - append: `'a'`\n",
    "     - read+write: `'w+'` or `'r+'`\n",
    "\n",
    "[Python Documentation (mode)](https://docs.python.org/3/tutorial/inputoutput.html#reading-and-writing-files)"
   ]
  },
  {
   "cell_type": "code",
   "execution_count": null,
   "id": "4219c021-a6a2-4fc1-965e-d3c4adad52d4",
   "metadata": {},
   "outputs": [],
   "source": [
    "# Opening and reading a file\n",
    "text_file = open('data_file.txt', 'r')\n",
    "content = text_file.read()\n",
    "print(content)\n",
    "file.close()"
   ]
  },
  {
   "cell_type": "markdown",
   "id": "fd40290c-7da7-4907-bf0b-2da189d16bb5",
   "metadata": {
    "editable": true,
    "slideshow": {
     "slide_type": "subslide"
    },
    "tags": []
   },
   "source": [
    "**NOTE:** Ensure closure of the file object when working with files in this way, or changes may not be written."
   ]
  },
  {
   "cell_type": "markdown",
   "id": "87cac9a9-e5fc-4ebc-9fe4-9842898d12a8",
   "metadata": {
    "editable": true,
    "slideshow": {
     "slide_type": "subslide"
    },
    "tags": []
   },
   "source": [
    "We can use the context manager (`with`) to allow us to simplify setup and closure of the file.\n"
   ]
  },
  {
   "cell_type": "code",
   "execution_count": null,
   "id": "a82c2ecc-334a-47e0-8a1b-fbb936e315d3",
   "metadata": {},
   "outputs": [],
   "source": [
    "# Using a with statement\n",
    "with open('data_file.txt', 'r') as text_file:\n",
    "    content = text_file.read()\n",
    "    print(content)"
   ]
  },
  {
   "cell_type": "markdown",
   "id": "287bf4b5-0a8f-46e9-86bf-5512fbb3805f",
   "metadata": {
    "editable": true,
    "slideshow": {
     "slide_type": "subslide"
    },
    "tags": []
   },
   "source": [
    "<u>**Reading from a File**</u>\n",
    "\n",
    "Here are some file functions for reading from a file:\n",
    "\n",
    "* file.read() - Read the entire file content line-by-line\n",
    "* file.readlines() - Read all lines into a List object\n",
    "\n"
   ]
  },
  {
   "cell_type": "code",
   "execution_count": null,
   "id": "e35abbe3-e3f1-440d-8489-5d1891f5e5e8",
   "metadata": {},
   "outputs": [],
   "source": [
    "with open(\"data_file.txt\") as text_file:\n",
    "    print(text_file.read())"
   ]
  },
  {
   "cell_type": "code",
   "execution_count": null,
   "id": "22015957-285d-4142-93ff-699de1da4cf1",
   "metadata": {},
   "outputs": [],
   "source": [
    "with open(\"data_file.txt\") as text_file:\n",
    "    print(text_file.readlines())"
   ]
  },
  {
   "cell_type": "markdown",
   "id": "33aa1313-b86a-4504-818c-bf7390e86b9f",
   "metadata": {
    "editable": true,
    "slideshow": {
     "slide_type": "subslide"
    },
    "tags": []
   },
   "source": [
    "<u>**Writing to a File**</u>"
   ]
  },
  {
   "cell_type": "markdown",
   "id": "08f39560-4605-4b34-ab9b-4b01286a9b08",
   "metadata": {
    "editable": true,
    "slideshow": {
     "slide_type": "subslide"
    },
    "tags": []
   },
   "source": [
    "One way we can write to files is using the `write()` function."
   ]
  },
  {
   "cell_type": "code",
   "execution_count": null,
   "id": "abfa3954-7e11-4530-b3d9-0dd15839801b",
   "metadata": {},
   "outputs": [],
   "source": [
    "text_file = open(\"testfile.txt\", \"w\")\n",
    "text_file.write(\"Some words \\n\")\n",
    "text_file.write(str(25))\n",
    "text_file.close()"
   ]
  },
  {
   "cell_type": "markdown",
   "id": "3a4a9996-e418-4203-9c31-3774f9e370bf",
   "metadata": {
    "editable": true,
    "slideshow": {
     "slide_type": "subslide"
    },
    "tags": []
   },
   "source": [
    "Using the `with` keyword:"
   ]
  },
  {
   "cell_type": "code",
   "execution_count": null,
   "id": "0b0440dc-b89d-40f2-83ef-04f87e89cd05",
   "metadata": {},
   "outputs": [],
   "source": [
    "with open(\"testfile.txt\", \"w\") as text_file:\n",
    "    text_file.write(\"Some words \\n\")\n",
    "    text_file.write(str(25))"
   ]
  },
  {
   "cell_type": "markdown",
   "id": "608e6af2-208d-44c9-8131-b23adff52434",
   "metadata": {
    "editable": true,
    "slideshow": {
     "slide_type": "subslide"
    },
    "tags": []
   },
   "source": [
    "---"
   ]
  },
  {
   "cell_type": "markdown",
   "id": "babf5297-ddde-495e-af42-c30a40bb1991",
   "metadata": {
    "editable": true,
    "slideshow": {
     "slide_type": "subslide"
    },
    "tags": []
   },
   "source": [
    "## Data Structures"
   ]
  },
  {
   "cell_type": "markdown",
   "id": "caf14352-baa3-4269-b2fb-95e89911ecd9",
   "metadata": {
    "editable": true,
    "slideshow": {
     "slide_type": "subslide"
    },
    "tags": []
   },
   "source": [
    "Python can work not only with basic data types mentioned before, but also with compound ones. Compound data types in Python are a powerful tool for organizing and storing data. Among the most commonly used are _lists_ and _dictionaries_.\n",
    "\n",
    "* [List](https://docs.python.org/3/tutorial/datastructures.html#Lists)\n",
    "* [Dictionary](https://docs.python.org/3/tutorial/datastructures.html#dictionaries)\n",
    "\n",
    "Other data structures are available: [Python Documentation(Data Structures)](https://docs.python.org/3/tutorial/datastructures.html)"
   ]
  },
  {
   "cell_type": "markdown",
   "id": "9fba844c-2e17-4801-91a5-afeac8d9df91",
   "metadata": {
    "editable": true,
    "slideshow": {
     "slide_type": "subslide"
    },
    "tags": []
   },
   "source": [
    "### <u>List</u>"
   ]
  },
  {
   "cell_type": "markdown",
   "id": "78bcb3b3-1f0e-4efd-9b90-876350175c7a",
   "metadata": {
    "editable": true,
    "slideshow": {
     "slide_type": "subslide"
    },
    "tags": []
   },
   "source": [
    "An ordered list of items, accessed by a numerical index (starting at `0`). Elements within a list can be removed, modified, or accessed by their index, and a list can have values added to it.\n",
    "\n",
    "Defined using square brackets `[]`."
   ]
  },
  {
   "cell_type": "code",
   "execution_count": null,
   "id": "6b693276-7356-45f4-99e9-09f13a315728",
   "metadata": {},
   "outputs": [],
   "source": [
    "odd_list = [1, 3, 5, 7, 9]  # A list of odd numbers\n",
    "print(odd_list)"
   ]
  },
  {
   "cell_type": "markdown",
   "id": "6bf82363-455d-45b7-948b-3c0982538fbb",
   "metadata": {
    "editable": true,
    "slideshow": {
     "slide_type": "subslide"
    },
    "tags": []
   },
   "source": [
    "<u>**List Access**</u>  \n",
    "You can access a list using its index value, starting from `0`."
   ]
  },
  {
   "cell_type": "code",
   "execution_count": null,
   "id": "0dc135f0-abb5-415c-b232-c8b5ee510e23",
   "metadata": {},
   "outputs": [],
   "source": [
    "odd_list[0]"
   ]
  },
  {
   "cell_type": "code",
   "execution_count": null,
   "id": "a373ffa1-3c6f-4524-82ba-d7b820b10da2",
   "metadata": {},
   "outputs": [],
   "source": [
    "odd_list[1]"
   ]
  },
  {
   "cell_type": "markdown",
   "id": "1819c114-32cc-4514-8bae-c875dffebcdb",
   "metadata": {
    "editable": true,
    "slideshow": {
     "slide_type": "subslide"
    },
    "tags": []
   },
   "source": [
    "**NOTE:** You can access lists in reverse index order, where `-1` is the final index. "
   ]
  },
  {
   "cell_type": "code",
   "execution_count": null,
   "id": "0063062c-5708-46f4-a2eb-965069f02d80",
   "metadata": {},
   "outputs": [],
   "source": [
    "odd_list[-1]"
   ]
  },
  {
   "cell_type": "code",
   "execution_count": null,
   "id": "1835eb61-005b-4b75-b4ea-1bdc0d3ec7dc",
   "metadata": {},
   "outputs": [],
   "source": [
    "odd_list[-2]"
   ]
  },
  {
   "cell_type": "markdown",
   "id": "fbd4bff1-a269-4dc7-a4c0-87f999b0f91f",
   "metadata": {
    "editable": true,
    "slideshow": {
     "slide_type": "subslide"
    },
    "tags": []
   },
   "source": [
    "<u>**Slicing**</u>   \n",
    "You can also use slicing for specific partial list access."
   ]
  },
  {
   "cell_type": "code",
   "execution_count": null,
   "id": "d078ce3f-4da2-4859-bbc3-989b0799e613",
   "metadata": {},
   "outputs": [],
   "source": [
    "odd_list[1:4] # Slicing from index 1 (inclusive), to 4 (exclusive)"
   ]
  },
  {
   "cell_type": "code",
   "execution_count": null,
   "id": "da4f070f-b2e5-4a87-bd73-62f0f0bc95b2",
   "metadata": {},
   "outputs": [],
   "source": [
    "odd_list[3:]  # Slicing from index 3 to end."
   ]
  },
  {
   "cell_type": "code",
   "execution_count": null,
   "id": "40377e32-fff7-4f34-ae6a-2152070541c3",
   "metadata": {},
   "outputs": [],
   "source": [
    "odd_list[:3]  # Slicing from beginning to index 3"
   ]
  },
  {
   "cell_type": "code",
   "execution_count": null,
   "id": "73b2ecfc-c8c5-426e-8c87-26c0a7543abf",
   "metadata": {},
   "outputs": [],
   "source": [
    "odd_list[::2]  # Slicing with a step of 2"
   ]
  },
  {
   "cell_type": "markdown",
   "id": "4b2a64e3-d381-4533-915d-437892a65e6b",
   "metadata": {
    "editable": true,
    "slideshow": {
     "slide_type": "subslide"
    },
    "tags": []
   },
   "source": [
    "<u>**Empty List**</u>   \n",
    "You can create empty lists:"
   ]
  },
  {
   "cell_type": "code",
   "execution_count": null,
   "id": "a2a8010c-0557-4b98-a40f-8448661bbb5e",
   "metadata": {},
   "outputs": [],
   "source": [
    "new_list = []  # An empty list\n",
    "print(new_list)"
   ]
  },
  {
   "cell_type": "markdown",
   "id": "9d505236-d828-40d7-bac0-b04edd80e8c8",
   "metadata": {
    "editable": true,
    "slideshow": {
     "slide_type": "subslide"
    },
    "tags": []
   },
   "source": [
    "Similar to a list, but is `immutable`, meaning the value cannot be changed after it is created. But can be overwitten, which may require performance considerations.\n",
    "\n",
    "Defined using round brackets `()`."
   ]
  },
  {
   "cell_type": "code",
   "execution_count": null,
   "id": "0153afdb-dbff-42f4-8e29-f286b8890a90",
   "metadata": {},
   "outputs": [],
   "source": [
    "even_tuple = (2, 4, 6, 8, 10)"
   ]
  },
  {
   "cell_type": "code",
   "execution_count": null,
   "id": "61c5b8fc-a30c-4e6c-90b9-5cf1779eec7f",
   "metadata": {},
   "outputs": [],
   "source": [
    "even_tuple"
   ]
  },
  {
   "cell_type": "markdown",
   "id": "aa4c46a1-0490-4431-97ee-033be69bdd5d",
   "metadata": {
    "editable": true,
    "slideshow": {
     "slide_type": "subslide"
    },
    "tags": []
   },
   "source": [
    "**NOTE:** Index access starts at `0`."
   ]
  },
  {
   "cell_type": "code",
   "execution_count": null,
   "id": "58b8b115-f86c-44e4-9d51-25a8a5b4987e",
   "metadata": {},
   "outputs": [],
   "source": [
    "even_tuple[0]"
   ]
  },
  {
   "cell_type": "code",
   "execution_count": null,
   "id": "a412b3f9-2098-478e-ad4c-6ed4bb5c64de",
   "metadata": {},
   "outputs": [],
   "source": [
    "even_tuple[1]"
   ]
  },
  {
   "cell_type": "markdown",
   "id": "581dccbd-0da8-4e2c-ba24-439ff712bf0b",
   "metadata": {
    "editable": true,
    "slideshow": {
     "slide_type": "subslide"
    },
    "tags": []
   },
   "source": [
    "**NOTE:** You can access lists in reverse index order, where `-1` is the final index. "
   ]
  },
  {
   "cell_type": "code",
   "execution_count": null,
   "id": "f9ede0eb-a692-4dd4-bade-4d88aafee5d6",
   "metadata": {},
   "outputs": [],
   "source": [
    "even_tuple[0]"
   ]
  },
  {
   "cell_type": "markdown",
   "id": "0d3c4530-c3fe-40ff-960d-f90082fa56e4",
   "metadata": {
    "editable": true,
    "slideshow": {
     "slide_type": "subslide"
    },
    "tags": []
   },
   "source": [
    "**NOTE:** You can create empty tuples:"
   ]
  },
  {
   "cell_type": "code",
   "execution_count": null,
   "id": "91b8a437-aab1-4e0f-ab0f-e91fb96ffd84",
   "metadata": {},
   "outputs": [],
   "source": [
    "new_tuple = ()"
   ]
  },
  {
   "cell_type": "code",
   "execution_count": null,
   "id": "26cb850b-6b50-45a3-9d41-c50dcad4fc65",
   "metadata": {},
   "outputs": [],
   "source": [
    "new_tuple"
   ]
  },
  {
   "cell_type": "markdown",
   "id": "a58385f9-6e9a-4c76-99f6-6009263b2bd8",
   "metadata": {
    "editable": true,
    "slideshow": {
     "slide_type": "subslide"
    },
    "tags": []
   },
   "source": [
    "**NOTE:** Tuples can be sliced using the same syntax as list slicing."
   ]
  },
  {
   "cell_type": "markdown",
   "id": "93bdca81-6bad-4ea8-9db5-baf4e65175e4",
   "metadata": {
    "editable": true,
    "slideshow": {
     "slide_type": "subslide"
    },
    "tags": []
   },
   "source": [
    "### <u>Dictionary</u>"
   ]
  },
  {
   "cell_type": "markdown",
   "id": "9c7b3252-f034-4655-8d44-342f725b4b3d",
   "metadata": {
    "editable": true,
    "slideshow": {
     "slide_type": "subslide"
    },
    "tags": []
   },
   "source": [
    "A dictionary is a data type that is indexed by a key/value pairing!\n",
    "\n",
    "Defined using curly brackets `{}`."
   ]
  },
  {
   "cell_type": "code",
   "execution_count": null,
   "id": "af1477c9-0270-4694-b324-2f80b4297fed",
   "metadata": {},
   "outputs": [],
   "source": [
    "data_reading = {\n",
    "    \"temperature_k\": 298.5,\n",
    "    \"pressure\": 1.015\n",
    "}"
   ]
  },
  {
   "cell_type": "code",
   "execution_count": null,
   "id": "d2094ca0-492b-4a8c-b3e3-8c18e0cb98a6",
   "metadata": {},
   "outputs": [],
   "source": [
    "print(data_reading)"
   ]
  },
  {
   "cell_type": "markdown",
   "id": "9b496699-487a-48f3-bfc2-9406f35bd4c5",
   "metadata": {
    "editable": true,
    "slideshow": {
     "slide_type": "subslide"
    },
    "tags": []
   },
   "source": [
    "<u>**Dictionary Access**</u>  \n",
    "You can access a specific dictionary value using its key:"
   ]
  },
  {
   "cell_type": "code",
   "execution_count": null,
   "id": "acbd7a13-a9be-4510-975a-d80ca701ba08",
   "metadata": {},
   "outputs": [],
   "source": [
    "print(data_reading['temperature_k'])"
   ]
  },
  {
   "cell_type": "code",
   "execution_count": null,
   "id": "fdc1e3ad-bea6-415e-8795-a2838be49868",
   "metadata": {},
   "outputs": [],
   "source": [
    "print(data_reading['pressure'])"
   ]
  },
  {
   "cell_type": "markdown",
   "id": "3e0674c7-d0c0-4e0b-bd00-5705333cfda3",
   "metadata": {
    "editable": true,
    "slideshow": {
     "slide_type": "subslide"
    },
    "tags": []
   },
   "source": [
    "<u>**Modifying Values**</u>  \n",
    "You can modify a specific dictionary value using its key:"
   ]
  },
  {
   "cell_type": "code",
   "execution_count": null,
   "id": "9e0f99ce-2157-4ae0-b6dc-a5c97a563dda",
   "metadata": {},
   "outputs": [],
   "source": [
    "data_reading['pressure'] += 1\n",
    "print(data_reading['pressure'])"
   ]
  },
  {
   "cell_type": "markdown",
   "id": "f67efad1-1a13-4881-b4d3-2dbdfb5996ce",
   "metadata": {
    "editable": true,
    "slideshow": {
     "slide_type": "subslide"
    },
    "tags": []
   },
   "source": [
    "---"
   ]
  },
  {
   "cell_type": "markdown",
   "id": "8748186c-93fe-4806-8212-10f3d74d559a",
   "metadata": {
    "editable": true,
    "slideshow": {
     "slide_type": "subslide"
    },
    "tags": []
   },
   "source": [
    "## Repetitions and Conditions"
   ]
  },
  {
   "cell_type": "markdown",
   "id": "fd2595ac-63da-4fd5-9945-09fa174ae358",
   "metadata": {
    "editable": true,
    "slideshow": {
     "slide_type": "subslide"
    },
    "tags": []
   },
   "source": [
    "<u>**Conditions**</u>  \n",
    "In order to control program flow, and whether or not code is executed, we can do conditions based on variable values."
   ]
  },
  {
   "cell_type": "code",
   "execution_count": null,
   "id": "9ac96dcc-530f-4065-ad15-a7fcd3d98ce8",
   "metadata": {},
   "outputs": [],
   "source": [
    "x = 3\n",
    "\n",
    "if x > 2:  # If x is GREATER THAN 2\n",
    "    print(True)\n",
    "\n",
    "if x == 3:  # If x is EQUAL TO 3\n",
    "    print(True)\n",
    "\n",
    "if x >= 3:  # If x is GREATER THAN or EQUAL TO 3\n",
    "    print(True)\n",
    "\n",
    "if x != 0:  # If x IS NOT 0\n",
    "    print(True)\n",
    "\n",
    "if x < 4:  # If X is LESS THAN 4\n",
    "    print(True)"
   ]
  },
  {
   "cell_type": "markdown",
   "id": "08c57e87-f45e-4e0b-934d-7f7850188ba1",
   "metadata": {
    "editable": true,
    "slideshow": {
     "slide_type": "subslide"
    },
    "tags": []
   },
   "source": [
    "<u>**Else/Elif**</u>  \n",
    "\n",
    "We may also specify either/or with `if/else`, and even add extra conditions with `elif`."
   ]
  },
  {
   "cell_type": "code",
   "execution_count": null,
   "id": "5e6745f5-ae79-4a6f-bef3-134bc154bc76",
   "metadata": {},
   "outputs": [],
   "source": [
    "x = 10\n",
    "\n",
    "if x > 0:\n",
    "    print(\"x is positive\")\n",
    "elif x < 0:\n",
    "    print(\"x is negative\")\n",
    "else:\n",
    "    print(\"x is zero\")"
   ]
  },
  {
   "cell_type": "markdown",
   "id": "edf6b6ec-dc9f-4fee-b26d-468b65f56fc6",
   "metadata": {
    "editable": true,
    "slideshow": {
     "slide_type": "subslide"
    },
    "tags": []
   },
   "source": [
    "<u>**Repetitions**</u>  \n",
    "There are a number of ways for us to repeat lines or blocks of code within our program, to do this we use `loops`:"
   ]
  },
  {
   "cell_type": "markdown",
   "id": "74fdea65-fd77-4861-98bc-e1a6f91432c7",
   "metadata": {
    "editable": true,
    "slideshow": {
     "slide_type": "subslide"
    },
    "tags": []
   },
   "source": [
    "<u>For Each Loop:</u>  \n",
    "A for each loop will execute its code for each item specified within the loop definition"
   ]
  },
  {
   "cell_type": "code",
   "execution_count": null,
   "id": "93c7c4dd-9063-4864-b2a5-c22f9bcdeea7",
   "metadata": {},
   "outputs": [],
   "source": [
    "animal_list = [\"Cat\", \"Dog\", \"Bird\"]\n",
    "\n",
    "for animal in animal_list:\n",
    "    print(\"Current animal is:\", animal)"
   ]
  },
  {
   "cell_type": "markdown",
   "id": "0aeddb7b-b32b-4313-93e9-45bb42dc4dcf",
   "metadata": {
    "editable": true,
    "slideshow": {
     "slide_type": "subslide"
    },
    "tags": []
   },
   "source": [
    "The above describes `for each animal in animal_list`."
   ]
  },
  {
   "cell_type": "markdown",
   "id": "257be4c3-c70c-412b-adc5-c990e1e8a4f8",
   "metadata": {
    "editable": true,
    "slideshow": {
     "slide_type": "subslide"
    },
    "tags": []
   },
   "source": [
    "We are able to use a range-based for loop:"
   ]
  },
  {
   "cell_type": "code",
   "execution_count": null,
   "id": "d7379568-21e2-4f83-98bf-cfb9c87e7e48",
   "metadata": {},
   "outputs": [],
   "source": [
    "for i in range(0, 5):\n",
    "    print(i * 2) # Here we are manipulating the value each time!"
   ]
  },
  {
   "cell_type": "code",
   "execution_count": null,
   "id": "f0b6576d-80a4-43df-8f14-c3972bcd4f15",
   "metadata": {},
   "outputs": [],
   "source": [
    "for i in range(0, 10, 2):  # Here we define a step of 2!\n",
    "    print(i)"
   ]
  },
  {
   "cell_type": "code",
   "execution_count": null,
   "id": "04c4ae93-d9d9-4a42-9488-c70371de6c53",
   "metadata": {},
   "outputs": [],
   "source": [
    "for i in range(10, 0, -1):  # Counting down from 10, in steps of 1\n",
    "    print(i)"
   ]
  },
  {
   "cell_type": "markdown",
   "id": "b7fc15ad-8a7c-4604-857b-df0b58d3ebd4",
   "metadata": {
    "editable": true,
    "slideshow": {
     "slide_type": "subslide"
    },
    "tags": []
   },
   "source": [
    "<u>While Loop</u>  \n",
    "A `while` loop will continue until the defined condition has been met, which can potentially not happen and cause an infinite loop.\n",
    "\n",
    "Here we are printing `n`, then incrementing it by 1, while `n` is LESS THAN 10."
   ]
  },
  {
   "cell_type": "code",
   "execution_count": null,
   "id": "24f6bec9-123b-405b-966d-eaea8585cde7",
   "metadata": {},
   "outputs": [],
   "source": [
    "n = 0\n",
    "\n",
    "while n < 10:\n",
    "    print(n)\n",
    "    n += 1"
   ]
  },
  {
   "cell_type": "markdown",
   "id": "9795f446-3a26-4fc2-adc8-c881bfad4a2e",
   "metadata": {
    "editable": true,
    "slideshow": {
     "slide_type": "subslide"
    },
    "tags": []
   },
   "source": [
    "**NOTE:** The `break` keyword can be used to stop execution of a loop.  \n",
    "**NOTE:** Use `ctrl+C` to break execution in your terminal if needed."
   ]
  },
  {
   "cell_type": "markdown",
   "id": "dd2b8c0f-4e33-4eb4-95b1-273ca2e64934",
   "metadata": {
    "editable": true,
    "slideshow": {
     "slide_type": "subslide"
    },
    "tags": []
   },
   "source": [
    "---"
   ]
  },
  {
   "cell_type": "markdown",
   "id": "d7c651f7-6214-4fb9-8142-d2bd9bd8c4fe",
   "metadata": {
    "editable": true,
    "slideshow": {
     "slide_type": "subslide"
    },
    "tags": []
   },
   "source": [
    "## Functions"
   ]
  },
  {
   "cell_type": "markdown",
   "id": "c41974a2-3aad-4331-a4cb-b5b95da374b4",
   "metadata": {
    "editable": true,
    "slideshow": {
     "slide_type": "subslide"
    },
    "tags": []
   },
   "source": [
    "A function is a reusable block of code used to perform a specific task.\n",
    "\n",
    "We define a function using the `def` keyword, then parenthesis, which may contain the function `parameters` or `arguments` (different terms, same thing).\n",
    "\n",
    "**NOTE:** You should give your functions and arguments explanative names. "
   ]
  },
  {
   "cell_type": "markdown",
   "id": "485c8ad1-a9e9-4f3b-a7ba-441b7bbe0451",
   "metadata": {
    "editable": true,
    "slideshow": {
     "slide_type": "subslide"
    },
    "tags": []
   },
   "source": [
    "<u>**Parameters/Arguments**</u>  \n",
    "A function can receive 0 or more variables as arguments which are 'passed' through and are used during the execution of the function as required."
   ]
  },
  {
   "cell_type": "markdown",
   "id": "f3b03ae2-07c8-4d39-8db3-1dcd110f44df",
   "metadata": {
    "editable": true,
    "slideshow": {
     "slide_type": "subslide"
    },
    "tags": []
   },
   "source": [
    "<u>**Returns**</u>  \n",
    "A function may return a single variable, or variables, it may also return nothing where it is required to just execute some logic."
   ]
  },
  {
   "cell_type": "markdown",
   "id": "bb0b7159-3cd2-4ea3-9f11-3bf1c2e76359",
   "metadata": {
    "editable": true,
    "slideshow": {
     "slide_type": "subslide"
    },
    "tags": []
   },
   "source": [
    "Here is a very basic example of a function:"
   ]
  },
  {
   "cell_type": "code",
   "execution_count": null,
   "id": "a493cc37-9059-430d-83a9-005f4c3c1b80",
   "metadata": {},
   "outputs": [],
   "source": [
    "def sum_numbers(val_one, val_two):\n",
    "    \"\"\"Sums and returns two numbers\"\"\"\n",
    "    return val_one + val_two  # Sum of both numbers\n",
    "\n",
    "calculated_value = sum_numbers(1, 1)\n",
    "print(calculated_value)"
   ]
  },
  {
   "cell_type": "markdown",
   "id": "eb7a7798-407d-45eb-99d5-43e9004fbda5",
   "metadata": {
    "editable": true,
    "slideshow": {
     "slide_type": "subslide"
    },
    "tags": []
   },
   "source": [
    "Note that we are able to save the result of `sum_numbers`, to a variable which we have aptly named `calculated_value`, which can be reused later."
   ]
  },
  {
   "cell_type": "markdown",
   "id": "1c7b3e3e-7592-465a-ab0b-e0b7757e31fe",
   "metadata": {
    "editable": true,
    "slideshow": {
     "slide_type": "subslide"
    },
    "tags": []
   },
   "source": [
    "Here we are modifying setting a default value for our `name` argument:"
   ]
  },
  {
   "cell_type": "code",
   "execution_count": null,
   "id": "27be77d0-b419-4ac4-b42a-5a603e92e0a2",
   "metadata": {},
   "outputs": [],
   "source": [
    "def generate_greeting(name='Guest'):\n",
    "    \"\"\"\n",
    "    Generate the default greeting message.\n",
    "    Name will default to 'guest'.\n",
    "    \"\"\"\n",
    "    print(f\"Hello, {name}!\")\n",
    "\n",
    "generate_greeting()\n",
    "generate_greeting(\"User\")"
   ]
  },
  {
   "cell_type": "markdown",
   "id": "0de304d6-fae4-4d8b-9512-89f60d835102",
   "metadata": {
    "editable": true,
    "slideshow": {
     "slide_type": "subslide"
    },
    "tags": []
   },
   "source": [
    "Without specifying the `name` argument, the `generate_greeting` will use the default value specified within the function definition."
   ]
  },
  {
   "cell_type": "markdown",
   "id": "881ae7f5-01de-473d-97b3-8add83a361e2",
   "metadata": {
    "editable": true,
    "slideshow": {
     "slide_type": "subslide"
    },
    "tags": []
   },
   "source": [
    "---"
   ]
  },
  {
   "cell_type": "raw",
   "id": "65e9bfff-e072-4f10-b496-63385de53542",
   "metadata": {
    "editable": true,
    "raw_mimetype": "text/markdown",
    "slideshow": {
     "slide_type": "notes"
    },
    "tags": []
   },
   "source": [
    "* A _string_ is a sequence of characters.\n",
    "* single quotes (') and double quotes (\")"
   ]
  },
  {
   "cell_type": "code",
   "execution_count": null,
   "id": "83748356-278b-4d52-8499-38a05db8f303",
   "metadata": {
    "editable": true,
    "slideshow": {
     "slide_type": "fragment"
    },
    "tags": []
   },
   "outputs": [],
   "source": [
    "\"19\""
   ]
  },
  {
   "cell_type": "code",
   "execution_count": null,
   "id": "9c236a84-b54f-4132-a1ff-82a2c35743fe",
   "metadata": {
    "editable": true,
    "slideshow": {
     "slide_type": "fragment"
    },
    "tags": []
   },
   "outputs": [],
   "source": [
    "\"Fred\""
   ]
  },
  {
   "cell_type": "code",
   "execution_count": null,
   "id": "23ca1bb9-ea94-48ba-b126-3c8eeafc42d1",
   "metadata": {
    "editable": true,
    "slideshow": {
     "slide_type": "fragment"
    },
    "tags": []
   },
   "outputs": [],
   "source": [
    "'Fred'"
   ]
  },
  {
   "cell_type": "code",
   "execution_count": null,
   "id": "11f6e6f7-bd61-4530-95e9-da1d9dc5b972",
   "metadata": {
    "editable": true,
    "slideshow": {
     "slide_type": ""
    },
    "tags": []
   },
   "outputs": [],
   "source": [
    "type('Fred')"
   ]
  },
  {
   "cell_type": "markdown",
   "id": "b3c8c87b-abce-48bf-80e1-2e7778c84445",
   "metadata": {
    "editable": true,
    "slideshow": {
     "slide_type": "fragment"
    },
    "tags": []
   },
   "source": [
    " "
   ]
  },
  {
   "cell_type": "code",
   "execution_count": null,
   "id": "0a45dbcd-f833-4ea6-96be-2dfee2f7fb7b",
   "metadata": {
    "editable": true,
    "slideshow": {
     "slide_type": "fragment"
    },
    "tags": []
   },
   "outputs": [],
   "source": [
    "True"
   ]
  },
  {
   "cell_type": "code",
   "execution_count": null,
   "id": "c1a4eeba-e3ca-4c80-88bc-26c884458891",
   "metadata": {
    "editable": true,
    "slideshow": {
     "slide_type": "fragment"
    },
    "tags": []
   },
   "outputs": [],
   "source": [
    "False"
   ]
  },
  {
   "cell_type": "code",
   "execution_count": null,
   "id": "6aa37f13-3fd5-4635-acdb-eb2328dbbdf8",
   "metadata": {
    "editable": true,
    "slideshow": {
     "slide_type": "fragment"
    },
    "tags": []
   },
   "outputs": [],
   "source": [
    "type(True)"
   ]
  },
  {
   "cell_type": "markdown",
   "id": "b43197ae-493d-4e39-93c3-6650b15bbef9",
   "metadata": {
    "editable": true,
    "slideshow": {
     "slide_type": ""
    },
    "tags": []
   },
   "source": [
    " "
   ]
  },
  {
   "cell_type": "raw",
   "id": "960eddcd-42b6-4c8d-bc31-547f330bdffc",
   "metadata": {
    "editable": true,
    "raw_mimetype": "",
    "slideshow": {
     "slide_type": "notes"
    },
    "tags": []
   },
   "source": [
    "* An integer and string expressions.\n",
    "* All expressions in Python have a _type_.\n",
    "* An expression’s type is sometimes denoted as its _class_.\n",
    "* The built-in functions `print`, `type`, `int` and `str`"
   ]
  },
  {
   "cell_type": "code",
   "execution_count": null,
   "id": "49736ac5-1e99-449c-a9c8-c74e271b2b6e",
   "metadata": {
    "editable": true,
    "slideshow": {
     "slide_type": "fragment"
    },
    "tags": []
   },
   "outputs": [],
   "source": [
    "print(8.12)"
   ]
  },
  {
   "cell_type": "code",
   "execution_count": null,
   "id": "dd3a68ae-1463-44fe-bd31-6527df4ac026",
   "metadata": {
    "editable": true,
    "slideshow": {
     "slide_type": "fragment"
    },
    "tags": []
   },
   "outputs": [],
   "source": [
    "print('ABC')"
   ]
  },
  {
   "cell_type": "code",
   "execution_count": null,
   "id": "be3a7c9b-517f-4f3f-8d93-b2f1c912b528",
   "metadata": {
    "editable": true,
    "slideshow": {
     "slide_type": "fragment"
    },
    "tags": []
   },
   "outputs": [],
   "source": [
    "type(4)"
   ]
  },
  {
   "cell_type": "code",
   "execution_count": null,
   "id": "7e055b58-dd2b-4103-8dd4-8bd70ca7061f",
   "metadata": {
    "editable": true,
    "slideshow": {
     "slide_type": "fragment"
    },
    "tags": []
   },
   "outputs": [],
   "source": [
    "type('4')"
   ]
  },
  {
   "cell_type": "code",
   "execution_count": null,
   "id": "a061f9d8-829b-41aa-bfa8-8678f2487302",
   "metadata": {
    "editable": true,
    "slideshow": {
     "slide_type": "fragment"
    },
    "tags": []
   },
   "outputs": [],
   "source": [
    "str(4)"
   ]
  },
  {
   "cell_type": "code",
   "execution_count": null,
   "id": "99bce1d8-44d3-4f69-80ec-6dac696bdfca",
   "metadata": {
    "editable": true,
    "slideshow": {
     "slide_type": "fragment"
    },
    "tags": []
   },
   "outputs": [],
   "source": [
    "int('5')"
   ]
  },
  {
   "cell_type": "code",
   "execution_count": null,
   "id": "4a1278ab-3f8d-46c0-85a0-bac33d55bc99",
   "metadata": {
    "editable": true,
    "slideshow": {
     "slide_type": "fragment"
    },
    "tags": []
   },
   "outputs": [],
   "source": [
    "int(4)"
   ]
  },
  {
   "cell_type": "code",
   "execution_count": null,
   "id": "1b1dc35f-bd40-4b46-b940-3830442ee652",
   "metadata": {
    "editable": true,
    "slideshow": {
     "slide_type": "fragment"
    },
    "tags": []
   },
   "outputs": [],
   "source": [
    "str('Judy')"
   ]
  },
  {
   "cell_type": "code",
   "execution_count": null,
   "id": "844d099e-dcbc-43a2-a43f-17953ce9bcb7",
   "metadata": {
    "editable": true,
    "slideshow": {
     "slide_type": "fragment"
    },
    "tags": []
   },
   "outputs": [],
   "source": [
    "int('wow')"
   ]
  },
  {
   "cell_type": "code",
   "execution_count": null,
   "id": "c7cebd05-57d9-417b-bcf9-0accfb53cdeb",
   "metadata": {
    "editable": true,
    "slideshow": {
     "slide_type": "fragment"
    },
    "tags": []
   },
   "outputs": [],
   "source": [
    "int('3.4')"
   ]
  },
  {
   "cell_type": "code",
   "execution_count": null,
   "id": "fe02f5ad-4692-46a3-a44b-aa07695bf448",
   "metadata": {
    "editable": true,
    "slideshow": {
     "slide_type": "fragment"
    },
    "tags": []
   },
   "outputs": [],
   "source": [
    "5 + 10"
   ]
  },
  {
   "cell_type": "code",
   "execution_count": null,
   "id": "1d86c2ed-1a23-4f59-b177-c03d60f44be4",
   "metadata": {
    "editable": true,
    "slideshow": {
     "slide_type": "fragment"
    },
    "tags": []
   },
   "outputs": [],
   "source": [
    "'5' + '10'"
   ]
  },
  {
   "cell_type": "code",
   "execution_count": null,
   "id": "a27cdf88-33de-49fa-bb7d-87629e7155fa",
   "metadata": {
    "editable": true,
    "slideshow": {
     "slide_type": "fragment"
    },
    "tags": []
   },
   "outputs": [],
   "source": [
    "'abc' + 'xyz'"
   ]
  },
  {
   "cell_type": "code",
   "execution_count": null,
   "id": "01cb778a-edef-44f4-b757-062a9c6e93af",
   "metadata": {
    "editable": true,
    "slideshow": {
     "slide_type": "fragment"
    },
    "tags": []
   },
   "outputs": [],
   "source": [
    "'5' + 10"
   ]
  },
  {
   "cell_type": "code",
   "execution_count": null,
   "id": "c81e5dc3-8478-459d-becf-ed5fa13ddc2c",
   "metadata": {
    "editable": true,
    "slideshow": {
     "slide_type": "fragment"
    },
    "tags": []
   },
   "outputs": [],
   "source": [
    "5 + '10'"
   ]
  },
  {
   "cell_type": "code",
   "execution_count": null,
   "id": "49db8566-f63f-4a1a-9312-c096a230e7e5",
   "metadata": {
    "editable": true,
    "slideshow": {
     "slide_type": "fragment"
    },
    "tags": []
   },
   "outputs": [],
   "source": [
    "5 + int('10')"
   ]
  },
  {
   "cell_type": "code",
   "execution_count": null,
   "id": "2c6f7bf5-b3fb-44d2-9b88-722d03b6e9f5",
   "metadata": {
    "editable": true,
    "slideshow": {
     "slide_type": "fragment"
    },
    "tags": []
   },
   "outputs": [],
   "source": [
    "'5' + str(10)"
   ]
  },
  {
   "cell_type": "code",
   "execution_count": null,
   "id": "0a893a09-1d4e-4d44-a161-671af0633183",
   "metadata": {
    "editable": true,
    "slideshow": {
     "slide_type": "fragment"
    },
    "tags": []
   },
   "outputs": [],
   "source": [
    "type('4' + '7')"
   ]
  },
  {
   "cell_type": "code",
   "execution_count": null,
   "id": "0aeba9d3-7069-4433-9e7c-0b6da51d28c7",
   "metadata": {
    "editable": true,
    "slideshow": {
     "slide_type": "fragment"
    },
    "tags": []
   },
   "outputs": [],
   "source": [
    "type(int('3') + int(4))"
   ]
  },
  {
   "cell_type": "markdown",
   "id": "25d0b6de-dbb0-4e7e-8d0e-7f33ff6c59aa",
   "metadata": {
    "editable": true,
    "slideshow": {
     "slide_type": "fragment"
    },
    "tags": []
   },
   "source": [
    " "
   ]
  },
  {
   "cell_type": "raw",
   "id": "8411cc8a-13c3-445a-ad1b-80676c8e983e",
   "metadata": {
    "editable": true,
    "raw_mimetype": "",
    "slideshow": {
     "slide_type": "notes"
    },
    "tags": []
   },
   "source": [
    "This is an assignment statement. An assignment statement associates a value with a variable. The type of a variable can be changed upon a new assignment."
   ]
  },
  {
   "cell_type": "code",
   "execution_count": null,
   "id": "83bf7d06-41d5-4077-a095-1186116c3420",
   "metadata": {
    "editable": true,
    "slideshow": {
     "slide_type": "fragment"
    },
    "tags": []
   },
   "outputs": [],
   "source": [
    "x = 10\n",
    "print('x = ' + str(x))\n",
    "x = 20\n",
    "print('x = ' + str(x))\n",
    "x = 30\n",
    "print('x = ' + str(x))"
   ]
  },
  {
   "cell_type": "code",
   "execution_count": null,
   "id": "ba93c843-ae99-4587-9536-78e324486c4c",
   "metadata": {
    "editable": true,
    "slideshow": {
     "slide_type": "fragment"
    },
    "tags": []
   },
   "outputs": [],
   "source": [
    "x = 10\n",
    "print('x =', x)\n",
    "x = 20\n",
    "print('x =', x)\n",
    "x = 30\n",
    "print('x =', x)"
   ]
  },
  {
   "cell_type": "code",
   "execution_count": null,
   "id": "3c7c6387-493b-4d63-a6ea-eeaacaf1191e",
   "metadata": {
    "editable": true,
    "slideshow": {
     "slide_type": "fragment"
    },
    "tags": []
   },
   "outputs": [],
   "source": [
    "a = 10\n",
    "print('First, variable a has value', a, 'and type', type(a))\n",
    "a = 'ABC'\n",
    "print('Now, variable a has value', a, 'and type', type(a))"
   ]
  },
  {
   "cell_type": "markdown",
   "id": "b6e3c8af-16a0-409b-8776-d65a4c833413",
   "metadata": {
    "editable": true,
    "slideshow": {
     "slide_type": "fragment"
    },
    "tags": []
   },
   "source": [
    " "
   ]
  },
  {
   "cell_type": "raw",
   "id": "5326a57c-0130-495b-a389-f18a863d87e0",
   "metadata": {
    "editable": true,
    "raw_mimetype": "",
    "slideshow": {
     "slide_type": "notes"
    },
    "tags": []
   },
   "source": [
    "* comma-separated list\n",
    "* A tuple is a comma-separated list of expressions"
   ]
  },
  {
   "cell_type": "code",
   "execution_count": null,
   "id": "440ae6e5-fb1b-49c3-9195-41ed4a5b3512",
   "metadata": {
    "editable": true,
    "slideshow": {
     "slide_type": "fragment"
    },
    "tags": []
   },
   "outputs": [],
   "source": [
    "x, y, z = 100, -45, 0\n",
    "print('x =', x, ' y =', y, ' z =', z)"
   ]
  },
  {
   "cell_type": "code",
   "execution_count": null,
   "id": "b4a3c03b-7e73-47d8-8051-753990505d8b",
   "metadata": {
    "editable": true,
    "slideshow": {
     "slide_type": "fragment"
    },
    "tags": []
   },
   "outputs": [],
   "source": [
    "x, y, z = 45, 3"
   ]
  },
  {
   "cell_type": "code",
   "execution_count": null,
   "id": "e8b20325-7faf-4d64-b2d8-db71e780217f",
   "metadata": {
    "editable": true,
    "slideshow": {
     "slide_type": "fragment"
    },
    "tags": []
   },
   "outputs": [],
   "source": [
    "x, y, z = 45, 3, 23, 8"
   ]
  },
  {
   "cell_type": "markdown",
   "id": "3dd5bc6f-6c5a-4922-a37a-c6ff06341f20",
   "metadata": {
    "editable": true,
    "slideshow": {
     "slide_type": "fragment"
    },
    "tags": []
   },
   "source": [
    " "
   ]
  },
  {
   "cell_type": "raw",
   "id": "da9f4e3d-fef1-46bb-bbb1-f10b1060d0d4",
   "metadata": {
    "editable": true,
    "raw_mimetype": "",
    "slideshow": {
     "slide_type": "notes"
    },
    "tags": []
   },
   "source": [
    "* The del statement"
   ]
  },
  {
   "cell_type": "code",
   "execution_count": null,
   "id": "17b8910a-6558-4002-a1c9-10ac46d2655e",
   "metadata": {
    "editable": true,
    "slideshow": {
     "slide_type": "fragment"
    },
    "tags": []
   },
   "outputs": [],
   "source": [
    "x = 2\n",
    "x\n",
    "y"
   ]
  },
  {
   "cell_type": "code",
   "execution_count": null,
   "id": "c4aa98ac-4128-4df5-939f-b6273cfae7c0",
   "metadata": {
    "editable": true,
    "slideshow": {
     "slide_type": "fragment"
    },
    "tags": []
   },
   "outputs": [],
   "source": [
    "del x\n",
    "x"
   ]
  },
  {
   "cell_type": "code",
   "execution_count": null,
   "id": "3fbe5438-74a4-4ce5-84f4-bfe0f416941c",
   "metadata": {
    "editable": true,
    "slideshow": {
     "slide_type": "fragment"
    },
    "tags": []
   },
   "outputs": [],
   "source": [
    "a = 0\n",
    "b = 1\n",
    "c = 2\n",
    "del a, b, c"
   ]
  },
  {
   "cell_type": "markdown",
   "id": "aeb3c7b0-fabe-4491-9d22-41d28f8ad1f3",
   "metadata": {
    "editable": true,
    "slideshow": {
     "slide_type": "fragment"
    },
    "tags": []
   },
   "source": [
    " "
   ]
  },
  {
   "cell_type": "markdown",
   "id": "480f6390-e15f-4c3a-9cb4-1bfe1c2060e5",
   "metadata": {
    "editable": true,
    "slideshow": {
     "slide_type": "fragment"
    },
    "tags": []
   },
   "source": [
    "An _identifier_ is a word used to name things. Identifiers name variables, functions, classes, and methods.\n",
    "* An identifiers must contain at least one character.\n",
    "* The first character of an identifiers must be an alphabetic letter (upper or lower case) or the underscore.\n",
    "* The remaining characters (if any) may be alphabetic characters (upper or lower case), the underscore, or a digit.\n",
    "* No other characters (including spaces) are permitted in identifiers.\n",
    "* A reserved word cannot be used as an identifier.\n",
    "\n",
    "Examples:\n",
    "* `x`, `x2`, `total`, `port_22`, `FLAG`.\n",
    "\n",
    "None of the following words are valid identifiers:\n",
    "* `sub-total`, `first entry`, `4all`, `*2`, `class`."
   ]
  },
  {
   "cell_type": "code",
   "execution_count": null,
   "id": "929923e7-7a68-4b0c-8dde-d5eb4bde4dce",
   "metadata": {
    "editable": true,
    "slideshow": {
     "slide_type": "fragment"
    },
    "tags": []
   },
   "outputs": [],
   "source": [
    "class = 15"
   ]
  },
  {
   "cell_type": "code",
   "execution_count": null,
   "id": "5bb1b309-20fd-4ae5-8f31-ce70a0605927",
   "metadata": {
    "editable": true,
    "slideshow": {
     "slide_type": "fragment"
    },
    "tags": []
   },
   "outputs": [],
   "source": [
    "print('Our good friend print')\n",
    "print\n",
    "type(print)\n",
    "my_print = print\n",
    "print = 77\n",
    "my_print(print)\n",
    "my_print('hello from my_print!')\n",
    "type(my_print)\n",
    "print = my_print\n",
    "print('Our good friend print again')"
   ]
  },
  {
   "cell_type": "markdown",
   "id": "0844f58f-f780-4555-84ab-a8ed69f73aa2",
   "metadata": {
    "editable": true,
    "slideshow": {
     "slide_type": "fragment"
    },
    "tags": []
   },
   "source": [
    " "
   ]
  },
  {
   "cell_type": "markdown",
   "id": "1df39a40-5581-4b18-a264-5cf21895f730",
   "metadata": {
    "editable": true,
    "slideshow": {
     "slide_type": "fragment"
    },
    "tags": []
   },
   "source": [
    "**Python keywords**\n",
    "\n",
    "and as assert break class continue def del elif else except False finally for from global if import in is lambda None nonlocal not or pass raise return try True while with yield"
   ]
  },
  {
   "cell_type": "markdown",
   "id": "c2254249-87f2-4899-bbfa-bac5b054f4a7",
   "metadata": {
    "editable": true,
    "slideshow": {
     "slide_type": "fragment"
    },
    "tags": []
   },
   "source": [
    " "
   ]
  },
  {
   "cell_type": "code",
   "execution_count": null,
   "id": "b894a5ed-4ebf-430f-8c5e-8446ee795822",
   "metadata": {
    "editable": true,
    "slideshow": {
     "slide_type": "fragment"
    },
    "tags": []
   },
   "outputs": [],
   "source": [
    "print('Please enter some text:')\n",
    "x = input()\n",
    "print('Text entered:', x)\n",
    "print('Type:', type(x))"
   ]
  },
  {
   "cell_type": "code",
   "execution_count": null,
   "id": "29e298a8-b798-4bcf-ae23-fb02c5498429",
   "metadata": {
    "editable": true,
    "slideshow": {
     "slide_type": "fragment"
    },
    "tags": []
   },
   "outputs": [],
   "source": [
    "num1 = int(input('Please enter an integer value: '))\n",
    "num2 = int(input('Please enter another integer value: '))\n",
    "print(num1, '+', num2, '=', num1 + num2)"
   ]
  },
  {
   "cell_type": "code",
   "execution_count": null,
   "id": "d1287969-b340-48ad-ba31-0447b2af0002",
   "metadata": {
    "editable": true,
    "slideshow": {
     "slide_type": "fragment"
    },
    "tags": []
   },
   "outputs": [],
   "source": [
    "int(3.4)"
   ]
  },
  {
   "cell_type": "code",
   "execution_count": null,
   "id": "8a0459d1-3373-416e-a1d7-3ba68c7e9a49",
   "metadata": {
    "editable": true,
    "slideshow": {
     "slide_type": "fragment"
    },
    "tags": []
   },
   "outputs": [],
   "source": [
    "int('3.4')"
   ]
  },
  {
   "cell_type": "code",
   "execution_count": null,
   "id": "36b1fe8d-ce7c-4a9e-9b7b-8db79998323d",
   "metadata": {
    "editable": true,
    "slideshow": {
     "slide_type": "fragment"
    },
    "tags": []
   },
   "outputs": [],
   "source": [
    "num = int(float(input('Please enter a number: ')))\n",
    "print(num)"
   ]
  },
  {
   "cell_type": "code",
   "execution_count": null,
   "id": "61fc6ef2-1555-4f00-b7a3-8a2a0e9a1405",
   "metadata": {
    "editable": true,
    "slideshow": {
     "slide_type": "fragment"
    },
    "tags": []
   },
   "outputs": [],
   "source": [
    "num = round(float(input('Please enter a number: ')))\n",
    "print(num+3)"
   ]
  },
  {
   "cell_type": "markdown",
   "id": "ada8bb5c-3f1b-4bea-969e-203e00e38fe9",
   "metadata": {
    "editable": true,
    "jp-MarkdownHeadingCollapsed": true,
    "slideshow": {
     "slide_type": "slide"
    },
    "tags": []
   },
   "source": [
    "# <ins>2.</ins> Pythonic concepts\n",
    "* list methods, list comprehension, conditional assignment;\n",
    "* iterators (how control flow are actually implemented);\n",
    "* lambda functions"
   ]
  },
  {
   "cell_type": "markdown",
   "id": "d8ef2140-8430-4a46-b930-e5192193240f",
   "metadata": {
    "editable": true,
    "slideshow": {
     "slide_type": "subslide"
    },
    "tags": []
   },
   "source": [
    "## Lists methods\n",
    "[TBD] move a part of the Lists section to the Basic course"
   ]
  },
  {
   "cell_type": "code",
   "execution_count": null,
   "id": "4a940d99-95b8-4fd5-9652-e09ddce070e5",
   "metadata": {},
   "outputs": [],
   "source": [
    "lst = [1, 3.14, \"Mars\", 'Earth', [1, 2, 3]]"
   ]
  },
  {
   "cell_type": "code",
   "execution_count": null,
   "id": "b15e5da0-3364-44db-b24c-2997b984d0df",
   "metadata": {},
   "outputs": [],
   "source": [
    "print(lst)"
   ]
  },
  {
   "cell_type": "code",
   "execution_count": null,
   "id": "33388d26-0ea7-418e-8ec8-14acfc54219d",
   "metadata": {},
   "outputs": [],
   "source": [
    "for i in lst:\n",
    "    print(i)"
   ]
  },
  {
   "cell_type": "code",
   "execution_count": null,
   "id": "b841ff85-14ef-47a2-8b7c-731b4f1228df",
   "metadata": {},
   "outputs": [],
   "source": [
    "len(lst)"
   ]
  },
  {
   "cell_type": "code",
   "execution_count": null,
   "id": "79a1fca8-5af5-4915-ba31-5e45fa3aab18",
   "metadata": {},
   "outputs": [],
   "source": [
    "lst[0]"
   ]
  },
  {
   "cell_type": "code",
   "execution_count": null,
   "id": "a04e8700-08fe-483c-a3b7-bf475951150e",
   "metadata": {},
   "outputs": [],
   "source": [
    "lst[-1][1]"
   ]
  },
  {
   "cell_type": "code",
   "execution_count": null,
   "id": "7de7582b-4de1-4519-9b4b-da1a8430bce8",
   "metadata": {},
   "outputs": [],
   "source": [
    "if 'Mars' in lst:\n",
    "    print('yes')"
   ]
  },
  {
   "cell_type": "code",
   "execution_count": null,
   "id": "db02ac75-58de-4201-a68d-4172e59fd8c2",
   "metadata": {},
   "outputs": [],
   "source": [
    "lst[0:5:2]"
   ]
  },
  {
   "cell_type": "code",
   "execution_count": null,
   "id": "7c711d36-fe51-4264-baa8-427c27fb56ce",
   "metadata": {},
   "outputs": [],
   "source": [
    "def product(*i):\n",
    "    prod = 1\n",
    "    for j in i:\n",
    "        prod *= j\n",
    "    return prod"
   ]
  },
  {
   "cell_type": "code",
   "execution_count": null,
   "id": "063758ae-40a2-4de1-87e6-d02fef2fd37c",
   "metadata": {},
   "outputs": [],
   "source": [
    "j = product(2,3,4)\n",
    "print(j, sep=' ')"
   ]
  },
  {
   "cell_type": "code",
   "execution_count": null,
   "id": "aa1d8ec1-a5a4-4494-a29b-1974f1e189f5",
   "metadata": {},
   "outputs": [],
   "source": [
    "lst = [j for j in range(10) if j%2]"
   ]
  },
  {
   "cell_type": "code",
   "execution_count": null,
   "id": "3d089e6e-8947-4b26-8676-f729609495ba",
   "metadata": {},
   "outputs": [],
   "source": [
    "lst"
   ]
  },
  {
   "cell_type": "code",
   "execution_count": null,
   "id": "c4318f32-e39a-4bdf-a2f5-6ef9c26d459d",
   "metadata": {},
   "outputs": [],
   "source": [
    "lst = []"
   ]
  },
  {
   "cell_type": "code",
   "execution_count": null,
   "id": "0ee6c40e-dc12-4d8c-8362-b4f0efa2958e",
   "metadata": {},
   "outputs": [],
   "source": [
    "lst"
   ]
  },
  {
   "cell_type": "code",
   "execution_count": null,
   "id": "458d2042-c77c-4584-b41c-12c144b6848f",
   "metadata": {},
   "outputs": [],
   "source": [
    "lst.append('hello')"
   ]
  },
  {
   "cell_type": "code",
   "execution_count": null,
   "id": "08b4305e-5143-4c96-8f83-39b059c67db3",
   "metadata": {},
   "outputs": [],
   "source": [
    "lst"
   ]
  },
  {
   "cell_type": "code",
   "execution_count": null,
   "id": "0e6d9396-8389-4c8a-8d32-82c332e542b9",
   "metadata": {},
   "outputs": [],
   "source": [
    "lst.append('bye')"
   ]
  },
  {
   "cell_type": "code",
   "execution_count": null,
   "id": "604d7b04-df0e-41cb-b2df-91875ef28b78",
   "metadata": {},
   "outputs": [],
   "source": [
    "lst"
   ]
  },
  {
   "cell_type": "code",
   "execution_count": null,
   "id": "4718b004-4eab-4e66-963d-269ca4a53701",
   "metadata": {},
   "outputs": [],
   "source": [
    "import math"
   ]
  },
  {
   "cell_type": "code",
   "execution_count": null,
   "id": "1e81fad3-4136-418c-8ca4-0782725ea3b0",
   "metadata": {},
   "outputs": [],
   "source": [
    "print(math.sqrt(16))"
   ]
  },
  {
   "cell_type": "markdown",
   "id": "1a8ac83d-3976-4a68-8de1-d6283b82165a",
   "metadata": {},
   "source": [
    "## List comprehension"
   ]
  },
  {
   "cell_type": "markdown",
   "id": "bc94678c-c56a-435f-bb86-2d2fabf4beca",
   "metadata": {},
   "source": [
    "## Conditional assignment"
   ]
  },
  {
   "cell_type": "markdown",
   "id": "113bcfec-96fc-41b6-bd05-36cb30e27141",
   "metadata": {},
   "source": [
    "## Iterators beneath control flows"
   ]
  },
  {
   "cell_type": "markdown",
   "id": "0ffd14f4-9256-43f6-ac39-afd6e5340ae3",
   "metadata": {},
   "source": [
    "## Lambda functions"
   ]
  },
  {
   "cell_type": "code",
   "execution_count": null,
   "id": "d78ddac5-c343-460d-bd09-890041aa8eee",
   "metadata": {},
   "outputs": [],
   "source": [
    "def f(x):\n",
    "    return x**2-1"
   ]
  },
  {
   "cell_type": "code",
   "execution_count": null,
   "id": "b98e5f65-a243-4d35-862e-a26682a7917e",
   "metadata": {},
   "outputs": [],
   "source": [
    "def diff2(f, x, h=1E-6):\n",
    "    r = (f(x-h) - 2*f(x) + f(x+h))/float(h*h)\n",
    "    return r"
   ]
  },
  {
   "cell_type": "code",
   "execution_count": null,
   "id": "206f6ea5-bbac-4b88-9ec3-43f18c46252e",
   "metadata": {},
   "outputs": [],
   "source": [
    "df2 = diff2(f, 1.5)"
   ]
  },
  {
   "cell_type": "code",
   "execution_count": null,
   "id": "9fd08397-c756-4415-8ff0-9fc8df5635a2",
   "metadata": {},
   "outputs": [],
   "source": [
    "print(df2)"
   ]
  },
  {
   "cell_type": "code",
   "execution_count": null,
   "id": "4b301465-e654-4a49-8957-8c32ff3d68c4",
   "metadata": {},
   "outputs": [],
   "source": [
    "df2 = diff2(lambda x: x**2-1, 1.5)\n",
    "print(df2)"
   ]
  },
  {
   "cell_type": "markdown",
   "id": "43b3bf25-2da5-43c6-ab86-8884b0199cc0",
   "metadata": {
    "jp-MarkdownHeadingCollapsed": true
   },
   "source": [
    "# <ins>3.</ins> Advanced string manipulation"
   ]
  },
  {
   "cell_type": "markdown",
   "id": "b90024e6-bfdb-4ea9-a4fd-2a2306e8061b",
   "metadata": {},
   "source": [
    "[TBD] to insert from presentation"
   ]
  },
  {
   "cell_type": "markdown",
   "id": "57a8a9df-d38e-4aef-8914-38d6f1cd75ce",
   "metadata": {},
   "source": [
    "# <ins>**Part II**</ins>"
   ]
  },
  {
   "cell_type": "markdown",
   "id": "d737495e-cbda-46a2-9da1-8fd63ec74390",
   "metadata": {},
   "source": [
    "# <ins>4.</ins> Introduction to libraries and modules"
   ]
  },
  {
   "cell_type": "markdown",
   "id": "8b337dc4-9832-47dd-849e-d3a9c9d900e2",
   "metadata": {},
   "source": [
    "[TBD] to insert from presentation"
   ]
  },
  {
   "cell_type": "markdown",
   "id": "7252e590-928a-4269-b44a-6c76a173d310",
   "metadata": {},
   "source": [
    "# <ins>5.</ins> Data structures and containers"
   ]
  },
  {
   "cell_type": "markdown",
   "id": "2b9730f6-d636-41e7-b75a-04a8d32b4e84",
   "metadata": {},
   "source": [
    "[TBD] to insert from presentation"
   ]
  },
  {
   "cell_type": "markdown",
   "id": "7e61f6c8-efa7-4cae-939d-45a18c8d5889",
   "metadata": {},
   "source": [
    "# <ins>6.</ins> Brief introduction to classes"
   ]
  },
  {
   "cell_type": "markdown",
   "id": "22ad2487-f18f-4a1d-affc-ed5868bea800",
   "metadata": {},
   "source": [
    "[TBD] to insert from presentation"
   ]
  }
 ],
 "metadata": {
  "kernelspec": {
   "display_name": "Python 3 (ipykernel)",
   "language": "python",
   "name": "python3"
  },
  "language_info": {
   "codemirror_mode": {
    "name": "ipython",
    "version": 3
   },
   "file_extension": ".py",
   "mimetype": "text/x-python",
   "name": "python",
   "nbconvert_exporter": "python",
   "pygments_lexer": "ipython3",
   "version": "3.10.12"
  },
  "rise": {
   "scroll": true
  }
 },
 "nbformat": 4,
 "nbformat_minor": 5
}
